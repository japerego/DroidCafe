{
  "cells": [
    {
      "cell_type": "markdown",
      "metadata": {
        "id": "view-in-github",
        "colab_type": "text"
      },
      "source": [
        "<a href=\"https://colab.research.google.com/github/japerego/DroidCafe/blob/master/practica8.ipynb\" target=\"_parent\"><img src=\"https://colab.research.google.com/assets/colab-badge.svg\" alt=\"Open In Colab\"/></a>"
      ]
    },
    {
      "cell_type": "markdown",
      "metadata": {
        "id": "j9QbDR4prpR0"
      },
      "source": [
        "# Práctica 8. Visión por computador II\n",
        "\n",
        "En esta práctica vamos a crear un clasificador capaz de reconocer dígitos manuscritos, para ello utilizaremos el dataset [MNIST](http://yann.lecun.com/exdb/mnist/) que ya hemos utilizado en prácticas anteriores.\n",
        "\n",
        "Recordad los 5 pasos de un clasificador de imágenes:\n",
        "1. Preparar el dataset.\n",
        "2. Separar en conjuntos de entrenamiento, test y validación.\n",
        "3. Extraer descriptores.\n",
        "4. Entrenar el modelo.\n",
        "5. Evaluar el modelo.\n",
        "\n",
        "En muchas ocasiones los pasos 2 y 3 son intercambiables, y es lo que haremos en esta práctica.\n",
        "\n",
        "## 0. Carga del dataset y descripción de las imágenes\n",
        " \n",
        "Para cargar el dataset y describir las imágenes vamos a utilizar las clases `CargaYDescribe` (definida en el fichero CargaYDescribe.py de la carpeta p10) y la clase `Descriptor` junto con sus hijas (definidas en el fichero Descriptor.py también dentro de la carpeta p10). Deberás descargar esta carpeta y descomprimirla utilizando el siguiente comando. \n",
        "\n"
      ]
    },
    {
      "cell_type": "code",
      "execution_count": 1,
      "metadata": {
        "colab": {
          "base_uri": "https://localhost:8080/"
        },
        "id": "CBF0EfAG4yvg",
        "outputId": "c4ecebde-bfc4-41dd-e866-e566d2cbcb22"
      },
      "outputs": [
        {
          "output_type": "stream",
          "name": "stdout",
          "text": [
            "--2022-05-10 15:24:25--  http://www.unirioja.es/cu/joheras/ia/p10/p10.zip\n",
            "Resolving www.unirioja.es (www.unirioja.es)... 193.144.2.30\n",
            "Connecting to www.unirioja.es (www.unirioja.es)|193.144.2.30|:80... connected.\n",
            "HTTP request sent, awaiting response... 301 Moved Permanently\n",
            "Location: https://www.unirioja.es/cu/joheras/ia/p10/p10.zip [following]\n",
            "--2022-05-10 15:24:25--  https://www.unirioja.es/cu/joheras/ia/p10/p10.zip\n",
            "Connecting to www.unirioja.es (www.unirioja.es)|193.144.2.30|:443... connected.\n",
            "HTTP request sent, awaiting response... 200 OK\n",
            "Length: 1274 (1.2K) [application/zip]\n",
            "Saving to: ‘p10.zip’\n",
            "\n",
            "p10.zip             100%[===================>]   1.24K  --.-KB/s    in 0s      \n",
            "\n",
            "2022-05-10 15:24:25 (90.7 MB/s) - ‘p10.zip’ saved [1274/1274]\n",
            "\n",
            "Archive:  p10.zip\n",
            "   creating: p10/\n",
            "  inflating: p10/CargaYDescribe.py   \n",
            "  inflating: p10/Descriptor.py       \n",
            "  inflating: p10/__init__.py         \n"
          ]
        }
      ],
      "source": [
        "!wget www.unirioja.es/cu/joheras/ia/p10/p10.zip -O p10.zip\n",
        "!unzip p10.zip"
      ]
    },
    {
      "cell_type": "markdown",
      "metadata": {
        "id": "NULAJO80rpR2"
      },
      "source": [
        "Si abres el fichero Descriptor.py (puedes abrir dicho fichero pulsando en la pestaña con el símbolo \">\" que aparece a la izquierda de la pantalla y luego pulsando en la pestaña Files), verás la definición de la clase `Descriptor` y de dos clases hijas. La principal característica de la clase `Descriptor` es que tiene un método llamado `describe` que sirve para describir una imagen. Este método es abstracto y lo proporcionan las clases hijas.\n",
        "\n",
        "##### Pregunta\n",
        "\n",
        "¿Qué hacen los métodos ``describe`` de las clases RawImage y Projection?"
      ]
    },
    {
      "cell_type": "markdown",
      "source": [
        "RawImage - describe\n",
        "\n",
        "Convierte la imagen en escala de grises y la devuelve, solo lo hace si contiene canales.\n",
        "\n",
        "Pojection - describe\n",
        "\n",
        "Nuevamente convierte la imagen en escala de grises y para cada pixel de altura y anchura, suma su valor en blanco y negro a una variable.\n"
      ],
      "metadata": {
        "id": "HyReyu4CleeC"
      }
    },
    {
      "cell_type": "markdown",
      "metadata": {
        "id": "2_ZPT-N1rpSA"
      },
      "source": [
        "Si ahora abres el fichero CargaYDescribe.py verás la definición de la clase `CargaYDescribe`. Esta clase permite cargar y describir las imágenes de un directorio que está organizado mediante carpetas donde cada carpeta contiene\n",
        "las imágenes de una clase.\n",
        "\n",
        "El constructor de esta clase recibe dos parámetros, un objeto de la clase `Descriptor`, lo que nos permite cambiar fácilmente el método que usamos para describir las imágenes (esta es una técnica llamada inyección de dependencias que ya hemos utilizado alguna vez), y un path que es donde se encuentran las carpetas con las imágenes de cada clase.\n",
        "\n",
        "Definimos una variable donde almacenamos el path donde se encuentran nuestra imágenes. De nuevo, es necesario descargar la carpeta."
      ]
    },
    {
      "cell_type": "code",
      "execution_count": 2,
      "metadata": {
        "id": "rMZzBCja5HoW"
      },
      "outputs": [],
      "source": [
        "%%capture\n",
        "!wget www.unirioja.es/cu/joheras/ia/p10/digitos.zip\n",
        "!unzip digitos.zip"
      ]
    },
    {
      "cell_type": "code",
      "execution_count": 3,
      "metadata": {
        "collapsed": true,
        "id": "2EmVDz_6rpSC"
      },
      "outputs": [],
      "source": [
        "dataset = \"digitos/\""
      ]
    },
    {
      "cell_type": "markdown",
      "metadata": {
        "id": "yYX4NxktrpSI"
      },
      "source": [
        "Para este ejemplo vamos a utilizar como descriptor el RawImage. "
      ]
    },
    {
      "cell_type": "code",
      "execution_count": 5,
      "metadata": {
        "collapsed": true,
        "id": "ZCsTUdsqrpSK"
      },
      "outputs": [],
      "source": [
        "from p10.Descriptor import *\n",
        "from p10.CargaYDescribe import *\n",
        "\n",
        "descriptor = RawImage()\n",
        "cargaDatos = CargaYDescribe(dataset,descriptor)\n",
        "(datos,etiquetas) = cargaDatos.cargaYdescribe()"
      ]
    },
    {
      "cell_type": "markdown",
      "metadata": {
        "id": "P7leTQbxrpSO"
      },
      "source": [
        "##### Ejercicio\n",
        "\n",
        "Comprueba que puedes cambiar de descriptor y que todo sigue funcionando correctamente.\n"
      ]
    },
    {
      "cell_type": "code",
      "execution_count": 6,
      "metadata": {
        "collapsed": true,
        "id": "YbTUCZ8vrpSQ"
      },
      "outputs": [],
      "source": [
        "from p10.Descriptor import *\n",
        "from p10.CargaYDescribe import *\n",
        "\n",
        "descriptor = Projection()\n",
        "cargaDatos = CargaYDescribe(dataset,descriptor)\n",
        "(datos,etiquetas) = cargaDatos.cargaYdescribe()"
      ]
    },
    {
      "cell_type": "markdown",
      "metadata": {
        "id": "mbsfRgKUrpSU"
      },
      "source": [
        "## 1. Separando el conjunto de entrenamiento y el de test\n",
        "\n",
        "##### Ejercicio\n",
        "\n",
        "Utiliza la función train_test_split, vista en las prácticas de aprendizaje automático, para partir el dataset en la siguiente proporción: 75% entrenamiento, 25% test. Almacena la partición en las variables:\n",
        "`trainData`, `testData`, `trainLabels`, `testLabels`. Utiliza como random_state el valor 84 para así obtener siempre los mismos resultados."
      ]
    },
    {
      "cell_type": "code",
      "execution_count": null,
      "metadata": {
        "collapsed": true,
        "id": "CboPOCaurpSW"
      },
      "outputs": [],
      "source": [
        ""
      ]
    },
    {
      "cell_type": "markdown",
      "metadata": {
        "id": "ZioO9ftcrpSa"
      },
      "source": [
        "## 2. Entrenando el modelo\n",
        "\n",
        "Una vez que hemos partido el banco de imágenes, podemos entrenar distintos modelos como vimos en prácticas anteriores. \n",
        "\n",
        "**Ejercicio** \n",
        "\n",
        "Utiliza KNN y aplica validación cruzada para fijar los hiperparámetros."
      ]
    },
    {
      "cell_type": "code",
      "execution_count": null,
      "metadata": {
        "collapsed": true,
        "id": "PWBCi5TYrpSc"
      },
      "outputs": [],
      "source": [
        ""
      ]
    },
    {
      "cell_type": "markdown",
      "metadata": {
        "id": "ZEeT3om5rpSo"
      },
      "source": [
        "**Ejercicio** \n",
        "\n",
        "Una vez hayas encontrado los mejores hiperparámetros almacena y entrena el modelo."
      ]
    },
    {
      "cell_type": "code",
      "execution_count": null,
      "metadata": {
        "id": "tkf9PzVYrpSq"
      },
      "outputs": [],
      "source": [
        "modelKNN = ???"
      ]
    },
    {
      "cell_type": "markdown",
      "metadata": {
        "id": "JTnB_q0ErpSu"
      },
      "source": [
        "##### Ejercicio\n",
        "\n",
        "Utiliza otro de los algoritmos de clasificación vistos en las prácticas anteriores para crear un nuevo modelo."
      ]
    },
    {
      "cell_type": "code",
      "execution_count": null,
      "metadata": {
        "collapsed": true,
        "id": "16Y0X-v2rpSu"
      },
      "outputs": [],
      "source": [
        ""
      ]
    },
    {
      "cell_type": "markdown",
      "metadata": {
        "id": "SN_0ro1XrpS0"
      },
      "source": [
        "## 3. Evaluando el modelo\n",
        "\n",
        "##### Ejercicio\n",
        "Una vez tienes tu modelo construido evalualo utilizando la función `classification_report` de la librería sklearn."
      ]
    },
    {
      "cell_type": "code",
      "execution_count": null,
      "metadata": {
        "id": "6X1PD47UrpS2"
      },
      "outputs": [],
      "source": [
        ""
      ]
    },
    {
      "cell_type": "markdown",
      "metadata": {
        "id": "FZFyPNuxrpS6"
      },
      "source": [
        "##### Ejercicio \n",
        "\n",
        "A continuación muestra la matriz de confusión para ver dónde se producen los fallos. "
      ]
    },
    {
      "cell_type": "code",
      "execution_count": null,
      "metadata": {
        "id": "c9-BfoA2rpS-"
      },
      "outputs": [],
      "source": [
        ""
      ]
    },
    {
      "cell_type": "markdown",
      "metadata": {
        "id": "ZKvfsVMZrpTA"
      },
      "source": [
        "##### Ejercicio\n",
        "\n",
        "Con el modelo KNN somos capaces de conseguir una precisión del 92%, aunque no está mal, se puede mejorar. Intenta construir un modelo que mejore estos resultados, puedes probar también a cambiar de descriptor."
      ]
    },
    {
      "cell_type": "code",
      "execution_count": null,
      "metadata": {
        "collapsed": true,
        "id": "yeg2bq6_rpTC"
      },
      "outputs": [],
      "source": [
        ""
      ]
    },
    {
      "cell_type": "markdown",
      "metadata": {
        "id": "rSlHToDyrpTE"
      },
      "source": [
        "## 4. Guardando y cargando el modelo\n",
        "\n",
        "El proceso de entrenar un modelo puede ser muy costoso, por lo que conviene guardar el modelo para poder recuperarlo posteriormente. Para ello utilizamos la librería `pickle`."
      ]
    },
    {
      "cell_type": "code",
      "execution_count": null,
      "metadata": {
        "collapsed": true,
        "id": "j8mssyBdrpTG"
      },
      "outputs": [],
      "source": [
        "import pickle"
      ]
    },
    {
      "cell_type": "markdown",
      "metadata": {
        "id": "hBNMFGsNrpTa"
      },
      "source": [
        "La siguiente instrucción guarda el modelo en el fichero modelo.sav."
      ]
    },
    {
      "cell_type": "code",
      "execution_count": null,
      "metadata": {
        "collapsed": true,
        "id": "KQFGpMKcrpTc"
      },
      "outputs": [],
      "source": [
        "pickle.dump(modelKNN, open('modelo.sav', 'wb'))"
      ]
    },
    {
      "cell_type": "markdown",
      "metadata": {
        "id": "x7qPMO07rpTg"
      },
      "source": [
        "La siguiente instrucción carga el modelo del fichero modelo.sav."
      ]
    },
    {
      "cell_type": "code",
      "execution_count": null,
      "metadata": {
        "collapsed": true,
        "id": "3x2zof6zrpTi"
      },
      "outputs": [],
      "source": [
        "loaded_model = pickle.load(open('modelo.sav', 'rb'))"
      ]
    },
    {
      "cell_type": "markdown",
      "metadata": {
        "id": "B2eBR8o9rpTo"
      },
      "source": [
        "Ahora podemos usar el modelo igual que antes."
      ]
    },
    {
      "cell_type": "code",
      "execution_count": null,
      "metadata": {
        "id": "jZfElrr1rpTo"
      },
      "outputs": [],
      "source": [
        "predictions = loaded_model.predict(testData)\n",
        "print(classification_report(testLabels, predictions))"
      ]
    },
    {
      "cell_type": "markdown",
      "metadata": {
        "id": "FhF8e0376aSO"
      },
      "source": [
        "Para descargar el fichero desde Colab a nuestro ordenador, hay que ejecutar las siguientes instrucciones (esta funcionalidad solo está disponible usando como navegador Google Chrome)."
      ]
    },
    {
      "cell_type": "code",
      "execution_count": null,
      "metadata": {
        "id": "naUUYXRq6kd-"
      },
      "outputs": [],
      "source": [
        "from google.colab import files\n",
        "files.download('modelo.sav') "
      ]
    },
    {
      "cell_type": "markdown",
      "metadata": {
        "id": "Rk_N3cHDrpTs"
      },
      "source": [
        "##### Ejercicio\n",
        "\n",
        "Guarda tu mejor modelo en el fichero `mimodelo.sav`."
      ]
    },
    {
      "cell_type": "code",
      "execution_count": null,
      "metadata": {
        "collapsed": true,
        "id": "GRqog54PrpTs"
      },
      "outputs": [],
      "source": [
        ""
      ]
    },
    {
      "cell_type": "markdown",
      "metadata": {
        "id": "5EgieyQXrpTy"
      },
      "source": [
        "###### Ejercicio\n",
        "\n",
        "Realizar un estudio estadístico utilizando el paquete StatisticalAnalisis visto en la práctica 6. \n"
      ]
    },
    {
      "cell_type": "code",
      "execution_count": null,
      "metadata": {
        "collapsed": true,
        "id": "JvNIEa3DrpT2"
      },
      "outputs": [],
      "source": [
        ""
      ]
    },
    {
      "cell_type": "markdown",
      "metadata": {
        "id": "n-dAy4StrpT6"
      },
      "source": [
        "##### Ejercicio\n",
        "\n",
        "En la práctica 5 se proporcionó un fichero que explicaba cómo utilizar la librería `keras` para construir un modelo capaz de predecir los dígitos manuscritos. Utiliza dicha funcionalidad para construir un modelo de predicción. "
      ]
    },
    {
      "cell_type": "code",
      "execution_count": null,
      "metadata": {
        "collapsed": true,
        "id": "cbKVpjXyrpT8"
      },
      "outputs": [],
      "source": [
        ""
      ]
    },
    {
      "cell_type": "markdown",
      "metadata": {
        "id": "HW5ZMyvnrpUA"
      },
      "source": [
        "##### Ejercicio\n",
        "\n",
        "El último ejercicio adicional que se propone consiste en combinar la funcionalidad de contornos vista en la práctica 7 y el clasificador de identificación de dígitos. \n",
        "\n",
        "Comenzamos cargando las librerías y funcionalidades necesarias. "
      ]
    },
    {
      "cell_type": "code",
      "execution_count": null,
      "metadata": {
        "collapsed": true,
        "id": "f6Q74dsorpUC"
      },
      "outputs": [],
      "source": [
        "import cv2\n",
        "import matplotlib.pyplot as plt\n",
        "import numpy as np\n",
        "import imutils\n",
        "%matplotlib inline "
      ]
    },
    {
      "cell_type": "code",
      "execution_count": null,
      "metadata": {
        "collapsed": true,
        "id": "Mn5AmPrOrpUK"
      },
      "outputs": [],
      "source": [
        "def mostrarImagen(image):\n",
        "    if len(image.shape)==3:\n",
        "        img2 = image[:,:,::-1]\n",
        "        plt.imshow(img2)\n",
        "        plt.show()\n",
        "    else:\n",
        "        img2 = image\n",
        "        plt.imshow(img2,cmap='gray')\n",
        "        plt.show()"
      ]
    },
    {
      "cell_type": "markdown",
      "metadata": {
        "id": "2j_LtWsArpUO"
      },
      "source": [
        "Cargamos la imagen en la cual queremos leer los dígitos escritos y la mostramos."
      ]
    },
    {
      "cell_type": "code",
      "execution_count": null,
      "metadata": {
        "collapsed": true,
        "id": "j9Wr-_SLrpUQ"
      },
      "outputs": [],
      "source": [
        "!wget www.unirioja.es/cu/joheras/ia/p10/imagen1.png\n",
        "image = cv2.imread(\"imagen1.png\")\n",
        "mostrarImagen(image)"
      ]
    },
    {
      "cell_type": "markdown",
      "metadata": {
        "id": "uTcBihqWrpUS"
      },
      "source": [
        "Convierte la imagen a escala de grises."
      ]
    },
    {
      "cell_type": "code",
      "execution_count": null,
      "metadata": {
        "collapsed": true,
        "id": "zflRNaNBrpUY"
      },
      "outputs": [],
      "source": [
        ""
      ]
    },
    {
      "cell_type": "markdown",
      "metadata": {
        "id": "r4j1_OterpUc"
      },
      "source": [
        "Aplica una umbralización con valor de umbral 80."
      ]
    },
    {
      "cell_type": "code",
      "execution_count": null,
      "metadata": {
        "collapsed": true,
        "id": "KwAgf5kFrpUc"
      },
      "outputs": [],
      "source": [
        ""
      ]
    },
    {
      "cell_type": "markdown",
      "metadata": {
        "id": "Qc99vdL3rpUe"
      },
      "source": [
        "Busca los cortornos de la imagen, y para cada uno de ellos encuentra el bounding box que lo contiene. "
      ]
    },
    {
      "cell_type": "code",
      "execution_count": null,
      "metadata": {
        "collapsed": true,
        "id": "SgottONIrpUe"
      },
      "outputs": [],
      "source": [
        ""
      ]
    },
    {
      "cell_type": "markdown",
      "metadata": {
        "id": "Pa2R6lcxrpUg"
      },
      "source": [
        "Utilizando el bounding box que contiene al contorno, predice el número contenido utilizando el modelo que hayas definido y muestra el resultado en la imagen. Debes tener en cuenta varias cosas, las imágenes del dataset tienen tamaño 28x28, por lo que es posible que tengas que reescalar tu imagen, además en las imágenes el digito aparece en blanco con fondo negro, mientras que en la imagen está justo al revés, por lo que tendrás que invertir los colores. "
      ]
    },
    {
      "cell_type": "code",
      "execution_count": null,
      "metadata": {
        "collapsed": true,
        "id": "HMI6wSMPrpUg"
      },
      "outputs": [],
      "source": [
        ""
      ]
    },
    {
      "cell_type": "markdown",
      "metadata": {
        "id": "zV9jAV_RkejW"
      },
      "source": [
        "Guarda este fichero con tus soluciones a los distintos ejercicios usando la opción **\"Save in Github...\"**. "
      ]
    }
  ],
  "metadata": {
    "colab": {
      "collapsed_sections": [],
      "name": "practica8.ipynb",
      "provenance": [],
      "include_colab_link": true
    },
    "kernelspec": {
      "display_name": "Python 3 (ipykernel)",
      "language": "python",
      "name": "python3"
    },
    "language_info": {
      "codemirror_mode": {
        "name": "ipython",
        "version": 3
      },
      "file_extension": ".py",
      "mimetype": "text/x-python",
      "name": "python",
      "nbconvert_exporter": "python",
      "pygments_lexer": "ipython3",
      "version": "3.8.10"
    }
  },
  "nbformat": 4,
  "nbformat_minor": 0
}