{
  "cells": [
    {
      "cell_type": "markdown",
      "metadata": {
        "id": "view-in-github",
        "colab_type": "text"
      },
      "source": [
        "<a href=\"https://colab.research.google.com/github/japerego/DroidCafe/blob/master/Proyecto_3_3_Ajuste_de_Hiperpar%C3%A1metros_Modelos_Multiclase.ipynb\" target=\"_parent\"><img src=\"https://colab.research.google.com/assets/colab-badge.svg\" alt=\"Open In Colab\"/></a>"
      ]
    },
    {
      "cell_type": "markdown",
      "metadata": {
        "ExecuteTime": {
          "end_time": "2022-04-28T10:08:28.512855Z",
          "start_time": "2022-04-28T10:08:28.505864Z"
        },
        "id": "BXeRWwbC66Ay"
      },
      "source": [
        "- *Alumno*:\n",
        "- *Asignatura*: Ingeniería del Conocimiento\n",
        "- *Curso*: 2021/2022\n",
        "- *Profesor*: Fco. Javier Martínez de Pisón\n",
        "- Universidad de La Rioja"
      ]
    },
    {
      "cell_type": "markdown",
      "metadata": {
        "id": "4rvJUmPJ66A5"
      },
      "source": [
        "# Proyecto 3. Parte 3. Ajuste de Hiperparámetros en Modelos Multiclase"
      ]
    },
    {
      "cell_type": "markdown",
      "metadata": {
        "id": "JrgIxbpn66A6"
      },
      "source": [
        "La búsqueda de los hiperparámetros óptimos de un modelo es un trabajo tedioso y que supone un coste computacional elevado, sobretodo si los modelos se construyen con bases de datos grandes. Existen diversas formas de realizar esta tarea. Habitualmente, las formas más comunes son las siguientes:\n",
        "\n",
        "- **Ajuste del hiperparámetro uno a uno**. Se elige el hiperparámetro que afecta más a la precisión del modelo, habitualmente suelen ser hiperparámetros que tienen que ver con el tamaño del modelo (cómo el número de neuronas ocultas en redes neuronales, la profundidad del árbol, el número de K vecinos, o el número de árboles en RandomForest o Gradient Boosting Machines) o que tengan que ver con la velocidad del aprendizaje (como el learning rate en gradient boosting machines). Posteriormente, se ajustan otros parámetros que permiten afinar más el ajuste. Este método, suele ser una buena opción para reducir los tiempos pero es muy importante conocer cada uno de los hiperparámetros de un modelo.\n",
        "- **Ajuste en Rejilla**. Es muy exhaustivo pero costoso computacionalmente. No recomendable con más de 3 hiperparámetros. Habitualmente, se comienza con rejillas con pasos grandes y se va repiendo la rejilla con pasos más finos en la zona donde se obtienen los mejores modelos.\n",
        "- **Método Aleatorio**. Se realiza una busqueda aleatoria dentro de los rangos de los hiperparámetros y se va reduciendo los rangos donde se observan mejores modelos.\n",
        "- **Método Bayesiano**. Basado en modelos bayesianos que tratan de encontrar los mejores hiperparámetros en base a los anteriores.\n",
        "- **Métodos de Optimización Evolutivos como, por ejemplo, los Algoritmos Genéticos o basados en Enjambre de Partículas**. Son muy costosos computacionalmente pero pueden encontrar soluciones muy precisas.\n",
        "\n",
        "Aunque este proceso puede automatizarse **es muy importante entender que la búsqueda de los mejores modelos en un proyecto de machine learning depende de muchos factores que corresponden al KDD**: la calidad de la información, el preprocesado y limpieza de los datos, la selección e importancia de las características, la selección correcta de la métrica, el proceso de validación de los modelos, etc. Es por ello, que el éxito en la creación de los modelos depende de muchos factores previos.\n",
        "\n",
        "Así mismo, es **muy importante entender qué hace cada hiperparámetro en un modelo, para qué sirve y cuál es su cometido**."
      ]
    },
    {
      "cell_type": "code",
      "execution_count": 1,
      "metadata": {
        "ExecuteTime": {
          "end_time": "2021-04-20T08:05:32.030531Z",
          "start_time": "2021-04-20T08:05:28.842198Z"
        },
        "colab": {
          "base_uri": "https://localhost:8080/"
        },
        "id": "lv2ZLLGE66A7",
        "outputId": "278e9b84-6d04-4358-d0e3-e3863e8b34ea"
      },
      "outputs": [
        {
          "output_type": "stream",
          "name": "stdout",
          "text": [
            "Looking in indexes: https://pypi.org/simple, https://us-python.pkg.dev/colab-wheels/public/simple/\n",
            "Collecting bayesian-optimization\n",
            "  Downloading bayesian-optimization-1.2.0.tar.gz (14 kB)\n",
            "Requirement already satisfied: numpy>=1.9.0 in /usr/local/lib/python3.7/dist-packages (from bayesian-optimization) (1.21.6)\n",
            "Requirement already satisfied: scipy>=0.14.0 in /usr/local/lib/python3.7/dist-packages (from bayesian-optimization) (1.4.1)\n",
            "Requirement already satisfied: scikit-learn>=0.18.0 in /usr/local/lib/python3.7/dist-packages (from bayesian-optimization) (1.0.2)\n",
            "Requirement already satisfied: joblib>=0.11 in /usr/local/lib/python3.7/dist-packages (from scikit-learn>=0.18.0->bayesian-optimization) (1.1.0)\n",
            "Requirement already satisfied: threadpoolctl>=2.0.0 in /usr/local/lib/python3.7/dist-packages (from scikit-learn>=0.18.0->bayesian-optimization) (3.1.0)\n",
            "Building wheels for collected packages: bayesian-optimization\n",
            "  Building wheel for bayesian-optimization (setup.py) ... \u001b[?25l\u001b[?25hdone\n",
            "  Created wheel for bayesian-optimization: filename=bayesian_optimization-1.2.0-py3-none-any.whl size=11685 sha256=ad7b25b076409e476c2e6deafa5129d1d60a9896440a6ef73d08dbd5864f6531\n",
            "  Stored in directory: /root/.cache/pip/wheels/fd/9b/71/f127d694e02eb40bcf18c7ae9613b88a6be4470f57a8528c5b\n",
            "Successfully built bayesian-optimization\n",
            "Installing collected packages: bayesian-optimization\n",
            "Successfully installed bayesian-optimization-1.2.0\n",
            "Looking in indexes: https://pypi.org/simple, https://us-python.pkg.dev/colab-wheels/public/simple/\n",
            "Requirement already satisfied: lightgbm in /usr/local/lib/python3.7/dist-packages (2.2.3)\n",
            "Requirement already satisfied: numpy in /usr/local/lib/python3.7/dist-packages (from lightgbm) (1.21.6)\n",
            "Requirement already satisfied: scipy in /usr/local/lib/python3.7/dist-packages (from lightgbm) (1.4.1)\n",
            "Requirement already satisfied: scikit-learn in /usr/local/lib/python3.7/dist-packages (from lightgbm) (1.0.2)\n",
            "Requirement already satisfied: threadpoolctl>=2.0.0 in /usr/local/lib/python3.7/dist-packages (from scikit-learn->lightgbm) (3.1.0)\n",
            "Requirement already satisfied: joblib>=0.11 in /usr/local/lib/python3.7/dist-packages (from scikit-learn->lightgbm) (1.1.0)\n",
            "Looking in indexes: https://pypi.org/simple, https://us-python.pkg.dev/colab-wheels/public/simple/\n",
            "Requirement already satisfied: xgboost in /usr/local/lib/python3.7/dist-packages (0.90)\n",
            "Collecting xgboost\n",
            "  Downloading xgboost-1.6.1-py3-none-manylinux2014_x86_64.whl (192.9 MB)\n",
            "\u001b[K     |████████████████████████████████| 192.9 MB 53 kB/s \n",
            "\u001b[?25hRequirement already satisfied: scipy in /usr/local/lib/python3.7/dist-packages (from xgboost) (1.4.1)\n",
            "Requirement already satisfied: numpy in /usr/local/lib/python3.7/dist-packages (from xgboost) (1.21.6)\n",
            "Installing collected packages: xgboost\n",
            "  Attempting uninstall: xgboost\n",
            "    Found existing installation: xgboost 0.90\n",
            "    Uninstalling xgboost-0.90:\n",
            "      Successfully uninstalled xgboost-0.90\n",
            "Successfully installed xgboost-1.6.1\n"
          ]
        }
      ],
      "source": [
        "!pip install bayesian-optimization\n",
        "!pip install lightgbm\n",
        "!pip install xgboost --upgrade"
      ]
    },
    {
      "cell_type": "code",
      "execution_count": 2,
      "metadata": {
        "ExecuteTime": {
          "end_time": "2022-04-28T10:31:56.684647Z",
          "start_time": "2022-04-28T10:31:54.482748Z"
        },
        "id": "9Q0y4SFD66A-"
      },
      "outputs": [],
      "source": [
        "# Importamos paquetes basicos\n",
        "import pandas as pd \n",
        "import numpy as np\n",
        "import matplotlib.pyplot as plt\n",
        "import seaborn as sns\n",
        "import io\n",
        "# from tqdm.notebook import tqdm\n",
        "from tqdm.notebook import tqdm\n",
        "\n",
        "import sklearn\n",
        "from sklearn.preprocessing import LabelEncoder, StandardScaler\n",
        "from sklearn.ensemble import RandomForestClassifier, BaggingClassifier \n",
        "from sklearn.metrics import log_loss\n",
        "from sklearn.calibration import CalibratedClassifierCV\n",
        "from sklearn.model_selection import RepeatedStratifiedKFold, train_test_split\n",
        "from sklearn.linear_model import LogisticRegression\n",
        "\n",
        "from bayes_opt import BayesianOptimization\n",
        "\n",
        "from lightgbm.sklearn import LGBMClassifier\n",
        "from xgboost.sklearn import XGBClassifier\n",
        "\n",
        "# %matplotlib inline\n",
        "plt.style.use('ggplot')\n",
        "# Elimina la limitación en visualización del numero de columnas\n",
        "pd.set_option('display.max_columns', None) "
      ]
    },
    {
      "cell_type": "markdown",
      "metadata": {
        "id": "b-eUTTs-66BF"
      },
      "source": [
        "## Cargamos la Base de Datos"
      ]
    },
    {
      "cell_type": "code",
      "execution_count": 3,
      "metadata": {
        "ExecuteTime": {
          "end_time": "2021-04-20T08:05:32.403247Z",
          "start_time": "2021-04-20T08:05:32.048550Z"
        },
        "colab": {
          "base_uri": "https://localhost:8080/"
        },
        "id": "YZhUPiyB66BH",
        "outputId": "c230879c-2ef9-47c2-dc8d-dc22970415db"
      },
      "outputs": [
        {
          "output_type": "stream",
          "name": "stdout",
          "text": [
            "--2022-05-28 15:14:29--  https://github.com/IC1920/Datasets/raw/master/train.zip\n",
            "Resolving github.com (github.com)... 140.82.112.4\n",
            "Connecting to github.com (github.com)|140.82.112.4|:443... connected.\n",
            "HTTP request sent, awaiting response... 302 Found\n",
            "Location: https://raw.githubusercontent.com/IC1920/Datasets/master/train.zip [following]\n",
            "--2022-05-28 15:14:29--  https://raw.githubusercontent.com/IC1920/Datasets/master/train.zip\n",
            "Resolving raw.githubusercontent.com (raw.githubusercontent.com)... 185.199.108.133, 185.199.109.133, 185.199.110.133, ...\n",
            "Connecting to raw.githubusercontent.com (raw.githubusercontent.com)|185.199.108.133|:443... connected.\n",
            "HTTP request sent, awaiting response... 200 OK\n",
            "Length: 1655239 (1.6M) [application/zip]\n",
            "Saving to: ‘train.zip’\n",
            "\n",
            "train.zip           100%[===================>]   1.58M  --.-KB/s    in 0.06s   \n",
            "\n",
            "2022-05-28 15:14:29 (27.5 MB/s) - ‘train.zip’ saved [1655239/1655239]\n",
            "\n",
            "--2022-05-28 15:14:30--  https://github.com/IC1920/Datasets/raw/master/test.zip\n",
            "Resolving github.com (github.com)... 140.82.113.3\n",
            "Connecting to github.com (github.com)|140.82.113.3|:443... connected.\n",
            "HTTP request sent, awaiting response... 302 Found\n",
            "Location: https://raw.githubusercontent.com/IC1920/Datasets/master/test.zip [following]\n",
            "--2022-05-28 15:14:30--  https://raw.githubusercontent.com/IC1920/Datasets/master/test.zip\n",
            "Resolving raw.githubusercontent.com (raw.githubusercontent.com)... 185.199.109.133, 185.199.110.133, 185.199.111.133, ...\n",
            "Connecting to raw.githubusercontent.com (raw.githubusercontent.com)|185.199.109.133|:443... connected.\n",
            "HTTP request sent, awaiting response... 200 OK\n",
            "Length: 3932571 (3.8M) [application/zip]\n",
            "Saving to: ‘test.zip’\n",
            "\n",
            "test.zip            100%[===================>]   3.75M  --.-KB/s    in 0.07s   \n",
            "\n",
            "2022-05-28 15:14:30 (53.3 MB/s) - ‘test.zip’ saved [3932571/3932571]\n",
            "\n",
            "Archive:  train.zip\n",
            "  inflating: train.csv               \n",
            "Archive:  test.zip\n",
            "  inflating: test.csv                \n"
          ]
        }
      ],
      "source": [
        "!wget https://github.com/IC1920/Datasets/raw/master/train.zip -O train.zip\n",
        "!wget https://github.com/IC1920/Datasets/raw/master/test.zip -O test.zip\n",
        "!unzip -o train.zip\n",
        "!unzip -o test.zip"
      ]
    },
    {
      "cell_type": "code",
      "execution_count": 4,
      "metadata": {
        "ExecuteTime": {
          "end_time": "2022-04-28T10:32:00.962265Z",
          "start_time": "2022-04-28T10:32:00.099106Z"
        },
        "colab": {
          "base_uri": "https://localhost:8080/"
        },
        "id": "xsH2AE1N66BI",
        "outputId": "08a296a3-d616-4783-9695-43d54ab0d01c"
      },
      "outputs": [
        {
          "output_type": "stream",
          "name": "stdout",
          "text": [
            "(61878, 95) (144368, 94)\n"
          ]
        }
      ],
      "source": [
        "# Leemos los archivos arff\n",
        "df_train = pd.read_csv('train.csv')\n",
        "df_test = pd.read_csv('test.csv')\n",
        "print(df_train.shape, df_test.shape)\n",
        "\n",
        "features = ['feat_'+str(i) for i in np.arange(1,94)]\n",
        "target = 'target'"
      ]
    },
    {
      "cell_type": "markdown",
      "metadata": {
        "id": "SRgLjb2n66BJ"
      },
      "source": [
        "## Preprocesado de la Base de Datos"
      ]
    },
    {
      "cell_type": "markdown",
      "metadata": {
        "id": "vK4OqerD66BM"
      },
      "source": [
        "Aunque a los árboles no les suele afectar en demasía que las variables tengan diferentes rangos, vamos a tipificar los datos con *Z-Score* para si vamos a usar otros algoritmos supervisados, como KNN, o no supervisados, como clústering."
      ]
    },
    {
      "cell_type": "code",
      "execution_count": 5,
      "metadata": {
        "ExecuteTime": {
          "end_time": "2022-04-28T10:32:04.096647Z",
          "start_time": "2022-04-28T10:32:03.765119Z"
        },
        "id": "MpngroPY66BN"
      },
      "outputs": [],
      "source": [
        "scaler = StandardScaler()\n",
        "X_train = df_train[features].values.copy()\n",
        "X_test = df_test[features].values.copy()\n",
        "scaler.fit(X_train)\n",
        "X_train_scaled = scaler.transform(X_train)\n",
        "X_test_scaled = scaler.transform(X_test)"
      ]
    },
    {
      "cell_type": "markdown",
      "metadata": {
        "id": "Uxp81r5b66BO"
      },
      "source": [
        "Preparamos las bases de datos. Para poder hacer una validación local, extraemos un 20% de forma aleatoria de forma estratificada."
      ]
    },
    {
      "cell_type": "code",
      "execution_count": 6,
      "metadata": {
        "ExecuteTime": {
          "end_time": "2022-04-28T10:32:09.330298Z",
          "start_time": "2022-04-28T10:32:09.257930Z"
        },
        "colab": {
          "base_uri": "https://localhost:8080/"
        },
        "id": "lUgNgUhJ66BQ",
        "outputId": "dbfaacc0-903f-43bb-8a94-d0abb3d7a228"
      },
      "outputs": [
        {
          "output_type": "stream",
          "name": "stdout",
          "text": [
            "Verificamos que la partición es estratificada\n",
            "[0.031 0.261 0.129 0.043 0.044 0.228 0.046 0.137 0.08 ]\n",
            "[0.031 0.261 0.129 0.043 0.044 0.228 0.046 0.137 0.08 ]\n"
          ]
        }
      ],
      "source": [
        "X = X_train_scaled\n",
        "y = df_train[target].values.reshape(-1)\n",
        "y = LabelEncoder().fit_transform(y)\n",
        "\n",
        "X_train, X_val, y_train, y_val = train_test_split(X, y, test_size=0.20, random_state=36, stratify=y)\n",
        "\n",
        "print(\"Verificamos que la partición es estratificada\")\n",
        "print(np.round(np.bincount(y_train)/len(y_train),3))\n",
        "print(np.round(np.bincount(y_val)/len(y_val),3))"
      ]
    },
    {
      "cell_type": "code",
      "execution_count": 7,
      "metadata": {
        "ExecuteTime": {
          "end_time": "2022-04-28T10:32:13.798007Z",
          "start_time": "2022-04-28T10:32:13.778018Z"
        },
        "id": "KNBdthT_66By"
      },
      "outputs": [],
      "source": [
        "def entrena_model_hold_out(model, calibra=True):\n",
        "    np.random.seed(2020)\n",
        "    if calibra:\n",
        "        calibrated_clf = CalibratedClassifierCV(model, method='isotonic', cv=5)\n",
        "        calibrated_clf.fit(X_train, y_train)\n",
        "        preds_val = calibrated_clf.predict_proba(X_val)\n",
        "    else:\n",
        "        model.fit(X_train, y_train)\n",
        "        preds_val = model.predict_proba(X_val)\n",
        "\n",
        "    # Extrae las métricas\n",
        "    log_loss_val = log_loss(y_val, preds_val, eps=1e-15, normalize=True)\n",
        "    return log_loss_val"
      ]
    },
    {
      "cell_type": "markdown",
      "metadata": {
        "id": "jDydzm0P66Bz"
      },
      "source": [
        "Con fines didácticos, vamos a hacer una búsqueda simple del número de árboles."
      ]
    },
    {
      "cell_type": "markdown",
      "metadata": {
        "id": "0msRbXig66Bz"
      },
      "source": [
        "**ATENCION: El coste computacional de las búsqueda de los mejores Hiperparámetros de los modelos es elevado. NO EJECUTAR EL CALCULO SI NO SE DISPONE DE UN EQUIPO LOCAL DE ALTAS PRESTACIONES.**"
      ]
    },
    {
      "cell_type": "code",
      "execution_count": null,
      "metadata": {
        "ExecuteTime": {
          "end_time": "2022-04-28T11:15:07.798179Z",
          "start_time": "2022-04-28T10:56:13.922235Z"
        },
        "colab": {
          "referenced_widgets": [
            "053a33e87cce4a42851ddd2ec41fa15b"
          ]
        },
        "id": "pxvhyyX266B0",
        "outputId": "49d2434e-2100-480d-929d-9139bf0e8be1"
      },
      "outputs": [
        {
          "data": {
            "application/vnd.jupyter.widget-view+json": {
              "model_id": "053a33e87cce4a42851ddd2ec41fa15b",
              "version_major": 2,
              "version_minor": 0
            },
            "text/plain": [
              "  0%|          | 0/11 [00:00<?, ?it/s]"
            ]
          },
          "metadata": {},
          "output_type": "display_data"
        },
        {
          "name": "stdout",
          "output_type": "stream",
          "text": [
            "n_estimators=200 log_loss_val=0.4876483509319149\n",
            "n_estimators=300 log_loss_val=0.4858656407676537\n",
            "n_estimators=400 log_loss_val=0.48496375036777034\n",
            "n_estimators=500 log_loss_val=0.4869548356135196\n",
            "n_estimators=600 log_loss_val=0.48462076575304075\n",
            "n_estimators=700 log_loss_val=0.48475844473067925\n",
            "n_estimators=800 log_loss_val=0.4851488831184257\n",
            "n_estimators=900 log_loss_val=0.4868171530945908\n",
            "n_estimators=1000 log_loss_val=0.4866869712319184\n",
            "n_estimators=1100 log_loss_val=0.48678893450104727\n",
            "n_estimators=1200 log_loss_val=0.48480643019250264\n",
            "Mejor n_estimator=600\n",
            "Wall time: 18min 53s\n"
          ]
        },
        {
          "data": {
            "image/png": "[encoded data removed]",
            "text/plain": [
              "<Figure size 432x288 with 1 Axes>"
            ]
          },
          "metadata": {},
          "output_type": "display_data"
        }
      ],
      "source": [
        "%%time\n",
        "scores = []\n",
        "lestimators = np.arange(200,1300,100)\n",
        "for n_estimators in tqdm(lestimators):\n",
        "    rf_model = RandomForestClassifier(n_estimators=n_estimators,n_jobs=-1, random_state=1234)\n",
        "    log_loss_val = entrena_model_hold_out(rf_model, calibra=True)\n",
        "    print(f'n_estimators={n_estimators} log_loss_val={log_loss_val}')\n",
        "    scores.append(log_loss_val)\n",
        "\n",
        "plt.plot(lestimators,scores,'o-')\n",
        "plt.ylabel('log_loss_val')\n",
        "plt.xlabel(\"n_estimator\")\n",
        "print(f'Mejor n_estimator={lestimators[np.argmin(scores)]}')"
      ]
    },
    {
      "cell_type": "markdown",
      "metadata": {
        "id": "uk4Y9tOP66B0"
      },
      "source": [
        "Vemos que a el menor error se obtiene con 600 árboles. Vamos a ver si controlando el tamaño de los árboles podemos mejorar. En este caso, vamos a ajustar *min_samples_split* que corresponde con el numero minimo de muestras requeridas para poder dividir un nodo. "
      ]
    },
    {
      "cell_type": "code",
      "execution_count": null,
      "metadata": {
        "ExecuteTime": {
          "end_time": "2022-04-28T11:24:04.431139Z",
          "start_time": "2022-04-28T11:19:49.296702Z"
        },
        "colab": {
          "referenced_widgets": [
            "99a6dd8ea8e54bab84e9e622b3c3fbda"
          ]
        },
        "id": "fNIxbgDG66B1",
        "outputId": "17b4f043-c4e5-4e7a-d9ae-cadd2e6e2c1e"
      },
      "outputs": [
        {
          "data": {
            "application/vnd.jupyter.widget-view+json": {
              "model_id": "99a6dd8ea8e54bab84e9e622b3c3fbda",
              "version_major": 2,
              "version_minor": 0
            },
            "text/plain": [
              "  0%|          | 0/3 [00:00<?, ?it/s]"
            ]
          },
          "metadata": {},
          "output_type": "display_data"
        },
        {
          "name": "stdout",
          "output_type": "stream",
          "text": [
            "min_samples_split=2 log_loss_val=0.48462076575304075\n",
            "min_samples_split=3 log_loss_val=0.4859706843580878\n",
            "min_samples_split=4 log_loss_val=0.48785412283958773\n",
            "Mejor min_samples_split=2 log_loss_val=0.48462076575304075\n",
            "Wall time: 4min 14s\n"
          ]
        },
        {
          "data": {
            "image/png": "[encoded data removed]",
            "text/plain": [
              "<Figure size 432x288 with 1 Axes>"
            ]
          },
          "metadata": {},
          "output_type": "display_data"
        }
      ],
      "source": [
        "%%time\n",
        "scores = []\n",
        "lminsplit = np.arange(2,5)\n",
        "for minsplit in tqdm(lminsplit):\n",
        "    rf_model = RandomForestClassifier(min_samples_split=minsplit,\n",
        "                                      n_estimators=600,\n",
        "                                      n_jobs=-1,\n",
        "                                      random_state=1234)\n",
        "    log_loss_val = entrena_model_hold_out(rf_model, calibra=True)\n",
        "    print(f'min_samples_split={minsplit} log_loss_val={log_loss_val}')\n",
        "    scores.append(log_loss_val)\n",
        "    \n",
        "plt.plot(lminsplit,scores,'o-')\n",
        "plt.ylabel('log_loss_val')\n",
        "plt.xlabel(\"min_samples_split\")\n",
        "print(f'Mejor min_samples_split={lminsplit[np.argmin(scores)]} log_loss_val={np.min(scores)}')"
      ]
    },
    {
      "cell_type": "markdown",
      "metadata": {
        "id": "VWOkei_l66B2"
      },
      "source": [
        "Vamos a ver si ampliando o reduciendo el número de atributos podemos mejorar levemente el error. Por defecto, RF usa *sqrt(len(features))=9.64=9* features."
      ]
    },
    {
      "cell_type": "code",
      "execution_count": null,
      "metadata": {
        "ExecuteTime": {
          "end_time": "2022-04-28T11:36:30.042142Z",
          "start_time": "2022-04-28T11:28:04.881704Z"
        },
        "colab": {
          "referenced_widgets": [
            "a4070a2df8c844bdbb5af52d8b9b24b0"
          ]
        },
        "id": "mjOY_Yvg66B2",
        "outputId": "93cecd37-1f93-42e0-d39d-1e25101efe6f"
      },
      "outputs": [
        {
          "data": {
            "application/vnd.jupyter.widget-view+json": {
              "model_id": "a4070a2df8c844bdbb5af52d8b9b24b0",
              "version_major": 2,
              "version_minor": 0
            },
            "text/plain": [
              "  0%|          | 0/6 [00:00<?, ?it/s]"
            ]
          },
          "metadata": {},
          "output_type": "display_data"
        },
        {
          "name": "stdout",
          "output_type": "stream",
          "text": [
            "max_features=6 log_loss_val=0.4933685442522172\n",
            "max_features=7 log_loss_val=0.49042836718750865\n",
            "max_features=8 log_loss_val=0.48508826561638274\n",
            "max_features=9 log_loss_val=0.48462076575304075\n",
            "max_features=10 log_loss_val=0.4882799111015216\n",
            "max_features=11 log_loss_val=0.486590386451606\n",
            "Mejor max_features 9\n",
            "Wall time: 8min 24s\n"
          ]
        },
        {
          "data": {
            "image/png": "[encoded data removed]",
            "text/plain": [
              "<Figure size 432x288 with 1 Axes>"
            ]
          },
          "metadata": {},
          "output_type": "display_data"
        }
      ],
      "source": [
        "%%time\n",
        "scores = []\n",
        "lfeatures = np.arange(6,12)\n",
        "for max_features in tqdm(lfeatures):\n",
        "    rf_model = RandomForestClassifier(max_features=max_features,\n",
        "                                      n_estimators=600,\n",
        "                                      min_samples_split=2,\n",
        "                                      n_jobs=-1,\n",
        "                                      random_state=1234)\n",
        "    log_loss_val = entrena_model_hold_out(rf_model, calibra=True)\n",
        "    print(f'max_features={max_features} log_loss_val={log_loss_val}')\n",
        "    scores.append(log_loss_val)\n",
        "    \n",
        "plt.plot(lfeatures,scores,'o-')\n",
        "plt.ylabel('log_loss_val')\n",
        "plt.xlabel(\"max_features\")\n",
        "print(f'Mejor max_features {lfeatures[np.argmin(scores)]}')"
      ]
    },
    {
      "cell_type": "markdown",
      "metadata": {
        "id": "GrjZap1166B3"
      },
      "source": [
        "No hay cambios. Afinamos ahora el numero de arboles final."
      ]
    },
    {
      "cell_type": "code",
      "execution_count": null,
      "metadata": {
        "ExecuteTime": {
          "end_time": "2022-04-28T12:02:26.828674Z",
          "start_time": "2022-04-28T11:52:18.090467Z"
        },
        "colab": {
          "referenced_widgets": [
            "a72e6af15c03446f865aa1fde97c8404"
          ]
        },
        "id": "NwnPv-9V66B3",
        "outputId": "a9032d15-a676-46d3-9e0f-e3a6eb88d803"
      },
      "outputs": [
        {
          "data": {
            "application/vnd.jupyter.widget-view+json": {
              "model_id": "a72e6af15c03446f865aa1fde97c8404",
              "version_major": 2,
              "version_minor": 0
            },
            "text/plain": [
              "  0%|          | 0/7 [00:00<?, ?it/s]"
            ]
          },
          "metadata": {},
          "output_type": "display_data"
        },
        {
          "name": "stdout",
          "output_type": "stream",
          "text": [
            "n_estimators=525 log_loss_val=0.48487162927019983\n",
            "n_estimators=550 log_loss_val=0.4847339404823144\n",
            "n_estimators=575 log_loss_val=0.4846981127832806\n",
            "n_estimators=600 log_loss_val=0.48462076575304075\n",
            "n_estimators=625 log_loss_val=0.4849201153785705\n",
            "n_estimators=650 log_loss_val=0.48460451402401566\n",
            "n_estimators=675 log_loss_val=0.48476489900470854\n",
            "Mejor n_estimator=650\n",
            "Wall time: 10min 8s\n"
          ]
        },
        {
          "data": {
            "image/png": "[encoded data removed]",
            "text/plain": [
              "<Figure size 432x288 with 1 Axes>"
            ]
          },
          "metadata": {},
          "output_type": "display_data"
        }
      ],
      "source": [
        "%%time\n",
        "scores = []\n",
        "lestimators = np.arange(525,700,25)\n",
        "for n_estimators in tqdm(lestimators):\n",
        "    rf_model = RandomForestClassifier(n_estimators=n_estimators,\n",
        "                                      min_samples_split=2,\n",
        "                                      max_features=9,\n",
        "                                      n_jobs=-1,\n",
        "                                      random_state=1234)\n",
        "    log_loss_val = entrena_model_hold_out(rf_model, calibra=True)\n",
        "    print(f'n_estimators={n_estimators} log_loss_val={log_loss_val}')\n",
        "    scores.append(log_loss_val)\n",
        "    \n",
        "plt.plot(lestimators,scores,'o-')\n",
        "plt.ylabel('log_loss_val')\n",
        "plt.xlabel(\"n_estimator\")\n",
        "print(f'Mejor n_estimator={lestimators[np.argmin(scores)]}')"
      ]
    },
    {
      "cell_type": "markdown",
      "metadata": {
        "id": "Xr9Sqc4Q66B4"
      },
      "source": [
        "**La configuración final es:**\n",
        "\n",
        "- n_estimators=650\n",
        "- min_samples_split=2\n",
        "- max_features=9\n",
        "\n",
        "**con un log_loss=0.48460451402401566**"
      ]
    },
    {
      "cell_type": "markdown",
      "metadata": {
        "id": "nh1G8dm466B4"
      },
      "source": [
        "## Modelo Logístico"
      ]
    },
    {
      "cell_type": "markdown",
      "metadata": {
        "id": "aVoMDJCR66CS"
      },
      "source": [
        "Probamos un primer modelo Logistic"
      ]
    },
    {
      "cell_type": "code",
      "execution_count": null,
      "metadata": {
        "id": "xjdEE0ZR66CT",
        "outputId": "4adac9fe-ef13-4e41-9c40-3822059b45a1"
      },
      "outputs": [
        {
          "name": "stdout",
          "output_type": "stream",
          "text": [
            "log_loss_val=0.6399495176954089\n"
          ]
        }
      ],
      "source": [
        "%%time\n",
        "logistic_model = LogisticRegression(n_jobs=-1,class_weight=None,random_state=42)\n",
        "log_loss_val = entrena_model_hold_out(logistic_model, calibra=False)\n",
        "print(f'log_loss_val={log_loss_val}')"
      ]
    },
    {
      "cell_type": "code",
      "execution_count": null,
      "metadata": {
        "id": "6Aod9J8R66CV",
        "outputId": "f89f1535-4226-4d4e-92e9-4f7d56e01a5c"
      },
      "outputs": [
        {
          "name": "stdout",
          "output_type": "stream",
          "text": [
            "log_loss_val=0.9080750998107069\n"
          ]
        }
      ],
      "source": [
        "%%time\n",
        "logistic_model = LogisticRegression(n_jobs=-1,class_weight=None,random_state=42)\n",
        "log_loss_val = entrena_model_hold_out(logistic_model, calibra=True)\n",
        "print(f'log_loss_val={log_loss_val}')"
      ]
    },
    {
      "cell_type": "markdown",
      "metadata": {
        "id": "LABMgBFM66CV"
      },
      "source": [
        "Vemos que la calibración no mejora la predicción. Probamos con el calibrado con *sigmoid*"
      ]
    },
    {
      "cell_type": "code",
      "execution_count": null,
      "metadata": {
        "id": "AODErkA866CV",
        "outputId": "72627970-d31d-40b5-e173-b5b255b04942"
      },
      "outputs": [
        {
          "name": "stdout",
          "output_type": "stream",
          "text": [
            "log_loss_val=1.0376368752677683\n"
          ]
        }
      ],
      "source": [
        "%%time\n",
        "logistic_model = LogisticRegression(n_jobs=-1,class_weight=None,random_state=42)\n",
        "calibrated_clf = CalibratedClassifierCV(logistic_model, method='sigmoid', cv=5)\n",
        "calibrated_clf.fit(X_train, y_train)\n",
        "preds_val = calibrated_clf.predict_proba(X_val)\n",
        "log_loss_val = log_loss(y_val, preds_val, eps=1e-15, normalize=True)\n",
        "print(f'log_loss_val={log_loss_val}')"
      ]
    },
    {
      "cell_type": "markdown",
      "metadata": {
        "id": "O50Z1Nr_66CW"
      },
      "source": [
        "En este caso, debemos prescindir del calibrado en el modelo logistico.\n",
        "\n",
        "Ahora, vamos a ver cual es el mejor numero de iteraciones en el proceso de optimización del modelo logstico."
      ]
    },
    {
      "cell_type": "code",
      "execution_count": null,
      "metadata": {
        "colab": {
          "referenced_widgets": [
            "7667c19c543640ce901163357ffebf99"
          ]
        },
        "id": "Ee1u0kFu66CW",
        "outputId": "cbf05ade-30c0-45fc-b03b-8bfd9007c897"
      },
      "outputs": [
        {
          "data": {
            "application/vnd.jupyter.widget-view+json": {
              "model_id": "7667c19c543640ce901163357ffebf99",
              "version_major": 2,
              "version_minor": 0
            },
            "text/plain": [
              "HBox(children=(FloatProgress(value=0.0, max=14.0), HTML(value='')))"
            ]
          },
          "metadata": {},
          "output_type": "display_data"
        },
        {
          "name": "stdout",
          "output_type": "stream",
          "text": [
            "max_iter=100 log_loss_val=0.6399495176954089\n",
            "max_iter=150 log_loss_val=0.6389617295064111\n",
            "max_iter=200 log_loss_val=0.6388004360079969\n",
            "max_iter=250 log_loss_val=0.6386921703724855\n",
            "max_iter=300 log_loss_val=0.6385755076273876\n",
            "max_iter=350 log_loss_val=0.6386158769814523\n",
            "max_iter=400 log_loss_val=0.6385800277106308\n",
            "max_iter=450 log_loss_val=0.638554209840292\n",
            "max_iter=500 log_loss_val=0.6385569270373685\n",
            "max_iter=550 log_loss_val=0.6385569270373685\n",
            "max_iter=600 log_loss_val=0.6385569270373685\n",
            "max_iter=650 log_loss_val=0.6385569270373685\n",
            "max_iter=700 log_loss_val=0.6385569270373685\n",
            "max_iter=750 log_loss_val=0.6385569270373685\n",
            "\n",
            "Logistic Mejor max_iter=450 score=0.638554209840292\n"
          ]
        },
        {
          "data": {
            "image/png": "[encoded data removed]",
            "text/plain": [
              "<Figure size 432x288 with 1 Axes>"
            ]
          },
          "metadata": {},
          "output_type": "display_data"
        }
      ],
      "source": [
        "%%time\n",
        "scores = []\n",
        "lmax_iter = np.arange(100,800,50)\n",
        "for maxi in tqdm(lmax_iter):\n",
        "    logistic_model = LogisticRegression(max_iter=maxi,n_jobs=-1,class_weight=None,random_state=42)\n",
        "    log_loss_val = entrena_model_hold_out(logistic_model, calibra=False)\n",
        "    print(f'max_iter={maxi} log_loss_val={log_loss_val}')\n",
        "    scores.append(log_loss_val)\n",
        "    \n",
        "plt.plot(lmax_iter,scores,'o-')\n",
        "plt.ylabel('log_loss_val')\n",
        "plt.xlabel(\"max_iter\")\n",
        "print(f'Logistic Mejor max_iter={lmax_iter[np.argmin(scores)]} score={np.min(scores)}')"
      ]
    },
    {
      "cell_type": "markdown",
      "metadata": {
        "id": "lrXRSFHP66CY"
      },
      "source": [
        "Ahora ajustamos el Parámetro C que es similar al parámetro de complejidad de las SVM"
      ]
    },
    {
      "cell_type": "code",
      "execution_count": null,
      "metadata": {
        "colab": {
          "referenced_widgets": [
            "f0399e43cf1e48a38ce09ecf4aafd009"
          ]
        },
        "id": "JEe3-AlK66CY",
        "outputId": "d02ca198-f774-46c1-fa0e-38858916407c"
      },
      "outputs": [
        {
          "data": {
            "application/vnd.jupyter.widget-view+json": {
              "model_id": "f0399e43cf1e48a38ce09ecf4aafd009",
              "version_major": 2,
              "version_minor": 0
            },
            "text/plain": [
              "HBox(children=(FloatProgress(value=0.0, max=8.0), HTML(value='')))"
            ]
          },
          "metadata": {},
          "output_type": "display_data"
        },
        {
          "name": "stdout",
          "output_type": "stream",
          "text": [
            "C=0.0625 log_loss_val=0.6430509928212406\n",
            "C=0.125 log_loss_val=0.6404098634455558\n",
            "C=0.25 log_loss_val=0.6392146686087529\n",
            "C=0.5 log_loss_val=0.63873858177\n",
            "C=1.0 log_loss_val=0.638554209840292\n",
            "C=2.0 log_loss_val=0.6385452248171362\n",
            "C=4.0 log_loss_val=0.6385719812867574\n",
            "C=8.0 log_loss_val=0.6386509957125119\n",
            "\n",
            "Logistic Mejor C=2.0 score=0.6385452248171362\n"
          ]
        },
        {
          "data": {
            "image/png": "[encoded data removed]",
            "text/plain": [
              "<Figure size 432x288 with 1 Axes>"
            ]
          },
          "metadata": {},
          "output_type": "display_data"
        }
      ],
      "source": [
        "%%time\n",
        "scores = []\n",
        "lmax_c = np.power(2.0,np.arange(-4,4,1))\n",
        "for c_value in tqdm(lmax_c):\n",
        "    logistic_model = LogisticRegression(C=c_value, max_iter=450, \n",
        "                                        n_jobs=-1,class_weight=None,random_state=42)\n",
        "    log_loss_val = entrena_model_hold_out(logistic_model, calibra=False)\n",
        "    print(f'C={c_value} log_loss_val={log_loss_val}')\n",
        "    scores.append(log_loss_val)\n",
        "    \n",
        "plt.plot(lmax_c,scores,'o-')\n",
        "plt.ylabel('log_loss_val')\n",
        "plt.xlabel(\"lmax_c\")\n",
        "print(f'Logistic Mejor C={lmax_c[np.argmin(scores)]} score={np.min(scores)}')"
      ]
    },
    {
      "cell_type": "markdown",
      "metadata": {
        "id": "8Pskc6IJ66CZ"
      },
      "source": [
        "**El mejor modelo logistico se obtiene con:**\n",
        "\n",
        "- max_iter=450\n",
        "- C=2.0\n",
        "\n",
        "**con log_loss_val=0.6385452248171362**"
      ]
    },
    {
      "cell_type": "markdown",
      "metadata": {
        "id": "FQ-buAdF66Cb"
      },
      "source": [
        "## Modelo: XGBoost"
      ]
    },
    {
      "cell_type": "markdown",
      "metadata": {
        "id": "2rf-HNHp66Cc"
      },
      "source": [
        "Extreme Gradient Machines (*XGBoost*) es uno de los algoritmos más populares de *Gradient Boosting Machines* "
      ]
    },
    {
      "cell_type": "code",
      "execution_count": null,
      "metadata": {
        "id": "7sXFgZBq66Cc"
      },
      "outputs": [],
      "source": [
        "# Parametros que vienen por defecto\n",
        "parametros = {'learning_rate':0.1, 'n_estimators':100, 'max_depth':6,\n",
        "              'subsample':0.80, 'colsample_bytree':0.80,\n",
        "              'reg_alpha':0.0, 'reg_lambda':1.0}"
      ]
    },
    {
      "cell_type": "code",
      "execution_count": null,
      "metadata": {
        "id": "M9mouiTA66Cd"
      },
      "outputs": [],
      "source": [
        "def busca_param(valores, nombre_var, parametros):\n",
        "    scores = []\n",
        "    for valor in tqdm(valores):\n",
        "        parametros[nombre_var]=valor\n",
        "        xgb_model = XGBClassifier(learning_rate=parametros['learning_rate'],\n",
        "                                  n_estimators=parametros['n_estimators'],\n",
        "                                  max_depth=parametros['max_depth'],\n",
        "#                                   min_child_weight=parametros['min_child_weight'],\n",
        "                                  subsample=parametros['subsample'],\n",
        "                                  colsample_bytree=parametros['colsample_bytree'],\n",
        "                                  reg_alpha=parametros['reg_alpha'], \n",
        "                                  reg_lambda=parametros['reg_lambda'],\n",
        "                                  nthread=20,\n",
        "                                  seed=42, objective='multi:softprob')\n",
        "        log_loss_val = entrena_model_hold_out(xgb_model, calibra=True)\n",
        "        print(f'{nombre_var}={valor} log_loss_val={log_loss_val}')\n",
        "        scores.append(log_loss_val)\n",
        "    plt.plot(valores,scores,'o-')\n",
        "    plt.ylabel('log_loss_val')\n",
        "    plt.xlabel(nombre_var)\n",
        "    print(f'Mejor {nombre_var}={valores[np.argmin(scores)]} Score={np.min(scores)}')\n",
        "    return valores[np.argmin(scores)]"
      ]
    },
    {
      "cell_type": "code",
      "execution_count": null,
      "metadata": {
        "scrolled": true,
        "colab": {
          "referenced_widgets": [
            "26c52b82dd834db8af2814bab3c3e3ed"
          ]
        },
        "id": "zpyIGSB966Cd",
        "outputId": "35d84c16-41ae-4a47-f484-0d38cd3f670e"
      },
      "outputs": [
        {
          "data": {
            "application/vnd.jupyter.widget-view+json": {
              "model_id": "26c52b82dd834db8af2814bab3c3e3ed",
              "version_major": 2,
              "version_minor": 0
            },
            "text/plain": [
              "HBox(children=(FloatProgress(value=0.0, max=8.0), HTML(value='')))"
            ]
          },
          "metadata": {},
          "output_type": "display_data"
        },
        {
          "name": "stdout",
          "output_type": "stream",
          "text": [
            "n_estimators=300 log_loss_val=0.46736178529866623\n",
            "n_estimators=400 log_loss_val=0.45926067834433654\n",
            "n_estimators=500 log_loss_val=0.4536980114976586\n",
            "n_estimators=600 log_loss_val=0.45209586060964246\n",
            "n_estimators=700 log_loss_val=0.45091114003355104\n",
            "n_estimators=800 log_loss_val=0.4507638376995122\n",
            "n_estimators=900 log_loss_val=0.45255563600555726\n",
            "n_estimators=1000 log_loss_val=0.45249268509066576\n",
            "\n",
            "Mejor n_estimators=800 Score=0.4507638376995122\n",
            "{'learning_rate': 0.1, 'n_estimators': 800, 'max_depth': 6, 'subsample': 0.8, 'colsample_bytree': 0.8, 'reg_alpha': 0.0, 'reg_lambda': 1.0}\n"
          ]
        },
        {
          "data": {
            "image/png": "[encoded data removed]",
            "text/plain": [
              "<Figure size 432x288 with 1 Axes>"
            ]
          },
          "metadata": {},
          "output_type": "display_data"
        }
      ],
      "source": [
        "%%time\n",
        "# Busqueda del numero de arboles\n",
        "parametros['n_estimators'] = busca_param(np.arange(300,1100,100), 'n_estimators', parametros)\n",
        "print(parametros)"
      ]
    },
    {
      "cell_type": "code",
      "execution_count": null,
      "metadata": {
        "colab": {
          "referenced_widgets": [
            "2d2e3172de4046539a43e200f558236b"
          ]
        },
        "id": "6FGrksWT66Cd",
        "outputId": "1b5d4c8e-3a30-44ea-b1cf-057cf9a92b40"
      },
      "outputs": [
        {
          "data": {
            "application/vnd.jupyter.widget-view+json": {
              "model_id": "2d2e3172de4046539a43e200f558236b",
              "version_major": 2,
              "version_minor": 0
            },
            "text/plain": [
              "HBox(children=(FloatProgress(value=0.0, max=11.0), HTML(value='')))"
            ]
          },
          "metadata": {},
          "output_type": "display_data"
        },
        {
          "name": "stdout",
          "output_type": "stream",
          "text": [
            "max_depth=2 log_loss_val=0.5323584298971848\n",
            "max_depth=3 log_loss_val=0.49199263580225383\n",
            "max_depth=4 log_loss_val=0.47115790516004863\n",
            "max_depth=5 log_loss_val=0.4577353556461342\n",
            "max_depth=6 log_loss_val=0.4507638376995122\n",
            "max_depth=7 log_loss_val=0.4550300553429426\n",
            "max_depth=8 log_loss_val=0.4505095069917167\n",
            "max_depth=9 log_loss_val=0.4527971217745995\n",
            "max_depth=10 log_loss_val=0.4550837451364092\n",
            "max_depth=11 log_loss_val=0.4567573052688949\n",
            "max_depth=12 log_loss_val=0.4564085862141767\n",
            "\n",
            "Mejor max_depth=8 Score=0.4505095069917167\n",
            "{'learning_rate': 0.1, 'n_estimators': 800, 'max_depth': 8, 'subsample': 0.8, 'colsample_bytree': 0.8, 'reg_alpha': 0.0, 'reg_lambda': 1.0}\n"
          ]
        },
        {
          "data": {
            "image/png": "[encoded data removed]",
            "text/plain": [
              "<Figure size 432x288 with 1 Axes>"
            ]
          },
          "metadata": {},
          "output_type": "display_data"
        }
      ],
      "source": [
        "%%time\n",
        "# Maxima profundidad\n",
        "parametros['max_depth'] = busca_param(np.arange(2,13), 'max_depth', parametros)\n",
        "print(parametros)"
      ]
    },
    {
      "cell_type": "code",
      "execution_count": null,
      "metadata": {
        "id": "AHTBhrHC66Ce"
      },
      "outputs": [],
      "source": [
        "# # Minimos Pesos por particion\n",
        "# parametros['min_child_weight'] = busca_param(np.arange(1,6), 'min_child_weight', parametros)\n",
        "# print(parametros)"
      ]
    },
    {
      "cell_type": "code",
      "execution_count": null,
      "metadata": {
        "colab": {
          "referenced_widgets": [
            "42ce4a46753a4bd5af2324268ffedef7"
          ]
        },
        "id": "iM9D8MbA66Ce",
        "outputId": "ac9d8950-0f63-4340-9fc2-bdbefc92d9f7"
      },
      "outputs": [
        {
          "data": {
            "application/vnd.jupyter.widget-view+json": {
              "model_id": "42ce4a46753a4bd5af2324268ffedef7",
              "version_major": 2,
              "version_minor": 0
            },
            "text/plain": [
              "HBox(children=(FloatProgress(value=0.0, max=6.0), HTML(value='')))"
            ]
          },
          "metadata": {},
          "output_type": "display_data"
        },
        {
          "name": "stdout",
          "output_type": "stream",
          "text": [
            "subsample=0.5 log_loss_val=0.4551344902532299\n",
            "subsample=0.6 log_loss_val=0.45325106123479286\n",
            "subsample=0.7 log_loss_val=0.4533673977116736\n",
            "subsample=0.8 log_loss_val=0.4505095069917167\n",
            "subsample=0.9 log_loss_val=0.4526932200720692\n",
            "subsample=1.0 log_loss_val=0.4555757173214048\n",
            "\n",
            "Mejor subsample=0.8 Score=0.4505095069917167\n",
            "{'learning_rate': 0.1, 'n_estimators': 800, 'max_depth': 8, 'subsample': 0.8, 'colsample_bytree': 0.8, 'reg_alpha': 0.0, 'reg_lambda': 1.0}\n"
          ]
        },
        {
          "data": {
            "image/png": "[encoded data removed]",
            "text/plain": [
              "<Figure size 432x288 with 1 Axes>"
            ]
          },
          "metadata": {},
          "output_type": "display_data"
        }
      ],
      "source": [
        "%%time\n",
        "# Subsample\n",
        "parametros['subsample'] = busca_param(np.arange(5,11)/10.0, 'subsample', parametros)\n",
        "print(parametros)"
      ]
    },
    {
      "cell_type": "code",
      "execution_count": null,
      "metadata": {
        "colab": {
          "referenced_widgets": [
            "b39cfccbc5494c3eab320e910f4b8c22"
          ]
        },
        "id": "MZZuFwKN66Ce",
        "outputId": "9e06de07-b8a9-425b-f47f-e34c5942706d"
      },
      "outputs": [
        {
          "data": {
            "application/vnd.jupyter.widget-view+json": {
              "model_id": "b39cfccbc5494c3eab320e910f4b8c22",
              "version_major": 2,
              "version_minor": 0
            },
            "text/plain": [
              "HBox(children=(FloatProgress(value=0.0, max=10.0), HTML(value='')))"
            ]
          },
          "metadata": {},
          "output_type": "display_data"
        },
        {
          "name": "stdout",
          "output_type": "stream",
          "text": [
            "colsample_bytree=0.1 log_loss_val=0.4732905706034286\n",
            "colsample_bytree=0.2 log_loss_val=0.4571016650054453\n",
            "colsample_bytree=0.3 log_loss_val=0.45353415645348066\n",
            "colsample_bytree=0.4 log_loss_val=0.45148788998485495\n",
            "colsample_bytree=0.5 log_loss_val=0.4547330360844201\n",
            "colsample_bytree=0.6 log_loss_val=0.44995794392902055\n",
            "colsample_bytree=0.7 log_loss_val=0.45199918147748414\n",
            "colsample_bytree=0.8 log_loss_val=0.4505095069917167\n",
            "colsample_bytree=0.9 log_loss_val=0.4536114309956032\n",
            "colsample_bytree=1.0 log_loss_val=0.4565975889517779\n",
            "\n",
            "Mejor colsample_bytree=0.6 Score=0.44995794392902055\n",
            "{'learning_rate': 0.1, 'n_estimators': 800, 'max_depth': 8, 'subsample': 0.8, 'colsample_bytree': 0.6, 'reg_alpha': 0.0, 'reg_lambda': 1.0}\n"
          ]
        },
        {
          "data": {
            "image/png": "[encoded data removed]",
            "text/plain": [
              "<Figure size 432x288 with 1 Axes>"
            ]
          },
          "metadata": {},
          "output_type": "display_data"
        }
      ],
      "source": [
        "%%time\n",
        "# Colsample_bytree\n",
        "parametros['colsample_bytree'] = busca_param(np.arange(1,11)/10.0, 'colsample_bytree', parametros)\n",
        "print(parametros)"
      ]
    },
    {
      "cell_type": "code",
      "execution_count": null,
      "metadata": {
        "colab": {
          "referenced_widgets": [
            "43bbc82b97ea43b593501d7adf4ddf7f"
          ]
        },
        "id": "DE4Z1cEd66Ce",
        "outputId": "784487f2-c864-4568-c942-caf69b00c522"
      },
      "outputs": [
        {
          "data": {
            "application/vnd.jupyter.widget-view+json": {
              "model_id": "43bbc82b97ea43b593501d7adf4ddf7f",
              "version_major": 2,
              "version_minor": 0
            },
            "text/plain": [
              "HBox(children=(FloatProgress(value=0.0, max=8.0), HTML(value='')))"
            ]
          },
          "metadata": {},
          "output_type": "display_data"
        },
        {
          "name": "stdout",
          "output_type": "stream",
          "text": [
            "reg_alpha=0.0 log_loss_val=0.44995794392902055\n",
            "reg_alpha=0.0001 log_loss_val=0.4493313911857783\n",
            "reg_alpha=0.001 log_loss_val=0.44870034989651664\n",
            "reg_alpha=0.01 log_loss_val=0.45145810496523026\n",
            "reg_alpha=0.1 log_loss_val=0.45255335141241976\n",
            "reg_alpha=1.0 log_loss_val=0.4537183277611617\n",
            "reg_alpha=5 log_loss_val=0.4560511022253273\n",
            "reg_alpha=10 log_loss_val=0.47011653821353017\n",
            "\n",
            "Mejor reg_alpha=0.001 Score=0.44870034989651664\n",
            "{'learning_rate': 0.1, 'n_estimators': 800, 'max_depth': 8, 'subsample': 0.8, 'colsample_bytree': 0.6, 'reg_alpha': 0.001, 'reg_lambda': 1.0}\n"
          ]
        },
        {
          "data": {
            "image/png": "[encoded data removed]",
            "text/plain": [
              "<Figure size 432x288 with 1 Axes>"
            ]
          },
          "metadata": {},
          "output_type": "display_data"
        }
      ],
      "source": [
        "%%time\n",
        "# Probamos con Regularización L1\n",
        "parametros['reg_alpha'] = busca_param([0.0, 0.0001, 0.001, 0.01, 0.1, 1.0, 5, 10], 'reg_alpha', parametros)\n",
        "print(parametros)"
      ]
    },
    {
      "cell_type": "code",
      "execution_count": null,
      "metadata": {
        "colab": {
          "referenced_widgets": [
            "e90fe139b7594e0b847130436808da5e"
          ]
        },
        "id": "nh3P8Mhz66Cf",
        "outputId": "a8d881e7-e3b4-47bd-b74d-13bdb54fa1e6"
      },
      "outputs": [
        {
          "data": {
            "application/vnd.jupyter.widget-view+json": {
              "model_id": "e90fe139b7594e0b847130436808da5e",
              "version_major": 2,
              "version_minor": 0
            },
            "text/plain": [
              "HBox(children=(FloatProgress(value=0.0, max=8.0), HTML(value='')))"
            ]
          },
          "metadata": {},
          "output_type": "display_data"
        },
        {
          "name": "stdout",
          "output_type": "stream",
          "text": [
            "reg_lambda=0.0 log_loss_val=0.45055427640048595\n",
            "reg_lambda=0.0001 log_loss_val=0.45076640112934196\n",
            "reg_lambda=0.001 log_loss_val=0.45021311011560045\n",
            "reg_lambda=0.01 log_loss_val=0.4506474823400529\n",
            "reg_lambda=0.1 log_loss_val=0.44995383668184963\n",
            "reg_lambda=1.0 log_loss_val=0.44870034989651664\n",
            "reg_lambda=5 log_loss_val=0.45082358768638486\n",
            "reg_lambda=10 log_loss_val=0.45149529570777125\n",
            "\n",
            "Mejor reg_lambda=1.0 Score=0.44870034989651664\n",
            "{'learning_rate': 0.1, 'n_estimators': 800, 'max_depth': 8, 'subsample': 0.8, 'colsample_bytree': 0.6, 'reg_alpha': 0.001, 'reg_lambda': 1.0}\n"
          ]
        },
        {
          "data": {
            "image/png": "[encoded data removed]",
            "text/plain": [
              "<Figure size 432x288 with 1 Axes>"
            ]
          },
          "metadata": {},
          "output_type": "display_data"
        }
      ],
      "source": [
        "%%time\n",
        "# Probamos con Regularización L2\n",
        "parametros['reg_lambda'] = busca_param([0.0, 0.0001, 0.001, 0.01, 0.1, 1.0, 5, 10], 'reg_lambda', parametros)\n",
        "print(parametros)"
      ]
    },
    {
      "cell_type": "code",
      "execution_count": null,
      "metadata": {
        "colab": {
          "referenced_widgets": [
            "007822dc309d4a40a7b3a1a15ee547ab"
          ]
        },
        "id": "bryHaB5c66Cf",
        "outputId": "6d75ee36-0a01-44ab-b84d-5af5dab3b74f"
      },
      "outputs": [
        {
          "data": {
            "application/vnd.jupyter.widget-view+json": {
              "model_id": "007822dc309d4a40a7b3a1a15ee547ab",
              "version_major": 2,
              "version_minor": 0
            },
            "text/plain": [
              "HBox(children=(FloatProgress(value=0.0, max=9.0), HTML(value='')))"
            ]
          },
          "metadata": {},
          "output_type": "display_data"
        },
        {
          "name": "stdout",
          "output_type": "stream",
          "text": [
            "learning_rate=0.001 log_loss_val=0.5915441456807554\n",
            "learning_rate=0.005 log_loss_val=0.5386951453043503\n",
            "learning_rate=0.01 log_loss_val=0.4998207269911845\n",
            "learning_rate=0.05 log_loss_val=0.4489437128075007\n",
            "learning_rate=0.1 log_loss_val=0.44870034989651664\n",
            "learning_rate=0.15 log_loss_val=0.4522763014563908\n",
            "learning_rate=0.2 log_loss_val=0.45746889298573384\n",
            "learning_rate=0.25 log_loss_val=0.4615933382198224\n",
            "learning_rate=0.3 log_loss_val=0.4672680293476639\n",
            "\n",
            "Mejor learning_rate=0.1 Score=0.44870034989651664\n",
            "{'learning_rate': 0.1, 'n_estimators': 800, 'max_depth': 8, 'subsample': 0.8, 'colsample_bytree': 0.6, 'reg_alpha': 0.001, 'reg_lambda': 1.0}\n"
          ]
        },
        {
          "data": {
            "image/png": "[encoded data removed]",
            "text/plain": [
              "<Figure size 432x288 with 1 Axes>"
            ]
          },
          "metadata": {},
          "output_type": "display_data"
        }
      ],
      "source": [
        "%%time\n",
        "# Learning rate\n",
        "parametros['learning_rate'] = busca_param([0.001, 0.005, 0.01, 0.05, 0.1, 0.15, 0.2, 0.25, 0.3], 'learning_rate', parametros)\n",
        "print(parametros)"
      ]
    },
    {
      "cell_type": "code",
      "execution_count": null,
      "metadata": {
        "colab": {
          "referenced_widgets": [
            "1ec8147c9065437496737ce82f9b96d9"
          ]
        },
        "id": "lh0VO-T366Cf",
        "outputId": "759ce4ab-9193-4734-a86f-4599ccf482f4"
      },
      "outputs": [
        {
          "data": {
            "application/vnd.jupyter.widget-view+json": {
              "model_id": "1ec8147c9065437496737ce82f9b96d9",
              "version_major": 2,
              "version_minor": 0
            },
            "text/plain": [
              "HBox(children=(FloatProgress(value=0.0, max=12.0), HTML(value='')))"
            ]
          },
          "metadata": {},
          "output_type": "display_data"
        },
        {
          "name": "stdout",
          "output_type": "stream",
          "text": [
            "n_estimators=650 log_loss_val=0.44793749417581175\n",
            "n_estimators=675 log_loss_val=0.4499451487445979\n",
            "n_estimators=700 log_loss_val=0.45026205268982383\n",
            "n_estimators=725 log_loss_val=0.45039045940757955\n",
            "n_estimators=750 log_loss_val=0.4483690096247282\n",
            "n_estimators=775 log_loss_val=0.4485648129319966\n",
            "n_estimators=800 log_loss_val=0.44870034989651664\n",
            "n_estimators=825 log_loss_val=0.44900210664792517\n",
            "n_estimators=850 log_loss_val=0.44918294153707755\n",
            "n_estimators=875 log_loss_val=0.449669351113557\n",
            "n_estimators=900 log_loss_val=0.4498913652612586\n",
            "n_estimators=925 log_loss_val=0.4502654881024376\n",
            "\n",
            "Mejor n_estimators=650 Score=0.44793749417581175\n",
            "{'learning_rate': 0.1, 'n_estimators': 650, 'max_depth': 8, 'subsample': 0.8, 'colsample_bytree': 0.6, 'reg_alpha': 0.001, 'reg_lambda': 1.0}\n"
          ]
        },
        {
          "data": {
            "image/png": "[encoded data removed]",
            "text/plain": [
              "<Figure size 432x288 with 1 Axes>"
            ]
          },
          "metadata": {},
          "output_type": "display_data"
        }
      ],
      "source": [
        "%%time\n",
        "# Busqueda fina del numero de arboles a partir del mejor\n",
        "parametros['n_estimators'] = busca_param(np.arange(parametros['n_estimators']-150,parametros['n_estimators']+150,25),\n",
        "                                         'n_estimators', parametros)\n",
        "print(parametros)"
      ]
    },
    {
      "cell_type": "markdown",
      "metadata": {
        "id": "fwZHMeO-66Cf"
      },
      "source": [
        "**El mejor modelo XGBoost se obtiene con:**\n",
        "\n",
        "- 'learning_rate': 0.1\n",
        "- 'n_estimators': 650\n",
        "- 'max_depth': 8\n",
        "- 'subsample': 0.8\n",
        "- 'colsample_bytree': 0.6\n",
        "- 'reg_alpha': 0.001\n",
        "- 'reg_lambda': 1.0\n",
        "\n",
        "**con log_loss_val=0.44793749417581175**"
      ]
    },
    {
      "cell_type": "markdown",
      "metadata": {
        "id": "VdmfgQLs66Cg"
      },
      "source": [
        "## ¿Somos capaces de mejorar estos resultados con Optimización Bayesiana?"
      ]
    },
    {
      "cell_type": "markdown",
      "metadata": {
        "id": "kWHr8XDV66Cg"
      },
      "source": [
        "Los modelos *Ensemble*, disponen habitualmente de múltiples parámetros que suelen ser difíciles de ajustar. Este problema es conocido como *Optimización de Hyperparámetros* o *Hyperparameter Optimization (HO)*.\n",
        "\n",
        "Cuando el proceso de entrenamiento de los modelos es costoso computacionalmente, es conveniente utilizar estrategias de HO más avanzadas que las clásicas *GridSeach* o *RandomSearch*. \n",
        "\n",
        "Uno de los métodos más usados habitualmente para HO, usado por muchas herramientas de *Machine Learning Optimization* (AutoML, AutoKeras, etc.), es la *[Optimización Bayesiana (OB)](https://github.com/fmfn/BayesianOptimization/)*. \n",
        "\n",
        "**La OB debe ser utilizada con cuidado pues no es un método milagroso y puede darnos peores resultados que la búsqueda manual o clásica. Es muy importante seleccionar parámetros del modelo que QUE ESTÉN RELACIONADOS ENTRE SI LO MENOS POSIBLE.**\n",
        "\n",
        "Por ejemplo, si elegimos ajustar los tres parámetros de un RF que tienen que ver con limitaciones en el crecimiento de los árboles:\n",
        "- 'max_depth': Máxima profundidad de cada  arbol\n",
        "- 'min_samples_split': Mínimo número de ejemplos para generar una división\n",
        "- 'min_samples_leaf': Mínimo número de elementos que puede tener una hoja\n",
        "es probable que el proceso de optimización no sea eficiente. Lo mismo lo podemos aplicar a otros modelos basados en combinación de árboles como *XGBoost*, *LightGBM* o *Catboost*\n",
        "            \n",
        "\n",
        "\"Este proceso combina 4 pasos ([ref](https://www.buguroo.com/es/blog/optimizacion-de-hiperparametros)):\n",
        "- Elegir alguna medida previa en el espacio de posibles funciones de métodos de evaluación. Como se desconoce nuestra función objetiva (métrica de evaluación sobre la función de configuraciones), este paso supone tratarla como una función aleatoria con una distribución previa seleccionada. Esto captura nuestras creencias sobre el comportamiento de la función (ej., a menudo se utiliza una distribución gaussiana multivariable).\n",
        "- Combinar la distribución previa con algunas observaciones dadas (configuraciones probadas) para obtener una distribución posterior en el objetivo (estimación de dónde reside la verdadera función).\n",
        "- Usar la distribución posterior para decidir dónde probar la siguiente configuración según alguna función de adquisición. Una función de adquisición es una herramienta que nos dice la configuración a probar en que se conseguirá la mayor cantidad de información.\n",
        "- Evaluar la configuración seleccionada en el paso 3.\n",
        "\n",
        "Después de haber probado algunas configuraciones iniciales (al menos 2) y haber concluido por primera vez todos los pasos, iterar entre 2 y 4 hasta que se activa el mecanismo de terminación y se cierra la optimización bayesiana.*\n",
        "\n",
        "\n",
        "\n",
        "![](https://github.com/fmfn/BayesianOptimization/raw/master/examples/bo_example.png)"
      ]
    },
    {
      "cell_type": "code",
      "execution_count": null,
      "metadata": {
        "id": "3jLogkR-66Cg",
        "outputId": "7d8f4dcc-da24-43d4-cb21-6b78922a092f"
      },
      "outputs": [
        {
          "name": "stdout",
          "output_type": "stream",
          "text": [
            "|   iter    |  target   | colsam... | max_depth | pow_alpha | pow_la... | subsample |\n",
            "-------------------------------------------------------------------------------------\n",
            "| \u001b[0m 1       \u001b[0m | \u001b[0m-0.4631  \u001b[0m | \u001b[0m 0.9876  \u001b[0m | \u001b[0m 13.35   \u001b[0m | \u001b[0m-0.4318  \u001b[0m | \u001b[0m-2.097   \u001b[0m | \u001b[0m 0.4032  \u001b[0m |\n",
            "| \u001b[0m 2       \u001b[0m | \u001b[0m-0.5215  \u001b[0m | \u001b[0m 0.2953  \u001b[0m | \u001b[0m 5.594   \u001b[0m | \u001b[0m-1.597   \u001b[0m | \u001b[0m 2.035   \u001b[0m | \u001b[0m 0.241   \u001b[0m |\n",
            "| \u001b[0m 3       \u001b[0m | \u001b[0m-0.5188  \u001b[0m | \u001b[0m 0.2268  \u001b[0m | \u001b[0m 11.84   \u001b[0m | \u001b[0m 1.154   \u001b[0m | \u001b[0m-1.51    \u001b[0m | \u001b[0m 0.407   \u001b[0m |\n",
            "| \u001b[0m 4       \u001b[0m | \u001b[0m-0.4702  \u001b[0m | \u001b[0m 0.7001  \u001b[0m | \u001b[0m 4.822   \u001b[0m | \u001b[0m-0.07001 \u001b[0m | \u001b[0m-3.131   \u001b[0m | \u001b[0m 0.3878  \u001b[0m |\n",
            "| \u001b[0m 5       \u001b[0m | \u001b[0m-0.5722  \u001b[0m | \u001b[0m 0.9579  \u001b[0m | \u001b[0m 3.786   \u001b[0m | \u001b[0m-0.01411 \u001b[0m | \u001b[0m 2.83    \u001b[0m | \u001b[0m 0.553   \u001b[0m |\n",
            "| \u001b[0m 6       \u001b[0m | \u001b[0m-0.5302  \u001b[0m | \u001b[0m 0.7009  \u001b[0m | \u001b[0m 2.444   \u001b[0m | \u001b[0m-0.8072  \u001b[0m | \u001b[0m-2.909   \u001b[0m | \u001b[0m 0.5284  \u001b[0m |\n",
            "| \u001b[0m 7       \u001b[0m | \u001b[0m-0.4894  \u001b[0m | \u001b[0m 0.1     \u001b[0m | \u001b[0m 15.0    \u001b[0m | \u001b[0m-4.0     \u001b[0m | \u001b[0m-4.0     \u001b[0m | \u001b[0m 1.0     \u001b[0m |\n",
            "| \u001b[0m 8       \u001b[0m | \u001b[0m-0.5813  \u001b[0m | \u001b[0m 1.0     \u001b[0m | \u001b[0m 15.0    \u001b[0m | \u001b[0m-4.0     \u001b[0m | \u001b[0m 3.0     \u001b[0m | \u001b[0m 0.1     \u001b[0m |\n",
            "| \u001b[0m 9       \u001b[0m | \u001b[0m-0.4768  \u001b[0m | \u001b[0m 1.0     \u001b[0m | \u001b[0m 8.314   \u001b[0m | \u001b[0m-4.0     \u001b[0m | \u001b[0m-4.0     \u001b[0m | \u001b[0m 0.1     \u001b[0m |\n",
            "| \u001b[0m 10      \u001b[0m | \u001b[0m-1.95    \u001b[0m | \u001b[0m 1.0     \u001b[0m | \u001b[0m 15.0    \u001b[0m | \u001b[0m 3.0     \u001b[0m | \u001b[0m-4.0     \u001b[0m | \u001b[0m 0.1     \u001b[0m |\n",
            "| \u001b[0m 11      \u001b[0m | \u001b[0m-0.8559  \u001b[0m | \u001b[0m 1.0     \u001b[0m | \u001b[0m 9.692   \u001b[0m | \u001b[0m 3.0     \u001b[0m | \u001b[0m 3.0     \u001b[0m | \u001b[0m 1.0     \u001b[0m |\n",
            "| \u001b[0m 12      \u001b[0m | \u001b[0m-0.4778  \u001b[0m | \u001b[0m 0.1     \u001b[0m | \u001b[0m 11.18   \u001b[0m | \u001b[0m-4.0     \u001b[0m | \u001b[0m-0.07262 \u001b[0m | \u001b[0m 1.0     \u001b[0m |\n",
            "| \u001b[0m 13      \u001b[0m | \u001b[0m-0.6338  \u001b[0m | \u001b[0m 0.1     \u001b[0m | \u001b[0m 2.0     \u001b[0m | \u001b[0m-4.0     \u001b[0m | \u001b[0m 3.0     \u001b[0m | \u001b[0m 1.0     \u001b[0m |\n",
            "| \u001b[0m 14      \u001b[0m | \u001b[0m-1.95    \u001b[0m | \u001b[0m 0.1     \u001b[0m | \u001b[0m 2.0     \u001b[0m | \u001b[0m 3.0     \u001b[0m | \u001b[0m-4.0     \u001b[0m | \u001b[0m 0.1     \u001b[0m |\n",
            "| \u001b[0m 15      \u001b[0m | \u001b[0m-0.5449  \u001b[0m | \u001b[0m 1.0     \u001b[0m | \u001b[0m 2.0     \u001b[0m | \u001b[0m-4.0     \u001b[0m | \u001b[0m-4.0     \u001b[0m | \u001b[0m 1.0     \u001b[0m |\n",
            "| \u001b[0m 16      \u001b[0m | \u001b[0m-0.5902  \u001b[0m | \u001b[0m 0.1     \u001b[0m | \u001b[0m 15.0    \u001b[0m | \u001b[0m 0.9638  \u001b[0m | \u001b[0m 3.0     \u001b[0m | \u001b[0m 1.0     \u001b[0m |\n",
            "| \u001b[95m 17      \u001b[0m | \u001b[95m-0.4593  \u001b[0m | \u001b[95m 1.0     \u001b[0m | \u001b[95m 8.583   \u001b[0m | \u001b[95m-0.9869  \u001b[0m | \u001b[95m-1.35    \u001b[0m | \u001b[95m 1.0     \u001b[0m |\n",
            "| \u001b[0m 18      \u001b[0m | \u001b[0m-0.486   \u001b[0m | \u001b[0m 1.0     \u001b[0m | \u001b[0m 4.057   \u001b[0m | \u001b[0m-4.0     \u001b[0m | \u001b[0m-1.028   \u001b[0m | \u001b[0m 0.1     \u001b[0m |\n",
            "| \u001b[0m 19      \u001b[0m | \u001b[0m-0.7048  \u001b[0m | \u001b[0m 0.1     \u001b[0m | \u001b[0m 11.55   \u001b[0m | \u001b[0m-1.151   \u001b[0m | \u001b[0m 3.0     \u001b[0m | \u001b[0m 0.1     \u001b[0m |\n",
            "| \u001b[0m 20      \u001b[0m | \u001b[0m-0.5026  \u001b[0m | \u001b[0m 0.1     \u001b[0m | \u001b[0m 15.0    \u001b[0m | \u001b[0m-4.0     \u001b[0m | \u001b[0m-0.6989  \u001b[0m | \u001b[0m 0.1     \u001b[0m |\n",
            "| \u001b[0m 21      \u001b[0m | \u001b[0m-0.4781  \u001b[0m | \u001b[0m 0.1     \u001b[0m | \u001b[0m 10.95   \u001b[0m | \u001b[0m-1.792   \u001b[0m | \u001b[0m-4.0     \u001b[0m | \u001b[0m 1.0     \u001b[0m |\n",
            "| \u001b[0m 22      \u001b[0m | \u001b[0m-0.4899  \u001b[0m | \u001b[0m 0.1     \u001b[0m | \u001b[0m 5.247   \u001b[0m | \u001b[0m-2.942   \u001b[0m | \u001b[0m-4.0     \u001b[0m | \u001b[0m 1.0     \u001b[0m |\n",
            "| \u001b[0m 23      \u001b[0m | \u001b[0m-0.4781  \u001b[0m | \u001b[0m 1.0     \u001b[0m | \u001b[0m 12.46   \u001b[0m | \u001b[0m-4.0     \u001b[0m | \u001b[0m-3.116   \u001b[0m | \u001b[0m 0.1     \u001b[0m |\n",
            "| \u001b[0m 24      \u001b[0m | \u001b[0m-0.5593  \u001b[0m | \u001b[0m 0.1     \u001b[0m | \u001b[0m 2.0     \u001b[0m | \u001b[0m-1.716   \u001b[0m | \u001b[0m 0.1927  \u001b[0m | \u001b[0m 0.1     \u001b[0m |\n",
            "| \u001b[0m 25      \u001b[0m | \u001b[0m-0.463   \u001b[0m | \u001b[0m 1.0     \u001b[0m | \u001b[0m 13.89   \u001b[0m | \u001b[0m-1.604   \u001b[0m | \u001b[0m 0.3968  \u001b[0m | \u001b[0m 1.0     \u001b[0m |\n",
            "| \u001b[0m 26      \u001b[0m | \u001b[0m-0.481   \u001b[0m | \u001b[0m 1.0     \u001b[0m | \u001b[0m 4.281   \u001b[0m | \u001b[0m-1.254   \u001b[0m | \u001b[0m-0.8259  \u001b[0m | \u001b[0m 1.0     \u001b[0m |\n",
            "=====================================================================================\n",
            "MEJOR XGB= {'target': -0.4593201453567985, 'params': {'colsample_bytree': 1.0, 'max_depth': 8.583064179474016, 'pow_alpha': -0.9869383561735856, 'pow_lambda': -1.3501017363487144, 'subsample': 1.0}}\n"
          ]
        }
      ],
      "source": [
        "%%time\n",
        "# Vamos a buscar el mejor modelo con Bayesian Optimization\n",
        "# Devolvemos el negativo de log_loss_val pues BO busca maximizar la metrica\n",
        "from bayes_opt import BayesianOptimization\n",
        "\n",
        "def bo_eval(max_depth, subsample, colsample_bytree, pow_alpha, pow_lambda):\n",
        "    xgb_model = XGBClassifier(learning_rate=0.1,  #Fijamos el learning rate\n",
        "                              n_estimators=800, #Fijamos el numero de arboles\n",
        "                              max_depth=int(max_depth),\n",
        "                              subsample=subsample,\n",
        "                              colsample_bytree=colsample_bytree,\n",
        "                              reg_alpha = 10.0**pow_alpha,\n",
        "                              reg_lambda = 10.0**pow_lambda,\n",
        "                              nthread=20,\n",
        "                              seed=42, objective='multi:softprob')\n",
        "    log_loss_val = entrena_model_hold_out(xgb_model, calibra=True)\n",
        "    return -log_loss_val\n",
        "\n",
        "# Buscamos mejor XGB\n",
        "range_bo = {'max_depth': (2, 15),  #Máxima profundidad de cada  arbol\n",
        "            'subsample': (0.1, 1.0), #Subsample\n",
        "            'colsample_bytree': (0.1, 1.0), #Colsample\n",
        "            'pow_alpha': (-4,3), # alpha=10**pow_alpha\n",
        "            'pow_lambda': (-4,3), # lambda=10**pow_lambda\n",
        "            }\n",
        "\n",
        "BO_XGB = BayesianOptimization(bo_eval, range_bo, random_state=2020)\n",
        "BO_XGB.maximize(init_points=6, n_iter=20)    \n",
        "print('MEJOR XGB=',BO_XGB.max)"
      ]
    },
    {
      "cell_type": "markdown",
      "metadata": {
        "id": "9D4PYdoV66Ch"
      },
      "source": [
        "Como se puede observar, aunque se llega a una solución aceptable, **BO no mejora a los resultados obtenidos con el proceso de busqueda planteado previamente**. Podrian eliminarse algunos parametros como *colsample_bytree* o *subsample* pues es posible que afecten al proceso de optimización, pero deberian luego ajustarse manualmente y el numero de iteraciones total sera parecido a la propuesta inicial de busqueda parametro a parametro."
      ]
    },
    {
      "cell_type": "markdown",
      "metadata": {
        "id": "VSEKYo3K66Ch"
      },
      "source": [
        "## Enviamos la Submission de los Modelos"
      ]
    },
    {
      "cell_type": "markdown",
      "metadata": {
        "id": "5mDXMTXv66Ch"
      },
      "source": [
        "### Modelo RF Submission"
      ]
    },
    {
      "cell_type": "markdown",
      "metadata": {
        "id": "D1GDn13g66Ch"
      },
      "source": [
        "**La configuración final fue:**\n",
        "- n_estimators=600\n",
        "- min_samples_split=2\n",
        "- max_features=9\n",
        "\n",
        "**con un Local log_loss=0.4818038439198601**"
      ]
    },
    {
      "cell_type": "code",
      "execution_count": null,
      "metadata": {
        "id": "e7__ZFg566Ch",
        "outputId": "1ad437cb-fc57-4676-8fae-4d6a07f1355e"
      },
      "outputs": [
        {
          "name": "stdout",
          "output_type": "stream",
          "text": [
            "Mejor RF local log_loss_val=0.4818038439198601\n"
          ]
        }
      ],
      "source": [
        "%%time\n",
        "rf_model = RandomForestClassifier(n_estimators=600,\n",
        "                                  max_features=9,\n",
        "                                  min_samples_split=2,\n",
        "                                  n_jobs=-1,class_weight='balanced')\n",
        "log_loss_val = entrena_model_hold_out(rf_model, calibra=True)\n",
        "print(f'Mejor RF local log_loss_val={log_loss_val}')"
      ]
    },
    {
      "cell_type": "code",
      "execution_count": null,
      "metadata": {
        "id": "x0EPAEl666Ci",
        "outputId": "2f408f83-fe3e-4b49-be5d-7a5b7a386099"
      },
      "outputs": [
        {
          "data": {
            "text/html": [
              "<div>\n",
              "<style scoped>\n",
              "    .dataframe tbody tr th:only-of-type {\n",
              "        vertical-align: middle;\n",
              "    }\n",
              "\n",
              "    .dataframe tbody tr th {\n",
              "        vertical-align: top;\n",
              "    }\n",
              "\n",
              "    .dataframe thead th {\n",
              "        text-align: right;\n",
              "    }\n",
              "</style>\n",
              "<table border=\"1\" class=\"dataframe\">\n",
              "  <thead>\n",
              "    <tr style=\"text-align: right;\">\n",
              "      <th></th>\n",
              "      <th>id</th>\n",
              "      <th>Class_1</th>\n",
              "      <th>Class_2</th>\n",
              "      <th>Class_3</th>\n",
              "      <th>Class_4</th>\n",
              "      <th>Class_5</th>\n",
              "      <th>Class_6</th>\n",
              "      <th>Class_7</th>\n",
              "      <th>Class_8</th>\n",
              "      <th>Class_9</th>\n",
              "    </tr>\n",
              "  </thead>\n",
              "  <tbody>\n",
              "    <tr>\n",
              "      <th>0</th>\n",
              "      <td>1</td>\n",
              "      <td>0.000229</td>\n",
              "      <td>0.127171</td>\n",
              "      <td>0.192283</td>\n",
              "      <td>0.668507</td>\n",
              "      <td>0.000082</td>\n",
              "      <td>0.001615</td>\n",
              "      <td>0.009459</td>\n",
              "      <td>0.000524</td>\n",
              "      <td>0.000130</td>\n",
              "    </tr>\n",
              "    <tr>\n",
              "      <th>1</th>\n",
              "      <td>2</td>\n",
              "      <td>0.004584</td>\n",
              "      <td>0.001983</td>\n",
              "      <td>0.001066</td>\n",
              "      <td>0.001300</td>\n",
              "      <td>0.000462</td>\n",
              "      <td>0.704477</td>\n",
              "      <td>0.002653</td>\n",
              "      <td>0.280276</td>\n",
              "      <td>0.003199</td>\n",
              "    </tr>\n",
              "    <tr>\n",
              "      <th>2</th>\n",
              "      <td>3</td>\n",
              "      <td>0.000142</td>\n",
              "      <td>0.000000</td>\n",
              "      <td>0.000000</td>\n",
              "      <td>0.000312</td>\n",
              "      <td>0.000000</td>\n",
              "      <td>0.998187</td>\n",
              "      <td>0.000177</td>\n",
              "      <td>0.001183</td>\n",
              "      <td>0.000000</td>\n",
              "    </tr>\n",
              "    <tr>\n",
              "      <th>3</th>\n",
              "      <td>4</td>\n",
              "      <td>0.000298</td>\n",
              "      <td>0.595608</td>\n",
              "      <td>0.364085</td>\n",
              "      <td>0.026133</td>\n",
              "      <td>0.000000</td>\n",
              "      <td>0.000000</td>\n",
              "      <td>0.000469</td>\n",
              "      <td>0.000643</td>\n",
              "      <td>0.012765</td>\n",
              "    </tr>\n",
              "    <tr>\n",
              "      <th>4</th>\n",
              "      <td>5</td>\n",
              "      <td>0.099618</td>\n",
              "      <td>0.000000</td>\n",
              "      <td>0.000000</td>\n",
              "      <td>0.000291</td>\n",
              "      <td>0.000045</td>\n",
              "      <td>0.003824</td>\n",
              "      <td>0.002219</td>\n",
              "      <td>0.226798</td>\n",
              "      <td>0.667205</td>\n",
              "    </tr>\n",
              "  </tbody>\n",
              "</table>\n",
              "</div>"
            ],
            "text/plain": [
              "   id   Class_1   Class_2   Class_3   Class_4   Class_5   Class_6   Class_7  \\\n",
              "0   1  0.000229  0.127171  0.192283  0.668507  0.000082  0.001615  0.009459   \n",
              "1   2  0.004584  0.001983  0.001066  0.001300  0.000462  0.704477  0.002653   \n",
              "2   3  0.000142  0.000000  0.000000  0.000312  0.000000  0.998187  0.000177   \n",
              "3   4  0.000298  0.595608  0.364085  0.026133  0.000000  0.000000  0.000469   \n",
              "4   5  0.099618  0.000000  0.000000  0.000291  0.000045  0.003824  0.002219   \n",
              "\n",
              "    Class_8   Class_9  \n",
              "0  0.000524  0.000130  \n",
              "1  0.280276  0.003199  \n",
              "2  0.001183  0.000000  \n",
              "3  0.000643  0.012765  \n",
              "4  0.226798  0.667205  "
            ]
          },
          "execution_count": 107,
          "metadata": {},
          "output_type": "execute_result"
        }
      ],
      "source": [
        "%%time\n",
        "# Creamos submission con toda la base de datos de entrenamiento\n",
        "calibrated_clf = CalibratedClassifierCV(rf_model, method='isotonic', cv=5)\n",
        "calibrated_clf.fit(X, y)\n",
        "test_preds = calibrated_clf.predict_proba(X_test_scaled)\n",
        "\n",
        "output = pd.DataFrame(test_preds,columns=[\"Class_\"+str(i) for i in range(1,10)])\n",
        "output.insert(loc=0, column='id', value=df_test.id)\n",
        "output.to_csv('submission_rf.csv', index=False)\n",
        "pd.read_csv('submission_rf.csv').head()"
      ]
    },
    {
      "cell_type": "markdown",
      "metadata": {
        "id": "gcH2_gyn66Ci"
      },
      "source": [
        "Este modelo RF obtiene un **Local=0.48180, Private_LB=0.47250, Public_LB=0.46824**"
      ]
    },
    {
      "cell_type": "markdown",
      "metadata": {
        "id": "08-iM_lq66Cj"
      },
      "source": [
        "### Modelo Logistic Submission"
      ]
    },
    {
      "cell_type": "markdown",
      "metadata": {
        "id": "YgFAT4AB66Cj"
      },
      "source": [
        "**El mejor modelo logistico se obtuvo con:**\n",
        "\n",
        "- max_iter=450\n",
        "- C=2.0\n",
        "\n",
        "**con un local log_loss_val=0.6385452248171362**"
      ]
    },
    {
      "cell_type": "code",
      "execution_count": null,
      "metadata": {
        "id": "5VANVX0Y66Cj",
        "outputId": "173c5b1e-0331-44d9-eb62-cf2e215e181c"
      },
      "outputs": [
        {
          "name": "stdout",
          "output_type": "stream",
          "text": [
            "Mejor modelo Logistico con local log_loss_val=0.6385452248171362\n"
          ]
        }
      ],
      "source": [
        "%%time\n",
        "logistic_model = LogisticRegression(C=2.0, max_iter=450, n_jobs=-1,class_weight=None,random_state=42)\n",
        "log_loss_val = entrena_model_hold_out(logistic_model, calibra=False)\n",
        "print(f'Mejor modelo Logistico con local log_loss_val={log_loss_val}')    "
      ]
    },
    {
      "cell_type": "code",
      "execution_count": null,
      "metadata": {
        "id": "jOcpkl0-66Ck",
        "outputId": "12f0dfe1-c309-41f4-e320-4ad17a0e349a"
      },
      "outputs": [
        {
          "data": {
            "text/html": [
              "<div>\n",
              "<style scoped>\n",
              "    .dataframe tbody tr th:only-of-type {\n",
              "        vertical-align: middle;\n",
              "    }\n",
              "\n",
              "    .dataframe tbody tr th {\n",
              "        vertical-align: top;\n",
              "    }\n",
              "\n",
              "    .dataframe thead th {\n",
              "        text-align: right;\n",
              "    }\n",
              "</style>\n",
              "<table border=\"1\" class=\"dataframe\">\n",
              "  <thead>\n",
              "    <tr style=\"text-align: right;\">\n",
              "      <th></th>\n",
              "      <th>id</th>\n",
              "      <th>Class_1</th>\n",
              "      <th>Class_2</th>\n",
              "      <th>Class_3</th>\n",
              "      <th>Class_4</th>\n",
              "      <th>Class_5</th>\n",
              "      <th>Class_6</th>\n",
              "      <th>Class_7</th>\n",
              "      <th>Class_8</th>\n",
              "      <th>Class_9</th>\n",
              "    </tr>\n",
              "  </thead>\n",
              "  <tbody>\n",
              "    <tr>\n",
              "      <th>0</th>\n",
              "      <td>1</td>\n",
              "      <td>9.618544e-06</td>\n",
              "      <td>1.585929e-01</td>\n",
              "      <td>2.511289e-01</td>\n",
              "      <td>5.858155e-01</td>\n",
              "      <td>7.194543e-14</td>\n",
              "      <td>8.493979e-06</td>\n",
              "      <td>4.444261e-03</td>\n",
              "      <td>2.609426e-07</td>\n",
              "      <td>1.497520e-08</td>\n",
              "    </tr>\n",
              "    <tr>\n",
              "      <th>1</th>\n",
              "      <td>2</td>\n",
              "      <td>4.382693e-04</td>\n",
              "      <td>3.352036e-05</td>\n",
              "      <td>2.077340e-07</td>\n",
              "      <td>2.078800e-08</td>\n",
              "      <td>8.526202e-07</td>\n",
              "      <td>6.731425e-01</td>\n",
              "      <td>2.238532e-04</td>\n",
              "      <td>3.249107e-01</td>\n",
              "      <td>1.250085e-03</td>\n",
              "    </tr>\n",
              "    <tr>\n",
              "      <th>2</th>\n",
              "      <td>3</td>\n",
              "      <td>3.274802e-06</td>\n",
              "      <td>1.998311e-08</td>\n",
              "      <td>5.220279e-09</td>\n",
              "      <td>2.056028e-11</td>\n",
              "      <td>4.407552e-11</td>\n",
              "      <td>9.998838e-01</td>\n",
              "      <td>4.455260e-05</td>\n",
              "      <td>6.772848e-05</td>\n",
              "      <td>6.607735e-07</td>\n",
              "    </tr>\n",
              "    <tr>\n",
              "      <th>3</th>\n",
              "      <td>4</td>\n",
              "      <td>6.774191e-10</td>\n",
              "      <td>7.115148e-01</td>\n",
              "      <td>2.818409e-01</td>\n",
              "      <td>6.643950e-03</td>\n",
              "      <td>1.826456e-09</td>\n",
              "      <td>1.082438e-08</td>\n",
              "      <td>9.998273e-08</td>\n",
              "      <td>2.599292e-09</td>\n",
              "      <td>1.821611e-07</td>\n",
              "    </tr>\n",
              "    <tr>\n",
              "      <th>4</th>\n",
              "      <td>5</td>\n",
              "      <td>6.624649e-01</td>\n",
              "      <td>2.215893e-07</td>\n",
              "      <td>5.720758e-08</td>\n",
              "      <td>2.347878e-09</td>\n",
              "      <td>2.313338e-16</td>\n",
              "      <td>4.724840e-03</td>\n",
              "      <td>1.163455e-03</td>\n",
              "      <td>4.139156e-02</td>\n",
              "      <td>2.902550e-01</td>\n",
              "    </tr>\n",
              "  </tbody>\n",
              "</table>\n",
              "</div>"
            ],
            "text/plain": [
              "   id       Class_1       Class_2       Class_3       Class_4       Class_5  \\\n",
              "0   1  9.618544e-06  1.585929e-01  2.511289e-01  5.858155e-01  7.194543e-14   \n",
              "1   2  4.382693e-04  3.352036e-05  2.077340e-07  2.078800e-08  8.526202e-07   \n",
              "2   3  3.274802e-06  1.998311e-08  5.220279e-09  2.056028e-11  4.407552e-11   \n",
              "3   4  6.774191e-10  7.115148e-01  2.818409e-01  6.643950e-03  1.826456e-09   \n",
              "4   5  6.624649e-01  2.215893e-07  5.720758e-08  2.347878e-09  2.313338e-16   \n",
              "\n",
              "        Class_6       Class_7       Class_8       Class_9  \n",
              "0  8.493979e-06  4.444261e-03  2.609426e-07  1.497520e-08  \n",
              "1  6.731425e-01  2.238532e-04  3.249107e-01  1.250085e-03  \n",
              "2  9.998838e-01  4.455260e-05  6.772848e-05  6.607735e-07  \n",
              "3  1.082438e-08  9.998273e-08  2.599292e-09  1.821611e-07  \n",
              "4  4.724840e-03  1.163455e-03  4.139156e-02  2.902550e-01  "
            ]
          },
          "execution_count": 109,
          "metadata": {},
          "output_type": "execute_result"
        }
      ],
      "source": [
        "%%time\n",
        "# Creamos submission\n",
        "logistic_model.fit(X, y)\n",
        "test_preds = logistic_model.predict_proba(X_test_scaled)\n",
        "\n",
        "output = pd.DataFrame(test_preds,columns=[\"Class_\"+str(i) for i in range(1,10)])\n",
        "output.insert(loc=0, column='id', value=df_test.id)\n",
        "output.to_csv('submission_logistic.csv', index=False)\n",
        "pd.read_csv('submission_logistic.csv').head()"
      ]
    },
    {
      "cell_type": "markdown",
      "metadata": {
        "id": "ntuueBbc66Ck"
      },
      "source": [
        "Este modelo LOGISTICO obtiene un **Local=0.63855, Private_LB=0.63414, Public_LB=0.63382** que es mucho peor que el obtenido con el RF."
      ]
    },
    {
      "cell_type": "markdown",
      "metadata": {
        "id": "iYf0DFYg66Ck"
      },
      "source": [
        "### Single XGB Submission"
      ]
    },
    {
      "cell_type": "markdown",
      "metadata": {
        "id": "Ga4wQk9L66Ck"
      },
      "source": [
        "**El mejor modelo XGBoost se obtuvo con:**\n",
        "\n",
        "- 'learning_rate': 0.1\n",
        "- 'n_estimators': 650\n",
        "- 'max_depth': 8\n",
        "- 'subsample': 0.8\n",
        "- 'colsample_bytree': 0.6\n",
        "- 'reg_alpha': 0.001\n",
        "- 'reg_lambda': 1.0\n",
        "\n",
        "**con log_loss_val=0.44793749417581175**"
      ]
    },
    {
      "cell_type": "code",
      "execution_count": null,
      "metadata": {
        "id": "A-bouBTn66Cl",
        "outputId": "db9ee250-e776-4bd2-daf6-0375c264858f"
      },
      "outputs": [
        {
          "name": "stdout",
          "output_type": "stream",
          "text": [
            "Best XGB con local log_loss_val=0.44793749417581175\n"
          ]
        }
      ],
      "source": [
        "%%time\n",
        "xgb_model = XGBClassifier(learning_rate =0.1, n_estimators=650, max_depth=8, \n",
        "                          subsample=0.8, colsample_bytree=0.6, nthread=20,\n",
        "                          reg_alpha=0.001, reg_lambda=1.0,\n",
        "                          seed=42, objective='multi:softprob')\n",
        "log_loss_val = entrena_model_hold_out(xgb_model, calibra=True)\n",
        "print(f'Best XGB con local log_loss_val={log_loss_val}')"
      ]
    },
    {
      "cell_type": "code",
      "execution_count": null,
      "metadata": {
        "id": "lt_EURla66Cl",
        "outputId": "f04fbc2a-9055-4b6c-9751-971f025b653d"
      },
      "outputs": [
        {
          "data": {
            "text/html": [
              "<div>\n",
              "<style scoped>\n",
              "    .dataframe tbody tr th:only-of-type {\n",
              "        vertical-align: middle;\n",
              "    }\n",
              "\n",
              "    .dataframe tbody tr th {\n",
              "        vertical-align: top;\n",
              "    }\n",
              "\n",
              "    .dataframe thead th {\n",
              "        text-align: right;\n",
              "    }\n",
              "</style>\n",
              "<table border=\"1\" class=\"dataframe\">\n",
              "  <thead>\n",
              "    <tr style=\"text-align: right;\">\n",
              "      <th></th>\n",
              "      <th>id</th>\n",
              "      <th>Class_1</th>\n",
              "      <th>Class_2</th>\n",
              "      <th>Class_3</th>\n",
              "      <th>Class_4</th>\n",
              "      <th>Class_5</th>\n",
              "      <th>Class_6</th>\n",
              "      <th>Class_7</th>\n",
              "      <th>Class_8</th>\n",
              "      <th>Class_9</th>\n",
              "    </tr>\n",
              "  </thead>\n",
              "  <tbody>\n",
              "    <tr>\n",
              "      <th>0</th>\n",
              "      <td>1</td>\n",
              "      <td>0.000043</td>\n",
              "      <td>0.203943</td>\n",
              "      <td>0.163291</td>\n",
              "      <td>0.627479</td>\n",
              "      <td>0.000000</td>\n",
              "      <td>0.000000</td>\n",
              "      <td>0.005041</td>\n",
              "      <td>0.000203</td>\n",
              "      <td>0.000000</td>\n",
              "    </tr>\n",
              "    <tr>\n",
              "      <th>1</th>\n",
              "      <td>2</td>\n",
              "      <td>0.001117</td>\n",
              "      <td>0.007269</td>\n",
              "      <td>0.001035</td>\n",
              "      <td>0.002142</td>\n",
              "      <td>0.000102</td>\n",
              "      <td>0.403497</td>\n",
              "      <td>0.010366</td>\n",
              "      <td>0.572735</td>\n",
              "      <td>0.001737</td>\n",
              "    </tr>\n",
              "    <tr>\n",
              "      <th>2</th>\n",
              "      <td>3</td>\n",
              "      <td>0.000000</td>\n",
              "      <td>0.000000</td>\n",
              "      <td>0.000000</td>\n",
              "      <td>0.000000</td>\n",
              "      <td>0.000000</td>\n",
              "      <td>0.999858</td>\n",
              "      <td>0.000000</td>\n",
              "      <td>0.000142</td>\n",
              "      <td>0.000000</td>\n",
              "    </tr>\n",
              "    <tr>\n",
              "      <th>3</th>\n",
              "      <td>4</td>\n",
              "      <td>0.000051</td>\n",
              "      <td>0.722544</td>\n",
              "      <td>0.264796</td>\n",
              "      <td>0.007854</td>\n",
              "      <td>0.000000</td>\n",
              "      <td>0.000000</td>\n",
              "      <td>0.000254</td>\n",
              "      <td>0.000148</td>\n",
              "      <td>0.004353</td>\n",
              "    </tr>\n",
              "    <tr>\n",
              "      <th>4</th>\n",
              "      <td>5</td>\n",
              "      <td>0.155020</td>\n",
              "      <td>0.000000</td>\n",
              "      <td>0.000473</td>\n",
              "      <td>0.000245</td>\n",
              "      <td>0.000091</td>\n",
              "      <td>0.009504</td>\n",
              "      <td>0.001924</td>\n",
              "      <td>0.074296</td>\n",
              "      <td>0.758446</td>\n",
              "    </tr>\n",
              "  </tbody>\n",
              "</table>\n",
              "</div>"
            ],
            "text/plain": [
              "   id   Class_1   Class_2   Class_3   Class_4   Class_5   Class_6   Class_7  \\\n",
              "0   1  0.000043  0.203943  0.163291  0.627479  0.000000  0.000000  0.005041   \n",
              "1   2  0.001117  0.007269  0.001035  0.002142  0.000102  0.403497  0.010366   \n",
              "2   3  0.000000  0.000000  0.000000  0.000000  0.000000  0.999858  0.000000   \n",
              "3   4  0.000051  0.722544  0.264796  0.007854  0.000000  0.000000  0.000254   \n",
              "4   5  0.155020  0.000000  0.000473  0.000245  0.000091  0.009504  0.001924   \n",
              "\n",
              "    Class_8   Class_9  \n",
              "0  0.000203  0.000000  \n",
              "1  0.572735  0.001737  \n",
              "2  0.000142  0.000000  \n",
              "3  0.000148  0.004353  \n",
              "4  0.074296  0.758446  "
            ]
          },
          "execution_count": 112,
          "metadata": {},
          "output_type": "execute_result"
        }
      ],
      "source": [
        "%%time\n",
        "# Creamos submission\n",
        "calibrated_clf = CalibratedClassifierCV(xgb_model, method='isotonic', cv=5)\n",
        "calibrated_clf.fit(X, y)\n",
        "test_preds = calibrated_clf.predict_proba(X_test_scaled)\n",
        "\n",
        "output = pd.DataFrame(test_preds,columns=[\"Class_\"+str(i) for i in range(1,10)])\n",
        "output.insert(loc=0, column='id', value=df_test.id)\n",
        "output.to_csv('submission_xgb.csv', index=False)\n",
        "pd.read_csv('submission_xgb.csv').head()"
      ]
    },
    {
      "cell_type": "markdown",
      "metadata": {
        "id": "kQTSWt8Q66Cm"
      },
      "source": [
        "Este modelo XGBoost obtiene un **Local=0.44794, Private_LB=0.43734, Public_LB=0.43471**. Un modelo muy bueno que **nos situaria en la posición 444 del Private Leaderboard de 3511 equipos (percentil 87.35)**. \n",
        "\n",
        "Hay que tomar en cuenta que es un resultado excelente pues es un SOLO MODELO donde solo se han usado las FEATURES ORIGINALES."
      ]
    },
    {
      "cell_type": "markdown",
      "metadata": {
        "id": "cVqKIjsn66Cm"
      },
      "source": [
        "### EJERCICIO  5"
      ]
    },
    {
      "cell_type": "markdown",
      "metadata": {
        "id": "QamLFU3o66Cm"
      },
      "source": [
        "Otro algoritmo que está ganando popularidad, debido a su velocidad y precisión, es [*lightgbm*](https://lightgbm.readthedocs.io/en/latest/). Este algoritmo, publicado por Microsoft, es similar a *XGBoost* **aunque sensiblemente más rápido** (aunque todo esto puede cambiar en cada versión)."
      ]
    },
    {
      "cell_type": "code",
      "execution_count": 8,
      "metadata": {
        "ExecuteTime": {
          "end_time": "2021-04-20T08:36:48.544902Z",
          "start_time": "2021-04-20T08:36:48.532924Z"
        },
        "id": "YTukUxB666Cm"
      },
      "outputs": [],
      "source": [
        "# Ejemplo con Parametros iniciales del modelo LGB\n",
        "parametros = {'learning_rate':0.1, 'n_estimators':400, 'max_depth':7,\n",
        "              'min_child_weight':1, 'subsample':1.00, 'subsample_freq':1, 'colsample_bytree':1.00,\n",
        "              'reg_alpha':0.0, 'reg_lambda':0.0}"
      ]
    },
    {
      "cell_type": "markdown",
      "metadata": {
        "id": "bbEhHQ8m66Cm"
      },
      "source": [
        "Vamos a ver un ejemplo de cálculo con este algoritmo. Como se puede ver, los parámetros son similares a los de *XGBoost*."
      ]
    },
    {
      "cell_type": "code",
      "execution_count": 9,
      "metadata": {
        "ExecuteTime": {
          "end_time": "2021-04-20T08:38:31.672694Z",
          "start_time": "2021-04-20T08:37:33.854038Z"
        },
        "colab": {
          "base_uri": "https://localhost:8080/"
        },
        "id": "KcMgeva566Cm",
        "outputId": "60a4a4d0-5799-4939-9dd1-9537ad9b8ab9"
      },
      "outputs": [
        {
          "output_type": "stream",
          "name": "stdout",
          "text": [
            "LGB local log_loss_val=0.4684171847396549\n"
          ]
        }
      ],
      "source": [
        "lgb_model = LGBMClassifier(boosting_type='gbdt',objective='multiclass',random_state=42,\n",
        "                           n_jobs=-1,silent=True, importance_type='split',\n",
        "                           learning_rate=parametros['learning_rate'], \n",
        "                           n_estimators=parametros['n_estimators'], \n",
        "                           max_depth=parametros['max_depth'], \n",
        "                           min_child_weight=parametros['min_child_weight'], \n",
        "                           min_child_samples=0, \n",
        "                           subsample=parametros['subsample'], \n",
        "                           subsample_freq=parametros['subsample_freq'],\n",
        "                           colsample_bytree=parametros['colsample_bytree'], \n",
        "                           reg_alpha=parametros['reg_alpha'], \n",
        "                           reg_lambda=parametros['reg_lambda'] \n",
        "                          )\n",
        "log_loss_val = entrena_model_hold_out(lgb_model, calibra=True)\n",
        "print(f'LGB local log_loss_val={log_loss_val}')"
      ]
    },
    {
      "cell_type": "code",
      "source": [
        "def busca_param(valores, nombre_var, parametros):\n",
        "    scores = []\n",
        "    for valor in tqdm(valores):\n",
        "        parametros[nombre_var]=valor\n",
        "        lgb_model = LGBMClassifier(boosting_type='gbdt',objective='multiclass',random_state=42,\n",
        "                           n_jobs=-1,silent=True, importance_type='split',\n",
        "                           learning_rate=parametros['learning_rate'], \n",
        "                           n_estimators=parametros['n_estimators'], \n",
        "                           max_depth=parametros['max_depth'], \n",
        "                           min_child_weight=parametros['min_child_weight'], \n",
        "                           min_child_samples=0, \n",
        "                           subsample=parametros['subsample'], \n",
        "                           subsample_freq=parametros['subsample_freq'],\n",
        "                           colsample_bytree=parametros['colsample_bytree'], \n",
        "                           reg_alpha=parametros['reg_alpha'], \n",
        "                           reg_lambda=parametros['reg_lambda'] \n",
        "                          )\n",
        "        log_loss_val = entrena_model_hold_out(lgb_model, calibra=True)\n",
        "        print(f'{nombre_var}={valor} log_loss_val={log_loss_val}')\n",
        "        scores.append(log_loss_val)\n",
        "    plt.plot(valores,scores,'o-')\n",
        "    plt.ylabel('log_loss_val')\n",
        "    plt.xlabel(nombre_var)\n",
        "    print(f'Mejor {nombre_var}={valores[np.argmin(scores)]} Score={np.min(scores)}')\n",
        "    return valores[np.argmin(scores)]"
      ],
      "metadata": {
        "id": "0dcYTPGcP2vf"
      },
      "execution_count": 10,
      "outputs": []
    },
    {
      "cell_type": "markdown",
      "metadata": {
        "id": "KIM6DW6T66Cp"
      },
      "source": [
        "**Usando la metodología empleada en el ajuste del modelo XGB, buscar un modelo LGB con el menor error de validación posible. El objetivo es ajustar de la mejor forma posible los 8 [parámetros](https://lightgbm.readthedocs.io/en/latest/Parameters.html) del algoritmo Lightgbm: 'learning_rate','n_estimators', 'max_depth', 'min_child_weight', 'subsample', 'colsample_bytree',\n",
        "              'lambda_l1' y 'lambda_l2'**\n",
        "\n",
        "**Crear la submission, enviarla a Kaggle y presentar los Scores Finales Publicos y Privados. Incluir en este cuaderno una foto de la pantalla de Kaggle con los resultados de la Submission realizada donde se muestre el Private_LB y Public_LB.**\n",
        "\n",
        "**ATENCION: Para mejorar los tiempos de búsqueda es RECOMENDABLE reducir los rangos de búsqueda de los parámetros basándose en los mejores valores obtenidos con XGBoost. Esta metodología se puede aplicar también en los pasos siguientes.**"
      ]
    },
    {
      "cell_type": "markdown",
      "source": [
        "Reducir las iteraciones"
      ],
      "metadata": {
        "id": "AwHDtGw6Omnu"
      }
    },
    {
      "cell_type": "code",
      "source": [
        "%%time\n",
        "# Learning rate\n",
        "parametros['learning_rate'] = busca_param([0.05, 0.1, 0.15, 0.2], 'learning_rate', parametros)\n",
        "print(parametros)"
      ],
      "metadata": {
        "colab": {
          "base_uri": "https://localhost:8080/",
          "height": 462,
          "referenced_widgets": [
            "2222b0f60dc141f790042e182832a4af",
            "aa474f462d984587a2b0d2708a7e9fb3",
            "124dceed093e4062b4484d4438dd63d9",
            "81fec606fd754cf19d86fdc6f2d6a13c",
            "2d963006601346929b01223c25adb135",
            "867f0648b9d74bc3a77849922d2d7aec",
            "24766958c2234b17a066bfa7ccd9d563",
            "868eb4adc2cd47ac94ec3bbdb135b009",
            "3c0c5b02159341168fc3793924a7395b",
            "1a8ecbbc982d4f5faf1ee29d22b47970",
            "8824313d5d10485b80b9fc9209d84a9f"
          ]
        },
        "id": "2dIrFbkeMOqW",
        "outputId": "14675747-38be-4511-8dc6-bc058e7a1069"
      },
      "execution_count": null,
      "outputs": [
        {
          "output_type": "display_data",
          "data": {
            "text/plain": [
              "  0%|          | 0/4 [00:00<?, ?it/s]"
            ],
            "application/vnd.jupyter.widget-view+json": {
              "version_major": 2,
              "version_minor": 0,
              "model_id": "2222b0f60dc141f790042e182832a4af"
            }
          },
          "metadata": {}
        },
        {
          "output_type": "stream",
          "name": "stdout",
          "text": [
            "learning_rate=0.05 log_loss_val=0.489276733095442\n",
            "learning_rate=0.1 log_loss_val=0.4684171847396549\n",
            "learning_rate=0.15 log_loss_val=0.46100435742895635\n",
            "learning_rate=0.2 log_loss_val=0.4602280070677942\n",
            "Mejor learning_rate=0.2 Score=0.4602280070677942\n",
            "{'learning_rate': 0.2, 'n_estimators': 400, 'max_depth': 7, 'min_child_weight': 1, 'subsample': 1.0, 'subsample_freq': 1, 'colsample_bytree': 1.0, 'reg_alpha': 0.0, 'reg_lambda': 0.0}\n",
            "CPU times: user 39min 17s, sys: 11.6 s, total: 39min 29s\n",
            "Wall time: 20min 14s\n"
          ]
        },
        {
          "output_type": "display_data",
          "data": {
            "text/plain": [
              "<Figure size 432x288 with 1 Axes>"
            ],
            "image/png": "[encoded data removed]"
          },
          "metadata": {}
        }
      ]
    },
    {
      "cell_type": "code",
      "execution_count": null,
      "metadata": {
        "id": "jfgMqkNK66Cp",
        "colab": {
          "base_uri": "https://localhost:8080/",
          "height": 443,
          "referenced_widgets": [
            "658aa66b73b94cdd9c0e690ea96b007b",
            "581b8d532b13470496dc01739a18293f",
            "70cbaa9eefbf4e0391dd98e69e889aa4",
            "0c327d143fbf4f27bf60a58ac3eea6e4",
            "150992bccaf54ec6bc1b8c448446a34b",
            "2a00d6158e6f49189357451de673bf2f",
            "90b26926853348659f5650ac9818428c",
            "a0210aaf2b27457eb7ffa02cf9c218b5",
            "65745ffc4837420890268777c65882fc",
            "e1c237c047a74d7f9d10e3902b7961b9",
            "a4b0509eba7e4736a80de5a68a0c148b"
          ]
        },
        "outputId": "2d5cbf3b-5fd4-4572-d2c4-d9007cf2d59b"
      },
      "outputs": [
        {
          "output_type": "display_data",
          "data": {
            "text/plain": [
              "  0%|          | 0/3 [00:00<?, ?it/s]"
            ],
            "application/vnd.jupyter.widget-view+json": {
              "version_major": 2,
              "version_minor": 0,
              "model_id": "658aa66b73b94cdd9c0e690ea96b007b"
            }
          },
          "metadata": {}
        },
        {
          "output_type": "stream",
          "name": "stdout",
          "text": [
            "n_estimators=700 log_loss_val=0.4588779323706667\n",
            "n_estimators=800 log_loss_val=0.4619393538714542\n",
            "n_estimators=900 log_loss_val=0.4630085833055329\n",
            "Mejor n_estimators=700 Score=0.4588779323706667\n",
            "{'learning_rate': 0.2, 'n_estimators': 700, 'max_depth': 7, 'min_child_weight': 1, 'subsample': 1.0, 'subsample_freq': 1, 'colsample_bytree': 1.0, 'reg_alpha': 0.0, 'reg_lambda': 0.0}\n",
            "CPU times: user 55min 56s, sys: 16.1 s, total: 56min 12s\n",
            "Wall time: 28min 46s\n"
          ]
        },
        {
          "output_type": "display_data",
          "data": {
            "text/plain": [
              "<Figure size 432x288 with 1 Axes>"
            ],
            "image/png": "[encoded data removed]"
          },
          "metadata": {}
        }
      ],
      "source": [
        "%%time\n",
        "# Busqueda del numero de arboles\n",
        "parametros['n_estimators'] = busca_param(np.arange(700,1000,100), 'n_estimators', parametros)\n",
        "print(parametros)"
      ]
    },
    {
      "cell_type": "code",
      "execution_count": null,
      "metadata": {
        "outputId": "cdc19bfb-8314-4406-ce90-578469e58e02",
        "colab": {
          "referenced_widgets": [
            "817b0b1411374359b78498f3fe863b00",
            "c08940c234394f9faa820010e6bee5a1",
            "1d949516c48741858bccf4d12e3d3f6e",
            "d99d5e82b9be44feb2571de2957217b6",
            "2e567ce68fec4b7cbe83686e8db26d99",
            "45365f74e2b1424eb1351b212711b9dd",
            "4e4a1d3193184afb823fe4d80b926e0c",
            "01adc71b383742bca7879311696b7a07",
            "e6f0fd17d7d44f2ca4d1a944ea75e551",
            "51329b9f27c74eeda2e3138e35c9827a",
            "b25d7ec9061343a19b6c1e82132c99c4"
          ],
          "base_uri": "https://localhost:8080/",
          "height": 462
        },
        "id": "XacvEKJ1NX2w"
      },
      "outputs": [
        {
          "output_type": "display_data",
          "data": {
            "text/plain": [
              "  0%|          | 0/4 [00:00<?, ?it/s]"
            ],
            "application/vnd.jupyter.widget-view+json": {
              "version_major": 2,
              "version_minor": 0,
              "model_id": "817b0b1411374359b78498f3fe863b00"
            }
          },
          "metadata": {}
        },
        {
          "output_type": "stream",
          "name": "stdout",
          "text": [
            "max_depth=6 log_loss_val=0.45963410170450864\n",
            "max_depth=7 log_loss_val=0.4588779323706667\n",
            "max_depth=8 log_loss_val=0.4620744201436723\n",
            "max_depth=9 log_loss_val=0.45932489580420116\n",
            "Mejor max_depth=7 Score=0.4588779323706667\n",
            "{'learning_rate': 0.2, 'n_estimators': 700, 'max_depth': 7, 'min_child_weight': 1, 'subsample': 1.0, 'subsample_freq': 1, 'colsample_bytree': 1.0, 'reg_alpha': 0.0, 'reg_lambda': 0.0}\n",
            "CPU times: user 1h 6min 32s, sys: 19.1 s, total: 1h 6min 51s\n",
            "Wall time: 34min 7s\n"
          ]
        },
        {
          "output_type": "display_data",
          "data": {
            "text/plain": [
              "<Figure size 432x288 with 1 Axes>"
            ],
            "image/png": "[encoded data removed]"
          },
          "metadata": {}
        }
      ],
      "source": [
        "%%time\n",
        "# Maxima profundidad\n",
        "parametros['max_depth'] = busca_param(np.arange(6,10), 'max_depth', parametros)\n",
        "print(parametros)"
      ]
    },
    {
      "cell_type": "code",
      "source": [
        "%%time\n",
        "# Subsample\n",
        "parametros['min_child_weight'] = busca_param([1,0.1,10,0.5,0.01], 'min_child_weight', parametros)\n",
        "print(parametros)"
      ],
      "metadata": {
        "id": "f51wb6oANrBg",
        "colab": {
          "base_uri": "https://localhost:8080/",
          "height": 480,
          "referenced_widgets": [
            "6e6cda6fa2234e60bf72863271cbe8ee",
            "fbf60a3f5acb46cca2cbfcf230a917dd",
            "1b0496746fa245f3acad0704ca1f0189",
            "637440a2904447afadb34d8d77f4de59",
            "d8678a8bde014ccea5d716d3c1218ff7",
            "ddd149e60a5546438316d91e46b3a0e5",
            "33aeac027cd945b097e2cc1668b92743",
            "3dce6713e2994d95ae3b6e2a56a9d728",
            "e05af5ed80e441bbbdadb1c102bb0ee5",
            "974de03e40a34ac1a7d42c835fcbdda6",
            "05e0dabb56b24c32aee46646752455db"
          ]
        },
        "outputId": "58166898-1752-4495-d545-a55a376cc64e"
      },
      "execution_count": null,
      "outputs": [
        {
          "output_type": "display_data",
          "data": {
            "text/plain": [
              "  0%|          | 0/5 [00:00<?, ?it/s]"
            ],
            "application/vnd.jupyter.widget-view+json": {
              "version_major": 2,
              "version_minor": 0,
              "model_id": "6e6cda6fa2234e60bf72863271cbe8ee"
            }
          },
          "metadata": {}
        },
        {
          "output_type": "stream",
          "name": "stdout",
          "text": [
            "min_child_weight=1 log_loss_val=0.4588779323706667\n",
            "min_child_weight=0.1 log_loss_val=0.4586348009351462\n",
            "min_child_weight=10 log_loss_val=0.4645508806177758\n",
            "min_child_weight=0.5 log_loss_val=0.4618054372892258\n",
            "min_child_weight=0.01 log_loss_val=0.5089666640450263\n",
            "Mejor min_child_weight=0.1 Score=0.4586348009351462\n",
            "{'learning_rate': 0.2, 'n_estimators': 700, 'max_depth': 7, 'min_child_weight': 0.1, 'subsample': 1.0, 'subsample_freq': 1, 'colsample_bytree': 1.0, 'reg_alpha': 0.0, 'reg_lambda': 0.0}\n",
            "CPU times: user 1h 23min 36s, sys: 23.1 s, total: 1h 23min 59s\n",
            "Wall time: 42min 49s\n"
          ]
        },
        {
          "output_type": "display_data",
          "data": {
            "text/plain": [
              "<Figure size 432x288 with 1 Axes>"
            ],
            "image/png": "[encoded data removed]"
          },
          "metadata": {}
        }
      ]
    },
    {
      "cell_type": "code",
      "execution_count": null,
      "metadata": {
        "outputId": "56da9e21-ebb1-4424-b2aa-19846a8fe847",
        "colab": {
          "referenced_widgets": [
            "43df280eb3c34ddbaa3596c2aaed044e",
            "4ed9d1184eed4427a8a53bf61ead4012",
            "476fff5528164211ae7ab998e2c87f36",
            "25a2d672d082427898c25a6581f0e343",
            "e3981f924063412cb7c8632cecca2c7a",
            "dad39a1932e4413f87903407ab87132a",
            "6c496b3695b349dba7a9780188a6346c",
            "74e3a6d5dbdc4edaa7ec78c138e6a396",
            "dda2b0919e914048a43854b486843cc9",
            "4040ba5120da4c3a94909e0ae8f5c05f",
            "42dd485052534d0ab3002ff0955ba8e7"
          ],
          "base_uri": "https://localhost:8080/",
          "height": 464
        },
        "id": "SNr383hZNf8h"
      },
      "outputs": [
        {
          "output_type": "display_data",
          "data": {
            "text/plain": [
              "  0%|          | 0/4 [00:00<?, ?it/s]"
            ],
            "application/vnd.jupyter.widget-view+json": {
              "version_major": 2,
              "version_minor": 0,
              "model_id": "43df280eb3c34ddbaa3596c2aaed044e"
            }
          },
          "metadata": {}
        },
        {
          "output_type": "stream",
          "name": "stdout",
          "text": [
            "subsample=0.6 log_loss_val=0.456860883431562\n",
            "subsample=0.7 log_loss_val=0.45446158576704876\n",
            "subsample=0.8 log_loss_val=0.4530885232763381\n",
            "subsample=0.9 log_loss_val=0.45298249843410815\n",
            "Mejor subsample=0.9 Score=0.45298249843410815\n",
            "{'learning_rate': 0.2, 'n_estimators': 700, 'max_depth': 7, 'min_child_weight': 0.1, 'subsample': 0.9, 'subsample_freq': 1, 'colsample_bytree': 1.0, 'reg_alpha': 0.0, 'reg_lambda': 0.0}\n",
            "CPU times: user 1h 6min 46s, sys: 20.6 s, total: 1h 7min 7s\n",
            "Wall time: 34min 13s\n"
          ]
        },
        {
          "output_type": "display_data",
          "data": {
            "text/plain": [
              "<Figure size 432x288 with 1 Axes>"
            ],
            "image/png": "[encoded data removed]"
          },
          "metadata": {}
        }
      ],
      "source": [
        "%%time\n",
        "# Subsample\n",
        "parametros['subsample'] = busca_param(np.arange(6,10)/10.0, 'subsample', parametros)\n",
        "print(parametros)"
      ]
    },
    {
      "cell_type": "code",
      "execution_count": null,
      "metadata": {
        "outputId": "17746672-5ebc-4000-c436-312c3ab424a1",
        "colab": {
          "referenced_widgets": [
            "312e0e80f2174549916454310d756cb6",
            "491794353ef7408c8c532abf113730c3",
            "58ed0095c2ff4234afae40af81f8d427",
            "1891498c731d4b1d9682e450272431a0",
            "e6d0285b60a0498a8f388cb982a1f382",
            "db7ed3aa37c14af9a8b75bea9f5e0952",
            "23764052ae56466081394790b99934dd",
            "cc966137a69746c1aba29dd60a17f1cf",
            "c751774189054440aa5d1f60b5577449",
            "ba8a13d0986c4b44b122f46d0ef1e8f6",
            "eede572cfec34f9391f321f4229c832c"
          ],
          "base_uri": "https://localhost:8080/",
          "height": 462
        },
        "id": "FWqxN6QTNf8h"
      },
      "outputs": [
        {
          "output_type": "display_data",
          "data": {
            "text/plain": [
              "  0%|          | 0/4 [00:00<?, ?it/s]"
            ],
            "application/vnd.jupyter.widget-view+json": {
              "version_major": 2,
              "version_minor": 0,
              "model_id": "312e0e80f2174549916454310d756cb6"
            }
          },
          "metadata": {}
        },
        {
          "output_type": "stream",
          "name": "stdout",
          "text": [
            "colsample_bytree=0.4 log_loss_val=0.45467150897931136\n",
            "colsample_bytree=0.5 log_loss_val=0.4528236981003701\n",
            "colsample_bytree=0.6 log_loss_val=0.4564547980419897\n",
            "colsample_bytree=0.7 log_loss_val=0.4525262148624059\n",
            "Mejor colsample_bytree=0.7 Score=0.4525262148624059\n",
            "{'learning_rate': 0.2, 'n_estimators': 700, 'max_depth': 7, 'min_child_weight': 0.1, 'subsample': 0.9, 'subsample_freq': 1, 'colsample_bytree': 0.7, 'reg_alpha': 0.0, 'reg_lambda': 0.0}\n",
            "CPU times: user 46min 39s, sys: 18.3 s, total: 46min 57s\n",
            "Wall time: 23min 58s\n"
          ]
        },
        {
          "output_type": "display_data",
          "data": {
            "text/plain": [
              "<Figure size 432x288 with 1 Axes>"
            ],
            "image/png": "[encoded data removed]"
          },
          "metadata": {}
        }
      ],
      "source": [
        "%%time\n",
        "# Colsample_bytree\n",
        "parametros['colsample_bytree'] = busca_param(np.arange(4,8)/10.0, 'colsample_bytree', parametros)\n",
        "print(parametros)"
      ]
    },
    {
      "cell_type": "code",
      "source": [
        "%%time\n",
        "# Subsample\n",
        "parametros['min_child_weight'] = busca_param([1,0.1,10,0.5,0.01], 'min_child_weight', parametros)\n",
        "print(parametros)"
      ],
      "metadata": {
        "id": "Fa7N_Ng3Qv61",
        "colab": {
          "base_uri": "https://localhost:8080/",
          "height": 483,
          "referenced_widgets": [
            "30a8b6e8b83c4effafc73611bebb5f02",
            "df37f79c8470453aaffc2d4b6ccf4359",
            "29fa0101c72c4f68a4259a145673a971",
            "75cd1d5b69cf4164928162710c5b851a",
            "bb02da0e01a4480e9f0599a49e3e9627",
            "2b7b2d4583b44f3bb1a02b9b0184f8ab",
            "728ca011e3ba4a58b17103b97d80c54d",
            "73a64294d3ab4aee8717620c0fbe74a3",
            "b13ae64fc721499c8613c3f1fe5857ea",
            "48aa379264cf48ff9f93704fdca10b2d",
            "7cf79a1fd312403c839afb94c28ad867"
          ]
        },
        "outputId": "cc06b135-11cb-4a18-aee6-677012eb6feb"
      },
      "execution_count": null,
      "outputs": [
        {
          "output_type": "display_data",
          "data": {
            "text/plain": [
              "  0%|          | 0/5 [00:00<?, ?it/s]"
            ],
            "application/vnd.jupyter.widget-view+json": {
              "version_major": 2,
              "version_minor": 0,
              "model_id": "30a8b6e8b83c4effafc73611bebb5f02"
            }
          },
          "metadata": {}
        },
        {
          "output_type": "stream",
          "name": "stdout",
          "text": [
            "min_child_weight=1 log_loss_val=0.45644874887340753\n",
            "min_child_weight=0.1 log_loss_val=0.4525262148624059\n",
            "min_child_weight=10 log_loss_val=0.4650363432256358\n",
            "min_child_weight=0.5 log_loss_val=0.45238656188832566\n",
            "min_child_weight=0.01 log_loss_val=0.5075479767122903\n",
            "Mejor min_child_weight=0.5 Score=0.45238656188832566\n",
            "{'learning_rate': 0.2, 'n_estimators': 700, 'max_depth': 7, 'min_child_weight': 0.5, 'subsample': 0.9, 'subsample_freq': 1, 'colsample_bytree': 0.7, 'reg_alpha': 0.0, 'reg_lambda': 0.0}\n",
            "CPU times: user 1h 7min 52s, sys: 22.6 s, total: 1h 8min 15s\n",
            "Wall time: 34min 49s\n"
          ]
        },
        {
          "output_type": "display_data",
          "data": {
            "text/plain": [
              "<Figure size 432x288 with 1 Axes>"
            ],
            "image/png": "[encoded data removed]"
          },
          "metadata": {}
        }
      ]
    },
    {
      "cell_type": "code",
      "source": [
        "%%time\n",
        "# Subsample\n",
        "parametros['subsample_freq'] = busca_param([0,1,10,60], 'subsample_freq', parametros)\n",
        "print(parametros)"
      ],
      "metadata": {
        "id": "0V8GkhcMRQdU",
        "colab": {
          "base_uri": "https://localhost:8080/",
          "height": 462,
          "referenced_widgets": [
            "bf9b1c5143874885ab2102934bd18df7",
            "154a46df924e4a6388b76ee4e7f29d95",
            "df3a5da2244e45f889e9ca0a4eb0c74c",
            "341b7bd90c914b8281ed6bad81fb4b3c",
            "1f0ce907b3754c93b8af7b2a14da3c01",
            "385d90f82fe34822a2cc3c5727301fa1",
            "513f05a237314317ac230635aa4f30c5",
            "a90d62c90b534da38a5b5a39cdb42eaa",
            "5c0f31ac571d44c696413f4668f442ad",
            "bb328006bb244ad1a0be546f1d09163d",
            "18cfcccefa03455d96e64b964efbca14"
          ]
        },
        "outputId": "cf8f9279-ea1b-4467-eba3-37912c67d3df"
      },
      "execution_count": null,
      "outputs": [
        {
          "output_type": "display_data",
          "data": {
            "text/plain": [
              "  0%|          | 0/4 [00:00<?, ?it/s]"
            ],
            "application/vnd.jupyter.widget-view+json": {
              "version_major": 2,
              "version_minor": 0,
              "model_id": "bf9b1c5143874885ab2102934bd18df7"
            }
          },
          "metadata": {}
        },
        {
          "output_type": "stream",
          "name": "stdout",
          "text": [
            "subsample_freq=0 log_loss_val=0.45882206659898167\n",
            "subsample_freq=1 log_loss_val=0.45238656188832566\n",
            "subsample_freq=10 log_loss_val=0.4556277753048349\n",
            "subsample_freq=60 log_loss_val=0.4580111725571149\n",
            "Mejor subsample_freq=1 Score=0.45238656188832566\n",
            "{'learning_rate': 0.2, 'n_estimators': 700, 'max_depth': 7, 'min_child_weight': 0.5, 'subsample': 0.9, 'subsample_freq': 1, 'colsample_bytree': 0.7, 'reg_alpha': 0.0, 'reg_lambda': 0.0}\n",
            "CPU times: user 54min 18s, sys: 18.5 s, total: 54min 36s\n",
            "Wall time: 27min 53s\n"
          ]
        },
        {
          "output_type": "display_data",
          "data": {
            "text/plain": [
              "<Figure size 432x288 with 1 Axes>"
            ],
            "image/png": "[encoded data removed]"
          },
          "metadata": {}
        }
      ]
    },
    {
      "cell_type": "code",
      "execution_count": null,
      "metadata": {
        "outputId": "9ba9c29c-6e75-4f53-d674-22b7d467eace",
        "colab": {
          "referenced_widgets": [
            "6f970152e51149e1887208c32b9ec034",
            "21383248cef348758f1835e26ecbc879",
            "62f03b41b4b541aab82ff352a21640de",
            "1085d4781e374df8871729a2a2f03792",
            "16e15a35ac9c4558b97be9e8113fe740",
            "59dfe89a8b334a648d51f4714c8031e7",
            "9f96f525b72248cbbd82ce2e579c8cf9",
            "8112aeecdd5a4a8c92850fb5e33d212b",
            "65d9e2528b4a4c59a80f618babaf94a4",
            "2d11ac85d2474ceebf0e0329d6f6c5e1",
            "333db8814fc5459dbf09f3e4c9684c13"
          ],
          "base_uri": "https://localhost:8080/",
          "height": 462
        },
        "id": "a57VR06iNX22"
      },
      "outputs": [
        {
          "output_type": "display_data",
          "data": {
            "text/plain": [
              "  0%|          | 0/4 [00:00<?, ?it/s]"
            ],
            "application/vnd.jupyter.widget-view+json": {
              "version_major": 2,
              "version_minor": 0,
              "model_id": "6f970152e51149e1887208c32b9ec034"
            }
          },
          "metadata": {}
        },
        {
          "output_type": "stream",
          "name": "stdout",
          "text": [
            "reg_alpha=0.0001 log_loss_val=0.45153827567362126\n",
            "reg_alpha=0.001 log_loss_val=0.45279273769542305\n",
            "reg_alpha=0.01 log_loss_val=0.454922888633581\n",
            "reg_alpha=0.1 log_loss_val=0.4548922077809789\n",
            "Mejor reg_alpha=0.0001 Score=0.45153827567362126\n",
            "{'learning_rate': 0.2, 'n_estimators': 700, 'max_depth': 7, 'min_child_weight': 0.5, 'subsample': 0.9, 'subsample_freq': 1, 'colsample_bytree': 0.7, 'reg_alpha': 0.0001, 'reg_lambda': 0.0}\n",
            "CPU times: user 54min 14s, sys: 19.2 s, total: 54min 33s\n",
            "Wall time: 27min 51s\n"
          ]
        },
        {
          "output_type": "display_data",
          "data": {
            "text/plain": [
              "<Figure size 432x288 with 1 Axes>"
            ],
            "image/png": "[encoded data removed]"
          },
          "metadata": {}
        }
      ],
      "source": [
        "%%time\n",
        "# Probamos con Regularización L1\n",
        "parametros['reg_alpha'] = busca_param([0.0001, 0.001, 0.01, 0.1], 'reg_alpha', parametros)\n",
        "print(parametros)"
      ]
    },
    {
      "cell_type": "code",
      "source": [
        "parametros"
      ],
      "metadata": {
        "id": "z6zvbK2aYvMU",
        "outputId": "23ac90ba-16b1-4908-daee-3321e41523a8",
        "colab": {
          "base_uri": "https://localhost:8080/"
        }
      },
      "execution_count": 11,
      "outputs": [
        {
          "output_type": "execute_result",
          "data": {
            "text/plain": [
              "{'colsample_bytree': 1.0,\n",
              " 'learning_rate': 0.1,\n",
              " 'max_depth': 7,\n",
              " 'min_child_weight': 1,\n",
              " 'n_estimators': 400,\n",
              " 'reg_alpha': 0.0,\n",
              " 'reg_lambda': 0.0,\n",
              " 'subsample': 1.0,\n",
              " 'subsample_freq': 1}"
            ]
          },
          "metadata": {},
          "execution_count": 11
        }
      ]
    },
    {
      "cell_type": "code",
      "source": [
        "parametros = {'colsample_bytree': 0.7,\n",
        " 'learning_rate': 0.2,\n",
        " 'max_depth': 7,\n",
        " 'min_child_weight': 0.5,\n",
        " 'n_estimators': 700,\n",
        " 'reg_alpha': 0.0001,\n",
        " 'reg_lambda': 0.01,\n",
        " 'subsample': 0.9,\n",
        " 'subsample_freq': 1}"
      ],
      "metadata": {
        "id": "ZWRMNtT7ZCum"
      },
      "execution_count": 12,
      "outputs": []
    },
    {
      "cell_type": "code",
      "execution_count": 13,
      "metadata": {
        "outputId": "4681d327-d6b7-4e10-a14a-eb8a238f0d97",
        "colab": {
          "referenced_widgets": [
            "08543351362a4c8e977a282f8eab866e",
            "7278cdc2800e4bfd8ab95eda36107d32",
            "ef55a0ed769840a5b790eaa8ce6e0903",
            "0135317d2a1e4ce2a7b665201a2ef3a7",
            "7e8a6be563e6454e9bc93fbdf90330ea",
            "83af2c356ad54f9cbc6ff1514b6ac3e9",
            "1e5d938e65ff461abe154f9a409d6230",
            "948328cabc9d463196efda45e8b2d7eb",
            "8b196c97d8b146aaa590a0a1161a9495",
            "cc2eef3429ba4e44b317b54a04077b5c",
            "f0eb14019ac14e448e550dd918aa3b2e"
          ],
          "base_uri": "https://localhost:8080/",
          "height": 462
        },
        "id": "TNQIvAOcNX23"
      },
      "outputs": [
        {
          "output_type": "display_data",
          "data": {
            "text/plain": [
              "  0%|          | 0/4 [00:00<?, ?it/s]"
            ],
            "application/vnd.jupyter.widget-view+json": {
              "version_major": 2,
              "version_minor": 0,
              "model_id": "08543351362a4c8e977a282f8eab866e"
            }
          },
          "metadata": {}
        },
        {
          "output_type": "stream",
          "name": "stdout",
          "text": [
            "reg_lambda=0.01 log_loss_val=0.4530094674060761\n",
            "reg_lambda=0.1 log_loss_val=0.45309048377300715\n",
            "reg_lambda=1.0 log_loss_val=0.45417446050877797\n",
            "reg_lambda=5 log_loss_val=0.45557239345676237\n",
            "Mejor reg_lambda=0.01 Score=0.4530094674060761\n",
            "{'colsample_bytree': 0.7, 'learning_rate': 0.2, 'max_depth': 7, 'min_child_weight': 0.5, 'n_estimators': 700, 'reg_alpha': 0.0001, 'reg_lambda': 0.01, 'subsample': 0.9, 'subsample_freq': 1}\n",
            "CPU times: user 57min 14s, sys: 17.6 s, total: 57min 32s\n",
            "Wall time: 29min 21s\n"
          ]
        },
        {
          "output_type": "display_data",
          "data": {
            "text/plain": [
              "<Figure size 432x288 with 1 Axes>"
            ],
            "image/png": "[encoded data removed]"
          },
          "metadata": {}
        }
      ],
      "source": [
        "%%time\n",
        "# Probamos con Regularización L2\n",
        "parametros['reg_lambda'] = busca_param([0.01, 0.1, 1.0, 5], 'reg_lambda', parametros)\n",
        "print(parametros)"
      ]
    },
    {
      "cell_type": "markdown",
      "source": [
        "Submission a kaggle"
      ],
      "metadata": {
        "id": "GEK1YJEwRkyN"
      }
    },
    {
      "cell_type": "code",
      "source": [
        "%%time\n",
        "lgb_model = LGBMClassifier(learning_rate =0.2, n_estimators=700, max_depth=7, \n",
        "                          subsample=0.9, colsample_bytree=0.7, nthread=4,\n",
        "                          reg_alpha=0.0001, reg_lambda=0.01,subsample_freq= 1, min_child_weight=0.5,\n",
        "                          seed=42, objective='multi:softprob')\n",
        "log_loss_val = entrena_model_hold_out(lgb_model, calibra=True)\n",
        "print(f'Best LGB con local log_loss_val={log_loss_val}')"
      ],
      "metadata": {
        "id": "UzwF9cElRkU2",
        "outputId": "05dfdcb6-e2d1-4bc4-89da-b02c672ff2b9",
        "colab": {
          "base_uri": "https://localhost:8080/"
        }
      },
      "execution_count": 17,
      "outputs": [
        {
          "output_type": "stream",
          "name": "stdout",
          "text": [
            "Best LGB con local log_loss_val=0.45571882393936447\n",
            "CPU times: user 14min 27s, sys: 4.35 s, total: 14min 31s\n",
            "Wall time: 7min 32s\n"
          ]
        }
      ]
    },
    {
      "cell_type": "code",
      "source": [
        "%%time\n",
        "# Creamos submission\n",
        "calibrated_clf = CalibratedClassifierCV(lgb_model, method='isotonic', cv=5)\n",
        "calibrated_clf.fit(X, y)\n",
        "test_preds = calibrated_clf.predict_proba(X_test_scaled)\n",
        "\n",
        "output = pd.DataFrame(test_preds,columns=[\"Class_\"+str(i) for i in range(1,10)])\n",
        "output.insert(loc=0, column='id', value=df_test.id)\n",
        "output.to_csv('submission_lgb.csv', index=False)\n",
        "pd.read_csv('submission_lgb.csv').head()"
      ],
      "metadata": {
        "id": "oKJ5krc2Rrv1",
        "outputId": "2ae7cf42-127e-4892-8ebd-68356b23ce1e",
        "colab": {
          "base_uri": "https://localhost:8080/"
        }
      },
      "execution_count": 19,
      "outputs": [
        {
          "output_type": "stream",
          "name": "stdout",
          "text": [
            "CPU times: user 25min 35s, sys: 5.55 s, total: 25min 41s\n",
            "Wall time: 13min 19s\n"
          ]
        }
      ]
    },
    {
      "cell_type": "markdown",
      "metadata": {
        "id": "TdqZpKl266Cp"
      },
      "source": [
        "## ENTREGA"
      ]
    },
    {
      "cell_type": "markdown",
      "metadata": {
        "id": "VsA4E8CJ66Cp"
      },
      "source": [
        "**Todos los pasos realizados deberán ser explicados con detalle en un documento PDF. El nombre del archivo deberá incluir lo siguiente 'PROYECTO3_NombreDelAlumnoSinAcentos.PDF'. Ejemplo: PROYECTO3_PEPITO_PEREZ.PDF**\n",
        "\n",
        "Si usas Colab, recuerde guardar sus cambios en su repositorio utilizando la opción \"Save a copy in GitHub...\" del menú File."
      ]
    },
    {
      "cell_type": "code",
      "execution_count": null,
      "metadata": {
        "id": "6naAETca66Cq"
      },
      "outputs": [],
      "source": [
        ""
      ]
    }
  ],
  "metadata": {
    "kernelspec": {
      "display_name": "Python 3 (ipykernel)",
      "language": "python",
      "name": "python3"
    },
    "language_info": {
      "codemirror_mode": {
        "name": "ipython",
        "version": 3
      },
      "file_extension": ".py",
      "mimetype": "text/x-python",
      "name": "python",
      "nbconvert_exporter": "python",
      "pygments_lexer": "ipython3",
      "version": "3.9.7"
    },
    "toc": {
      "base_numbering": 1,
      "nav_menu": {},
      "number_sections": true,
      "sideBar": true,
      "skip_h1_title": false,
      "title_cell": "Table of Contents",
      "title_sidebar": "Contents",
      "toc_cell": false,
      "toc_position": {},
      "toc_section_display": true,
      "toc_window_display": false
    },
    "varInspector": {
      "cols": {
        "lenName": 16,
        "lenType": 16,
        "lenVar": 40
      },
      "kernels_config": {
        "python": {
          "delete_cmd_postfix": "",
          "delete_cmd_prefix": "del ",
          "library": "var_list.py",
          "varRefreshCmd": "print(var_dic_list())"
        },
        "r": {
          "delete_cmd_postfix": ") ",
          "delete_cmd_prefix": "rm(",
          "library": "var_list.r",
          "varRefreshCmd": "cat(var_dic_list()) "
        }
      },
      "types_to_exclude": [
        "module",
        "function",
        "builtin_function_or_method",
        "instance",
        "_Feature"
      ],
      "window_display": false
    },
    "colab": {
      "name": "Proyecto_3_3_Ajuste_de_Hiperparámetros_Modelos_Multiclase.ipynb",
      "provenance": [],
      "include_colab_link": true
    },
    "widgets": {
      "application/vnd.jupyter.widget-state+json": {
        "2222b0f60dc141f790042e182832a4af": {
          "model_module": "@jupyter-widgets/controls",
          "model_name": "HBoxModel",
          "model_module_version": "1.5.0",
          "state": {
            "_dom_classes": [],
            "_model_module": "@jupyter-widgets/controls",
            "_model_module_version": "1.5.0",
            "_model_name": "HBoxModel",
            "_view_count": null,
            "_view_module": "@jupyter-widgets/controls",
            "_view_module_version": "1.5.0",
            "_view_name": "HBoxView",
            "box_style": "",
            "children": [
              "IPY_MODEL_aa474f462d984587a2b0d2708a7e9fb3",
              "IPY_MODEL_124dceed093e4062b4484d4438dd63d9",
              "IPY_MODEL_81fec606fd754cf19d86fdc6f2d6a13c"
            ],
            "layout": "IPY_MODEL_2d963006601346929b01223c25adb135"
          }
        },
        "aa474f462d984587a2b0d2708a7e9fb3": {
          "model_module": "@jupyter-widgets/controls",
          "model_name": "HTMLModel",
          "model_module_version": "1.5.0",
          "state": {
            "_dom_classes": [],
            "_model_module": "@jupyter-widgets/controls",
            "_model_module_version": "1.5.0",
            "_model_name": "HTMLModel",
            "_view_count": null,
            "_view_module": "@jupyter-widgets/controls",
            "_view_module_version": "1.5.0",
            "_view_name": "HTMLView",
            "description": "",
            "description_tooltip": null,
            "layout": "IPY_MODEL_867f0648b9d74bc3a77849922d2d7aec",
            "placeholder": "​",
            "style": "IPY_MODEL_24766958c2234b17a066bfa7ccd9d563",
            "value": "100%"
          }
        },
        "124dceed093e4062b4484d4438dd63d9": {
          "model_module": "@jupyter-widgets/controls",
          "model_name": "FloatProgressModel",
          "model_module_version": "1.5.0",
          "state": {
            "_dom_classes": [],
            "_model_module": "@jupyter-widgets/controls",
            "_model_module_version": "1.5.0",
            "_model_name": "FloatProgressModel",
            "_view_count": null,
            "_view_module": "@jupyter-widgets/controls",
            "_view_module_version": "1.5.0",
            "_view_name": "ProgressView",
            "bar_style": "success",
            "description": "",
            "description_tooltip": null,
            "layout": "IPY_MODEL_868eb4adc2cd47ac94ec3bbdb135b009",
            "max": 4,
            "min": 0,
            "orientation": "horizontal",
            "style": "IPY_MODEL_3c0c5b02159341168fc3793924a7395b",
            "value": 4
          }
        },
        "81fec606fd754cf19d86fdc6f2d6a13c": {
          "model_module": "@jupyter-widgets/controls",
          "model_name": "HTMLModel",
          "model_module_version": "1.5.0",
          "state": {
            "_dom_classes": [],
            "_model_module": "@jupyter-widgets/controls",
            "_model_module_version": "1.5.0",
            "_model_name": "HTMLModel",
            "_view_count": null,
            "_view_module": "@jupyter-widgets/controls",
            "_view_module_version": "1.5.0",
            "_view_name": "HTMLView",
            "description": "",
            "description_tooltip": null,
            "layout": "IPY_MODEL_1a8ecbbc982d4f5faf1ee29d22b47970",
            "placeholder": "​",
            "style": "IPY_MODEL_8824313d5d10485b80b9fc9209d84a9f",
            "value": " 4/4 [20:14&lt;00:00, 300.15s/it]"
          }
        },
        "2d963006601346929b01223c25adb135": {
          "model_module": "@jupyter-widgets/base",
          "model_name": "LayoutModel",
          "model_module_version": "1.2.0",
          "state": {
            "_model_module": "@jupyter-widgets/base",
            "_model_module_version": "1.2.0",
            "_model_name": "LayoutModel",
            "_view_count": null,
            "_view_module": "@jupyter-widgets/base",
            "_view_module_version": "1.2.0",
            "_view_name": "LayoutView",
            "align_content": null,
            "align_items": null,
            "align_self": null,
            "border": null,
            "bottom": null,
            "display": null,
            "flex": null,
            "flex_flow": null,
            "grid_area": null,
            "grid_auto_columns": null,
            "grid_auto_flow": null,
            "grid_auto_rows": null,
            "grid_column": null,
            "grid_gap": null,
            "grid_row": null,
            "grid_template_areas": null,
            "grid_template_columns": null,
            "grid_template_rows": null,
            "height": null,
            "justify_content": null,
            "justify_items": null,
            "left": null,
            "margin": null,
            "max_height": null,
            "max_width": null,
            "min_height": null,
            "min_width": null,
            "object_fit": null,
            "object_position": null,
            "order": null,
            "overflow": null,
            "overflow_x": null,
            "overflow_y": null,
            "padding": null,
            "right": null,
            "top": null,
            "visibility": null,
            "width": null
          }
        },
        "867f0648b9d74bc3a77849922d2d7aec": {
          "model_module": "@jupyter-widgets/base",
          "model_name": "LayoutModel",
          "model_module_version": "1.2.0",
          "state": {
            "_model_module": "@jupyter-widgets/base",
            "_model_module_version": "1.2.0",
            "_model_name": "LayoutModel",
            "_view_count": null,
            "_view_module": "@jupyter-widgets/base",
            "_view_module_version": "1.2.0",
            "_view_name": "LayoutView",
            "align_content": null,
            "align_items": null,
            "align_self": null,
            "border": null,
            "bottom": null,
            "display": null,
            "flex": null,
            "flex_flow": null,
            "grid_area": null,
            "grid_auto_columns": null,
            "grid_auto_flow": null,
            "grid_auto_rows": null,
            "grid_column": null,
            "grid_gap": null,
            "grid_row": null,
            "grid_template_areas": null,
            "grid_template_columns": null,
            "grid_template_rows": null,
            "height": null,
            "justify_content": null,
            "justify_items": null,
            "left": null,
            "margin": null,
            "max_height": null,
            "max_width": null,
            "min_height": null,
            "min_width": null,
            "object_fit": null,
            "object_position": null,
            "order": null,
            "overflow": null,
            "overflow_x": null,
            "overflow_y": null,
            "padding": null,
            "right": null,
            "top": null,
            "visibility": null,
            "width": null
          }
        },
        "24766958c2234b17a066bfa7ccd9d563": {
          "model_module": "@jupyter-widgets/controls",
          "model_name": "DescriptionStyleModel",
          "model_module_version": "1.5.0",
          "state": {
            "_model_module": "@jupyter-widgets/controls",
            "_model_module_version": "1.5.0",
            "_model_name": "DescriptionStyleModel",
            "_view_count": null,
            "_view_module": "@jupyter-widgets/base",
            "_view_module_version": "1.2.0",
            "_view_name": "StyleView",
            "description_width": ""
          }
        },
        "868eb4adc2cd47ac94ec3bbdb135b009": {
          "model_module": "@jupyter-widgets/base",
          "model_name": "LayoutModel",
          "model_module_version": "1.2.0",
          "state": {
            "_model_module": "@jupyter-widgets/base",
            "_model_module_version": "1.2.0",
            "_model_name": "LayoutModel",
            "_view_count": null,
            "_view_module": "@jupyter-widgets/base",
            "_view_module_version": "1.2.0",
            "_view_name": "LayoutView",
            "align_content": null,
            "align_items": null,
            "align_self": null,
            "border": null,
            "bottom": null,
            "display": null,
            "flex": null,
            "flex_flow": null,
            "grid_area": null,
            "grid_auto_columns": null,
            "grid_auto_flow": null,
            "grid_auto_rows": null,
            "grid_column": null,
            "grid_gap": null,
            "grid_row": null,
            "grid_template_areas": null,
            "grid_template_columns": null,
            "grid_template_rows": null,
            "height": null,
            "justify_content": null,
            "justify_items": null,
            "left": null,
            "margin": null,
            "max_height": null,
            "max_width": null,
            "min_height": null,
            "min_width": null,
            "object_fit": null,
            "object_position": null,
            "order": null,
            "overflow": null,
            "overflow_x": null,
            "overflow_y": null,
            "padding": null,
            "right": null,
            "top": null,
            "visibility": null,
            "width": null
          }
        },
        "3c0c5b02159341168fc3793924a7395b": {
          "model_module": "@jupyter-widgets/controls",
          "model_name": "ProgressStyleModel",
          "model_module_version": "1.5.0",
          "state": {
            "_model_module": "@jupyter-widgets/controls",
            "_model_module_version": "1.5.0",
            "_model_name": "ProgressStyleModel",
            "_view_count": null,
            "_view_module": "@jupyter-widgets/base",
            "_view_module_version": "1.2.0",
            "_view_name": "StyleView",
            "bar_color": null,
            "description_width": ""
          }
        },
        "1a8ecbbc982d4f5faf1ee29d22b47970": {
          "model_module": "@jupyter-widgets/base",
          "model_name": "LayoutModel",
          "model_module_version": "1.2.0",
          "state": {
            "_model_module": "@jupyter-widgets/base",
            "_model_module_version": "1.2.0",
            "_model_name": "LayoutModel",
            "_view_count": null,
            "_view_module": "@jupyter-widgets/base",
            "_view_module_version": "1.2.0",
            "_view_name": "LayoutView",
            "align_content": null,
            "align_items": null,
            "align_self": null,
            "border": null,
            "bottom": null,
            "display": null,
            "flex": null,
            "flex_flow": null,
            "grid_area": null,
            "grid_auto_columns": null,
            "grid_auto_flow": null,
            "grid_auto_rows": null,
            "grid_column": null,
            "grid_gap": null,
            "grid_row": null,
            "grid_template_areas": null,
            "grid_template_columns": null,
            "grid_template_rows": null,
            "height": null,
            "justify_content": null,
            "justify_items": null,
            "left": null,
            "margin": null,
            "max_height": null,
            "max_width": null,
            "min_height": null,
            "min_width": null,
            "object_fit": null,
            "object_position": null,
            "order": null,
            "overflow": null,
            "overflow_x": null,
            "overflow_y": null,
            "padding": null,
            "right": null,
            "top": null,
            "visibility": null,
            "width": null
          }
        },
        "8824313d5d10485b80b9fc9209d84a9f": {
          "model_module": "@jupyter-widgets/controls",
          "model_name": "DescriptionStyleModel",
          "model_module_version": "1.5.0",
          "state": {
            "_model_module": "@jupyter-widgets/controls",
            "_model_module_version": "1.5.0",
            "_model_name": "DescriptionStyleModel",
            "_view_count": null,
            "_view_module": "@jupyter-widgets/base",
            "_view_module_version": "1.2.0",
            "_view_name": "StyleView",
            "description_width": ""
          }
        },
        "658aa66b73b94cdd9c0e690ea96b007b": {
          "model_module": "@jupyter-widgets/controls",
          "model_name": "HBoxModel",
          "model_module_version": "1.5.0",
          "state": {
            "_dom_classes": [],
            "_model_module": "@jupyter-widgets/controls",
            "_model_module_version": "1.5.0",
            "_model_name": "HBoxModel",
            "_view_count": null,
            "_view_module": "@jupyter-widgets/controls",
            "_view_module_version": "1.5.0",
            "_view_name": "HBoxView",
            "box_style": "",
            "children": [
              "IPY_MODEL_581b8d532b13470496dc01739a18293f",
              "IPY_MODEL_70cbaa9eefbf4e0391dd98e69e889aa4",
              "IPY_MODEL_0c327d143fbf4f27bf60a58ac3eea6e4"
            ],
            "layout": "IPY_MODEL_150992bccaf54ec6bc1b8c448446a34b"
          }
        },
        "581b8d532b13470496dc01739a18293f": {
          "model_module": "@jupyter-widgets/controls",
          "model_name": "HTMLModel",
          "model_module_version": "1.5.0",
          "state": {
            "_dom_classes": [],
            "_model_module": "@jupyter-widgets/controls",
            "_model_module_version": "1.5.0",
            "_model_name": "HTMLModel",
            "_view_count": null,
            "_view_module": "@jupyter-widgets/controls",
            "_view_module_version": "1.5.0",
            "_view_name": "HTMLView",
            "description": "",
            "description_tooltip": null,
            "layout": "IPY_MODEL_2a00d6158e6f49189357451de673bf2f",
            "placeholder": "​",
            "style": "IPY_MODEL_90b26926853348659f5650ac9818428c",
            "value": "100%"
          }
        },
        "70cbaa9eefbf4e0391dd98e69e889aa4": {
          "model_module": "@jupyter-widgets/controls",
          "model_name": "FloatProgressModel",
          "model_module_version": "1.5.0",
          "state": {
            "_dom_classes": [],
            "_model_module": "@jupyter-widgets/controls",
            "_model_module_version": "1.5.0",
            "_model_name": "FloatProgressModel",
            "_view_count": null,
            "_view_module": "@jupyter-widgets/controls",
            "_view_module_version": "1.5.0",
            "_view_name": "ProgressView",
            "bar_style": "success",
            "description": "",
            "description_tooltip": null,
            "layout": "IPY_MODEL_a0210aaf2b27457eb7ffa02cf9c218b5",
            "max": 3,
            "min": 0,
            "orientation": "horizontal",
            "style": "IPY_MODEL_65745ffc4837420890268777c65882fc",
            "value": 3
          }
        },
        "0c327d143fbf4f27bf60a58ac3eea6e4": {
          "model_module": "@jupyter-widgets/controls",
          "model_name": "HTMLModel",
          "model_module_version": "1.5.0",
          "state": {
            "_dom_classes": [],
            "_model_module": "@jupyter-widgets/controls",
            "_model_module_version": "1.5.0",
            "_model_name": "HTMLModel",
            "_view_count": null,
            "_view_module": "@jupyter-widgets/controls",
            "_view_module_version": "1.5.0",
            "_view_name": "HTMLView",
            "description": "",
            "description_tooltip": null,
            "layout": "IPY_MODEL_e1c237c047a74d7f9d10e3902b7961b9",
            "placeholder": "​",
            "style": "IPY_MODEL_a4b0509eba7e4736a80de5a68a0c148b",
            "value": " 3/3 [28:46&lt;00:00, 589.11s/it]"
          }
        },
        "150992bccaf54ec6bc1b8c448446a34b": {
          "model_module": "@jupyter-widgets/base",
          "model_name": "LayoutModel",
          "model_module_version": "1.2.0",
          "state": {
            "_model_module": "@jupyter-widgets/base",
            "_model_module_version": "1.2.0",
            "_model_name": "LayoutModel",
            "_view_count": null,
            "_view_module": "@jupyter-widgets/base",
            "_view_module_version": "1.2.0",
            "_view_name": "LayoutView",
            "align_content": null,
            "align_items": null,
            "align_self": null,
            "border": null,
            "bottom": null,
            "display": null,
            "flex": null,
            "flex_flow": null,
            "grid_area": null,
            "grid_auto_columns": null,
            "grid_auto_flow": null,
            "grid_auto_rows": null,
            "grid_column": null,
            "grid_gap": null,
            "grid_row": null,
            "grid_template_areas": null,
            "grid_template_columns": null,
            "grid_template_rows": null,
            "height": null,
            "justify_content": null,
            "justify_items": null,
            "left": null,
            "margin": null,
            "max_height": null,
            "max_width": null,
            "min_height": null,
            "min_width": null,
            "object_fit": null,
            "object_position": null,
            "order": null,
            "overflow": null,
            "overflow_x": null,
            "overflow_y": null,
            "padding": null,
            "right": null,
            "top": null,
            "visibility": null,
            "width": null
          }
        },
        "2a00d6158e6f49189357451de673bf2f": {
          "model_module": "@jupyter-widgets/base",
          "model_name": "LayoutModel",
          "model_module_version": "1.2.0",
          "state": {
            "_model_module": "@jupyter-widgets/base",
            "_model_module_version": "1.2.0",
            "_model_name": "LayoutModel",
            "_view_count": null,
            "_view_module": "@jupyter-widgets/base",
            "_view_module_version": "1.2.0",
            "_view_name": "LayoutView",
            "align_content": null,
            "align_items": null,
            "align_self": null,
            "border": null,
            "bottom": null,
            "display": null,
            "flex": null,
            "flex_flow": null,
            "grid_area": null,
            "grid_auto_columns": null,
            "grid_auto_flow": null,
            "grid_auto_rows": null,
            "grid_column": null,
            "grid_gap": null,
            "grid_row": null,
            "grid_template_areas": null,
            "grid_template_columns": null,
            "grid_template_rows": null,
            "height": null,
            "justify_content": null,
            "justify_items": null,
            "left": null,
            "margin": null,
            "max_height": null,
            "max_width": null,
            "min_height": null,
            "min_width": null,
            "object_fit": null,
            "object_position": null,
            "order": null,
            "overflow": null,
            "overflow_x": null,
            "overflow_y": null,
            "padding": null,
            "right": null,
            "top": null,
            "visibility": null,
            "width": null
          }
        },
        "90b26926853348659f5650ac9818428c": {
          "model_module": "@jupyter-widgets/controls",
          "model_name": "DescriptionStyleModel",
          "model_module_version": "1.5.0",
          "state": {
            "_model_module": "@jupyter-widgets/controls",
            "_model_module_version": "1.5.0",
            "_model_name": "DescriptionStyleModel",
            "_view_count": null,
            "_view_module": "@jupyter-widgets/base",
            "_view_module_version": "1.2.0",
            "_view_name": "StyleView",
            "description_width": ""
          }
        },
        "a0210aaf2b27457eb7ffa02cf9c218b5": {
          "model_module": "@jupyter-widgets/base",
          "model_name": "LayoutModel",
          "model_module_version": "1.2.0",
          "state": {
            "_model_module": "@jupyter-widgets/base",
            "_model_module_version": "1.2.0",
            "_model_name": "LayoutModel",
            "_view_count": null,
            "_view_module": "@jupyter-widgets/base",
            "_view_module_version": "1.2.0",
            "_view_name": "LayoutView",
            "align_content": null,
            "align_items": null,
            "align_self": null,
            "border": null,
            "bottom": null,
            "display": null,
            "flex": null,
            "flex_flow": null,
            "grid_area": null,
            "grid_auto_columns": null,
            "grid_auto_flow": null,
            "grid_auto_rows": null,
            "grid_column": null,
            "grid_gap": null,
            "grid_row": null,
            "grid_template_areas": null,
            "grid_template_columns": null,
            "grid_template_rows": null,
            "height": null,
            "justify_content": null,
            "justify_items": null,
            "left": null,
            "margin": null,
            "max_height": null,
            "max_width": null,
            "min_height": null,
            "min_width": null,
            "object_fit": null,
            "object_position": null,
            "order": null,
            "overflow": null,
            "overflow_x": null,
            "overflow_y": null,
            "padding": null,
            "right": null,
            "top": null,
            "visibility": null,
            "width": null
          }
        },
        "65745ffc4837420890268777c65882fc": {
          "model_module": "@jupyter-widgets/controls",
          "model_name": "ProgressStyleModel",
          "model_module_version": "1.5.0",
          "state": {
            "_model_module": "@jupyter-widgets/controls",
            "_model_module_version": "1.5.0",
            "_model_name": "ProgressStyleModel",
            "_view_count": null,
            "_view_module": "@jupyter-widgets/base",
            "_view_module_version": "1.2.0",
            "_view_name": "StyleView",
            "bar_color": null,
            "description_width": ""
          }
        },
        "e1c237c047a74d7f9d10e3902b7961b9": {
          "model_module": "@jupyter-widgets/base",
          "model_name": "LayoutModel",
          "model_module_version": "1.2.0",
          "state": {
            "_model_module": "@jupyter-widgets/base",
            "_model_module_version": "1.2.0",
            "_model_name": "LayoutModel",
            "_view_count": null,
            "_view_module": "@jupyter-widgets/base",
            "_view_module_version": "1.2.0",
            "_view_name": "LayoutView",
            "align_content": null,
            "align_items": null,
            "align_self": null,
            "border": null,
            "bottom": null,
            "display": null,
            "flex": null,
            "flex_flow": null,
            "grid_area": null,
            "grid_auto_columns": null,
            "grid_auto_flow": null,
            "grid_auto_rows": null,
            "grid_column": null,
            "grid_gap": null,
            "grid_row": null,
            "grid_template_areas": null,
            "grid_template_columns": null,
            "grid_template_rows": null,
            "height": null,
            "justify_content": null,
            "justify_items": null,
            "left": null,
            "margin": null,
            "max_height": null,
            "max_width": null,
            "min_height": null,
            "min_width": null,
            "object_fit": null,
            "object_position": null,
            "order": null,
            "overflow": null,
            "overflow_x": null,
            "overflow_y": null,
            "padding": null,
            "right": null,
            "top": null,
            "visibility": null,
            "width": null
          }
        },
        "a4b0509eba7e4736a80de5a68a0c148b": {
          "model_module": "@jupyter-widgets/controls",
          "model_name": "DescriptionStyleModel",
          "model_module_version": "1.5.0",
          "state": {
            "_model_module": "@jupyter-widgets/controls",
            "_model_module_version": "1.5.0",
            "_model_name": "DescriptionStyleModel",
            "_view_count": null,
            "_view_module": "@jupyter-widgets/base",
            "_view_module_version": "1.2.0",
            "_view_name": "StyleView",
            "description_width": ""
          }
        },
        "817b0b1411374359b78498f3fe863b00": {
          "model_module": "@jupyter-widgets/controls",
          "model_name": "HBoxModel",
          "model_module_version": "1.5.0",
          "state": {
            "_dom_classes": [],
            "_model_module": "@jupyter-widgets/controls",
            "_model_module_version": "1.5.0",
            "_model_name": "HBoxModel",
            "_view_count": null,
            "_view_module": "@jupyter-widgets/controls",
            "_view_module_version": "1.5.0",
            "_view_name": "HBoxView",
            "box_style": "",
            "children": [
              "IPY_MODEL_c08940c234394f9faa820010e6bee5a1",
              "IPY_MODEL_1d949516c48741858bccf4d12e3d3f6e",
              "IPY_MODEL_d99d5e82b9be44feb2571de2957217b6"
            ],
            "layout": "IPY_MODEL_2e567ce68fec4b7cbe83686e8db26d99"
          }
        },
        "c08940c234394f9faa820010e6bee5a1": {
          "model_module": "@jupyter-widgets/controls",
          "model_name": "HTMLModel",
          "model_module_version": "1.5.0",
          "state": {
            "_dom_classes": [],
            "_model_module": "@jupyter-widgets/controls",
            "_model_module_version": "1.5.0",
            "_model_name": "HTMLModel",
            "_view_count": null,
            "_view_module": "@jupyter-widgets/controls",
            "_view_module_version": "1.5.0",
            "_view_name": "HTMLView",
            "description": "",
            "description_tooltip": null,
            "layout": "IPY_MODEL_45365f74e2b1424eb1351b212711b9dd",
            "placeholder": "​",
            "style": "IPY_MODEL_4e4a1d3193184afb823fe4d80b926e0c",
            "value": "100%"
          }
        },
        "1d949516c48741858bccf4d12e3d3f6e": {
          "model_module": "@jupyter-widgets/controls",
          "model_name": "FloatProgressModel",
          "model_module_version": "1.5.0",
          "state": {
            "_dom_classes": [],
            "_model_module": "@jupyter-widgets/controls",
            "_model_module_version": "1.5.0",
            "_model_name": "FloatProgressModel",
            "_view_count": null,
            "_view_module": "@jupyter-widgets/controls",
            "_view_module_version": "1.5.0",
            "_view_name": "ProgressView",
            "bar_style": "success",
            "description": "",
            "description_tooltip": null,
            "layout": "IPY_MODEL_01adc71b383742bca7879311696b7a07",
            "max": 4,
            "min": 0,
            "orientation": "horizontal",
            "style": "IPY_MODEL_e6f0fd17d7d44f2ca4d1a944ea75e551",
            "value": 4
          }
        },
        "d99d5e82b9be44feb2571de2957217b6": {
          "model_module": "@jupyter-widgets/controls",
          "model_name": "HTMLModel",
          "model_module_version": "1.5.0",
          "state": {
            "_dom_classes": [],
            "_model_module": "@jupyter-widgets/controls",
            "_model_module_version": "1.5.0",
            "_model_name": "HTMLModel",
            "_view_count": null,
            "_view_module": "@jupyter-widgets/controls",
            "_view_module_version": "1.5.0",
            "_view_name": "HTMLView",
            "description": "",
            "description_tooltip": null,
            "layout": "IPY_MODEL_51329b9f27c74eeda2e3138e35c9827a",
            "placeholder": "​",
            "style": "IPY_MODEL_b25d7ec9061343a19b6c1e82132c99c4",
            "value": " 4/4 [34:07&lt;00:00, 518.69s/it]"
          }
        },
        "2e567ce68fec4b7cbe83686e8db26d99": {
          "model_module": "@jupyter-widgets/base",
          "model_name": "LayoutModel",
          "model_module_version": "1.2.0",
          "state": {
            "_model_module": "@jupyter-widgets/base",
            "_model_module_version": "1.2.0",
            "_model_name": "LayoutModel",
            "_view_count": null,
            "_view_module": "@jupyter-widgets/base",
            "_view_module_version": "1.2.0",
            "_view_name": "LayoutView",
            "align_content": null,
            "align_items": null,
            "align_self": null,
            "border": null,
            "bottom": null,
            "display": null,
            "flex": null,
            "flex_flow": null,
            "grid_area": null,
            "grid_auto_columns": null,
            "grid_auto_flow": null,
            "grid_auto_rows": null,
            "grid_column": null,
            "grid_gap": null,
            "grid_row": null,
            "grid_template_areas": null,
            "grid_template_columns": null,
            "grid_template_rows": null,
            "height": null,
            "justify_content": null,
            "justify_items": null,
            "left": null,
            "margin": null,
            "max_height": null,
            "max_width": null,
            "min_height": null,
            "min_width": null,
            "object_fit": null,
            "object_position": null,
            "order": null,
            "overflow": null,
            "overflow_x": null,
            "overflow_y": null,
            "padding": null,
            "right": null,
            "top": null,
            "visibility": null,
            "width": null
          }
        },
        "45365f74e2b1424eb1351b212711b9dd": {
          "model_module": "@jupyter-widgets/base",
          "model_name": "LayoutModel",
          "model_module_version": "1.2.0",
          "state": {
            "_model_module": "@jupyter-widgets/base",
            "_model_module_version": "1.2.0",
            "_model_name": "LayoutModel",
            "_view_count": null,
            "_view_module": "@jupyter-widgets/base",
            "_view_module_version": "1.2.0",
            "_view_name": "LayoutView",
            "align_content": null,
            "align_items": null,
            "align_self": null,
            "border": null,
            "bottom": null,
            "display": null,
            "flex": null,
            "flex_flow": null,
            "grid_area": null,
            "grid_auto_columns": null,
            "grid_auto_flow": null,
            "grid_auto_rows": null,
            "grid_column": null,
            "grid_gap": null,
            "grid_row": null,
            "grid_template_areas": null,
            "grid_template_columns": null,
            "grid_template_rows": null,
            "height": null,
            "justify_content": null,
            "justify_items": null,
            "left": null,
            "margin": null,
            "max_height": null,
            "max_width": null,
            "min_height": null,
            "min_width": null,
            "object_fit": null,
            "object_position": null,
            "order": null,
            "overflow": null,
            "overflow_x": null,
            "overflow_y": null,
            "padding": null,
            "right": null,
            "top": null,
            "visibility": null,
            "width": null
          }
        },
        "4e4a1d3193184afb823fe4d80b926e0c": {
          "model_module": "@jupyter-widgets/controls",
          "model_name": "DescriptionStyleModel",
          "model_module_version": "1.5.0",
          "state": {
            "_model_module": "@jupyter-widgets/controls",
            "_model_module_version": "1.5.0",
            "_model_name": "DescriptionStyleModel",
            "_view_count": null,
            "_view_module": "@jupyter-widgets/base",
            "_view_module_version": "1.2.0",
            "_view_name": "StyleView",
            "description_width": ""
          }
        },
        "01adc71b383742bca7879311696b7a07": {
          "model_module": "@jupyter-widgets/base",
          "model_name": "LayoutModel",
          "model_module_version": "1.2.0",
          "state": {
            "_model_module": "@jupyter-widgets/base",
            "_model_module_version": "1.2.0",
            "_model_name": "LayoutModel",
            "_view_count": null,
            "_view_module": "@jupyter-widgets/base",
            "_view_module_version": "1.2.0",
            "_view_name": "LayoutView",
            "align_content": null,
            "align_items": null,
            "align_self": null,
            "border": null,
            "bottom": null,
            "display": null,
            "flex": null,
            "flex_flow": null,
            "grid_area": null,
            "grid_auto_columns": null,
            "grid_auto_flow": null,
            "grid_auto_rows": null,
            "grid_column": null,
            "grid_gap": null,
            "grid_row": null,
            "grid_template_areas": null,
            "grid_template_columns": null,
            "grid_template_rows": null,
            "height": null,
            "justify_content": null,
            "justify_items": null,
            "left": null,
            "margin": null,
            "max_height": null,
            "max_width": null,
            "min_height": null,
            "min_width": null,
            "object_fit": null,
            "object_position": null,
            "order": null,
            "overflow": null,
            "overflow_x": null,
            "overflow_y": null,
            "padding": null,
            "right": null,
            "top": null,
            "visibility": null,
            "width": null
          }
        },
        "e6f0fd17d7d44f2ca4d1a944ea75e551": {
          "model_module": "@jupyter-widgets/controls",
          "model_name": "ProgressStyleModel",
          "model_module_version": "1.5.0",
          "state": {
            "_model_module": "@jupyter-widgets/controls",
            "_model_module_version": "1.5.0",
            "_model_name": "ProgressStyleModel",
            "_view_count": null,
            "_view_module": "@jupyter-widgets/base",
            "_view_module_version": "1.2.0",
            "_view_name": "StyleView",
            "bar_color": null,
            "description_width": ""
          }
        },
        "51329b9f27c74eeda2e3138e35c9827a": {
          "model_module": "@jupyter-widgets/base",
          "model_name": "LayoutModel",
          "model_module_version": "1.2.0",
          "state": {
            "_model_module": "@jupyter-widgets/base",
            "_model_module_version": "1.2.0",
            "_model_name": "LayoutModel",
            "_view_count": null,
            "_view_module": "@jupyter-widgets/base",
            "_view_module_version": "1.2.0",
            "_view_name": "LayoutView",
            "align_content": null,
            "align_items": null,
            "align_self": null,
            "border": null,
            "bottom": null,
            "display": null,
            "flex": null,
            "flex_flow": null,
            "grid_area": null,
            "grid_auto_columns": null,
            "grid_auto_flow": null,
            "grid_auto_rows": null,
            "grid_column": null,
            "grid_gap": null,
            "grid_row": null,
            "grid_template_areas": null,
            "grid_template_columns": null,
            "grid_template_rows": null,
            "height": null,
            "justify_content": null,
            "justify_items": null,
            "left": null,
            "margin": null,
            "max_height": null,
            "max_width": null,
            "min_height": null,
            "min_width": null,
            "object_fit": null,
            "object_position": null,
            "order": null,
            "overflow": null,
            "overflow_x": null,
            "overflow_y": null,
            "padding": null,
            "right": null,
            "top": null,
            "visibility": null,
            "width": null
          }
        },
        "b25d7ec9061343a19b6c1e82132c99c4": {
          "model_module": "@jupyter-widgets/controls",
          "model_name": "DescriptionStyleModel",
          "model_module_version": "1.5.0",
          "state": {
            "_model_module": "@jupyter-widgets/controls",
            "_model_module_version": "1.5.0",
            "_model_name": "DescriptionStyleModel",
            "_view_count": null,
            "_view_module": "@jupyter-widgets/base",
            "_view_module_version": "1.2.0",
            "_view_name": "StyleView",
            "description_width": ""
          }
        },
        "6e6cda6fa2234e60bf72863271cbe8ee": {
          "model_module": "@jupyter-widgets/controls",
          "model_name": "HBoxModel",
          "model_module_version": "1.5.0",
          "state": {
            "_dom_classes": [],
            "_model_module": "@jupyter-widgets/controls",
            "_model_module_version": "1.5.0",
            "_model_name": "HBoxModel",
            "_view_count": null,
            "_view_module": "@jupyter-widgets/controls",
            "_view_module_version": "1.5.0",
            "_view_name": "HBoxView",
            "box_style": "",
            "children": [
              "IPY_MODEL_fbf60a3f5acb46cca2cbfcf230a917dd",
              "IPY_MODEL_1b0496746fa245f3acad0704ca1f0189",
              "IPY_MODEL_637440a2904447afadb34d8d77f4de59"
            ],
            "layout": "IPY_MODEL_d8678a8bde014ccea5d716d3c1218ff7"
          }
        },
        "fbf60a3f5acb46cca2cbfcf230a917dd": {
          "model_module": "@jupyter-widgets/controls",
          "model_name": "HTMLModel",
          "model_module_version": "1.5.0",
          "state": {
            "_dom_classes": [],
            "_model_module": "@jupyter-widgets/controls",
            "_model_module_version": "1.5.0",
            "_model_name": "HTMLModel",
            "_view_count": null,
            "_view_module": "@jupyter-widgets/controls",
            "_view_module_version": "1.5.0",
            "_view_name": "HTMLView",
            "description": "",
            "description_tooltip": null,
            "layout": "IPY_MODEL_ddd149e60a5546438316d91e46b3a0e5",
            "placeholder": "​",
            "style": "IPY_MODEL_33aeac027cd945b097e2cc1668b92743",
            "value": "100%"
          }
        },
        "1b0496746fa245f3acad0704ca1f0189": {
          "model_module": "@jupyter-widgets/controls",
          "model_name": "FloatProgressModel",
          "model_module_version": "1.5.0",
          "state": {
            "_dom_classes": [],
            "_model_module": "@jupyter-widgets/controls",
            "_model_module_version": "1.5.0",
            "_model_name": "FloatProgressModel",
            "_view_count": null,
            "_view_module": "@jupyter-widgets/controls",
            "_view_module_version": "1.5.0",
            "_view_name": "ProgressView",
            "bar_style": "success",
            "description": "",
            "description_tooltip": null,
            "layout": "IPY_MODEL_3dce6713e2994d95ae3b6e2a56a9d728",
            "max": 5,
            "min": 0,
            "orientation": "horizontal",
            "style": "IPY_MODEL_e05af5ed80e441bbbdadb1c102bb0ee5",
            "value": 5
          }
        },
        "637440a2904447afadb34d8d77f4de59": {
          "model_module": "@jupyter-widgets/controls",
          "model_name": "HTMLModel",
          "model_module_version": "1.5.0",
          "state": {
            "_dom_classes": [],
            "_model_module": "@jupyter-widgets/controls",
            "_model_module_version": "1.5.0",
            "_model_name": "HTMLModel",
            "_view_count": null,
            "_view_module": "@jupyter-widgets/controls",
            "_view_module_version": "1.5.0",
            "_view_name": "HTMLView",
            "description": "",
            "description_tooltip": null,
            "layout": "IPY_MODEL_974de03e40a34ac1a7d42c835fcbdda6",
            "placeholder": "​",
            "style": "IPY_MODEL_05e0dabb56b24c32aee46646752455db",
            "value": " 5/5 [42:49&lt;00:00, 522.33s/it]"
          }
        },
        "d8678a8bde014ccea5d716d3c1218ff7": {
          "model_module": "@jupyter-widgets/base",
          "model_name": "LayoutModel",
          "model_module_version": "1.2.0",
          "state": {
            "_model_module": "@jupyter-widgets/base",
            "_model_module_version": "1.2.0",
            "_model_name": "LayoutModel",
            "_view_count": null,
            "_view_module": "@jupyter-widgets/base",
            "_view_module_version": "1.2.0",
            "_view_name": "LayoutView",
            "align_content": null,
            "align_items": null,
            "align_self": null,
            "border": null,
            "bottom": null,
            "display": null,
            "flex": null,
            "flex_flow": null,
            "grid_area": null,
            "grid_auto_columns": null,
            "grid_auto_flow": null,
            "grid_auto_rows": null,
            "grid_column": null,
            "grid_gap": null,
            "grid_row": null,
            "grid_template_areas": null,
            "grid_template_columns": null,
            "grid_template_rows": null,
            "height": null,
            "justify_content": null,
            "justify_items": null,
            "left": null,
            "margin": null,
            "max_height": null,
            "max_width": null,
            "min_height": null,
            "min_width": null,
            "object_fit": null,
            "object_position": null,
            "order": null,
            "overflow": null,
            "overflow_x": null,
            "overflow_y": null,
            "padding": null,
            "right": null,
            "top": null,
            "visibility": null,
            "width": null
          }
        },
        "ddd149e60a5546438316d91e46b3a0e5": {
          "model_module": "@jupyter-widgets/base",
          "model_name": "LayoutModel",
          "model_module_version": "1.2.0",
          "state": {
            "_model_module": "@jupyter-widgets/base",
            "_model_module_version": "1.2.0",
            "_model_name": "LayoutModel",
            "_view_count": null,
            "_view_module": "@jupyter-widgets/base",
            "_view_module_version": "1.2.0",
            "_view_name": "LayoutView",
            "align_content": null,
            "align_items": null,
            "align_self": null,
            "border": null,
            "bottom": null,
            "display": null,
            "flex": null,
            "flex_flow": null,
            "grid_area": null,
            "grid_auto_columns": null,
            "grid_auto_flow": null,
            "grid_auto_rows": null,
            "grid_column": null,
            "grid_gap": null,
            "grid_row": null,
            "grid_template_areas": null,
            "grid_template_columns": null,
            "grid_template_rows": null,
            "height": null,
            "justify_content": null,
            "justify_items": null,
            "left": null,
            "margin": null,
            "max_height": null,
            "max_width": null,
            "min_height": null,
            "min_width": null,
            "object_fit": null,
            "object_position": null,
            "order": null,
            "overflow": null,
            "overflow_x": null,
            "overflow_y": null,
            "padding": null,
            "right": null,
            "top": null,
            "visibility": null,
            "width": null
          }
        },
        "33aeac027cd945b097e2cc1668b92743": {
          "model_module": "@jupyter-widgets/controls",
          "model_name": "DescriptionStyleModel",
          "model_module_version": "1.5.0",
          "state": {
            "_model_module": "@jupyter-widgets/controls",
            "_model_module_version": "1.5.0",
            "_model_name": "DescriptionStyleModel",
            "_view_count": null,
            "_view_module": "@jupyter-widgets/base",
            "_view_module_version": "1.2.0",
            "_view_name": "StyleView",
            "description_width": ""
          }
        },
        "3dce6713e2994d95ae3b6e2a56a9d728": {
          "model_module": "@jupyter-widgets/base",
          "model_name": "LayoutModel",
          "model_module_version": "1.2.0",
          "state": {
            "_model_module": "@jupyter-widgets/base",
            "_model_module_version": "1.2.0",
            "_model_name": "LayoutModel",
            "_view_count": null,
            "_view_module": "@jupyter-widgets/base",
            "_view_module_version": "1.2.0",
            "_view_name": "LayoutView",
            "align_content": null,
            "align_items": null,
            "align_self": null,
            "border": null,
            "bottom": null,
            "display": null,
            "flex": null,
            "flex_flow": null,
            "grid_area": null,
            "grid_auto_columns": null,
            "grid_auto_flow": null,
            "grid_auto_rows": null,
            "grid_column": null,
            "grid_gap": null,
            "grid_row": null,
            "grid_template_areas": null,
            "grid_template_columns": null,
            "grid_template_rows": null,
            "height": null,
            "justify_content": null,
            "justify_items": null,
            "left": null,
            "margin": null,
            "max_height": null,
            "max_width": null,
            "min_height": null,
            "min_width": null,
            "object_fit": null,
            "object_position": null,
            "order": null,
            "overflow": null,
            "overflow_x": null,
            "overflow_y": null,
            "padding": null,
            "right": null,
            "top": null,
            "visibility": null,
            "width": null
          }
        },
        "e05af5ed80e441bbbdadb1c102bb0ee5": {
          "model_module": "@jupyter-widgets/controls",
          "model_name": "ProgressStyleModel",
          "model_module_version": "1.5.0",
          "state": {
            "_model_module": "@jupyter-widgets/controls",
            "_model_module_version": "1.5.0",
            "_model_name": "ProgressStyleModel",
            "_view_count": null,
            "_view_module": "@jupyter-widgets/base",
            "_view_module_version": "1.2.0",
            "_view_name": "StyleView",
            "bar_color": null,
            "description_width": ""
          }
        },
        "974de03e40a34ac1a7d42c835fcbdda6": {
          "model_module": "@jupyter-widgets/base",
          "model_name": "LayoutModel",
          "model_module_version": "1.2.0",
          "state": {
            "_model_module": "@jupyter-widgets/base",
            "_model_module_version": "1.2.0",
            "_model_name": "LayoutModel",
            "_view_count": null,
            "_view_module": "@jupyter-widgets/base",
            "_view_module_version": "1.2.0",
            "_view_name": "LayoutView",
            "align_content": null,
            "align_items": null,
            "align_self": null,
            "border": null,
            "bottom": null,
            "display": null,
            "flex": null,
            "flex_flow": null,
            "grid_area": null,
            "grid_auto_columns": null,
            "grid_auto_flow": null,
            "grid_auto_rows": null,
            "grid_column": null,
            "grid_gap": null,
            "grid_row": null,
            "grid_template_areas": null,
            "grid_template_columns": null,
            "grid_template_rows": null,
            "height": null,
            "justify_content": null,
            "justify_items": null,
            "left": null,
            "margin": null,
            "max_height": null,
            "max_width": null,
            "min_height": null,
            "min_width": null,
            "object_fit": null,
            "object_position": null,
            "order": null,
            "overflow": null,
            "overflow_x": null,
            "overflow_y": null,
            "padding": null,
            "right": null,
            "top": null,
            "visibility": null,
            "width": null
          }
        },
        "05e0dabb56b24c32aee46646752455db": {
          "model_module": "@jupyter-widgets/controls",
          "model_name": "DescriptionStyleModel",
          "model_module_version": "1.5.0",
          "state": {
            "_model_module": "@jupyter-widgets/controls",
            "_model_module_version": "1.5.0",
            "_model_name": "DescriptionStyleModel",
            "_view_count": null,
            "_view_module": "@jupyter-widgets/base",
            "_view_module_version": "1.2.0",
            "_view_name": "StyleView",
            "description_width": ""
          }
        },
        "43df280eb3c34ddbaa3596c2aaed044e": {
          "model_module": "@jupyter-widgets/controls",
          "model_name": "HBoxModel",
          "model_module_version": "1.5.0",
          "state": {
            "_dom_classes": [],
            "_model_module": "@jupyter-widgets/controls",
            "_model_module_version": "1.5.0",
            "_model_name": "HBoxModel",
            "_view_count": null,
            "_view_module": "@jupyter-widgets/controls",
            "_view_module_version": "1.5.0",
            "_view_name": "HBoxView",
            "box_style": "",
            "children": [
              "IPY_MODEL_4ed9d1184eed4427a8a53bf61ead4012",
              "IPY_MODEL_476fff5528164211ae7ab998e2c87f36",
              "IPY_MODEL_25a2d672d082427898c25a6581f0e343"
            ],
            "layout": "IPY_MODEL_e3981f924063412cb7c8632cecca2c7a"
          }
        },
        "4ed9d1184eed4427a8a53bf61ead4012": {
          "model_module": "@jupyter-widgets/controls",
          "model_name": "HTMLModel",
          "model_module_version": "1.5.0",
          "state": {
            "_dom_classes": [],
            "_model_module": "@jupyter-widgets/controls",
            "_model_module_version": "1.5.0",
            "_model_name": "HTMLModel",
            "_view_count": null,
            "_view_module": "@jupyter-widgets/controls",
            "_view_module_version": "1.5.0",
            "_view_name": "HTMLView",
            "description": "",
            "description_tooltip": null,
            "layout": "IPY_MODEL_dad39a1932e4413f87903407ab87132a",
            "placeholder": "​",
            "style": "IPY_MODEL_6c496b3695b349dba7a9780188a6346c",
            "value": "100%"
          }
        },
        "476fff5528164211ae7ab998e2c87f36": {
          "model_module": "@jupyter-widgets/controls",
          "model_name": "FloatProgressModel",
          "model_module_version": "1.5.0",
          "state": {
            "_dom_classes": [],
            "_model_module": "@jupyter-widgets/controls",
            "_model_module_version": "1.5.0",
            "_model_name": "FloatProgressModel",
            "_view_count": null,
            "_view_module": "@jupyter-widgets/controls",
            "_view_module_version": "1.5.0",
            "_view_name": "ProgressView",
            "bar_style": "success",
            "description": "",
            "description_tooltip": null,
            "layout": "IPY_MODEL_74e3a6d5dbdc4edaa7ec78c138e6a396",
            "max": 4,
            "min": 0,
            "orientation": "horizontal",
            "style": "IPY_MODEL_dda2b0919e914048a43854b486843cc9",
            "value": 4
          }
        },
        "25a2d672d082427898c25a6581f0e343": {
          "model_module": "@jupyter-widgets/controls",
          "model_name": "HTMLModel",
          "model_module_version": "1.5.0",
          "state": {
            "_dom_classes": [],
            "_model_module": "@jupyter-widgets/controls",
            "_model_module_version": "1.5.0",
            "_model_name": "HTMLModel",
            "_view_count": null,
            "_view_module": "@jupyter-widgets/controls",
            "_view_module_version": "1.5.0",
            "_view_name": "HTMLView",
            "description": "",
            "description_tooltip": null,
            "layout": "IPY_MODEL_4040ba5120da4c3a94909e0ae8f5c05f",
            "placeholder": "​",
            "style": "IPY_MODEL_42dd485052534d0ab3002ff0955ba8e7",
            "value": " 4/4 [34:13&lt;00:00, 526.17s/it]"
          }
        },
        "e3981f924063412cb7c8632cecca2c7a": {
          "model_module": "@jupyter-widgets/base",
          "model_name": "LayoutModel",
          "model_module_version": "1.2.0",
          "state": {
            "_model_module": "@jupyter-widgets/base",
            "_model_module_version": "1.2.0",
            "_model_name": "LayoutModel",
            "_view_count": null,
            "_view_module": "@jupyter-widgets/base",
            "_view_module_version": "1.2.0",
            "_view_name": "LayoutView",
            "align_content": null,
            "align_items": null,
            "align_self": null,
            "border": null,
            "bottom": null,
            "display": null,
            "flex": null,
            "flex_flow": null,
            "grid_area": null,
            "grid_auto_columns": null,
            "grid_auto_flow": null,
            "grid_auto_rows": null,
            "grid_column": null,
            "grid_gap": null,
            "grid_row": null,
            "grid_template_areas": null,
            "grid_template_columns": null,
            "grid_template_rows": null,
            "height": null,
            "justify_content": null,
            "justify_items": null,
            "left": null,
            "margin": null,
            "max_height": null,
            "max_width": null,
            "min_height": null,
            "min_width": null,
            "object_fit": null,
            "object_position": null,
            "order": null,
            "overflow": null,
            "overflow_x": null,
            "overflow_y": null,
            "padding": null,
            "right": null,
            "top": null,
            "visibility": null,
            "width": null
          }
        },
        "dad39a1932e4413f87903407ab87132a": {
          "model_module": "@jupyter-widgets/base",
          "model_name": "LayoutModel",
          "model_module_version": "1.2.0",
          "state": {
            "_model_module": "@jupyter-widgets/base",
            "_model_module_version": "1.2.0",
            "_model_name": "LayoutModel",
            "_view_count": null,
            "_view_module": "@jupyter-widgets/base",
            "_view_module_version": "1.2.0",
            "_view_name": "LayoutView",
            "align_content": null,
            "align_items": null,
            "align_self": null,
            "border": null,
            "bottom": null,
            "display": null,
            "flex": null,
            "flex_flow": null,
            "grid_area": null,
            "grid_auto_columns": null,
            "grid_auto_flow": null,
            "grid_auto_rows": null,
            "grid_column": null,
            "grid_gap": null,
            "grid_row": null,
            "grid_template_areas": null,
            "grid_template_columns": null,
            "grid_template_rows": null,
            "height": null,
            "justify_content": null,
            "justify_items": null,
            "left": null,
            "margin": null,
            "max_height": null,
            "max_width": null,
            "min_height": null,
            "min_width": null,
            "object_fit": null,
            "object_position": null,
            "order": null,
            "overflow": null,
            "overflow_x": null,
            "overflow_y": null,
            "padding": null,
            "right": null,
            "top": null,
            "visibility": null,
            "width": null
          }
        },
        "6c496b3695b349dba7a9780188a6346c": {
          "model_module": "@jupyter-widgets/controls",
          "model_name": "DescriptionStyleModel",
          "model_module_version": "1.5.0",
          "state": {
            "_model_module": "@jupyter-widgets/controls",
            "_model_module_version": "1.5.0",
            "_model_name": "DescriptionStyleModel",
            "_view_count": null,
            "_view_module": "@jupyter-widgets/base",
            "_view_module_version": "1.2.0",
            "_view_name": "StyleView",
            "description_width": ""
          }
        },
        "74e3a6d5dbdc4edaa7ec78c138e6a396": {
          "model_module": "@jupyter-widgets/base",
          "model_name": "LayoutModel",
          "model_module_version": "1.2.0",
          "state": {
            "_model_module": "@jupyter-widgets/base",
            "_model_module_version": "1.2.0",
            "_model_name": "LayoutModel",
            "_view_count": null,
            "_view_module": "@jupyter-widgets/base",
            "_view_module_version": "1.2.0",
            "_view_name": "LayoutView",
            "align_content": null,
            "align_items": null,
            "align_self": null,
            "border": null,
            "bottom": null,
            "display": null,
            "flex": null,
            "flex_flow": null,
            "grid_area": null,
            "grid_auto_columns": null,
            "grid_auto_flow": null,
            "grid_auto_rows": null,
            "grid_column": null,
            "grid_gap": null,
            "grid_row": null,
            "grid_template_areas": null,
            "grid_template_columns": null,
            "grid_template_rows": null,
            "height": null,
            "justify_content": null,
            "justify_items": null,
            "left": null,
            "margin": null,
            "max_height": null,
            "max_width": null,
            "min_height": null,
            "min_width": null,
            "object_fit": null,
            "object_position": null,
            "order": null,
            "overflow": null,
            "overflow_x": null,
            "overflow_y": null,
            "padding": null,
            "right": null,
            "top": null,
            "visibility": null,
            "width": null
          }
        },
        "dda2b0919e914048a43854b486843cc9": {
          "model_module": "@jupyter-widgets/controls",
          "model_name": "ProgressStyleModel",
          "model_module_version": "1.5.0",
          "state": {
            "_model_module": "@jupyter-widgets/controls",
            "_model_module_version": "1.5.0",
            "_model_name": "ProgressStyleModel",
            "_view_count": null,
            "_view_module": "@jupyter-widgets/base",
            "_view_module_version": "1.2.0",
            "_view_name": "StyleView",
            "bar_color": null,
            "description_width": ""
          }
        },
        "4040ba5120da4c3a94909e0ae8f5c05f": {
          "model_module": "@jupyter-widgets/base",
          "model_name": "LayoutModel",
          "model_module_version": "1.2.0",
          "state": {
            "_model_module": "@jupyter-widgets/base",
            "_model_module_version": "1.2.0",
            "_model_name": "LayoutModel",
            "_view_count": null,
            "_view_module": "@jupyter-widgets/base",
            "_view_module_version": "1.2.0",
            "_view_name": "LayoutView",
            "align_content": null,
            "align_items": null,
            "align_self": null,
            "border": null,
            "bottom": null,
            "display": null,
            "flex": null,
            "flex_flow": null,
            "grid_area": null,
            "grid_auto_columns": null,
            "grid_auto_flow": null,
            "grid_auto_rows": null,
            "grid_column": null,
            "grid_gap": null,
            "grid_row": null,
            "grid_template_areas": null,
            "grid_template_columns": null,
            "grid_template_rows": null,
            "height": null,
            "justify_content": null,
            "justify_items": null,
            "left": null,
            "margin": null,
            "max_height": null,
            "max_width": null,
            "min_height": null,
            "min_width": null,
            "object_fit": null,
            "object_position": null,
            "order": null,
            "overflow": null,
            "overflow_x": null,
            "overflow_y": null,
            "padding": null,
            "right": null,
            "top": null,
            "visibility": null,
            "width": null
          }
        },
        "42dd485052534d0ab3002ff0955ba8e7": {
          "model_module": "@jupyter-widgets/controls",
          "model_name": "DescriptionStyleModel",
          "model_module_version": "1.5.0",
          "state": {
            "_model_module": "@jupyter-widgets/controls",
            "_model_module_version": "1.5.0",
            "_model_name": "DescriptionStyleModel",
            "_view_count": null,
            "_view_module": "@jupyter-widgets/base",
            "_view_module_version": "1.2.0",
            "_view_name": "StyleView",
            "description_width": ""
          }
        },
        "312e0e80f2174549916454310d756cb6": {
          "model_module": "@jupyter-widgets/controls",
          "model_name": "HBoxModel",
          "model_module_version": "1.5.0",
          "state": {
            "_dom_classes": [],
            "_model_module": "@jupyter-widgets/controls",
            "_model_module_version": "1.5.0",
            "_model_name": "HBoxModel",
            "_view_count": null,
            "_view_module": "@jupyter-widgets/controls",
            "_view_module_version": "1.5.0",
            "_view_name": "HBoxView",
            "box_style": "",
            "children": [
              "IPY_MODEL_491794353ef7408c8c532abf113730c3",
              "IPY_MODEL_58ed0095c2ff4234afae40af81f8d427",
              "IPY_MODEL_1891498c731d4b1d9682e450272431a0"
            ],
            "layout": "IPY_MODEL_e6d0285b60a0498a8f388cb982a1f382"
          }
        },
        "491794353ef7408c8c532abf113730c3": {
          "model_module": "@jupyter-widgets/controls",
          "model_name": "HTMLModel",
          "model_module_version": "1.5.0",
          "state": {
            "_dom_classes": [],
            "_model_module": "@jupyter-widgets/controls",
            "_model_module_version": "1.5.0",
            "_model_name": "HTMLModel",
            "_view_count": null,
            "_view_module": "@jupyter-widgets/controls",
            "_view_module_version": "1.5.0",
            "_view_name": "HTMLView",
            "description": "",
            "description_tooltip": null,
            "layout": "IPY_MODEL_db7ed3aa37c14af9a8b75bea9f5e0952",
            "placeholder": "​",
            "style": "IPY_MODEL_23764052ae56466081394790b99934dd",
            "value": "100%"
          }
        },
        "58ed0095c2ff4234afae40af81f8d427": {
          "model_module": "@jupyter-widgets/controls",
          "model_name": "FloatProgressModel",
          "model_module_version": "1.5.0",
          "state": {
            "_dom_classes": [],
            "_model_module": "@jupyter-widgets/controls",
            "_model_module_version": "1.5.0",
            "_model_name": "FloatProgressModel",
            "_view_count": null,
            "_view_module": "@jupyter-widgets/controls",
            "_view_module_version": "1.5.0",
            "_view_name": "ProgressView",
            "bar_style": "success",
            "description": "",
            "description_tooltip": null,
            "layout": "IPY_MODEL_cc966137a69746c1aba29dd60a17f1cf",
            "max": 4,
            "min": 0,
            "orientation": "horizontal",
            "style": "IPY_MODEL_c751774189054440aa5d1f60b5577449",
            "value": 4
          }
        },
        "1891498c731d4b1d9682e450272431a0": {
          "model_module": "@jupyter-widgets/controls",
          "model_name": "HTMLModel",
          "model_module_version": "1.5.0",
          "state": {
            "_dom_classes": [],
            "_model_module": "@jupyter-widgets/controls",
            "_model_module_version": "1.5.0",
            "_model_name": "HTMLModel",
            "_view_count": null,
            "_view_module": "@jupyter-widgets/controls",
            "_view_module_version": "1.5.0",
            "_view_name": "HTMLView",
            "description": "",
            "description_tooltip": null,
            "layout": "IPY_MODEL_ba8a13d0986c4b44b122f46d0ef1e8f6",
            "placeholder": "​",
            "style": "IPY_MODEL_eede572cfec34f9391f321f4229c832c",
            "value": " 4/4 [23:58&lt;00:00, 378.40s/it]"
          }
        },
        "e6d0285b60a0498a8f388cb982a1f382": {
          "model_module": "@jupyter-widgets/base",
          "model_name": "LayoutModel",
          "model_module_version": "1.2.0",
          "state": {
            "_model_module": "@jupyter-widgets/base",
            "_model_module_version": "1.2.0",
            "_model_name": "LayoutModel",
            "_view_count": null,
            "_view_module": "@jupyter-widgets/base",
            "_view_module_version": "1.2.0",
            "_view_name": "LayoutView",
            "align_content": null,
            "align_items": null,
            "align_self": null,
            "border": null,
            "bottom": null,
            "display": null,
            "flex": null,
            "flex_flow": null,
            "grid_area": null,
            "grid_auto_columns": null,
            "grid_auto_flow": null,
            "grid_auto_rows": null,
            "grid_column": null,
            "grid_gap": null,
            "grid_row": null,
            "grid_template_areas": null,
            "grid_template_columns": null,
            "grid_template_rows": null,
            "height": null,
            "justify_content": null,
            "justify_items": null,
            "left": null,
            "margin": null,
            "max_height": null,
            "max_width": null,
            "min_height": null,
            "min_width": null,
            "object_fit": null,
            "object_position": null,
            "order": null,
            "overflow": null,
            "overflow_x": null,
            "overflow_y": null,
            "padding": null,
            "right": null,
            "top": null,
            "visibility": null,
            "width": null
          }
        },
        "db7ed3aa37c14af9a8b75bea9f5e0952": {
          "model_module": "@jupyter-widgets/base",
          "model_name": "LayoutModel",
          "model_module_version": "1.2.0",
          "state": {
            "_model_module": "@jupyter-widgets/base",
            "_model_module_version": "1.2.0",
            "_model_name": "LayoutModel",
            "_view_count": null,
            "_view_module": "@jupyter-widgets/base",
            "_view_module_version": "1.2.0",
            "_view_name": "LayoutView",
            "align_content": null,
            "align_items": null,
            "align_self": null,
            "border": null,
            "bottom": null,
            "display": null,
            "flex": null,
            "flex_flow": null,
            "grid_area": null,
            "grid_auto_columns": null,
            "grid_auto_flow": null,
            "grid_auto_rows": null,
            "grid_column": null,
            "grid_gap": null,
            "grid_row": null,
            "grid_template_areas": null,
            "grid_template_columns": null,
            "grid_template_rows": null,
            "height": null,
            "justify_content": null,
            "justify_items": null,
            "left": null,
            "margin": null,
            "max_height": null,
            "max_width": null,
            "min_height": null,
            "min_width": null,
            "object_fit": null,
            "object_position": null,
            "order": null,
            "overflow": null,
            "overflow_x": null,
            "overflow_y": null,
            "padding": null,
            "right": null,
            "top": null,
            "visibility": null,
            "width": null
          }
        },
        "23764052ae56466081394790b99934dd": {
          "model_module": "@jupyter-widgets/controls",
          "model_name": "DescriptionStyleModel",
          "model_module_version": "1.5.0",
          "state": {
            "_model_module": "@jupyter-widgets/controls",
            "_model_module_version": "1.5.0",
            "_model_name": "DescriptionStyleModel",
            "_view_count": null,
            "_view_module": "@jupyter-widgets/base",
            "_view_module_version": "1.2.0",
            "_view_name": "StyleView",
            "description_width": ""
          }
        },
        "cc966137a69746c1aba29dd60a17f1cf": {
          "model_module": "@jupyter-widgets/base",
          "model_name": "LayoutModel",
          "model_module_version": "1.2.0",
          "state": {
            "_model_module": "@jupyter-widgets/base",
            "_model_module_version": "1.2.0",
            "_model_name": "LayoutModel",
            "_view_count": null,
            "_view_module": "@jupyter-widgets/base",
            "_view_module_version": "1.2.0",
            "_view_name": "LayoutView",
            "align_content": null,
            "align_items": null,
            "align_self": null,
            "border": null,
            "bottom": null,
            "display": null,
            "flex": null,
            "flex_flow": null,
            "grid_area": null,
            "grid_auto_columns": null,
            "grid_auto_flow": null,
            "grid_auto_rows": null,
            "grid_column": null,
            "grid_gap": null,
            "grid_row": null,
            "grid_template_areas": null,
            "grid_template_columns": null,
            "grid_template_rows": null,
            "height": null,
            "justify_content": null,
            "justify_items": null,
            "left": null,
            "margin": null,
            "max_height": null,
            "max_width": null,
            "min_height": null,
            "min_width": null,
            "object_fit": null,
            "object_position": null,
            "order": null,
            "overflow": null,
            "overflow_x": null,
            "overflow_y": null,
            "padding": null,
            "right": null,
            "top": null,
            "visibility": null,
            "width": null
          }
        },
        "c751774189054440aa5d1f60b5577449": {
          "model_module": "@jupyter-widgets/controls",
          "model_name": "ProgressStyleModel",
          "model_module_version": "1.5.0",
          "state": {
            "_model_module": "@jupyter-widgets/controls",
            "_model_module_version": "1.5.0",
            "_model_name": "ProgressStyleModel",
            "_view_count": null,
            "_view_module": "@jupyter-widgets/base",
            "_view_module_version": "1.2.0",
            "_view_name": "StyleView",
            "bar_color": null,
            "description_width": ""
          }
        },
        "ba8a13d0986c4b44b122f46d0ef1e8f6": {
          "model_module": "@jupyter-widgets/base",
          "model_name": "LayoutModel",
          "model_module_version": "1.2.0",
          "state": {
            "_model_module": "@jupyter-widgets/base",
            "_model_module_version": "1.2.0",
            "_model_name": "LayoutModel",
            "_view_count": null,
            "_view_module": "@jupyter-widgets/base",
            "_view_module_version": "1.2.0",
            "_view_name": "LayoutView",
            "align_content": null,
            "align_items": null,
            "align_self": null,
            "border": null,
            "bottom": null,
            "display": null,
            "flex": null,
            "flex_flow": null,
            "grid_area": null,
            "grid_auto_columns": null,
            "grid_auto_flow": null,
            "grid_auto_rows": null,
            "grid_column": null,
            "grid_gap": null,
            "grid_row": null,
            "grid_template_areas": null,
            "grid_template_columns": null,
            "grid_template_rows": null,
            "height": null,
            "justify_content": null,
            "justify_items": null,
            "left": null,
            "margin": null,
            "max_height": null,
            "max_width": null,
            "min_height": null,
            "min_width": null,
            "object_fit": null,
            "object_position": null,
            "order": null,
            "overflow": null,
            "overflow_x": null,
            "overflow_y": null,
            "padding": null,
            "right": null,
            "top": null,
            "visibility": null,
            "width": null
          }
        },
        "eede572cfec34f9391f321f4229c832c": {
          "model_module": "@jupyter-widgets/controls",
          "model_name": "DescriptionStyleModel",
          "model_module_version": "1.5.0",
          "state": {
            "_model_module": "@jupyter-widgets/controls",
            "_model_module_version": "1.5.0",
            "_model_name": "DescriptionStyleModel",
            "_view_count": null,
            "_view_module": "@jupyter-widgets/base",
            "_view_module_version": "1.2.0",
            "_view_name": "StyleView",
            "description_width": ""
          }
        },
        "30a8b6e8b83c4effafc73611bebb5f02": {
          "model_module": "@jupyter-widgets/controls",
          "model_name": "HBoxModel",
          "model_module_version": "1.5.0",
          "state": {
            "_dom_classes": [],
            "_model_module": "@jupyter-widgets/controls",
            "_model_module_version": "1.5.0",
            "_model_name": "HBoxModel",
            "_view_count": null,
            "_view_module": "@jupyter-widgets/controls",
            "_view_module_version": "1.5.0",
            "_view_name": "HBoxView",
            "box_style": "",
            "children": [
              "IPY_MODEL_df37f79c8470453aaffc2d4b6ccf4359",
              "IPY_MODEL_29fa0101c72c4f68a4259a145673a971",
              "IPY_MODEL_75cd1d5b69cf4164928162710c5b851a"
            ],
            "layout": "IPY_MODEL_bb02da0e01a4480e9f0599a49e3e9627"
          }
        },
        "df37f79c8470453aaffc2d4b6ccf4359": {
          "model_module": "@jupyter-widgets/controls",
          "model_name": "HTMLModel",
          "model_module_version": "1.5.0",
          "state": {
            "_dom_classes": [],
            "_model_module": "@jupyter-widgets/controls",
            "_model_module_version": "1.5.0",
            "_model_name": "HTMLModel",
            "_view_count": null,
            "_view_module": "@jupyter-widgets/controls",
            "_view_module_version": "1.5.0",
            "_view_name": "HTMLView",
            "description": "",
            "description_tooltip": null,
            "layout": "IPY_MODEL_2b7b2d4583b44f3bb1a02b9b0184f8ab",
            "placeholder": "​",
            "style": "IPY_MODEL_728ca011e3ba4a58b17103b97d80c54d",
            "value": "100%"
          }
        },
        "29fa0101c72c4f68a4259a145673a971": {
          "model_module": "@jupyter-widgets/controls",
          "model_name": "FloatProgressModel",
          "model_module_version": "1.5.0",
          "state": {
            "_dom_classes": [],
            "_model_module": "@jupyter-widgets/controls",
            "_model_module_version": "1.5.0",
            "_model_name": "FloatProgressModel",
            "_view_count": null,
            "_view_module": "@jupyter-widgets/controls",
            "_view_module_version": "1.5.0",
            "_view_name": "ProgressView",
            "bar_style": "success",
            "description": "",
            "description_tooltip": null,
            "layout": "IPY_MODEL_73a64294d3ab4aee8717620c0fbe74a3",
            "max": 5,
            "min": 0,
            "orientation": "horizontal",
            "style": "IPY_MODEL_b13ae64fc721499c8613c3f1fe5857ea",
            "value": 5
          }
        },
        "75cd1d5b69cf4164928162710c5b851a": {
          "model_module": "@jupyter-widgets/controls",
          "model_name": "HTMLModel",
          "model_module_version": "1.5.0",
          "state": {
            "_dom_classes": [],
            "_model_module": "@jupyter-widgets/controls",
            "_model_module_version": "1.5.0",
            "_model_name": "HTMLModel",
            "_view_count": null,
            "_view_module": "@jupyter-widgets/controls",
            "_view_module_version": "1.5.0",
            "_view_name": "HTMLView",
            "description": "",
            "description_tooltip": null,
            "layout": "IPY_MODEL_48aa379264cf48ff9f93704fdca10b2d",
            "placeholder": "​",
            "style": "IPY_MODEL_7cf79a1fd312403c839afb94c28ad867",
            "value": " 5/5 [34:49&lt;00:00, 423.25s/it]"
          }
        },
        "bb02da0e01a4480e9f0599a49e3e9627": {
          "model_module": "@jupyter-widgets/base",
          "model_name": "LayoutModel",
          "model_module_version": "1.2.0",
          "state": {
            "_model_module": "@jupyter-widgets/base",
            "_model_module_version": "1.2.0",
            "_model_name": "LayoutModel",
            "_view_count": null,
            "_view_module": "@jupyter-widgets/base",
            "_view_module_version": "1.2.0",
            "_view_name": "LayoutView",
            "align_content": null,
            "align_items": null,
            "align_self": null,
            "border": null,
            "bottom": null,
            "display": null,
            "flex": null,
            "flex_flow": null,
            "grid_area": null,
            "grid_auto_columns": null,
            "grid_auto_flow": null,
            "grid_auto_rows": null,
            "grid_column": null,
            "grid_gap": null,
            "grid_row": null,
            "grid_template_areas": null,
            "grid_template_columns": null,
            "grid_template_rows": null,
            "height": null,
            "justify_content": null,
            "justify_items": null,
            "left": null,
            "margin": null,
            "max_height": null,
            "max_width": null,
            "min_height": null,
            "min_width": null,
            "object_fit": null,
            "object_position": null,
            "order": null,
            "overflow": null,
            "overflow_x": null,
            "overflow_y": null,
            "padding": null,
            "right": null,
            "top": null,
            "visibility": null,
            "width": null
          }
        },
        "2b7b2d4583b44f3bb1a02b9b0184f8ab": {
          "model_module": "@jupyter-widgets/base",
          "model_name": "LayoutModel",
          "model_module_version": "1.2.0",
          "state": {
            "_model_module": "@jupyter-widgets/base",
            "_model_module_version": "1.2.0",
            "_model_name": "LayoutModel",
            "_view_count": null,
            "_view_module": "@jupyter-widgets/base",
            "_view_module_version": "1.2.0",
            "_view_name": "LayoutView",
            "align_content": null,
            "align_items": null,
            "align_self": null,
            "border": null,
            "bottom": null,
            "display": null,
            "flex": null,
            "flex_flow": null,
            "grid_area": null,
            "grid_auto_columns": null,
            "grid_auto_flow": null,
            "grid_auto_rows": null,
            "grid_column": null,
            "grid_gap": null,
            "grid_row": null,
            "grid_template_areas": null,
            "grid_template_columns": null,
            "grid_template_rows": null,
            "height": null,
            "justify_content": null,
            "justify_items": null,
            "left": null,
            "margin": null,
            "max_height": null,
            "max_width": null,
            "min_height": null,
            "min_width": null,
            "object_fit": null,
            "object_position": null,
            "order": null,
            "overflow": null,
            "overflow_x": null,
            "overflow_y": null,
            "padding": null,
            "right": null,
            "top": null,
            "visibility": null,
            "width": null
          }
        },
        "728ca011e3ba4a58b17103b97d80c54d": {
          "model_module": "@jupyter-widgets/controls",
          "model_name": "DescriptionStyleModel",
          "model_module_version": "1.5.0",
          "state": {
            "_model_module": "@jupyter-widgets/controls",
            "_model_module_version": "1.5.0",
            "_model_name": "DescriptionStyleModel",
            "_view_count": null,
            "_view_module": "@jupyter-widgets/base",
            "_view_module_version": "1.2.0",
            "_view_name": "StyleView",
            "description_width": ""
          }
        },
        "73a64294d3ab4aee8717620c0fbe74a3": {
          "model_module": "@jupyter-widgets/base",
          "model_name": "LayoutModel",
          "model_module_version": "1.2.0",
          "state": {
            "_model_module": "@jupyter-widgets/base",
            "_model_module_version": "1.2.0",
            "_model_name": "LayoutModel",
            "_view_count": null,
            "_view_module": "@jupyter-widgets/base",
            "_view_module_version": "1.2.0",
            "_view_name": "LayoutView",
            "align_content": null,
            "align_items": null,
            "align_self": null,
            "border": null,
            "bottom": null,
            "display": null,
            "flex": null,
            "flex_flow": null,
            "grid_area": null,
            "grid_auto_columns": null,
            "grid_auto_flow": null,
            "grid_auto_rows": null,
            "grid_column": null,
            "grid_gap": null,
            "grid_row": null,
            "grid_template_areas": null,
            "grid_template_columns": null,
            "grid_template_rows": null,
            "height": null,
            "justify_content": null,
            "justify_items": null,
            "left": null,
            "margin": null,
            "max_height": null,
            "max_width": null,
            "min_height": null,
            "min_width": null,
            "object_fit": null,
            "object_position": null,
            "order": null,
            "overflow": null,
            "overflow_x": null,
            "overflow_y": null,
            "padding": null,
            "right": null,
            "top": null,
            "visibility": null,
            "width": null
          }
        },
        "b13ae64fc721499c8613c3f1fe5857ea": {
          "model_module": "@jupyter-widgets/controls",
          "model_name": "ProgressStyleModel",
          "model_module_version": "1.5.0",
          "state": {
            "_model_module": "@jupyter-widgets/controls",
            "_model_module_version": "1.5.0",
            "_model_name": "ProgressStyleModel",
            "_view_count": null,
            "_view_module": "@jupyter-widgets/base",
            "_view_module_version": "1.2.0",
            "_view_name": "StyleView",
            "bar_color": null,
            "description_width": ""
          }
        },
        "48aa379264cf48ff9f93704fdca10b2d": {
          "model_module": "@jupyter-widgets/base",
          "model_name": "LayoutModel",
          "model_module_version": "1.2.0",
          "state": {
            "_model_module": "@jupyter-widgets/base",
            "_model_module_version": "1.2.0",
            "_model_name": "LayoutModel",
            "_view_count": null,
            "_view_module": "@jupyter-widgets/base",
            "_view_module_version": "1.2.0",
            "_view_name": "LayoutView",
            "align_content": null,
            "align_items": null,
            "align_self": null,
            "border": null,
            "bottom": null,
            "display": null,
            "flex": null,
            "flex_flow": null,
            "grid_area": null,
            "grid_auto_columns": null,
            "grid_auto_flow": null,
            "grid_auto_rows": null,
            "grid_column": null,
            "grid_gap": null,
            "grid_row": null,
            "grid_template_areas": null,
            "grid_template_columns": null,
            "grid_template_rows": null,
            "height": null,
            "justify_content": null,
            "justify_items": null,
            "left": null,
            "margin": null,
            "max_height": null,
            "max_width": null,
            "min_height": null,
            "min_width": null,
            "object_fit": null,
            "object_position": null,
            "order": null,
            "overflow": null,
            "overflow_x": null,
            "overflow_y": null,
            "padding": null,
            "right": null,
            "top": null,
            "visibility": null,
            "width": null
          }
        },
        "7cf79a1fd312403c839afb94c28ad867": {
          "model_module": "@jupyter-widgets/controls",
          "model_name": "DescriptionStyleModel",
          "model_module_version": "1.5.0",
          "state": {
            "_model_module": "@jupyter-widgets/controls",
            "_model_module_version": "1.5.0",
            "_model_name": "DescriptionStyleModel",
            "_view_count": null,
            "_view_module": "@jupyter-widgets/base",
            "_view_module_version": "1.2.0",
            "_view_name": "StyleView",
            "description_width": ""
          }
        },
        "bf9b1c5143874885ab2102934bd18df7": {
          "model_module": "@jupyter-widgets/controls",
          "model_name": "HBoxModel",
          "model_module_version": "1.5.0",
          "state": {
            "_dom_classes": [],
            "_model_module": "@jupyter-widgets/controls",
            "_model_module_version": "1.5.0",
            "_model_name": "HBoxModel",
            "_view_count": null,
            "_view_module": "@jupyter-widgets/controls",
            "_view_module_version": "1.5.0",
            "_view_name": "HBoxView",
            "box_style": "",
            "children": [
              "IPY_MODEL_154a46df924e4a6388b76ee4e7f29d95",
              "IPY_MODEL_df3a5da2244e45f889e9ca0a4eb0c74c",
              "IPY_MODEL_341b7bd90c914b8281ed6bad81fb4b3c"
            ],
            "layout": "IPY_MODEL_1f0ce907b3754c93b8af7b2a14da3c01"
          }
        },
        "154a46df924e4a6388b76ee4e7f29d95": {
          "model_module": "@jupyter-widgets/controls",
          "model_name": "HTMLModel",
          "model_module_version": "1.5.0",
          "state": {
            "_dom_classes": [],
            "_model_module": "@jupyter-widgets/controls",
            "_model_module_version": "1.5.0",
            "_model_name": "HTMLModel",
            "_view_count": null,
            "_view_module": "@jupyter-widgets/controls",
            "_view_module_version": "1.5.0",
            "_view_name": "HTMLView",
            "description": "",
            "description_tooltip": null,
            "layout": "IPY_MODEL_385d90f82fe34822a2cc3c5727301fa1",
            "placeholder": "​",
            "style": "IPY_MODEL_513f05a237314317ac230635aa4f30c5",
            "value": "100%"
          }
        },
        "df3a5da2244e45f889e9ca0a4eb0c74c": {
          "model_module": "@jupyter-widgets/controls",
          "model_name": "FloatProgressModel",
          "model_module_version": "1.5.0",
          "state": {
            "_dom_classes": [],
            "_model_module": "@jupyter-widgets/controls",
            "_model_module_version": "1.5.0",
            "_model_name": "FloatProgressModel",
            "_view_count": null,
            "_view_module": "@jupyter-widgets/controls",
            "_view_module_version": "1.5.0",
            "_view_name": "ProgressView",
            "bar_style": "success",
            "description": "",
            "description_tooltip": null,
            "layout": "IPY_MODEL_a90d62c90b534da38a5b5a39cdb42eaa",
            "max": 4,
            "min": 0,
            "orientation": "horizontal",
            "style": "IPY_MODEL_5c0f31ac571d44c696413f4668f442ad",
            "value": 4
          }
        },
        "341b7bd90c914b8281ed6bad81fb4b3c": {
          "model_module": "@jupyter-widgets/controls",
          "model_name": "HTMLModel",
          "model_module_version": "1.5.0",
          "state": {
            "_dom_classes": [],
            "_model_module": "@jupyter-widgets/controls",
            "_model_module_version": "1.5.0",
            "_model_name": "HTMLModel",
            "_view_count": null,
            "_view_module": "@jupyter-widgets/controls",
            "_view_module_version": "1.5.0",
            "_view_name": "HTMLView",
            "description": "",
            "description_tooltip": null,
            "layout": "IPY_MODEL_bb328006bb244ad1a0be546f1d09163d",
            "placeholder": "​",
            "style": "IPY_MODEL_18cfcccefa03455d96e64b964efbca14",
            "value": " 4/4 [27:53&lt;00:00, 423.04s/it]"
          }
        },
        "1f0ce907b3754c93b8af7b2a14da3c01": {
          "model_module": "@jupyter-widgets/base",
          "model_name": "LayoutModel",
          "model_module_version": "1.2.0",
          "state": {
            "_model_module": "@jupyter-widgets/base",
            "_model_module_version": "1.2.0",
            "_model_name": "LayoutModel",
            "_view_count": null,
            "_view_module": "@jupyter-widgets/base",
            "_view_module_version": "1.2.0",
            "_view_name": "LayoutView",
            "align_content": null,
            "align_items": null,
            "align_self": null,
            "border": null,
            "bottom": null,
            "display": null,
            "flex": null,
            "flex_flow": null,
            "grid_area": null,
            "grid_auto_columns": null,
            "grid_auto_flow": null,
            "grid_auto_rows": null,
            "grid_column": null,
            "grid_gap": null,
            "grid_row": null,
            "grid_template_areas": null,
            "grid_template_columns": null,
            "grid_template_rows": null,
            "height": null,
            "justify_content": null,
            "justify_items": null,
            "left": null,
            "margin": null,
            "max_height": null,
            "max_width": null,
            "min_height": null,
            "min_width": null,
            "object_fit": null,
            "object_position": null,
            "order": null,
            "overflow": null,
            "overflow_x": null,
            "overflow_y": null,
            "padding": null,
            "right": null,
            "top": null,
            "visibility": null,
            "width": null
          }
        },
        "385d90f82fe34822a2cc3c5727301fa1": {
          "model_module": "@jupyter-widgets/base",
          "model_name": "LayoutModel",
          "model_module_version": "1.2.0",
          "state": {
            "_model_module": "@jupyter-widgets/base",
            "_model_module_version": "1.2.0",
            "_model_name": "LayoutModel",
            "_view_count": null,
            "_view_module": "@jupyter-widgets/base",
            "_view_module_version": "1.2.0",
            "_view_name": "LayoutView",
            "align_content": null,
            "align_items": null,
            "align_self": null,
            "border": null,
            "bottom": null,
            "display": null,
            "flex": null,
            "flex_flow": null,
            "grid_area": null,
            "grid_auto_columns": null,
            "grid_auto_flow": null,
            "grid_auto_rows": null,
            "grid_column": null,
            "grid_gap": null,
            "grid_row": null,
            "grid_template_areas": null,
            "grid_template_columns": null,
            "grid_template_rows": null,
            "height": null,
            "justify_content": null,
            "justify_items": null,
            "left": null,
            "margin": null,
            "max_height": null,
            "max_width": null,
            "min_height": null,
            "min_width": null,
            "object_fit": null,
            "object_position": null,
            "order": null,
            "overflow": null,
            "overflow_x": null,
            "overflow_y": null,
            "padding": null,
            "right": null,
            "top": null,
            "visibility": null,
            "width": null
          }
        },
        "513f05a237314317ac230635aa4f30c5": {
          "model_module": "@jupyter-widgets/controls",
          "model_name": "DescriptionStyleModel",
          "model_module_version": "1.5.0",
          "state": {
            "_model_module": "@jupyter-widgets/controls",
            "_model_module_version": "1.5.0",
            "_model_name": "DescriptionStyleModel",
            "_view_count": null,
            "_view_module": "@jupyter-widgets/base",
            "_view_module_version": "1.2.0",
            "_view_name": "StyleView",
            "description_width": ""
          }
        },
        "a90d62c90b534da38a5b5a39cdb42eaa": {
          "model_module": "@jupyter-widgets/base",
          "model_name": "LayoutModel",
          "model_module_version": "1.2.0",
          "state": {
            "_model_module": "@jupyter-widgets/base",
            "_model_module_version": "1.2.0",
            "_model_name": "LayoutModel",
            "_view_count": null,
            "_view_module": "@jupyter-widgets/base",
            "_view_module_version": "1.2.0",
            "_view_name": "LayoutView",
            "align_content": null,
            "align_items": null,
            "align_self": null,
            "border": null,
            "bottom": null,
            "display": null,
            "flex": null,
            "flex_flow": null,
            "grid_area": null,
            "grid_auto_columns": null,
            "grid_auto_flow": null,
            "grid_auto_rows": null,
            "grid_column": null,
            "grid_gap": null,
            "grid_row": null,
            "grid_template_areas": null,
            "grid_template_columns": null,
            "grid_template_rows": null,
            "height": null,
            "justify_content": null,
            "justify_items": null,
            "left": null,
            "margin": null,
            "max_height": null,
            "max_width": null,
            "min_height": null,
            "min_width": null,
            "object_fit": null,
            "object_position": null,
            "order": null,
            "overflow": null,
            "overflow_x": null,
            "overflow_y": null,
            "padding": null,
            "right": null,
            "top": null,
            "visibility": null,
            "width": null
          }
        },
        "5c0f31ac571d44c696413f4668f442ad": {
          "model_module": "@jupyter-widgets/controls",
          "model_name": "ProgressStyleModel",
          "model_module_version": "1.5.0",
          "state": {
            "_model_module": "@jupyter-widgets/controls",
            "_model_module_version": "1.5.0",
            "_model_name": "ProgressStyleModel",
            "_view_count": null,
            "_view_module": "@jupyter-widgets/base",
            "_view_module_version": "1.2.0",
            "_view_name": "StyleView",
            "bar_color": null,
            "description_width": ""
          }
        },
        "bb328006bb244ad1a0be546f1d09163d": {
          "model_module": "@jupyter-widgets/base",
          "model_name": "LayoutModel",
          "model_module_version": "1.2.0",
          "state": {
            "_model_module": "@jupyter-widgets/base",
            "_model_module_version": "1.2.0",
            "_model_name": "LayoutModel",
            "_view_count": null,
            "_view_module": "@jupyter-widgets/base",
            "_view_module_version": "1.2.0",
            "_view_name": "LayoutView",
            "align_content": null,
            "align_items": null,
            "align_self": null,
            "border": null,
            "bottom": null,
            "display": null,
            "flex": null,
            "flex_flow": null,
            "grid_area": null,
            "grid_auto_columns": null,
            "grid_auto_flow": null,
            "grid_auto_rows": null,
            "grid_column": null,
            "grid_gap": null,
            "grid_row": null,
            "grid_template_areas": null,
            "grid_template_columns": null,
            "grid_template_rows": null,
            "height": null,
            "justify_content": null,
            "justify_items": null,
            "left": null,
            "margin": null,
            "max_height": null,
            "max_width": null,
            "min_height": null,
            "min_width": null,
            "object_fit": null,
            "object_position": null,
            "order": null,
            "overflow": null,
            "overflow_x": null,
            "overflow_y": null,
            "padding": null,
            "right": null,
            "top": null,
            "visibility": null,
            "width": null
          }
        },
        "18cfcccefa03455d96e64b964efbca14": {
          "model_module": "@jupyter-widgets/controls",
          "model_name": "DescriptionStyleModel",
          "model_module_version": "1.5.0",
          "state": {
            "_model_module": "@jupyter-widgets/controls",
            "_model_module_version": "1.5.0",
            "_model_name": "DescriptionStyleModel",
            "_view_count": null,
            "_view_module": "@jupyter-widgets/base",
            "_view_module_version": "1.2.0",
            "_view_name": "StyleView",
            "description_width": ""
          }
        },
        "6f970152e51149e1887208c32b9ec034": {
          "model_module": "@jupyter-widgets/controls",
          "model_name": "HBoxModel",
          "model_module_version": "1.5.0",
          "state": {
            "_dom_classes": [],
            "_model_module": "@jupyter-widgets/controls",
            "_model_module_version": "1.5.0",
            "_model_name": "HBoxModel",
            "_view_count": null,
            "_view_module": "@jupyter-widgets/controls",
            "_view_module_version": "1.5.0",
            "_view_name": "HBoxView",
            "box_style": "",
            "children": [
              "IPY_MODEL_21383248cef348758f1835e26ecbc879",
              "IPY_MODEL_62f03b41b4b541aab82ff352a21640de",
              "IPY_MODEL_1085d4781e374df8871729a2a2f03792"
            ],
            "layout": "IPY_MODEL_16e15a35ac9c4558b97be9e8113fe740"
          }
        },
        "21383248cef348758f1835e26ecbc879": {
          "model_module": "@jupyter-widgets/controls",
          "model_name": "HTMLModel",
          "model_module_version": "1.5.0",
          "state": {
            "_dom_classes": [],
            "_model_module": "@jupyter-widgets/controls",
            "_model_module_version": "1.5.0",
            "_model_name": "HTMLModel",
            "_view_count": null,
            "_view_module": "@jupyter-widgets/controls",
            "_view_module_version": "1.5.0",
            "_view_name": "HTMLView",
            "description": "",
            "description_tooltip": null,
            "layout": "IPY_MODEL_59dfe89a8b334a648d51f4714c8031e7",
            "placeholder": "​",
            "style": "IPY_MODEL_9f96f525b72248cbbd82ce2e579c8cf9",
            "value": "100%"
          }
        },
        "62f03b41b4b541aab82ff352a21640de": {
          "model_module": "@jupyter-widgets/controls",
          "model_name": "FloatProgressModel",
          "model_module_version": "1.5.0",
          "state": {
            "_dom_classes": [],
            "_model_module": "@jupyter-widgets/controls",
            "_model_module_version": "1.5.0",
            "_model_name": "FloatProgressModel",
            "_view_count": null,
            "_view_module": "@jupyter-widgets/controls",
            "_view_module_version": "1.5.0",
            "_view_name": "ProgressView",
            "bar_style": "success",
            "description": "",
            "description_tooltip": null,
            "layout": "IPY_MODEL_8112aeecdd5a4a8c92850fb5e33d212b",
            "max": 4,
            "min": 0,
            "orientation": "horizontal",
            "style": "IPY_MODEL_65d9e2528b4a4c59a80f618babaf94a4",
            "value": 4
          }
        },
        "1085d4781e374df8871729a2a2f03792": {
          "model_module": "@jupyter-widgets/controls",
          "model_name": "HTMLModel",
          "model_module_version": "1.5.0",
          "state": {
            "_dom_classes": [],
            "_model_module": "@jupyter-widgets/controls",
            "_model_module_version": "1.5.0",
            "_model_name": "HTMLModel",
            "_view_count": null,
            "_view_module": "@jupyter-widgets/controls",
            "_view_module_version": "1.5.0",
            "_view_name": "HTMLView",
            "description": "",
            "description_tooltip": null,
            "layout": "IPY_MODEL_2d11ac85d2474ceebf0e0329d6f6c5e1",
            "placeholder": "​",
            "style": "IPY_MODEL_333db8814fc5459dbf09f3e4c9684c13",
            "value": " 4/4 [27:51&lt;00:00, 418.94s/it]"
          }
        },
        "16e15a35ac9c4558b97be9e8113fe740": {
          "model_module": "@jupyter-widgets/base",
          "model_name": "LayoutModel",
          "model_module_version": "1.2.0",
          "state": {
            "_model_module": "@jupyter-widgets/base",
            "_model_module_version": "1.2.0",
            "_model_name": "LayoutModel",
            "_view_count": null,
            "_view_module": "@jupyter-widgets/base",
            "_view_module_version": "1.2.0",
            "_view_name": "LayoutView",
            "align_content": null,
            "align_items": null,
            "align_self": null,
            "border": null,
            "bottom": null,
            "display": null,
            "flex": null,
            "flex_flow": null,
            "grid_area": null,
            "grid_auto_columns": null,
            "grid_auto_flow": null,
            "grid_auto_rows": null,
            "grid_column": null,
            "grid_gap": null,
            "grid_row": null,
            "grid_template_areas": null,
            "grid_template_columns": null,
            "grid_template_rows": null,
            "height": null,
            "justify_content": null,
            "justify_items": null,
            "left": null,
            "margin": null,
            "max_height": null,
            "max_width": null,
            "min_height": null,
            "min_width": null,
            "object_fit": null,
            "object_position": null,
            "order": null,
            "overflow": null,
            "overflow_x": null,
            "overflow_y": null,
            "padding": null,
            "right": null,
            "top": null,
            "visibility": null,
            "width": null
          }
        },
        "59dfe89a8b334a648d51f4714c8031e7": {
          "model_module": "@jupyter-widgets/base",
          "model_name": "LayoutModel",
          "model_module_version": "1.2.0",
          "state": {
            "_model_module": "@jupyter-widgets/base",
            "_model_module_version": "1.2.0",
            "_model_name": "LayoutModel",
            "_view_count": null,
            "_view_module": "@jupyter-widgets/base",
            "_view_module_version": "1.2.0",
            "_view_name": "LayoutView",
            "align_content": null,
            "align_items": null,
            "align_self": null,
            "border": null,
            "bottom": null,
            "display": null,
            "flex": null,
            "flex_flow": null,
            "grid_area": null,
            "grid_auto_columns": null,
            "grid_auto_flow": null,
            "grid_auto_rows": null,
            "grid_column": null,
            "grid_gap": null,
            "grid_row": null,
            "grid_template_areas": null,
            "grid_template_columns": null,
            "grid_template_rows": null,
            "height": null,
            "justify_content": null,
            "justify_items": null,
            "left": null,
            "margin": null,
            "max_height": null,
            "max_width": null,
            "min_height": null,
            "min_width": null,
            "object_fit": null,
            "object_position": null,
            "order": null,
            "overflow": null,
            "overflow_x": null,
            "overflow_y": null,
            "padding": null,
            "right": null,
            "top": null,
            "visibility": null,
            "width": null
          }
        },
        "9f96f525b72248cbbd82ce2e579c8cf9": {
          "model_module": "@jupyter-widgets/controls",
          "model_name": "DescriptionStyleModel",
          "model_module_version": "1.5.0",
          "state": {
            "_model_module": "@jupyter-widgets/controls",
            "_model_module_version": "1.5.0",
            "_model_name": "DescriptionStyleModel",
            "_view_count": null,
            "_view_module": "@jupyter-widgets/base",
            "_view_module_version": "1.2.0",
            "_view_name": "StyleView",
            "description_width": ""
          }
        },
        "8112aeecdd5a4a8c92850fb5e33d212b": {
          "model_module": "@jupyter-widgets/base",
          "model_name": "LayoutModel",
          "model_module_version": "1.2.0",
          "state": {
            "_model_module": "@jupyter-widgets/base",
            "_model_module_version": "1.2.0",
            "_model_name": "LayoutModel",
            "_view_count": null,
            "_view_module": "@jupyter-widgets/base",
            "_view_module_version": "1.2.0",
            "_view_name": "LayoutView",
            "align_content": null,
            "align_items": null,
            "align_self": null,
            "border": null,
            "bottom": null,
            "display": null,
            "flex": null,
            "flex_flow": null,
            "grid_area": null,
            "grid_auto_columns": null,
            "grid_auto_flow": null,
            "grid_auto_rows": null,
            "grid_column": null,
            "grid_gap": null,
            "grid_row": null,
            "grid_template_areas": null,
            "grid_template_columns": null,
            "grid_template_rows": null,
            "height": null,
            "justify_content": null,
            "justify_items": null,
            "left": null,
            "margin": null,
            "max_height": null,
            "max_width": null,
            "min_height": null,
            "min_width": null,
            "object_fit": null,
            "object_position": null,
            "order": null,
            "overflow": null,
            "overflow_x": null,
            "overflow_y": null,
            "padding": null,
            "right": null,
            "top": null,
            "visibility": null,
            "width": null
          }
        },
        "65d9e2528b4a4c59a80f618babaf94a4": {
          "model_module": "@jupyter-widgets/controls",
          "model_name": "ProgressStyleModel",
          "model_module_version": "1.5.0",
          "state": {
            "_model_module": "@jupyter-widgets/controls",
            "_model_module_version": "1.5.0",
            "_model_name": "ProgressStyleModel",
            "_view_count": null,
            "_view_module": "@jupyter-widgets/base",
            "_view_module_version": "1.2.0",
            "_view_name": "StyleView",
            "bar_color": null,
            "description_width": ""
          }
        },
        "2d11ac85d2474ceebf0e0329d6f6c5e1": {
          "model_module": "@jupyter-widgets/base",
          "model_name": "LayoutModel",
          "model_module_version": "1.2.0",
          "state": {
            "_model_module": "@jupyter-widgets/base",
            "_model_module_version": "1.2.0",
            "_model_name": "LayoutModel",
            "_view_count": null,
            "_view_module": "@jupyter-widgets/base",
            "_view_module_version": "1.2.0",
            "_view_name": "LayoutView",
            "align_content": null,
            "align_items": null,
            "align_self": null,
            "border": null,
            "bottom": null,
            "display": null,
            "flex": null,
            "flex_flow": null,
            "grid_area": null,
            "grid_auto_columns": null,
            "grid_auto_flow": null,
            "grid_auto_rows": null,
            "grid_column": null,
            "grid_gap": null,
            "grid_row": null,
            "grid_template_areas": null,
            "grid_template_columns": null,
            "grid_template_rows": null,
            "height": null,
            "justify_content": null,
            "justify_items": null,
            "left": null,
            "margin": null,
            "max_height": null,
            "max_width": null,
            "min_height": null,
            "min_width": null,
            "object_fit": null,
            "object_position": null,
            "order": null,
            "overflow": null,
            "overflow_x": null,
            "overflow_y": null,
            "padding": null,
            "right": null,
            "top": null,
            "visibility": null,
            "width": null
          }
        },
        "333db8814fc5459dbf09f3e4c9684c13": {
          "model_module": "@jupyter-widgets/controls",
          "model_name": "DescriptionStyleModel",
          "model_module_version": "1.5.0",
          "state": {
            "_model_module": "@jupyter-widgets/controls",
            "_model_module_version": "1.5.0",
            "_model_name": "DescriptionStyleModel",
            "_view_count": null,
            "_view_module": "@jupyter-widgets/base",
            "_view_module_version": "1.2.0",
            "_view_name": "StyleView",
            "description_width": ""
          }
        },
        "08543351362a4c8e977a282f8eab866e": {
          "model_module": "@jupyter-widgets/controls",
          "model_name": "HBoxModel",
          "model_module_version": "1.5.0",
          "state": {
            "_dom_classes": [],
            "_model_module": "@jupyter-widgets/controls",
            "_model_module_version": "1.5.0",
            "_model_name": "HBoxModel",
            "_view_count": null,
            "_view_module": "@jupyter-widgets/controls",
            "_view_module_version": "1.5.0",
            "_view_name": "HBoxView",
            "box_style": "",
            "children": [
              "IPY_MODEL_7278cdc2800e4bfd8ab95eda36107d32",
              "IPY_MODEL_ef55a0ed769840a5b790eaa8ce6e0903",
              "IPY_MODEL_0135317d2a1e4ce2a7b665201a2ef3a7"
            ],
            "layout": "IPY_MODEL_7e8a6be563e6454e9bc93fbdf90330ea"
          }
        },
        "7278cdc2800e4bfd8ab95eda36107d32": {
          "model_module": "@jupyter-widgets/controls",
          "model_name": "HTMLModel",
          "model_module_version": "1.5.0",
          "state": {
            "_dom_classes": [],
            "_model_module": "@jupyter-widgets/controls",
            "_model_module_version": "1.5.0",
            "_model_name": "HTMLModel",
            "_view_count": null,
            "_view_module": "@jupyter-widgets/controls",
            "_view_module_version": "1.5.0",
            "_view_name": "HTMLView",
            "description": "",
            "description_tooltip": null,
            "layout": "IPY_MODEL_83af2c356ad54f9cbc6ff1514b6ac3e9",
            "placeholder": "​",
            "style": "IPY_MODEL_1e5d938e65ff461abe154f9a409d6230",
            "value": "100%"
          }
        },
        "ef55a0ed769840a5b790eaa8ce6e0903": {
          "model_module": "@jupyter-widgets/controls",
          "model_name": "FloatProgressModel",
          "model_module_version": "1.5.0",
          "state": {
            "_dom_classes": [],
            "_model_module": "@jupyter-widgets/controls",
            "_model_module_version": "1.5.0",
            "_model_name": "FloatProgressModel",
            "_view_count": null,
            "_view_module": "@jupyter-widgets/controls",
            "_view_module_version": "1.5.0",
            "_view_name": "ProgressView",
            "bar_style": "success",
            "description": "",
            "description_tooltip": null,
            "layout": "IPY_MODEL_948328cabc9d463196efda45e8b2d7eb",
            "max": 4,
            "min": 0,
            "orientation": "horizontal",
            "style": "IPY_MODEL_8b196c97d8b146aaa590a0a1161a9495",
            "value": 4
          }
        },
        "0135317d2a1e4ce2a7b665201a2ef3a7": {
          "model_module": "@jupyter-widgets/controls",
          "model_name": "HTMLModel",
          "model_module_version": "1.5.0",
          "state": {
            "_dom_classes": [],
            "_model_module": "@jupyter-widgets/controls",
            "_model_module_version": "1.5.0",
            "_model_name": "HTMLModel",
            "_view_count": null,
            "_view_module": "@jupyter-widgets/controls",
            "_view_module_version": "1.5.0",
            "_view_name": "HTMLView",
            "description": "",
            "description_tooltip": null,
            "layout": "IPY_MODEL_cc2eef3429ba4e44b317b54a04077b5c",
            "placeholder": "​",
            "style": "IPY_MODEL_f0eb14019ac14e448e550dd918aa3b2e",
            "value": " 4/4 [29:21&lt;00:00, 441.93s/it]"
          }
        },
        "7e8a6be563e6454e9bc93fbdf90330ea": {
          "model_module": "@jupyter-widgets/base",
          "model_name": "LayoutModel",
          "model_module_version": "1.2.0",
          "state": {
            "_model_module": "@jupyter-widgets/base",
            "_model_module_version": "1.2.0",
            "_model_name": "LayoutModel",
            "_view_count": null,
            "_view_module": "@jupyter-widgets/base",
            "_view_module_version": "1.2.0",
            "_view_name": "LayoutView",
            "align_content": null,
            "align_items": null,
            "align_self": null,
            "border": null,
            "bottom": null,
            "display": null,
            "flex": null,
            "flex_flow": null,
            "grid_area": null,
            "grid_auto_columns": null,
            "grid_auto_flow": null,
            "grid_auto_rows": null,
            "grid_column": null,
            "grid_gap": null,
            "grid_row": null,
            "grid_template_areas": null,
            "grid_template_columns": null,
            "grid_template_rows": null,
            "height": null,
            "justify_content": null,
            "justify_items": null,
            "left": null,
            "margin": null,
            "max_height": null,
            "max_width": null,
            "min_height": null,
            "min_width": null,
            "object_fit": null,
            "object_position": null,
            "order": null,
            "overflow": null,
            "overflow_x": null,
            "overflow_y": null,
            "padding": null,
            "right": null,
            "top": null,
            "visibility": null,
            "width": null
          }
        },
        "83af2c356ad54f9cbc6ff1514b6ac3e9": {
          "model_module": "@jupyter-widgets/base",
          "model_name": "LayoutModel",
          "model_module_version": "1.2.0",
          "state": {
            "_model_module": "@jupyter-widgets/base",
            "_model_module_version": "1.2.0",
            "_model_name": "LayoutModel",
            "_view_count": null,
            "_view_module": "@jupyter-widgets/base",
            "_view_module_version": "1.2.0",
            "_view_name": "LayoutView",
            "align_content": null,
            "align_items": null,
            "align_self": null,
            "border": null,
            "bottom": null,
            "display": null,
            "flex": null,
            "flex_flow": null,
            "grid_area": null,
            "grid_auto_columns": null,
            "grid_auto_flow": null,
            "grid_auto_rows": null,
            "grid_column": null,
            "grid_gap": null,
            "grid_row": null,
            "grid_template_areas": null,
            "grid_template_columns": null,
            "grid_template_rows": null,
            "height": null,
            "justify_content": null,
            "justify_items": null,
            "left": null,
            "margin": null,
            "max_height": null,
            "max_width": null,
            "min_height": null,
            "min_width": null,
            "object_fit": null,
            "object_position": null,
            "order": null,
            "overflow": null,
            "overflow_x": null,
            "overflow_y": null,
            "padding": null,
            "right": null,
            "top": null,
            "visibility": null,
            "width": null
          }
        },
        "1e5d938e65ff461abe154f9a409d6230": {
          "model_module": "@jupyter-widgets/controls",
          "model_name": "DescriptionStyleModel",
          "model_module_version": "1.5.0",
          "state": {
            "_model_module": "@jupyter-widgets/controls",
            "_model_module_version": "1.5.0",
            "_model_name": "DescriptionStyleModel",
            "_view_count": null,
            "_view_module": "@jupyter-widgets/base",
            "_view_module_version": "1.2.0",
            "_view_name": "StyleView",
            "description_width": ""
          }
        },
        "948328cabc9d463196efda45e8b2d7eb": {
          "model_module": "@jupyter-widgets/base",
          "model_name": "LayoutModel",
          "model_module_version": "1.2.0",
          "state": {
            "_model_module": "@jupyter-widgets/base",
            "_model_module_version": "1.2.0",
            "_model_name": "LayoutModel",
            "_view_count": null,
            "_view_module": "@jupyter-widgets/base",
            "_view_module_version": "1.2.0",
            "_view_name": "LayoutView",
            "align_content": null,
            "align_items": null,
            "align_self": null,
            "border": null,
            "bottom": null,
            "display": null,
            "flex": null,
            "flex_flow": null,
            "grid_area": null,
            "grid_auto_columns": null,
            "grid_auto_flow": null,
            "grid_auto_rows": null,
            "grid_column": null,
            "grid_gap": null,
            "grid_row": null,
            "grid_template_areas": null,
            "grid_template_columns": null,
            "grid_template_rows": null,
            "height": null,
            "justify_content": null,
            "justify_items": null,
            "left": null,
            "margin": null,
            "max_height": null,
            "max_width": null,
            "min_height": null,
            "min_width": null,
            "object_fit": null,
            "object_position": null,
            "order": null,
            "overflow": null,
            "overflow_x": null,
            "overflow_y": null,
            "padding": null,
            "right": null,
            "top": null,
            "visibility": null,
            "width": null
          }
        },
        "8b196c97d8b146aaa590a0a1161a9495": {
          "model_module": "@jupyter-widgets/controls",
          "model_name": "ProgressStyleModel",
          "model_module_version": "1.5.0",
          "state": {
            "_model_module": "@jupyter-widgets/controls",
            "_model_module_version": "1.5.0",
            "_model_name": "ProgressStyleModel",
            "_view_count": null,
            "_view_module": "@jupyter-widgets/base",
            "_view_module_version": "1.2.0",
            "_view_name": "StyleView",
            "bar_color": null,
            "description_width": ""
          }
        },
        "cc2eef3429ba4e44b317b54a04077b5c": {
          "model_module": "@jupyter-widgets/base",
          "model_name": "LayoutModel",
          "model_module_version": "1.2.0",
          "state": {
            "_model_module": "@jupyter-widgets/base",
            "_model_module_version": "1.2.0",
            "_model_name": "LayoutModel",
            "_view_count": null,
            "_view_module": "@jupyter-widgets/base",
            "_view_module_version": "1.2.0",
            "_view_name": "LayoutView",
            "align_content": null,
            "align_items": null,
            "align_self": null,
            "border": null,
            "bottom": null,
            "display": null,
            "flex": null,
            "flex_flow": null,
            "grid_area": null,
            "grid_auto_columns": null,
            "grid_auto_flow": null,
            "grid_auto_rows": null,
            "grid_column": null,
            "grid_gap": null,
            "grid_row": null,
            "grid_template_areas": null,
            "grid_template_columns": null,
            "grid_template_rows": null,
            "height": null,
            "justify_content": null,
            "justify_items": null,
            "left": null,
            "margin": null,
            "max_height": null,
            "max_width": null,
            "min_height": null,
            "min_width": null,
            "object_fit": null,
            "object_position": null,
            "order": null,
            "overflow": null,
            "overflow_x": null,
            "overflow_y": null,
            "padding": null,
            "right": null,
            "top": null,
            "visibility": null,
            "width": null
          }
        },
        "f0eb14019ac14e448e550dd918aa3b2e": {
          "model_module": "@jupyter-widgets/controls",
          "model_name": "DescriptionStyleModel",
          "model_module_version": "1.5.0",
          "state": {
            "_model_module": "@jupyter-widgets/controls",
            "_model_module_version": "1.5.0",
            "_model_name": "DescriptionStyleModel",
            "_view_count": null,
            "_view_module": "@jupyter-widgets/base",
            "_view_module_version": "1.2.0",
            "_view_name": "StyleView",
            "description_width": ""
          }
        }
      }
    }
  },
  "nbformat": 4,
  "nbformat_minor": 0
}