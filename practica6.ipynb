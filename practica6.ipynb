{
  "cells": [
    {
      "cell_type": "markdown",
      "metadata": {
        "id": "view-in-github",
        "colab_type": "text"
      },
      "source": [
        "<a href=\"https://colab.research.google.com/github/japerego/DroidCafe/blob/master/practica6.ipynb\" target=\"_parent\"><img src=\"https://colab.research.google.com/assets/colab-badge.svg\" alt=\"Open In Colab\"/></a>"
      ]
    },
    {
      "cell_type": "markdown",
      "metadata": {
        "id": "z-wgUvP4ZBfI"
      },
      "source": [
        "# Práctica 6: Aprendizaje supervisado II\n",
        "\n",
        "Esta práctica tiene como objetivos:\n",
        "- Evaluar algoritmos de clasificación.\n",
        "- Ajustar hiperparámetros.\n",
        "\n",
        "Además de este notebook tienes dos notebooks con ejercicios adicionales.  "
      ]
    },
    {
      "cell_type": "markdown",
      "metadata": {
        "id": "a5hKRjoIZBfN"
      },
      "source": [
        "## Evaluando la clasificación binaria\n",
        "\n",
        "Empieza ejecutando el siguiente comando para que no se muestren los warnings. "
      ]
    },
    {
      "cell_type": "code",
      "execution_count": 1,
      "metadata": {
        "id": "SJO1_5NaZBfO"
      },
      "outputs": [],
      "source": [
        "import warnings; warnings.simplefilter('ignore')"
      ]
    },
    {
      "cell_type": "markdown",
      "metadata": {
        "id": "O4rZc2jiZBfQ"
      },
      "source": [
        "### 0. Carga de datos\n",
        "\n",
        "Descarga el fichero de pima-indians-diabetes como realizamos en prácticas anteriores. "
      ]
    },
    {
      "cell_type": "code",
      "execution_count": 2,
      "metadata": {
        "id": "Jt4eLX02ZBfR",
        "outputId": "e5ecf164-0bca-4e8f-ef84-8cfa8761068d",
        "colab": {
          "base_uri": "https://localhost:8080/"
        }
      },
      "outputs": [
        {
          "output_type": "stream",
          "name": "stdout",
          "text": [
            "--2022-04-15 12:42:31--  https://raw.githubusercontent.com/IA1819/Datasets/master/pima-indians-diabetes.csv\n",
            "Resolving raw.githubusercontent.com (raw.githubusercontent.com)... 185.199.108.133, 185.199.109.133, 185.199.110.133, ...\n",
            "Connecting to raw.githubusercontent.com (raw.githubusercontent.com)|185.199.108.133|:443... connected.\n",
            "HTTP request sent, awaiting response... 200 OK\n",
            "Length: 23279 (23K) [text/plain]\n",
            "Saving to: ‘pima-indians-diabetes.csv’\n",
            "\n",
            "\r          pima-indi   0%[                    ]       0  --.-KB/s               \rpima-indians-diabet 100%[===================>]  22.73K  --.-KB/s    in 0s      \n",
            "\n",
            "2022-04-15 12:42:31 (74.8 MB/s) - ‘pima-indians-diabetes.csv’ saved [23279/23279]\n",
            "\n"
          ]
        }
      ],
      "source": [
        "!wget https://raw.githubusercontent.com/IA1819/Datasets/master/pima-indians-diabetes.csv -O pima-indians-diabetes.csv"
      ]
    },
    {
      "cell_type": "markdown",
      "metadata": {
        "id": "YZDhB4wIZBfR"
      },
      "source": [
        "##### Ejercicio\n",
        "Carga los datos del fichero pima-indians-diabetes.csv utilizando la librería pandas como hicimos en prácticas anteriores. Almacena los vectores de descriptores en una variable X y las etiquetas en una variable Y."
      ]
    },
    {
      "cell_type": "code",
      "execution_count": 3,
      "metadata": {
        "collapsed": true,
        "id": "IvEjoJt5ZBfR"
      },
      "outputs": [],
      "source": [
        "import pandas as pd\n",
        "df = pd.read_csv('pima-indians-diabetes.csv',header=None)\n",
        "X = df.values[:,:-1]\n",
        "Y = df.values[:,-1]"
      ]
    },
    {
      "cell_type": "markdown",
      "metadata": {
        "id": "eEo3f1l6ZBfT"
      },
      "source": [
        "### 1. Partición de conjunto de entrenamiento y test\n",
        "\n",
        "Como vimos en clase es muy importante separar el conjunto de instancias en dos grupos: el conjunto de entrenamiento y el conjunto de test. Para ello, podemos utilizar la función train_test_split de la librería sklearn."
      ]
    },
    {
      "cell_type": "code",
      "execution_count": 4,
      "metadata": {
        "collapsed": true,
        "id": "5Oej4DHiZBfU"
      },
      "outputs": [],
      "source": [
        "from sklearn.model_selection import train_test_split"
      ]
    },
    {
      "cell_type": "markdown",
      "metadata": {
        "id": "XYyY4p-KZBfV"
      },
      "source": [
        "A la función train_test_split le vamos a pasar 4 parámetros:\n",
        "  - las instancias de nuestro dataset (sin etiqueta), es decir X,\n",
        "  - las etiquetas (es decir Y),\n",
        "  - el porcentage del dataset que se utilizará para el conjunto de test\n",
        "    (en este caso 0.25).\n",
        "  - el estado aleatorio: un número para poder reproducir los resultados.\n",
        "  \n",
        "El resultado devuelto por la función es una tupla de 4 elementos que contiene el conjunto de entrenamiento, el conjunto de test, las etiquetas  del conjunto de entrenamiento y las etiquetas del conjunto de test."
      ]
    },
    {
      "cell_type": "code",
      "execution_count": 5,
      "metadata": {
        "collapsed": true,
        "id": "2XQVk6NCZBfW"
      },
      "outputs": [],
      "source": [
        "(trainData, testData, trainLabels, testLabels) = train_test_split(X,Y,test_size=0.25, random_state=42)"
      ]
    },
    {
      "cell_type": "markdown",
      "metadata": {
        "id": "waoSUsuHZBfX"
      },
      "source": [
        "### 2. Entrenando distintos algoritmos y seleccionando los hiperparámetros\n",
        "\n",
        "##### Ejercicio\n",
        "Carga las distintas librerías que son necesarias para los clasificadores definidos en la práctica 5. En concreto vas a construir clasificadores utilizando los algoritmos:\n",
        " - KNN\n",
        " - Árboles de decisión\n",
        " - Regresión logística\n",
        " - SVM\n",
        " - Redes neuronales"
      ]
    },
    {
      "cell_type": "code",
      "execution_count": 6,
      "metadata": {
        "collapsed": true,
        "id": "WC6fnGnVZBfX"
      },
      "outputs": [],
      "source": [
        "from sklearn.linear_model import Perceptron\n",
        "from sklearn.neural_network import MLPClassifier\n",
        "from sklearn.svm import SVC\n",
        "from sklearn.linear_model import LogisticRegression\n",
        "from sklearn.tree import DecisionTreeClassifier\n",
        "from sklearn.neighbors import KNeighborsClassifier"
      ]
    },
    {
      "cell_type": "markdown",
      "metadata": {
        "id": "8OWDJWF5ZBfX"
      },
      "source": [
        "#### 2.1.  Validación manual (holdout)\n",
        "\n",
        "La primera alternativa para seleccionar los hiperparámetros consiste en reservar una parte de las instancias del training set para validación, y probar distintos hiperparámetros de manera manual para ver cuál es la mejor solución con cada uno de ellos. Para ello utilizamos de nuevo la función `train_test_split`."
      ]
    },
    {
      "cell_type": "code",
      "execution_count": 7,
      "metadata": {
        "collapsed": true,
        "id": "QBrQLee5ZBfY"
      },
      "outputs": [],
      "source": [
        "(trainData, valData, trainLabels, valLabels) = train_test_split(trainData, trainLabels,\n",
        "                                                                test_size=0.1, random_state=84)"
      ]
    },
    {
      "cell_type": "markdown",
      "metadata": {
        "id": "fDXFJIIfZBfY"
      },
      "source": [
        "**KNN**\n",
        "\n",
        "Empezamos ajustando los hiperparámetros del algoritmo KNN propbando con valores de k entre 1  y 25."
      ]
    },
    {
      "cell_type": "code",
      "execution_count": 8,
      "metadata": {
        "collapsed": true,
        "id": "AwIALa_iZBfY",
        "outputId": "d1173dbe-e0a3-4a56-ddb4-d678b4c122f1",
        "colab": {
          "base_uri": "https://localhost:8080/"
        }
      },
      "outputs": [
        {
          "output_type": "stream",
          "name": "stdout",
          "text": [
            "k=1, precisión=67.24%\n",
            "k=3, precisión=77.59%\n",
            "k=5, precisión=74.14%\n",
            "k=7, precisión=77.59%\n",
            "k=9, precisión=75.86%\n",
            "k=11, precisión=74.14%\n",
            "k=13, precisión=74.14%\n",
            "k=15, precisión=74.14%\n",
            "k=17, precisión=75.86%\n",
            "k=19, precisión=75.86%\n",
            "k=21, precisión=75.86%\n",
            "k=23, precisión=74.14%\n",
            "k=25, precisión=75.86%\n"
          ]
        }
      ],
      "source": [
        "for k in range(1,26,2):\n",
        "    modelKNN = KNeighborsClassifier(n_neighbors=k)\n",
        "    modelKNN.fit(trainData, trainLabels)\n",
        "    score = modelKNN.score(valData,valLabels)\n",
        "    print(\"k=%d, precisión=%.2f%%\" % (k, score * 100))"
      ]
    },
    {
      "cell_type": "markdown",
      "metadata": {
        "id": "vw_G9MvGZBfZ"
      },
      "source": [
        "##### Pregunta\n",
        "Entre los valores anteriores, ¿con qué valor de k obtenemos mejor precisión?"
      ]
    },
    {
      "cell_type": "markdown",
      "metadata": {
        "collapsed": true,
        "id": "RJUPOOkVZBfZ"
      },
      "source": [
        "#Con 3 y 7"
      ]
    },
    {
      "cell_type": "markdown",
      "metadata": {
        "id": "Wd5NBbXkZBfZ"
      },
      "source": [
        "**Árboles de decisión**\n",
        "\n",
        "Repite lo mismo visto para KNN para los árboles de decisión con el hiperparámetro min_samples_split con valores entre 2 y 10 avanzando de 1 en 1. Puedes ver lo que hace este hiperparámetro en la [documentación de sklearn](http://scikit-learn.org/stable/modules/tree.html).\n"
      ]
    },
    {
      "cell_type": "code",
      "execution_count": 9,
      "metadata": {
        "collapsed": true,
        "id": "CTk0523ZZBfZ",
        "outputId": "6dd373ee-9a59-43ce-f8ff-a82ca2bc3c0d",
        "colab": {
          "base_uri": "https://localhost:8080/"
        }
      },
      "outputs": [
        {
          "output_type": "stream",
          "name": "stdout",
          "text": [
            "k=2, precisión=62.07%\n",
            "k=3, precisión=58.62%\n",
            "k=4, precisión=62.07%\n",
            "k=5, precisión=62.07%\n",
            "k=6, precisión=62.07%\n",
            "k=7, precisión=63.79%\n",
            "k=8, precisión=62.07%\n",
            "k=9, precisión=62.07%\n"
          ]
        }
      ],
      "source": [
        "for k in range(2,10,1):\n",
        "    modelArbol = DecisionTreeClassifier(random_state=84, min_samples_split=k)\n",
        "    modelArbol.fit(trainData, trainLabels)\n",
        "    score = modelArbol.score(valData,valLabels)\n",
        "    print(\"k=%d, precisión=%.2f%%\" % (k, score * 100))\n"
      ]
    },
    {
      "cell_type": "markdown",
      "metadata": {
        "id": "p77GPtjqZBfa"
      },
      "source": [
        "##### Pregunta\n",
        "Entre los valores anteriores, ¿Con qué valor de min_samples_split obtenemos mejor precisión?\n"
      ]
    },
    {
      "cell_type": "markdown",
      "metadata": {
        "collapsed": true,
        "id": "L68Z4X-wZBfa"
      },
      "source": [
        "#k=7 para el arbol de decisión"
      ]
    },
    {
      "cell_type": "markdown",
      "metadata": {
        "id": "7kKA1p3eZBfa"
      },
      "source": [
        "**Regresión logística**\n",
        "\n",
        "Repite lo mismo visto para KNN para la regresión logística con C tomando los valores 0.1,1,10,100, y 1000."
      ]
    },
    {
      "cell_type": "code",
      "execution_count": 10,
      "metadata": {
        "collapsed": true,
        "id": "YPQStnNeZBfa",
        "outputId": "11eded81-89d1-4324-d3eb-5fe52a36ec29",
        "colab": {
          "base_uri": "https://localhost:8080/"
        }
      },
      "outputs": [
        {
          "output_type": "stream",
          "name": "stdout",
          "text": [
            "k=0, precisión=74.14%\n",
            "k=1, precisión=72.41%\n",
            "k=10, precisión=72.41%\n",
            "k=100, precisión=70.69%\n",
            "k=1000, precisión=72.41%\n"
          ]
        }
      ],
      "source": [
        "\n",
        "for k in [0.1,1,10,100,1000]:\n",
        "    modelLR = LogisticRegression(random_state=84, C=k)\n",
        "    modelLR.fit(trainData, trainLabels)\n",
        "    score = modelLR.score(valData,valLabels)\n",
        "    print(\"k=%d, precisión=%.2f%%\" % (k, score * 100))"
      ]
    },
    {
      "cell_type": "markdown",
      "metadata": {
        "id": "xB8kViSuZBfa"
      },
      "source": [
        "##### Pregunta\n",
        "Entre los valores anteriores, ¿Con qué valor de C obtenemos mejor precisión?\n"
      ]
    },
    {
      "cell_type": "markdown",
      "metadata": {
        "collapsed": true,
        "id": "bkbs3TO7ZBfb"
      },
      "source": [
        "#Con 1, 10 y 1000 obtenemos el mismo resultado."
      ]
    },
    {
      "cell_type": "markdown",
      "metadata": {
        "id": "jPd_NRhdZBfb"
      },
      "source": [
        "#### 2.2. 10-fold cross validation \n",
        "\n",
        "Una alternativa al método anterior donde hacemos la separación del training set en training y validation de manera manual, consiste en utilizar el k-fold cross validation. Existen distintas alternativas para el k-fold cross validation en sklearn.\n",
        "\n",
        "Recuperamos lo primero todo nuestro conjunto de entrenamiento uniendo el conjunto de entrenamiento y el de validación."
      ]
    },
    {
      "cell_type": "code",
      "execution_count": 11,
      "metadata": {
        "collapsed": true,
        "id": "27rw3McgZBfb"
      },
      "outputs": [],
      "source": [
        "import numpy as np\n",
        "trainData=np.concatenate((trainData,valData),axis=0)\n",
        "trainLabels=np.concatenate((trainLabels,valLabels),axis=0)"
      ]
    },
    {
      "cell_type": "markdown",
      "metadata": {
        "id": "l_1VammAZBfb"
      },
      "source": [
        "**KNN**\n",
        "\n",
        "La manera más sencilla de utilizar el k-fold validation consiste en utilizar la función `cross_val_score`."
      ]
    },
    {
      "cell_type": "code",
      "execution_count": 12,
      "metadata": {
        "collapsed": true,
        "id": "I3-ZuA-bZBfc",
        "outputId": "48be6d98-4c1e-4a4e-fed3-92300b0acf0c",
        "colab": {
          "base_uri": "https://localhost:8080/"
        }
      },
      "outputs": [
        {
          "output_type": "stream",
          "name": "stdout",
          "text": [
            "k=1, Precisión: 0.71 (+/- 0.08)\n",
            "k=3, Precisión: 0.72 (+/- 0.08)\n",
            "k=5, Precisión: 0.74 (+/- 0.12)\n",
            "k=7, Precisión: 0.76 (+/- 0.10)\n",
            "k=9, Precisión: 0.77 (+/- 0.12)\n",
            "k=11, Precisión: 0.76 (+/- 0.12)\n",
            "k=13, Precisión: 0.76 (+/- 0.08)\n",
            "k=15, Precisión: 0.76 (+/- 0.07)\n",
            "k=17, Precisión: 0.75 (+/- 0.07)\n",
            "k=19, Precisión: 0.75 (+/- 0.07)\n",
            "k=21, Precisión: 0.75 (+/- 0.08)\n",
            "k=23, Precisión: 0.76 (+/- 0.09)\n",
            "k=25, Precisión: 0.75 (+/- 0.06)\n"
          ]
        }
      ],
      "source": [
        "from sklearn.model_selection import cross_val_score\n",
        "\n",
        "for k in range(1,26,2):\n",
        "    modelKNN = KNeighborsClassifier(n_neighbors=k)\n",
        "    scores = cross_val_score(modelKNN,trainData,trainLabels,cv=10)\n",
        "    print(\"k=%d, Precisión: %0.2f (+/- %0.2f)\" % (k, scores.mean(), scores.std() * 2))"
      ]
    },
    {
      "cell_type": "markdown",
      "metadata": {
        "id": "jP6_7xaAZBfc"
      },
      "source": [
        "##### Pregunta\n",
        "Entre los valores anteriores, ¿con qué valor de k obtenemos mejor precisión?"
      ]
    },
    {
      "cell_type": "markdown",
      "metadata": {
        "collapsed": true,
        "id": "vBviYUYPZBfc"
      },
      "source": [
        "K=9 "
      ]
    },
    {
      "cell_type": "markdown",
      "metadata": {
        "id": "pb_pFiloZBfd"
      },
      "source": [
        "#### 2.3. K-fold combinado con GridSearch method\n",
        "\n",
        "La mejor manera de seleccionar hiperparámetros consiste en combinar el k-fold cross validation con técnicas de búsqueda como el GridSearch o RandomSearch."
      ]
    },
    {
      "cell_type": "markdown",
      "metadata": {
        "id": "JTsKr9RjZBfd"
      },
      "source": [
        "**SVM**\n",
        "\n",
        "Veámos primero cómo seleccionar los mejores hiperparámetros para la regresión logística usando GridSearch (que ya por debajo utiliza cross-validation)."
      ]
    },
    {
      "cell_type": "code",
      "execution_count": 13,
      "metadata": {
        "collapsed": true,
        "id": "cA1gWLwJZBfd"
      },
      "outputs": [],
      "source": [
        "from sklearn.model_selection import GridSearchCV"
      ]
    },
    {
      "cell_type": "markdown",
      "metadata": {
        "id": "TQESbdRZZBfe"
      },
      "source": [
        "Para utilizar este método debemos fijar: \n",
        "\n",
        "(1) el clasificador que vamos a utilizar"
      ]
    },
    {
      "cell_type": "code",
      "execution_count": 14,
      "metadata": {
        "collapsed": true,
        "id": "7pyHWIIPZBfe"
      },
      "outputs": [],
      "source": [
        "modelLR = LogisticRegression()"
      ]
    },
    {
      "cell_type": "markdown",
      "metadata": {
        "id": "CvbLxKxvZBfe"
      },
      "source": [
        "(2) el espacio de parámetros a buscar"
      ]
    },
    {
      "cell_type": "code",
      "execution_count": 15,
      "metadata": {
        "collapsed": true,
        "id": "ZsyCrxVPZBff"
      },
      "outputs": [],
      "source": [
        "tuned_parameters = [{'solver': ['newton-cg', 'lbfgs'], 'penalty': ['l2', 'none'],\n",
        "                     'C': [0.01, 0.1,1, 10]},\n",
        "                    {'solver': ['liblinear'], 'penalty': ['l2', 'l1'],\n",
        "                     'C': [0.01, 0.1,1, 10]}]"
      ]
    },
    {
      "cell_type": "markdown",
      "metadata": {
        "id": "GQsf7tGYZBff"
      },
      "source": [
        "(3) La función (o funciones) de evaluación."
      ]
    },
    {
      "cell_type": "code",
      "execution_count": 16,
      "metadata": {
        "collapsed": true,
        "id": "zUgrxaZEZBff"
      },
      "outputs": [],
      "source": [
        "scores = ['precision', 'recall']"
      ]
    },
    {
      "cell_type": "markdown",
      "metadata": {
        "id": "e7FTVuqrZBff"
      },
      "source": [
        "A continuación definimos una función que tomando estos parámetros, y el número de folds, busca el mejor conjunto de hiperparámetros a utilizar para el modelo dado. "
      ]
    },
    {
      "cell_type": "code",
      "execution_count": 17,
      "metadata": {
        "collapsed": true,
        "id": "Zd5rzF0BZBfg"
      },
      "outputs": [],
      "source": [
        "def gridsearch(model,parameters,scores,k):\n",
        "    for score in scores:\n",
        "        print(\"# Tuning hyper-parameters for %s\" % score)\n",
        "        print()\n",
        "\n",
        "        clf = GridSearchCV(model, parameters, cv=k,\n",
        "                           scoring='%s_macro' % score)\n",
        "        clf.fit(trainData, trainLabels)\n",
        "\n",
        "        print(\"Best parameters set found on development set:\")\n",
        "        print()\n",
        "        print(clf.best_params_)\n",
        "        print()\n",
        "        print(\"Grid scores on development set:\")\n",
        "        print()\n",
        "        means = clf.cv_results_['mean_test_score']\n",
        "        stds = clf.cv_results_['std_test_score']\n",
        "        for mean, std, params in zip(means, stds, clf.cv_results_['params']):\n",
        "            print(\"%0.3f (+/-%0.03f) for %r\"\n",
        "                  % (mean, std * 2, params))\n",
        "        print()"
      ]
    },
    {
      "cell_type": "markdown",
      "metadata": {
        "id": "5J567Ew9ZBfg"
      },
      "source": [
        "Por ejemplo, para buscar los mejores hiperparámetros para el modelo de regresión logística utilizamos la siguiente instrucción. La ejecución de la siguiente celda puede llevar bastante tiempo."
      ]
    },
    {
      "cell_type": "code",
      "execution_count": 18,
      "metadata": {
        "collapsed": true,
        "id": "jburaOVlZBfh",
        "outputId": "a74d80d7-fd57-4f21-e3e7-7691988d2078",
        "colab": {
          "base_uri": "https://localhost:8080/"
        }
      },
      "outputs": [
        {
          "output_type": "stream",
          "name": "stdout",
          "text": [
            "CPU times: user 4 µs, sys: 1 µs, total: 5 µs\n",
            "Wall time: 8.58 µs\n",
            "# Tuning hyper-parameters for precision\n",
            "\n",
            "Best parameters set found on development set:\n",
            "\n",
            "{'C': 0.01, 'penalty': 'none', 'solver': 'lbfgs'}\n",
            "\n",
            "Grid scores on development set:\n",
            "\n",
            "0.766 (+/-0.056) for {'C': 0.01, 'penalty': 'l2', 'solver': 'newton-cg'}\n",
            "0.764 (+/-0.062) for {'C': 0.01, 'penalty': 'l2', 'solver': 'lbfgs'}\n",
            "0.762 (+/-0.061) for {'C': 0.01, 'penalty': 'none', 'solver': 'newton-cg'}\n",
            "0.769 (+/-0.054) for {'C': 0.01, 'penalty': 'none', 'solver': 'lbfgs'}\n",
            "0.756 (+/-0.072) for {'C': 0.1, 'penalty': 'l2', 'solver': 'newton-cg'}\n",
            "0.760 (+/-0.068) for {'C': 0.1, 'penalty': 'l2', 'solver': 'lbfgs'}\n",
            "0.762 (+/-0.061) for {'C': 0.1, 'penalty': 'none', 'solver': 'newton-cg'}\n",
            "0.769 (+/-0.054) for {'C': 0.1, 'penalty': 'none', 'solver': 'lbfgs'}\n",
            "0.760 (+/-0.068) for {'C': 1, 'penalty': 'l2', 'solver': 'newton-cg'}\n",
            "0.764 (+/-0.058) for {'C': 1, 'penalty': 'l2', 'solver': 'lbfgs'}\n",
            "0.762 (+/-0.061) for {'C': 1, 'penalty': 'none', 'solver': 'newton-cg'}\n",
            "0.769 (+/-0.054) for {'C': 1, 'penalty': 'none', 'solver': 'lbfgs'}\n",
            "0.760 (+/-0.068) for {'C': 10, 'penalty': 'l2', 'solver': 'newton-cg'}\n",
            "0.769 (+/-0.054) for {'C': 10, 'penalty': 'l2', 'solver': 'lbfgs'}\n",
            "0.762 (+/-0.061) for {'C': 10, 'penalty': 'none', 'solver': 'newton-cg'}\n",
            "0.769 (+/-0.054) for {'C': 10, 'penalty': 'none', 'solver': 'lbfgs'}\n",
            "0.650 (+/-0.039) for {'C': 0.01, 'penalty': 'l2', 'solver': 'liblinear'}\n",
            "0.645 (+/-0.045) for {'C': 0.01, 'penalty': 'l1', 'solver': 'liblinear'}\n",
            "0.680 (+/-0.054) for {'C': 0.1, 'penalty': 'l2', 'solver': 'liblinear'}\n",
            "0.732 (+/-0.061) for {'C': 0.1, 'penalty': 'l1', 'solver': 'liblinear'}\n",
            "0.755 (+/-0.040) for {'C': 1, 'penalty': 'l2', 'solver': 'liblinear'}\n",
            "0.758 (+/-0.065) for {'C': 1, 'penalty': 'l1', 'solver': 'liblinear'}\n",
            "0.761 (+/-0.062) for {'C': 10, 'penalty': 'l2', 'solver': 'liblinear'}\n",
            "0.760 (+/-0.068) for {'C': 10, 'penalty': 'l1', 'solver': 'liblinear'}\n",
            "\n",
            "# Tuning hyper-parameters for recall\n",
            "\n",
            "Best parameters set found on development set:\n",
            "\n",
            "{'C': 0.01, 'penalty': 'none', 'solver': 'lbfgs'}\n",
            "\n",
            "Grid scores on development set:\n",
            "\n",
            "0.729 (+/-0.051) for {'C': 0.01, 'penalty': 'l2', 'solver': 'newton-cg'}\n",
            "0.728 (+/-0.052) for {'C': 0.01, 'penalty': 'l2', 'solver': 'lbfgs'}\n",
            "0.729 (+/-0.057) for {'C': 0.01, 'penalty': 'none', 'solver': 'newton-cg'}\n",
            "0.733 (+/-0.057) for {'C': 0.01, 'penalty': 'none', 'solver': 'lbfgs'}\n",
            "0.723 (+/-0.074) for {'C': 0.1, 'penalty': 'l2', 'solver': 'newton-cg'}\n",
            "0.726 (+/-0.075) for {'C': 0.1, 'penalty': 'l2', 'solver': 'lbfgs'}\n",
            "0.729 (+/-0.057) for {'C': 0.1, 'penalty': 'none', 'solver': 'newton-cg'}\n",
            "0.733 (+/-0.057) for {'C': 0.1, 'penalty': 'none', 'solver': 'lbfgs'}\n",
            "0.727 (+/-0.066) for {'C': 1, 'penalty': 'l2', 'solver': 'newton-cg'}\n",
            "0.731 (+/-0.056) for {'C': 1, 'penalty': 'l2', 'solver': 'lbfgs'}\n",
            "0.729 (+/-0.057) for {'C': 1, 'penalty': 'none', 'solver': 'newton-cg'}\n",
            "0.733 (+/-0.057) for {'C': 1, 'penalty': 'none', 'solver': 'lbfgs'}\n",
            "0.727 (+/-0.066) for {'C': 10, 'penalty': 'l2', 'solver': 'newton-cg'}\n",
            "0.733 (+/-0.057) for {'C': 10, 'penalty': 'l2', 'solver': 'lbfgs'}\n",
            "0.729 (+/-0.057) for {'C': 10, 'penalty': 'none', 'solver': 'newton-cg'}\n",
            "0.733 (+/-0.057) for {'C': 10, 'penalty': 'none', 'solver': 'lbfgs'}\n",
            "0.600 (+/-0.054) for {'C': 0.01, 'penalty': 'l2', 'solver': 'liblinear'}\n",
            "0.582 (+/-0.042) for {'C': 0.01, 'penalty': 'l1', 'solver': 'liblinear'}\n",
            "0.628 (+/-0.051) for {'C': 0.1, 'penalty': 'l2', 'solver': 'liblinear'}\n",
            "0.682 (+/-0.049) for {'C': 0.1, 'penalty': 'l1', 'solver': 'liblinear'}\n",
            "0.708 (+/-0.053) for {'C': 1, 'penalty': 'l2', 'solver': 'liblinear'}\n",
            "0.724 (+/-0.064) for {'C': 1, 'penalty': 'l1', 'solver': 'liblinear'}\n",
            "0.726 (+/-0.063) for {'C': 10, 'penalty': 'l2', 'solver': 'liblinear'}\n",
            "0.727 (+/-0.066) for {'C': 10, 'penalty': 'l1', 'solver': 'liblinear'}\n",
            "\n"
          ]
        }
      ],
      "source": [
        "import time\n",
        "%time\n",
        "gridsearch(modelLR,tuned_parameters,scores,5)"
      ]
    },
    {
      "cell_type": "markdown",
      "metadata": {
        "id": "lTugH39DZBfh"
      },
      "source": [
        "##### Pregunta\n",
        "\n",
        "¿Con qué valores se obtienen mejores resultados?\n"
      ]
    },
    {
      "cell_type": "markdown",
      "source": [
        ""
      ],
      "metadata": {
        "id": "lQXA3db2X0UY"
      }
    },
    {
      "cell_type": "markdown",
      "metadata": {
        "collapsed": true,
        "id": "fsSg9z42ZBfh"
      },
      "source": [
        "Tuning hyper-parameters for precision {'C': 0.01, 'penalty': 'none', 'solver': 'lbfgs'}\n",
        "\n",
        "Tuning hyper-parameters for recall {'C': 0.01, 'penalty': 'none', 'solver': 'lbfgs'}"
      ]
    },
    {
      "cell_type": "markdown",
      "metadata": {
        "id": "WLvaYEj8ZBfh"
      },
      "source": [
        "#### 2.4. K-fold combinado con RandomSearch method\n",
        "\n",
        "Como podemos ver el proceso anterior es bastante costoso ya que es necesario probar todas las posibles combinaciones y además utilizando k-fold cross validation. Una alternativa a esta aproximación consiste en utilizar Random Search que no hace una búsqueda exhaustiva con todos los hiperparámetros sino que hace una búsqueda aleatorea. "
      ]
    },
    {
      "cell_type": "code",
      "execution_count": 19,
      "metadata": {
        "collapsed": true,
        "id": "DseQTbDbZBfi"
      },
      "outputs": [],
      "source": [
        "from sklearn.model_selection import RandomizedSearchCV\n",
        "from scipy.stats import randint as sp_randint\n",
        "\n",
        "def randomsearch(model,parameters,scores,k=5):\n",
        "    for score in scores:  \n",
        "      print(\"# Tuning hyper-parameters for %s\" % score)\n",
        "      print()\n",
        "\n",
        "      clf = RandomizedSearchCV(model, parameters,cv=k)\n",
        "      clf.fit(trainData, trainLabels)\n",
        "\n",
        "      print(\"Best parameters set found on development set:\")\n",
        "      print()\n",
        "      print(clf.best_params_)\n",
        "      print()"
      ]
    },
    {
      "cell_type": "markdown",
      "metadata": {
        "id": "PTv28DFwZBfi"
      },
      "source": [
        "Podemos ejecutar la función anterior con la siguiente celda. "
      ]
    },
    {
      "cell_type": "code",
      "execution_count": 20,
      "metadata": {
        "collapsed": true,
        "id": "svSqNgSvZBfi",
        "outputId": "e458da75-f55c-4c9f-a0cc-49cfea1106c6",
        "colab": {
          "base_uri": "https://localhost:8080/"
        }
      },
      "outputs": [
        {
          "output_type": "stream",
          "name": "stdout",
          "text": [
            "CPU times: user 5 µs, sys: 0 ns, total: 5 µs\n",
            "Wall time: 9.06 µs\n",
            "# Tuning hyper-parameters for precision\n",
            "\n",
            "Best parameters set found on development set:\n",
            "\n",
            "{'solver': 'lbfgs', 'penalty': 'none', 'C': 1}\n",
            "\n",
            "# Tuning hyper-parameters for recall\n",
            "\n",
            "Best parameters set found on development set:\n",
            "\n",
            "{'solver': 'lbfgs', 'penalty': 'none', 'C': 0.1}\n",
            "\n"
          ]
        }
      ],
      "source": [
        "%time\n",
        "randomsearch(modelLR, {'solver': ['newton-cg', 'lbfgs'], 'penalty': ['l2', 'none'],\n",
        "                     'C': [0.01, 0.1,1, 10]},scores,5)"
      ]
    },
    {
      "cell_type": "markdown",
      "metadata": {
        "id": "JL9-vvRwZBfi"
      },
      "source": [
        "##### Pregunta\n",
        "\n",
        "¿Con qué valores se obtienen mejores resultados?"
      ]
    },
    {
      "cell_type": "markdown",
      "metadata": {
        "collapsed": true,
        "id": "Kpf1KI8eZBfj"
      },
      "source": [
        "Tuning hyper-parameters for precision{'solver': 'lbfgs', 'penalty': 'l2', 'C': 10} , \n",
        "Tuning hyper-parameters for recall {'solver': 'lbfgs', 'penalty': 'l2', 'C': 10}"
      ]
    },
    {
      "cell_type": "markdown",
      "metadata": {
        "id": "splquhH0ZBfj"
      },
      "source": [
        "##### Ejercicio\n",
        "\n",
        "Utilizando RandomSearch busca los mejores hiperparámetros para una red neuronal multicapa con las siguientes configuraciones de capas (5,2), (3,3,3), (5,3,2), (5,4,3,2); con funciones de activación: ‘identity’, ‘logistic’, ‘tanh’, ‘relu’; con momentum: 0.9,0.95,0.99; y learning_rate_init: 0.001,0.01,0.1."
      ]
    },
    {
      "cell_type": "code",
      "source": [
        "from sklearn.neural_network import MLPClassifier\n",
        "modelMultiLayerPerceptron = MLPClassifier()"
      ],
      "metadata": {
        "id": "s_DJjYcrp72M"
      },
      "execution_count": 21,
      "outputs": []
    },
    {
      "cell_type": "code",
      "execution_count": 22,
      "metadata": {
        "collapsed": true,
        "id": "JgTmDlwPZBfj",
        "colab": {
          "base_uri": "https://localhost:8080/"
        },
        "outputId": "fa1603c1-53b5-4f09-e7df-a373c3aa86b9"
      },
      "outputs": [
        {
          "output_type": "stream",
          "name": "stdout",
          "text": [
            "CPU times: user 4 µs, sys: 0 ns, total: 4 µs\n",
            "Wall time: 8.34 µs\n",
            "# Tuning hyper-parameters for precision\n",
            "\n",
            "Best parameters set found on development set:\n",
            "\n",
            "{'momentum': 0.95, 'learning_rate_init': 0.01, 'hidden_layer_sizes': (5, 2), 'activation': 'logistic'}\n",
            "\n",
            "# Tuning hyper-parameters for recall\n",
            "\n",
            "Best parameters set found on development set:\n",
            "\n",
            "{'momentum': 0.9, 'learning_rate_init': 0.1, 'hidden_layer_sizes': (5, 2), 'activation': 'identity'}\n",
            "\n"
          ]
        }
      ],
      "source": [
        "%time\n",
        "randomsearch(modelMultiLayerPerceptron, {'hidden_layer_sizes': [(5,2), (3,3,3), (5,3,2), (5,4,3,2)], 'activation': ['identity', 'logistic', 'tanh', 'relu'],\n",
        "                     'momentum': [ 0.9,0.95,0.99] , 'learning_rate_init' : [0.001,0.01,0.1]},scores,5)"
      ]
    },
    {
      "cell_type": "markdown",
      "metadata": {
        "id": "iZ7yjC0fZBfj"
      },
      "source": [
        "##### Pregunta\n",
        "¿Con qué valores se obtienen mejores resultados?"
      ]
    },
    {
      "cell_type": "markdown",
      "source": [
        " Tuning hyper-parameters for precision\n",
        "\n",
        "Best parameters set found on development set:\n",
        "\n",
        "{'momentum': 0.99, 'learning_rate_init': 0.01, 'hidden_layer_sizes': (5, 4, 3, 2), 'activation': 'identity'}\n",
        "\n",
        " Tuning hyper-parameters for recall\n",
        "\n",
        "Best parameters set found on development set:\n",
        "\n",
        "{'momentum': 0.95, 'learning_rate_init': 0.1, 'hidden_layer_sizes': (5, 3, 2), 'activation': 'identity'}\n"
      ],
      "metadata": {
        "id": "RIDih019rxgR"
      }
    },
    {
      "cell_type": "markdown",
      "metadata": {
        "id": "Wx8y97UwZBfk"
      },
      "source": [
        "##### Ejercicio\n",
        "Utilizando los hiperparámetros que mejores resultados han dado hasta ahora para cada modelo, define y entrena un clasificador para cada uno de ellos."
      ]
    },
    {
      "cell_type": "markdown",
      "metadata": {
        "id": "2AiKBO1mZBfk"
      },
      "source": [
        "**KNN**"
      ]
    },
    {
      "cell_type": "code",
      "execution_count": 23,
      "metadata": {
        "collapsed": true,
        "id": "QucyetroZBfk",
        "colab": {
          "base_uri": "https://localhost:8080/"
        },
        "outputId": "05563d2e-4f23-4bc7-91a5-c723dc46c328"
      },
      "outputs": [
        {
          "output_type": "execute_result",
          "data": {
            "text/plain": [
              "KNeighborsClassifier(n_neighbors=11)"
            ]
          },
          "metadata": {},
          "execution_count": 23
        }
      ],
      "source": [
        "modelKNN = KNeighborsClassifier(n_neighbors=11)\n",
        "modelKNN.fit(trainData, trainLabels)"
      ]
    },
    {
      "cell_type": "markdown",
      "metadata": {
        "id": "l9kGRBbnZBfl"
      },
      "source": [
        "**Árboles de decisión**"
      ]
    },
    {
      "cell_type": "code",
      "execution_count": 24,
      "metadata": {
        "collapsed": true,
        "id": "QJSnAWxqZBfl",
        "colab": {
          "base_uri": "https://localhost:8080/"
        },
        "outputId": "5d72c974-8054-4d9f-b3cd-735b2c1014d9"
      },
      "outputs": [
        {
          "output_type": "execute_result",
          "data": {
            "text/plain": [
              "DecisionTreeClassifier(min_samples_split=7, random_state=84)"
            ]
          },
          "metadata": {},
          "execution_count": 24
        }
      ],
      "source": [
        "modelArbol = DecisionTreeClassifier(random_state=84, min_samples_split=7)\n",
        "modelArbol.fit(trainData, trainLabels)"
      ]
    },
    {
      "cell_type": "markdown",
      "metadata": {
        "id": "QO6DGDRsZBfl"
      },
      "source": [
        "**Regresión Logística**"
      ]
    },
    {
      "cell_type": "code",
      "execution_count": 25,
      "metadata": {
        "collapsed": true,
        "id": "Ma2TQERYZBfl",
        "colab": {
          "base_uri": "https://localhost:8080/"
        },
        "outputId": "94d7b7c6-071c-4930-b1e0-f5078839ce28"
      },
      "outputs": [
        {
          "output_type": "execute_result",
          "data": {
            "text/plain": [
              "LogisticRegression(C=0.01, penalty='none')"
            ]
          },
          "metadata": {},
          "execution_count": 25
        }
      ],
      "source": [
        "modelLR = LogisticRegression(C=0.01, penalty='none', solver='lbfgs')\n",
        "modelLR.fit(trainData, trainLabels)"
      ]
    },
    {
      "cell_type": "markdown",
      "metadata": {
        "id": "AdCC_N2TZBfm"
      },
      "source": [
        "**Redes neuronales**"
      ]
    },
    {
      "cell_type": "code",
      "execution_count": 26,
      "metadata": {
        "collapsed": true,
        "id": "WI6sAHvdZBfm",
        "colab": {
          "base_uri": "https://localhost:8080/"
        },
        "outputId": "62481322-bcb2-47dc-b092-92ca34fe716a"
      },
      "outputs": [
        {
          "output_type": "execute_result",
          "data": {
            "text/plain": [
              "MLPClassifier(hidden_layer_sizes=(3, 3, 3), learning_rate_init=0.01,\n",
              "              momentum=0.95)"
            ]
          },
          "metadata": {},
          "execution_count": 26
        }
      ],
      "source": [
        "modelMultiLayerPerceptron = MLPClassifier(momentum= 0.95, learning_rate_init= 0.01, hidden_layer_sizes=(3, 3, 3), activation= 'relu')\n",
        "modelMultiLayerPerceptron.fit(trainData, trainLabels)"
      ]
    },
    {
      "cell_type": "markdown",
      "metadata": {
        "id": "6FYNnuuRZBfm"
      },
      "source": [
        "### 3. Evaluando los algoritmos en el conjunto de test\n",
        "\n",
        "Para evaluar los distintos algoritmos vamos a utilizar la función classification_report de la librería sklearn. Para ello hacemos la predicción con respecto al conjunto de test y mostramos los resultados."
      ]
    },
    {
      "cell_type": "code",
      "execution_count": 27,
      "metadata": {
        "collapsed": true,
        "id": "pc9hWLVnZBfm",
        "colab": {
          "base_uri": "https://localhost:8080/"
        },
        "outputId": "5eab5d05-3bb5-4bd9-86f1-a6986cee7bf4"
      },
      "outputs": [
        {
          "output_type": "stream",
          "name": "stdout",
          "text": [
            "EVALUACIÓN EN CONJUNTO DE TEST USANDO KNN\n",
            "              precision    recall  f1-score   support\n",
            "\n",
            "         0.0       0.75      0.77      0.76       123\n",
            "         1.0       0.58      0.55      0.56        69\n",
            "\n",
            "    accuracy                           0.69       192\n",
            "   macro avg       0.66      0.66      0.66       192\n",
            "weighted avg       0.69      0.69      0.69       192\n",
            "\n"
          ]
        }
      ],
      "source": [
        "from sklearn.metrics import classification_report\n",
        "\n",
        "print(\"EVALUACIÓN EN CONJUNTO DE TEST USANDO KNN\")\n",
        "predictionsKNN = modelKNN.predict(testData)\n",
        "print(classification_report(testLabels, predictionsKNN))"
      ]
    },
    {
      "cell_type": "markdown",
      "metadata": {
        "id": "nX3fsS4_ZBfn"
      },
      "source": [
        "##### Ejercicio\n",
        "Repite lo mismo para árboles de decisión, regresión logística, SVMs, y redes neuronales multicapa."
      ]
    },
    {
      "cell_type": "markdown",
      "metadata": {
        "id": "Lu4MlJP8ZBfn"
      },
      "source": [
        "**Árboles de decisión**"
      ]
    },
    {
      "cell_type": "code",
      "execution_count": 28,
      "metadata": {
        "collapsed": true,
        "id": "jIqpKKsOZBfn",
        "colab": {
          "base_uri": "https://localhost:8080/"
        },
        "outputId": "5058bc74-ee63-4537-d59a-8021cfaf58c0"
      },
      "outputs": [
        {
          "output_type": "stream",
          "name": "stdout",
          "text": [
            "EVALUACIÓN EN CONJUNTO DE TEST USANDO ARBOL\n",
            "              precision    recall  f1-score   support\n",
            "\n",
            "         0.0       0.79      0.72      0.75       123\n",
            "         1.0       0.56      0.65      0.60        69\n",
            "\n",
            "    accuracy                           0.69       192\n",
            "   macro avg       0.67      0.68      0.68       192\n",
            "weighted avg       0.71      0.69      0.70       192\n",
            "\n"
          ]
        }
      ],
      "source": [
        "print(\"EVALUACIÓN EN CONJUNTO DE TEST USANDO ARBOL\")\n",
        "predictionsArbol = modelArbol.predict(testData)\n",
        "print(classification_report(testLabels, predictionsArbol))"
      ]
    },
    {
      "cell_type": "markdown",
      "metadata": {
        "id": "RAGQcvTLZBfn"
      },
      "source": [
        "**Regresión Logística**"
      ]
    },
    {
      "cell_type": "code",
      "execution_count": 29,
      "metadata": {
        "collapsed": true,
        "id": "WEWos-URZBfn",
        "colab": {
          "base_uri": "https://localhost:8080/"
        },
        "outputId": "9e67a8d0-56e8-4049-9fc4-00e1e796aae6"
      },
      "outputs": [
        {
          "output_type": "stream",
          "name": "stdout",
          "text": [
            "EVALUACIÓN EN CONJUNTO DE TEST USANDO REGRESION LOGISTICA\n",
            "              precision    recall  f1-score   support\n",
            "\n",
            "         0.0       0.80      0.77      0.79       123\n",
            "         1.0       0.62      0.65      0.63        69\n",
            "\n",
            "    accuracy                           0.73       192\n",
            "   macro avg       0.71      0.71      0.71       192\n",
            "weighted avg       0.73      0.73      0.73       192\n",
            "\n"
          ]
        }
      ],
      "source": [
        "print(\"EVALUACIÓN EN CONJUNTO DE TEST USANDO REGRESION LOGISTICA\")\n",
        "predictionsLR = modelLR.predict(testData)\n",
        "print(classification_report(testLabels, predictionsLR))"
      ]
    },
    {
      "cell_type": "markdown",
      "metadata": {
        "id": "ueTWDte8ZBfo"
      },
      "source": [
        "**Redes neuronales**"
      ]
    },
    {
      "cell_type": "code",
      "execution_count": 30,
      "metadata": {
        "collapsed": true,
        "id": "9RzppSNfZBfo",
        "colab": {
          "base_uri": "https://localhost:8080/"
        },
        "outputId": "0d8a0ec2-e196-4e62-e01c-fdd2d87bfffe"
      },
      "outputs": [
        {
          "output_type": "stream",
          "name": "stdout",
          "text": [
            "EVALUACIÓN EN CONJUNTO DE TEST USANDO REDES NEURONALES\n",
            "              precision    recall  f1-score   support\n",
            "\n",
            "         0.0       0.66      0.93      0.77       123\n",
            "         1.0       0.55      0.16      0.25        69\n",
            "\n",
            "    accuracy                           0.65       192\n",
            "   macro avg       0.61      0.54      0.51       192\n",
            "weighted avg       0.62      0.65      0.58       192\n",
            "\n"
          ]
        }
      ],
      "source": [
        "print(\"EVALUACIÓN EN CONJUNTO DE TEST USANDO REDES NEURONALES\")\n",
        "predictionsMLP = modelMultiLayerPerceptron.predict(testData)\n",
        "print(classification_report(testLabels, predictionsMLP))"
      ]
    },
    {
      "cell_type": "markdown",
      "metadata": {
        "id": "L4k9NIULZBfo"
      },
      "source": [
        "##### Pregunta\n",
        "¿Cuál de los clasificadores obtiene mejor precisión? ¿y recall? ¿y f-score?"
      ]
    },
    {
      "cell_type": "markdown",
      "metadata": {
        "collapsed": true,
        "id": "zyX6H2KHZBfp"
      },
      "source": [
        "La mejor precision la obtiene la regresión logística, el mejor recall la red neuronal, y el mejor f-score la regresión logística nuevamente"
      ]
    },
    {
      "cell_type": "markdown",
      "metadata": {
        "id": "ipmywugvZBfp"
      },
      "source": [
        "### 4. Comparando los algoritmos\n",
        "\n",
        "Hemos visto cómo obtener informes de las clasificaciones, pero para comparar los algoritmos puede resultar útil utilizar las curvas ROC de cada uno de ellos."
      ]
    },
    {
      "cell_type": "code",
      "execution_count": 31,
      "metadata": {
        "collapsed": true,
        "id": "Laq_cl90ZBfp"
      },
      "outputs": [],
      "source": [
        "import matplotlib.pyplot as plt\n",
        "from sklearn.metrics import roc_curve, auc\n",
        "%matplotlib inline"
      ]
    },
    {
      "cell_type": "markdown",
      "metadata": {
        "id": "-OyLXwWcZBfp"
      },
      "source": [
        "##### Ejercicio\n",
        "\n",
        "Estudia lo que hace la siguiente función."
      ]
    },
    {
      "cell_type": "code",
      "execution_count": 32,
      "metadata": {
        "collapsed": true,
        "id": "D6BYzewfZBfp"
      },
      "outputs": [],
      "source": [
        "def drawROCCurves(classifiers,predictions,actualLabels):\n",
        "    plt.close()\n",
        "    plt.figure()\n",
        "    lw = 2\n",
        "    fpr = dict()\n",
        "    tpr=dict()\n",
        "    roc_auc =dict()\n",
        "    for i,_ in enumerate(classifiers):\n",
        "        fpr[i],tpr[i],_=roc_curve(actualLabels,predictions[i])\n",
        "        roc_auc[i]=auc(fpr[i],tpr[i])\n",
        "\n",
        "    colours = ['darkorange','aqua','red','green','cornflowerblue','yellow']\n",
        "    for i,_ in enumerate(classifiers):\n",
        "        plt.plot(fpr[i], tpr[i], color=colours[i], lw=lw, label='ROC curve %s (area = %0.2f)' % (classifiers[i],roc_auc[i]))\n",
        "    plt.plot([0, 1], [0, 1], color='navy', lw=lw, linestyle='--')\n",
        "    plt.xlim([0.0, 1.0])\n",
        "    plt.ylim([0.0, 1.05])\n",
        "    plt.xlabel('False Positive Rate')\n",
        "    plt.ylabel('True Positive Rate')\n",
        "    plt.title('Receiver operating characteristic example')\n",
        "    plt.legend(loc=\"lower right\")\n",
        "    plt.show()"
      ]
    },
    {
      "cell_type": "code",
      "execution_count": 33,
      "metadata": {
        "collapsed": true,
        "id": "SxhNOJkUZBfq",
        "colab": {
          "base_uri": "https://localhost:8080/",
          "height": 294
        },
        "outputId": "f18be66e-af16-440d-dd0b-b5dc768144d9"
      },
      "outputs": [
        {
          "output_type": "display_data",
          "data": {
            "text/plain": [
              "<Figure size 432x288 with 1 Axes>"
            ],
            "image/png": "[encoded data removed]"
          },
          "metadata": {
            "needs_background": "light"
          }
        }
      ],
      "source": [
        "drawROCCurves(['KNN'],[predictionsKNN],testLabels)"
      ]
    },
    {
      "cell_type": "markdown",
      "metadata": {
        "id": "O_W-NkR9ZBfq"
      },
      "source": [
        "##### Ejercicio\n",
        "\n",
        "Utilizando la función anterior genera la curva ROC de todos los clasificadores que has definido anteriormente."
      ]
    },
    {
      "cell_type": "code",
      "execution_count": 34,
      "metadata": {
        "collapsed": true,
        "id": "cl9Z39fnZBfq",
        "colab": {
          "base_uri": "https://localhost:8080/",
          "height": 294
        },
        "outputId": "23096eb5-a202-4361-85ad-f35004a76da7"
      },
      "outputs": [
        {
          "output_type": "display_data",
          "data": {
            "text/plain": [
              "<Figure size 432x288 with 1 Axes>"
            ],
            "image/png": "[encoded data removed]"
          },
          "metadata": {
            "needs_background": "light"
          }
        }
      ],
      "source": [
        "drawROCCurves(['Arbol'],[predictionsArbol],testLabels)"
      ]
    },
    {
      "cell_type": "code",
      "source": [
        "drawROCCurves(['LR'],[predictionsLR],testLabels)"
      ],
      "metadata": {
        "colab": {
          "base_uri": "https://localhost:8080/",
          "height": 294
        },
        "id": "SVq36LUfwRsj",
        "outputId": "971fd023-36ec-4fea-864c-93963e5ec277"
      },
      "execution_count": 35,
      "outputs": [
        {
          "output_type": "display_data",
          "data": {
            "text/plain": [
              "<Figure size 432x288 with 1 Axes>"
            ],
            "image/png": "[encoded data removed]"
          },
          "metadata": {
            "needs_background": "light"
          }
        }
      ]
    },
    {
      "cell_type": "code",
      "source": [
        "drawROCCurves(['MLP'],[predictionsMLP],testLabels)"
      ],
      "metadata": {
        "colab": {
          "base_uri": "https://localhost:8080/",
          "height": 294
        },
        "id": "SWIO9dn2wYAj",
        "outputId": "21fb0e40-3ced-4d8d-95dd-a4180b81cfe9"
      },
      "execution_count": 36,
      "outputs": [
        {
          "output_type": "display_data",
          "data": {
            "text/plain": [
              "<Figure size 432x288 with 1 Axes>"
            ],
            "image/png": "[encoded data removed]"
          },
          "metadata": {
            "needs_background": "light"
          }
        }
      ]
    },
    {
      "cell_type": "markdown",
      "metadata": {
        "id": "Kiakl4tcZBfq"
      },
      "source": [
        "### 5. Estudio estadístico\n",
        "\n",
        "Lo último que vamos a ver en esta parte es cómo realizar un estudio estadístico basado en lo que vimos en clase, para ello utilizaremos la función `compare_methods` disponible en el módulo StatisticalAnalysis. Comienza instalando este módulo usando `pip`."
      ]
    },
    {
      "cell_type": "code",
      "execution_count": 37,
      "metadata": {
        "id": "lD2aCUbTZBfr",
        "colab": {
          "base_uri": "https://localhost:8080/"
        },
        "outputId": "2dc2a21d-0e30-4f23-9789-783c113f7566"
      },
      "outputs": [
        {
          "output_type": "stream",
          "name": "stdout",
          "text": [
            "Requirement already satisfied: StatisticalAnalysis in /usr/local/lib/python3.7/dist-packages (0.0.5)\n"
          ]
        }
      ],
      "source": [
        "!pip install StatisticalAnalysis"
      ]
    },
    {
      "cell_type": "code",
      "execution_count": 38,
      "metadata": {
        "collapsed": true,
        "id": "kM7wJoQKZBfr"
      },
      "outputs": [],
      "source": [
        "from StatisticalAnalysis import compare_methods"
      ]
    },
    {
      "cell_type": "markdown",
      "metadata": {
        "id": "xNw9lQyyZBfr"
      },
      "source": [
        "Para utilizar este método debemos comenzar indicando los algoritmos a utilizar y las distribuciones de los hiperparámetros a optimizar. Vamos a utilizar los 5 modelos vistos hasta ahora: árboles de decisión, SVMs, KNN, Regresión logística y red neuronal, así que definimos estos modelos y los parámetros a optimizar."
      ]
    },
    {
      "cell_type": "code",
      "execution_count": 39,
      "metadata": {
        "collapsed": true,
        "id": "uUCPjXxHZBfs"
      },
      "outputs": [],
      "source": [
        "# Árbol de decisión\n",
        "clfTree = DecisionTreeClassifier(random_state=84)\n",
        "param_distTree = {\"min_samples_split\": sp_randint(3, 30)}\n",
        "# SVM\n",
        "clfSVC = SVC(random_state=84)\n",
        "param_distSVC = {'C': [1, 10, 100, 1000], 'gamma': [0.001, 0.0001],'kernel': ['rbf'], 'class_weight':['balanced', None]}\n",
        "# KNN\n",
        "clfKNN = KNeighborsClassifier()\n",
        "param_distKNN = {'n_neighbors':sp_randint(3, 30)}\n",
        "# Regresión logística\n",
        "clfLR = LogisticRegression(random_state=84)\n",
        "param_distLR = {'C': [0.1,0.5,1, 10, 100, 1000]}\n",
        "# Red neuronal\n",
        "clfMLP = MLPClassifier(random_state=84)\n",
        "param_distMLP = {'activation': ['identity', 'logistic', 'tanh', 'relu'], 'solver': ['lbfgs', 'sgd', 'adam'],\n",
        "                 'alpha': sp_randint(0.0001, 1), 'learning_rate': ['constant', 'invscaling', 'adaptive'],\n",
        "                 'hidden_layer_sizes': [(5,2), (3,3,3), (5,3,2), (5,4,3,2)],\n",
        "                 'momentum': [0.9, 0.95, 0.99]}"
      ]
    },
    {
      "cell_type": "markdown",
      "metadata": {
        "id": "pzczpA8mZBfs"
      },
      "source": [
        "Creamos tres listas que contendrán respectivamente:\n",
        "\n",
        "(1) Los algoritmos:"
      ]
    },
    {
      "cell_type": "code",
      "execution_count": 40,
      "metadata": {
        "collapsed": true,
        "id": "qnoTc9dcZBfs"
      },
      "outputs": [],
      "source": [
        "listAlgorithms = [clfTree,clfSVC,clfKNN,clfLR,clfMLP]"
      ]
    },
    {
      "cell_type": "markdown",
      "metadata": {
        "id": "Gjt92SHmZBfs"
      },
      "source": [
        "(2) Los parámetros a optimizar:"
      ]
    },
    {
      "cell_type": "code",
      "execution_count": 41,
      "metadata": {
        "collapsed": true,
        "id": "IFwuUDKQZBft"
      },
      "outputs": [],
      "source": [
        "listParams = [param_distTree,param_distSVC,param_distKNN,param_distLR,param_distMLP]"
      ]
    },
    {
      "cell_type": "markdown",
      "metadata": {
        "id": "6XjvqKMIZBft"
      },
      "source": [
        "(3) Los nombres de los algoritmos:"
      ]
    },
    {
      "cell_type": "code",
      "execution_count": 42,
      "metadata": {
        "collapsed": true,
        "id": "LnMlkyXuZBft"
      },
      "outputs": [],
      "source": [
        "listNames = [\"Arbol\", \"SVM\", \"KNN\", \"LR\", \"MLP\"]"
      ]
    },
    {
      "cell_type": "markdown",
      "metadata": {
        "id": "ETGDl_7uZBft"
      },
      "source": [
        "Invocamos a la función `compare_methods` pasándole el dataset completo, el conjunto de etiquetas completo, las tres listas definidas anteriormente, y la métrica. Los valores válidos\n",
        "para la métrica son accuracy, precision, recall, f1 o auroc. Al invocar a la función anterior se producirá un informe de resultados. "
      ]
    },
    {
      "cell_type": "code",
      "execution_count": 44,
      "metadata": {
        "collapsed": true,
        "id": "kMN78Hv6ZBft",
        "outputId": "f0cea541-9d73-4e76-a3b4-32e8e9ffa825",
        "colab": {
          "base_uri": "https://localhost:8080/",
          "height": 1000
        }
      },
      "outputs": [
        {
          "output_type": "stream",
          "name": "stderr",
          "text": [
            "Process ForkPoolWorker-10:\n",
            "Process ForkPoolWorker-11:\n",
            "Traceback (most recent call last):\n",
            "Traceback (most recent call last):\n",
            "  File \"/usr/lib/python3.7/multiprocessing/process.py\", line 297, in _bootstrap\n",
            "    self.run()\n",
            "  File \"/usr/lib/python3.7/multiprocessing/process.py\", line 297, in _bootstrap\n",
            "    self.run()\n",
            "  File \"/usr/lib/python3.7/multiprocessing/process.py\", line 99, in run\n",
            "    self._target(*self._args, **self._kwargs)\n",
            "  File \"/usr/lib/python3.7/multiprocessing/process.py\", line 99, in run\n",
            "    self._target(*self._args, **self._kwargs)\n",
            "  File \"/usr/lib/python3.7/multiprocessing/pool.py\", line 121, in worker\n",
            "    result = (True, func(*args, **kwds))\n",
            "  File \"/usr/lib/python3.7/multiprocessing/pool.py\", line 121, in worker\n",
            "    result = (True, func(*args, **kwds))\n",
            "  File \"/usr/lib/python3.7/multiprocessing/pool.py\", line 44, in mapstar\n",
            "    return list(map(*args))\n",
            "  File \"/usr/lib/python3.7/multiprocessing/pool.py\", line 44, in mapstar\n",
            "    return list(map(*args))\n",
            "  File \"/usr/local/lib/python3.7/dist-packages/StatisticalAnalysis/statisticalComparison.py\", line 347, in compare_method\n",
            "    model.fit(trainData, trainLabels)\n",
            "  File \"/usr/local/lib/python3.7/dist-packages/StatisticalAnalysis/statisticalComparison.py\", line 347, in compare_method\n",
            "    model.fit(trainData, trainLabels)\n",
            "  File \"/usr/local/lib/python3.7/dist-packages/sklearn/model_selection/_search.py\", line 891, in fit\n",
            "    self._run_search(evaluate_candidates)\n",
            "  File \"/usr/local/lib/python3.7/dist-packages/sklearn/model_selection/_search.py\", line 1768, in _run_search\n",
            "    self.param_distributions, self.n_iter, random_state=self.random_state\n",
            "  File \"/usr/local/lib/python3.7/dist-packages/sklearn/model_selection/_search.py\", line 891, in fit\n",
            "    self._run_search(evaluate_candidates)\n",
            "  File \"/usr/local/lib/python3.7/dist-packages/sklearn/model_selection/_search.py\", line 851, in evaluate_candidates\n",
            "    enumerate(candidate_params), enumerate(cv.split(X, y, groups))\n"
          ]
        },
        {
          "output_type": "error",
          "ename": "KeyboardInterrupt",
          "evalue": "ignored",
          "traceback": [
            "\u001b[0;31m---------------------------------------------------------------------------\u001b[0m",
            "\u001b[0;31mKeyboardInterrupt\u001b[0m                         Traceback (most recent call last)",
            "\u001b[0;32m<ipython-input-44-1bbf50de5a38>\u001b[0m in \u001b[0;36m<module>\u001b[0;34m()\u001b[0m\n\u001b[0;32m----> 1\u001b[0;31m \u001b[0mcompare_methods\u001b[0m\u001b[0;34m(\u001b[0m\u001b[0mX\u001b[0m\u001b[0;34m,\u001b[0m\u001b[0mY\u001b[0m\u001b[0;34m,\u001b[0m\u001b[0mlistAlgorithms\u001b[0m\u001b[0;34m,\u001b[0m\u001b[0mlistParams\u001b[0m\u001b[0;34m,\u001b[0m\u001b[0mlistNames\u001b[0m\u001b[0;34m,\u001b[0m\u001b[0mmetric\u001b[0m\u001b[0;34m=\u001b[0m\u001b[0;34m'auroc'\u001b[0m\u001b[0;34m)\u001b[0m\u001b[0;34m\u001b[0m\u001b[0;34m\u001b[0m\u001b[0m\n\u001b[0m",
            "\u001b[0;32m/usr/local/lib/python3.7/dist-packages/StatisticalAnalysis/statisticalComparison.py\u001b[0m in \u001b[0;36mcompare_methods\u001b[0;34m(data, labels, listAlgorithms, listParameters, listAlgorithmNames, metric, alpha)\u001b[0m\n\u001b[1;32m    384\u001b[0m     \u001b[0mp\u001b[0m \u001b[0;34m=\u001b[0m \u001b[0mPool\u001b[0m\u001b[0;34m(\u001b[0m\u001b[0mlen\u001b[0m\u001b[0;34m(\u001b[0m\u001b[0mlistAlgorithms\u001b[0m\u001b[0;34m)\u001b[0m\u001b[0;34m)\u001b[0m\u001b[0;34m\u001b[0m\u001b[0;34m\u001b[0m\u001b[0m\n\u001b[1;32m    385\u001b[0m \u001b[0;34m\u001b[0m\u001b[0m\n\u001b[0;32m--> 386\u001b[0;31m     \u001b[0mcomparison\u001b[0m\u001b[0;34m=\u001b[0m\u001b[0mp\u001b[0m\u001b[0;34m.\u001b[0m\u001b[0mmap\u001b[0m\u001b[0;34m(\u001b[0m\u001b[0mcompare_method\u001b[0m\u001b[0;34m,\u001b[0m\u001b[0mtuple\u001b[0m\u001b[0;34m)\u001b[0m\u001b[0;34m\u001b[0m\u001b[0;34m\u001b[0m\u001b[0m\n\u001b[0m\u001b[1;32m    387\u001b[0m     \u001b[0;32mfor\u001b[0m \u001b[0;34m(\u001b[0m\u001b[0mname\u001b[0m\u001b[0;34m,\u001b[0m\u001b[0mcomp\u001b[0m\u001b[0;34m)\u001b[0m \u001b[0;32min\u001b[0m \u001b[0mcomparison\u001b[0m\u001b[0;34m:\u001b[0m\u001b[0;34m\u001b[0m\u001b[0;34m\u001b[0m\u001b[0m\n\u001b[1;32m    388\u001b[0m         \u001b[0mresults\u001b[0m\u001b[0;34m[\u001b[0m\u001b[0mname\u001b[0m\u001b[0;34m]\u001b[0m\u001b[0;34m.\u001b[0m\u001b[0mappend\u001b[0m\u001b[0;34m(\u001b[0m\u001b[0mcomp\u001b[0m\u001b[0;34m)\u001b[0m\u001b[0;34m\u001b[0m\u001b[0;34m\u001b[0m\u001b[0m\n",
            "\u001b[0;32m/usr/lib/python3.7/multiprocessing/pool.py\u001b[0m in \u001b[0;36mmap\u001b[0;34m(self, func, iterable, chunksize)\u001b[0m\n\u001b[1;32m    266\u001b[0m         \u001b[0;32min\u001b[0m \u001b[0ma\u001b[0m \u001b[0mlist\u001b[0m \u001b[0mthat\u001b[0m \u001b[0;32mis\u001b[0m \u001b[0mreturned\u001b[0m\u001b[0;34m.\u001b[0m\u001b[0;34m\u001b[0m\u001b[0;34m\u001b[0m\u001b[0m\n\u001b[1;32m    267\u001b[0m         '''\n\u001b[0;32m--> 268\u001b[0;31m         \u001b[0;32mreturn\u001b[0m \u001b[0mself\u001b[0m\u001b[0;34m.\u001b[0m\u001b[0m_map_async\u001b[0m\u001b[0;34m(\u001b[0m\u001b[0mfunc\u001b[0m\u001b[0;34m,\u001b[0m \u001b[0miterable\u001b[0m\u001b[0;34m,\u001b[0m \u001b[0mmapstar\u001b[0m\u001b[0;34m,\u001b[0m \u001b[0mchunksize\u001b[0m\u001b[0;34m)\u001b[0m\u001b[0;34m.\u001b[0m\u001b[0mget\u001b[0m\u001b[0;34m(\u001b[0m\u001b[0;34m)\u001b[0m\u001b[0;34m\u001b[0m\u001b[0;34m\u001b[0m\u001b[0m\n\u001b[0m\u001b[1;32m    269\u001b[0m \u001b[0;34m\u001b[0m\u001b[0m\n\u001b[1;32m    270\u001b[0m     \u001b[0;32mdef\u001b[0m \u001b[0mstarmap\u001b[0m\u001b[0;34m(\u001b[0m\u001b[0mself\u001b[0m\u001b[0;34m,\u001b[0m \u001b[0mfunc\u001b[0m\u001b[0;34m,\u001b[0m \u001b[0miterable\u001b[0m\u001b[0;34m,\u001b[0m \u001b[0mchunksize\u001b[0m\u001b[0;34m=\u001b[0m\u001b[0;32mNone\u001b[0m\u001b[0;34m)\u001b[0m\u001b[0;34m:\u001b[0m\u001b[0;34m\u001b[0m\u001b[0;34m\u001b[0m\u001b[0m\n",
            "\u001b[0;32m/usr/lib/python3.7/multiprocessing/pool.py\u001b[0m in \u001b[0;36mget\u001b[0;34m(self, timeout)\u001b[0m\n\u001b[1;32m    649\u001b[0m \u001b[0;34m\u001b[0m\u001b[0m\n\u001b[1;32m    650\u001b[0m     \u001b[0;32mdef\u001b[0m \u001b[0mget\u001b[0m\u001b[0;34m(\u001b[0m\u001b[0mself\u001b[0m\u001b[0;34m,\u001b[0m \u001b[0mtimeout\u001b[0m\u001b[0;34m=\u001b[0m\u001b[0;32mNone\u001b[0m\u001b[0;34m)\u001b[0m\u001b[0;34m:\u001b[0m\u001b[0;34m\u001b[0m\u001b[0;34m\u001b[0m\u001b[0m\n\u001b[0;32m--> 651\u001b[0;31m         \u001b[0mself\u001b[0m\u001b[0;34m.\u001b[0m\u001b[0mwait\u001b[0m\u001b[0;34m(\u001b[0m\u001b[0mtimeout\u001b[0m\u001b[0;34m)\u001b[0m\u001b[0;34m\u001b[0m\u001b[0;34m\u001b[0m\u001b[0m\n\u001b[0m\u001b[1;32m    652\u001b[0m         \u001b[0;32mif\u001b[0m \u001b[0;32mnot\u001b[0m \u001b[0mself\u001b[0m\u001b[0;34m.\u001b[0m\u001b[0mready\u001b[0m\u001b[0;34m(\u001b[0m\u001b[0;34m)\u001b[0m\u001b[0;34m:\u001b[0m\u001b[0;34m\u001b[0m\u001b[0;34m\u001b[0m\u001b[0m\n\u001b[1;32m    653\u001b[0m             \u001b[0;32mraise\u001b[0m \u001b[0mTimeoutError\u001b[0m\u001b[0;34m\u001b[0m\u001b[0;34m\u001b[0m\u001b[0m\n",
            "\u001b[0;32m/usr/lib/python3.7/multiprocessing/pool.py\u001b[0m in \u001b[0;36mwait\u001b[0;34m(self, timeout)\u001b[0m\n\u001b[1;32m    646\u001b[0m \u001b[0;34m\u001b[0m\u001b[0m\n\u001b[1;32m    647\u001b[0m     \u001b[0;32mdef\u001b[0m \u001b[0mwait\u001b[0m\u001b[0;34m(\u001b[0m\u001b[0mself\u001b[0m\u001b[0;34m,\u001b[0m \u001b[0mtimeout\u001b[0m\u001b[0;34m=\u001b[0m\u001b[0;32mNone\u001b[0m\u001b[0;34m)\u001b[0m\u001b[0;34m:\u001b[0m\u001b[0;34m\u001b[0m\u001b[0;34m\u001b[0m\u001b[0m\n\u001b[0;32m--> 648\u001b[0;31m         \u001b[0mself\u001b[0m\u001b[0;34m.\u001b[0m\u001b[0m_event\u001b[0m\u001b[0;34m.\u001b[0m\u001b[0mwait\u001b[0m\u001b[0;34m(\u001b[0m\u001b[0mtimeout\u001b[0m\u001b[0;34m)\u001b[0m\u001b[0;34m\u001b[0m\u001b[0;34m\u001b[0m\u001b[0m\n\u001b[0m\u001b[1;32m    649\u001b[0m \u001b[0;34m\u001b[0m\u001b[0m\n\u001b[1;32m    650\u001b[0m     \u001b[0;32mdef\u001b[0m \u001b[0mget\u001b[0m\u001b[0;34m(\u001b[0m\u001b[0mself\u001b[0m\u001b[0;34m,\u001b[0m \u001b[0mtimeout\u001b[0m\u001b[0;34m=\u001b[0m\u001b[0;32mNone\u001b[0m\u001b[0;34m)\u001b[0m\u001b[0;34m:\u001b[0m\u001b[0;34m\u001b[0m\u001b[0;34m\u001b[0m\u001b[0m\n",
            "\u001b[0;32m/usr/lib/python3.7/threading.py\u001b[0m in \u001b[0;36mwait\u001b[0;34m(self, timeout)\u001b[0m\n\u001b[1;32m    550\u001b[0m             \u001b[0msignaled\u001b[0m \u001b[0;34m=\u001b[0m \u001b[0mself\u001b[0m\u001b[0;34m.\u001b[0m\u001b[0m_flag\u001b[0m\u001b[0;34m\u001b[0m\u001b[0;34m\u001b[0m\u001b[0m\n\u001b[1;32m    551\u001b[0m             \u001b[0;32mif\u001b[0m \u001b[0;32mnot\u001b[0m \u001b[0msignaled\u001b[0m\u001b[0;34m:\u001b[0m\u001b[0;34m\u001b[0m\u001b[0;34m\u001b[0m\u001b[0m\n\u001b[0;32m--> 552\u001b[0;31m                 \u001b[0msignaled\u001b[0m \u001b[0;34m=\u001b[0m \u001b[0mself\u001b[0m\u001b[0;34m.\u001b[0m\u001b[0m_cond\u001b[0m\u001b[0;34m.\u001b[0m\u001b[0mwait\u001b[0m\u001b[0;34m(\u001b[0m\u001b[0mtimeout\u001b[0m\u001b[0;34m)\u001b[0m\u001b[0;34m\u001b[0m\u001b[0;34m\u001b[0m\u001b[0m\n\u001b[0m\u001b[1;32m    553\u001b[0m             \u001b[0;32mreturn\u001b[0m \u001b[0msignaled\u001b[0m\u001b[0;34m\u001b[0m\u001b[0;34m\u001b[0m\u001b[0m\n\u001b[1;32m    554\u001b[0m \u001b[0;34m\u001b[0m\u001b[0m\n",
            "\u001b[0;32m/usr/lib/python3.7/threading.py\u001b[0m in \u001b[0;36mwait\u001b[0;34m(self, timeout)\u001b[0m\n\u001b[1;32m    294\u001b[0m         \u001b[0;32mtry\u001b[0m\u001b[0;34m:\u001b[0m    \u001b[0;31m# restore state no matter what (e.g., KeyboardInterrupt)\u001b[0m\u001b[0;34m\u001b[0m\u001b[0;34m\u001b[0m\u001b[0m\n\u001b[1;32m    295\u001b[0m             \u001b[0;32mif\u001b[0m \u001b[0mtimeout\u001b[0m \u001b[0;32mis\u001b[0m \u001b[0;32mNone\u001b[0m\u001b[0;34m:\u001b[0m\u001b[0;34m\u001b[0m\u001b[0;34m\u001b[0m\u001b[0m\n\u001b[0;32m--> 296\u001b[0;31m                 \u001b[0mwaiter\u001b[0m\u001b[0;34m.\u001b[0m\u001b[0macquire\u001b[0m\u001b[0;34m(\u001b[0m\u001b[0;34m)\u001b[0m\u001b[0;34m\u001b[0m\u001b[0;34m\u001b[0m\u001b[0m\n\u001b[0m\u001b[1;32m    297\u001b[0m                 \u001b[0mgotit\u001b[0m \u001b[0;34m=\u001b[0m \u001b[0;32mTrue\u001b[0m\u001b[0;34m\u001b[0m\u001b[0;34m\u001b[0m\u001b[0m\n\u001b[1;32m    298\u001b[0m             \u001b[0;32melse\u001b[0m\u001b[0;34m:\u001b[0m\u001b[0;34m\u001b[0m\u001b[0;34m\u001b[0m\u001b[0m\n",
            "\u001b[0;31mKeyboardInterrupt\u001b[0m: "
          ]
        },
        {
          "output_type": "stream",
          "name": "stderr",
          "text": [
            "  File \"/usr/local/lib/python3.7/dist-packages/sklearn/model_selection/_search.py\", line 1768, in _run_search\n",
            "    self.param_distributions, self.n_iter, random_state=self.random_state\n",
            "  File \"/usr/local/lib/python3.7/dist-packages/sklearn/model_selection/_search.py\", line 851, in evaluate_candidates\n",
            "    enumerate(candidate_params), enumerate(cv.split(X, y, groups))\n",
            "  File \"/usr/local/lib/python3.7/dist-packages/joblib/parallel.py\", line 1046, in __call__\n",
            "    while self.dispatch_one_batch(iterator):\n",
            "  File \"/usr/local/lib/python3.7/dist-packages/joblib/parallel.py\", line 1046, in __call__\n",
            "    while self.dispatch_one_batch(iterator):\n",
            "  File \"/usr/local/lib/python3.7/dist-packages/joblib/parallel.py\", line 861, in dispatch_one_batch\n",
            "    self._dispatch(tasks)\n",
            "  File \"/usr/local/lib/python3.7/dist-packages/joblib/parallel.py\", line 861, in dispatch_one_batch\n",
            "    self._dispatch(tasks)\n",
            "  File \"/usr/local/lib/python3.7/dist-packages/joblib/parallel.py\", line 779, in _dispatch\n",
            "    job = self._backend.apply_async(batch, callback=cb)\n",
            "  File \"/usr/local/lib/python3.7/dist-packages/joblib/parallel.py\", line 779, in _dispatch\n",
            "    job = self._backend.apply_async(batch, callback=cb)\n",
            "  File \"/usr/local/lib/python3.7/dist-packages/joblib/_parallel_backends.py\", line 208, in apply_async\n",
            "    result = ImmediateResult(func)\n",
            "  File \"/usr/local/lib/python3.7/dist-packages/joblib/_parallel_backends.py\", line 208, in apply_async\n",
            "    result = ImmediateResult(func)\n",
            "  File \"/usr/local/lib/python3.7/dist-packages/joblib/_parallel_backends.py\", line 572, in __init__\n",
            "    self.results = batch()\n",
            "Process ForkPoolWorker-7:\n",
            "  File \"/usr/local/lib/python3.7/dist-packages/joblib/_parallel_backends.py\", line 572, in __init__\n",
            "    self.results = batch()\n",
            "  File \"/usr/local/lib/python3.7/dist-packages/joblib/parallel.py\", line 263, in __call__\n",
            "    for func, args, kwargs in self.items]\n",
            "Traceback (most recent call last):\n",
            "  File \"/usr/local/lib/python3.7/dist-packages/joblib/parallel.py\", line 263, in <listcomp>\n",
            "    for func, args, kwargs in self.items]\n",
            "  File \"/usr/local/lib/python3.7/dist-packages/joblib/parallel.py\", line 263, in __call__\n",
            "    for func, args, kwargs in self.items]\n",
            "  File \"/usr/lib/python3.7/multiprocessing/process.py\", line 297, in _bootstrap\n",
            "    self.run()\n",
            "  File \"/usr/local/lib/python3.7/dist-packages/sklearn/utils/fixes.py\", line 216, in __call__\n",
            "    return self.function(*args, **kwargs)\n",
            "  File \"/usr/local/lib/python3.7/dist-packages/joblib/parallel.py\", line 263, in <listcomp>\n",
            "    for func, args, kwargs in self.items]\n",
            "  File \"/usr/local/lib/python3.7/dist-packages/sklearn/model_selection/_validation.py\", line 680, in _fit_and_score\n",
            "    estimator.fit(X_train, y_train, **fit_params)\n",
            "  File \"/usr/lib/python3.7/multiprocessing/process.py\", line 99, in run\n",
            "    self._target(*self._args, **self._kwargs)\n"
          ]
        }
      ],
      "source": [
        "compare_methods(X,Y,listAlgorithms,listParams,listNames,metric='auroc')"
      ]
    },
    {
      "cell_type": "markdown",
      "metadata": {
        "id": "ksneayfCZBft"
      },
      "source": [
        "##### Preguntas\n",
        "\n",
        "¿Qué tipo de tests se ha aplicado? ¿Paramétrico o no paramétrico? ¿por qué?"
      ]
    },
    {
      "cell_type": "markdown",
      "metadata": {
        "collapsed": true,
        "id": "dXb26yMPZBfu"
      },
      "source": [
        "Friedman\n",
        "\n",
        "Es no paramétrico porque no se cumplen las condiciones para que sea paramétrico."
      ]
    },
    {
      "cell_type": "markdown",
      "metadata": {
        "id": "VIAt0MuuZBfu"
      },
      "source": [
        "¿Cuál ha sido el modelo ganador?"
      ]
    },
    {
      "cell_type": "markdown",
      "metadata": {
        "collapsed": true,
        "id": "rE3Rw07xZBfu"
      },
      "source": [
        "Regresion Lineal"
      ]
    },
    {
      "cell_type": "markdown",
      "metadata": {
        "id": "DyDt3ldIZBfu"
      },
      "source": [
        "¿Hay diferencias significativas con los otros modelos?"
      ]
    },
    {
      "cell_type": "markdown",
      "metadata": {
        "collapsed": true,
        "id": "A9a3bce6ZBfu"
      },
      "source": [
        "Si\n",
        "\n",
        "\n",
        "\n",
        "\n",
        "There is a significant difference between the models: LR (mean: 0.732618, std: 0.058448) and KNN (mean: 0.675659, std: 0.052745) (Cohen's d=0.9706591465110834, Large)\n",
        "\n",
        "\n",
        "There is a significant difference between the models: LR (mean: 0.732618, std: 0.058448) and SVM (mean: 0.690542, std: 0.063782) (Cohen's d=0.6525226386939998, Large)\n",
        "\n",
        "\n",
        "There is a significant difference between the models: LR (mean: 0.732618, std: 0.058448) and MLP (mean: 0.698607, std: 0.056458) (Cohen's d=0.5615073135733226, Large)\n",
        "\n",
        "\n",
        "There is a significant difference between the models: LR (mean: 0.732618, std: 0.058448) and Arbol (mean: 0.690822, std: 0.063171) (Cohen's d=0.6515603075798302, Large)"
      ]
    },
    {
      "cell_type": "markdown",
      "metadata": {
        "id": "-GtpTHaeZBfu"
      },
      "source": [
        "## Evaluando la clasificación multiclase\n",
        "\n",
        "Todo lo que hemos visto para clasificación binaria también puede ser aplicado a la clasificación multiclase."
      ]
    },
    {
      "cell_type": "markdown",
      "metadata": {
        "id": "ceieNGVaZBfv"
      },
      "source": [
        "### 0. Carga de datos\n",
        "\n",
        "Carga los datos del fichero iris.csv como hemos hecho en prácticas anteriores."
      ]
    },
    {
      "cell_type": "code",
      "source": [
        "!wget https://raw.githubusercontent.com/IA1819/Datasets/master/iris.csv -O iris.csv"
      ],
      "metadata": {
        "id": "poARiTNQLbuI",
        "outputId": "7c1a4a85-322e-4007-e581-662f6c2917db",
        "colab": {
          "base_uri": "https://localhost:8080/"
        }
      },
      "execution_count": 45,
      "outputs": [
        {
          "output_type": "stream",
          "name": "stdout",
          "text": [
            "--2022-04-15 12:47:06--  https://raw.githubusercontent.com/IA1819/Datasets/master/iris.csv\n",
            "Resolving raw.githubusercontent.com (raw.githubusercontent.com)... 185.199.111.133, 185.199.109.133, 185.199.108.133, ...\n",
            "Connecting to raw.githubusercontent.com (raw.githubusercontent.com)|185.199.111.133|:443... connected.\n",
            "HTTP request sent, awaiting response... 200 OK\n",
            "Length: 4606 (4.5K) [text/plain]\n",
            "Saving to: ‘iris.csv’\n",
            "\n",
            "\riris.csv              0%[                    ]       0  --.-KB/s               \riris.csv            100%[===================>]   4.50K  --.-KB/s    in 0s      \n",
            "\n",
            "2022-04-15 12:47:06 (31.3 MB/s) - ‘iris.csv’ saved [4606/4606]\n",
            "\n"
          ]
        }
      ]
    },
    {
      "cell_type": "code",
      "execution_count": 63,
      "metadata": {
        "collapsed": true,
        "id": "pn9L-ECXZBfv"
      },
      "outputs": [],
      "source": [
        "df = pd.read_csv('iris.csv',header=None)\n",
        "Xiris = df.values[1:,:-1]\n",
        "Yiris = df.values[1:,-1]"
      ]
    },
    {
      "cell_type": "markdown",
      "metadata": {
        "id": "LYm7jyGmZBfv"
      },
      "source": [
        "### 1. Partición de conjunto de entrenamiento y de test\n",
        "\n",
        "Al igual que antes partimos el conjunto de datos en entrenamiento y test utilizando la función `train_test_split`."
      ]
    },
    {
      "cell_type": "code",
      "execution_count": 64,
      "metadata": {
        "collapsed": true,
        "id": "wou9m2kHZBfv"
      },
      "outputs": [],
      "source": [
        "(trainIrisData, testIrisData, trainIrisLabels, testIrisLabels) = train_test_split(Xiris,Yiris,test_size=0.25, random_state=42)"
      ]
    },
    {
      "cell_type": "markdown",
      "source": [
        ""
      ],
      "metadata": {
        "id": "Qq7Q7DfgRnLB"
      }
    },
    {
      "cell_type": "markdown",
      "metadata": {
        "id": "SHGegdJlZBfv"
      },
      "source": [
        "### 2. Entrenando distintos algoritmos y seleccionando los hiperparámetros\n",
        "\n",
        "En este caso vamos a entrenar un modelo KNN y seleccionar el hiperparámetro k utilizando el proceso de validación cruzada."
      ]
    },
    {
      "cell_type": "code",
      "execution_count": 66,
      "metadata": {
        "collapsed": true,
        "id": "zsYU5zsxZBfv",
        "outputId": "67a7346b-af05-4c41-fedd-fa92c82c0118",
        "colab": {
          "base_uri": "https://localhost:8080/"
        }
      },
      "outputs": [
        {
          "output_type": "stream",
          "name": "stdout",
          "text": [
            "k=1, Precisión: 0.94 (+/- 0.14)\n",
            "k=3, Precisión: 0.95 (+/- 0.14)\n",
            "k=5, Precisión: 0.95 (+/- 0.14)\n",
            "k=7, Precisión: 0.94 (+/- 0.14)\n",
            "k=9, Precisión: 0.94 (+/- 0.14)\n",
            "k=11, Precisión: 0.95 (+/- 0.15)\n",
            "k=13, Precisión: 0.95 (+/- 0.15)\n",
            "k=15, Precisión: 0.95 (+/- 0.15)\n",
            "k=17, Precisión: 0.95 (+/- 0.15)\n",
            "k=19, Precisión: 0.94 (+/- 0.14)\n",
            "k=21, Precisión: 0.94 (+/- 0.14)\n",
            "k=23, Precisión: 0.93 (+/- 0.16)\n",
            "k=25, Precisión: 0.94 (+/- 0.14)\n"
          ]
        },
        {
          "output_type": "execute_result",
          "data": {
            "text/plain": [
              "KNeighborsClassifier(n_neighbors=3)"
            ]
          },
          "metadata": {},
          "execution_count": 66
        }
      ],
      "source": [
        "for k in range(1,26,2):\n",
        "    modelKNNIris = KNeighborsClassifier(n_neighbors=k)\n",
        "    scores = cross_val_score(modelKNNIris,trainIrisData,trainIrisLabels,cv=10)\n",
        "    print(\"k=%d, Precisión: %0.2f (+/- %0.2f)\" % (k, scores.mean(), scores.std() * 2))\n",
        "\n",
        "\n",
        "modelKNNIris = KNeighborsClassifier(n_neighbors=3)\n",
        "modelKNNIris.fit(trainIrisData,trainIrisLabels)"
      ]
    },
    {
      "cell_type": "markdown",
      "metadata": {
        "id": "rFqN647EZBfv"
      },
      "source": [
        "### 3. Evaluando los algoritmos en el conjunto de test"
      ]
    },
    {
      "cell_type": "code",
      "execution_count": 67,
      "metadata": {
        "collapsed": true,
        "id": "HrvS6SqXZBfv",
        "outputId": "f16f7ea8-c01e-4480-fd5e-0d4d5d4a804e",
        "colab": {
          "base_uri": "https://localhost:8080/"
        }
      },
      "outputs": [
        {
          "output_type": "stream",
          "name": "stdout",
          "text": [
            "EVALUACIÓN EN CONJUNTO DE TEST USANDO KNN\n",
            "                 precision    recall  f1-score   support\n",
            "\n",
            "    Iris-setosa       1.00      1.00      1.00        15\n",
            "Iris-versicolor       1.00      1.00      1.00        11\n",
            " Iris-virginica       1.00      1.00      1.00        12\n",
            "\n",
            "       accuracy                           1.00        38\n",
            "      macro avg       1.00      1.00      1.00        38\n",
            "   weighted avg       1.00      1.00      1.00        38\n",
            "\n"
          ]
        }
      ],
      "source": [
        "print(\"EVALUACIÓN EN CONJUNTO DE TEST USANDO KNN\")\n",
        "predictionsKNNIris = modelKNNIris.predict(testIrisData)\n",
        "print(classification_report(testIrisLabels, predictionsKNNIris))"
      ]
    },
    {
      "cell_type": "markdown",
      "metadata": {
        "id": "8G_Z7HbbZBfw"
      },
      "source": [
        "En este caso las curvas ROC no tienen tanto sentido, pero sí que puede ser útil la matriz de confusión."
      ]
    },
    {
      "cell_type": "code",
      "execution_count": 68,
      "metadata": {
        "collapsed": true,
        "id": "UfLS2vehZBfw",
        "outputId": "d5649359-ad14-43b9-a9f9-89dafdee5a43",
        "colab": {
          "base_uri": "https://localhost:8080/"
        }
      },
      "outputs": [
        {
          "output_type": "stream",
          "name": "stdout",
          "text": [
            "MATRIZ DE CONFUSIÓN USANDO KNN\n",
            "[[15  0  0]\n",
            " [ 0 11  0]\n",
            " [ 0  0 12]]\n"
          ]
        }
      ],
      "source": [
        "print(\"MATRIZ DE CONFUSIÓN USANDO KNN\")\n",
        "from sklearn.metrics import confusion_matrix\n",
        "print(confusion_matrix(testIrisLabels, predictionsKNNIris))"
      ]
    },
    {
      "cell_type": "markdown",
      "metadata": {
        "id": "YI1Ujeh-ZBfw"
      },
      "source": [
        "##### Ejercicio\n",
        "Repite el estudio estadístico hecho en el caso binario, utilizando como  métrica la accuracy."
      ]
    },
    {
      "cell_type": "code",
      "execution_count": 69,
      "metadata": {
        "collapsed": true,
        "id": "-hU8kSlHZBfw",
        "outputId": "37f2934b-cc1d-44d7-dd24-01c628621ad1",
        "colab": {
          "base_uri": "https://localhost:8080/",
          "height": 1000
        }
      },
      "outputs": [
        {
          "output_type": "stream",
          "name": "stdout",
          "text": [
            "temp.csv\n",
            "['Arbol' 'SVM' 'KNN' 'LR' 'MLP']\n",
            "==========================================================\n",
            "Report\n",
            "==========================================================\n",
            "**********************************************************\n",
            "Mean and std\n",
            "**********************************************************\n",
            "Arbol: 0.946667 (0.049889)\n",
            "SVM: 0.973333 (0.044222)\n",
            "KNN: 0.960000 (0.053333)\n",
            "LR: 0.960000 (0.053333)\n",
            "MLP: 0.953333 (0.066999)\n",
            "**********************************************************\n",
            "Statistical tests\n",
            "**********************************************************\n",
            "----------------------------------------------------------\n",
            "Checking parametric conditions \n",
            "----------------------------------------------------------\n",
            "Checking independence \n",
            "Ok\n",
            "Checking normality using Shapiro-Wilk's test for normality, alpha=0.05\n",
            "W: 0.731743, p:0.000000\n",
            "The null hypothesis (normality) is rejected\n",
            "Checking heteroscedasticity using Levene's test, alpha=0.05\n",
            "W: 0.181818, p:0.946651\n",
            "The null hypothesis (heteroscedasticity) is accepted\n",
            "Conditions for a parametric test are not fulfilled, applying a non-parametric test\n",
            "----------------------------------------------------------\n",
            "Working with more than 2 algorithms\n",
            "----------------------------------------------------------\n",
            "----------------------------------------------------------\n",
            "Applying Friedman test\n",
            "----------------------------------------------------------\n",
            "F-value: 0.523810, p-value: 0.7188290659974246\n",
            "Null hypothesis is accepted; hence, we can't say that there is a significant difference in the performance of the models\n",
            "----------------------------------------------------------\n",
            "Analysing effect size\n",
            "----------------------------------------------------------\n",
            "We take the model with the best mean (SVM, mean: 0.973333) and compare it with the other models: \n",
            "Comparing effect size of SVM and Arbol: Cohen's d=0.5366563145999507, Large\n",
            "Comparing effect size of SVM and KNN: Cohen's d=0.25819888974716276, Medium\n",
            "Comparing effect size of SVM and LR: Cohen's d=0.25819888974716276, Medium\n",
            "Comparing effect size of SVM and MLP: Cohen's d=0.33425160871869364, Medium\n",
            "Eta squared: 0.026051 (Medium)\n"
          ]
        },
        {
          "output_type": "display_data",
          "data": {
            "text/plain": [
              "<Figure size 432x288 with 1 Axes>"
            ],
            "image/png": "[encoded data removed]"
          },
          "metadata": {
            "needs_background": "light"
          }
        }
      ],
      "source": [
        "compare_methods(Xiris,Yiris,listAlgorithms,listParams,listNames,metric='accuracy')"
      ]
    },
    {
      "cell_type": "markdown",
      "metadata": {
        "id": "-hxuUP8EZBfw"
      },
      "source": [
        "##### Preguntas\n",
        "\n",
        "¿Qué tipo de test se ha aplicado? ¿Paramétrico o no paramétrico? ¿Ha habido algún clasificador que es significativamente mejor que el resto? ¿Cuál?\n",
        "\n"
      ]
    },
    {
      "cell_type": "markdown",
      "source": [
        "El test de Friedman nuevamente\n",
        "\n",
        "No paramétrico\n",
        "\n",
        "SVM es ligeramente mejor."
      ],
      "metadata": {
        "id": "SAJ95u1hSldu"
      }
    },
    {
      "cell_type": "markdown",
      "metadata": {
        "id": "m44JAEbjZBfw"
      },
      "source": [
        "Guarda este fichero con tus soluciones a los distintos ejercicios usando la opción *\"Save in Github...\"*. "
      ]
    },
    {
      "cell_type": "code",
      "execution_count": null,
      "metadata": {
        "id": "7sk9IkRmZBfw"
      },
      "outputs": [],
      "source": [
        ""
      ]
    }
  ],
  "metadata": {
    "kernelspec": {
      "display_name": "Python 3",
      "language": "python",
      "name": "python3"
    },
    "language_info": {
      "codemirror_mode": {
        "name": "ipython",
        "version": 3
      },
      "file_extension": ".py",
      "mimetype": "text/x-python",
      "name": "python",
      "nbconvert_exporter": "python",
      "pygments_lexer": "ipython3",
      "version": "3.6.7"
    },
    "colab": {
      "name": "practica6.ipynb",
      "provenance": [],
      "include_colab_link": true
    }
  },
  "nbformat": 4,
  "nbformat_minor": 0
}