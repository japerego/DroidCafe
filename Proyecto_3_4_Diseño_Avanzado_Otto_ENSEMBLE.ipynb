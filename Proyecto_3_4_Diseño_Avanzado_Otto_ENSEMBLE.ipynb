{
  "cells": [
    {
      "cell_type": "markdown",
      "metadata": {
        "id": "view-in-github",
        "colab_type": "text"
      },
      "source": [
        "<a href=\"https://colab.research.google.com/github/japerego/DroidCafe/blob/master/Proyecto_3_4_Dise%C3%B1o_Avanzado_Otto_ENSEMBLE.ipynb\" target=\"_parent\"><img src=\"https://colab.research.google.com/assets/colab-badge.svg\" alt=\"Open In Colab\"/></a>"
      ]
    },
    {
      "cell_type": "markdown",
      "metadata": {
        "id": "4s6V0u7i9tzD"
      },
      "source": [
        "- *Alumno*:\n",
        "- *Asignatura*: Ingeniería del Conocimiento\n",
        "- *Curso*: 2021/2022\n",
        "- *Profesor*: Fco. Javier Martínez de Pisón\n",
        "- Universidad de La Rioja"
      ]
    },
    {
      "cell_type": "markdown",
      "metadata": {
        "id": "PVUh8GQs9tzI"
      },
      "source": [
        "# Proyecto 3. Parte 4. Combinación Ponderada de Modelos"
      ]
    },
    {
      "cell_type": "markdown",
      "metadata": {
        "id": "CoCwV2k09tzJ"
      },
      "source": [
        "En esta parte vamos a aprender a realizar una combinación ponderada de modelos *weigthed ensemble models\"."
      ]
    },
    {
      "cell_type": "code",
      "execution_count": 25,
      "metadata": {
        "id": "rwXn9J-m9tzJ",
        "outputId": "b496507e-ad3c-4a65-e0e5-201a5e9fba26",
        "colab": {
          "base_uri": "https://localhost:8080/"
        }
      },
      "outputs": [
        {
          "metadata": {
            "tags": null
          },
          "name": "stdout",
          "output_type": "stream",
          "text": [
            "Looking in indexes: https://pypi.org/simple, https://us-python.pkg.dev/colab-wheels/public/simple/\n",
            "Requirement already satisfied: bayesian-optimization in /usr/local/lib/python3.7/dist-packages (1.2.0)\n",
            "Requirement already satisfied: numpy>=1.9.0 in /usr/local/lib/python3.7/dist-packages (from bayesian-optimization) (1.21.6)\n",
            "Requirement already satisfied: scipy>=0.14.0 in /usr/local/lib/python3.7/dist-packages (from bayesian-optimization) (1.4.1)\n",
            "Requirement already satisfied: scikit-learn>=0.18.0 in /usr/local/lib/python3.7/dist-packages (from bayesian-optimization) (1.0.2)\n",
            "Requirement already satisfied: joblib>=0.11 in /usr/local/lib/python3.7/dist-packages (from scikit-learn>=0.18.0->bayesian-optimization) (1.1.0)\n",
            "Requirement already satisfied: threadpoolctl>=2.0.0 in /usr/local/lib/python3.7/dist-packages (from scikit-learn>=0.18.0->bayesian-optimization) (3.1.0)\n",
            "Looking in indexes: https://pypi.org/simple, https://us-python.pkg.dev/colab-wheels/public/simple/\n",
            "Requirement already satisfied: lightgbm in /usr/local/lib/python3.7/dist-packages (2.2.3)\n",
            "Requirement already satisfied: scikit-learn in /usr/local/lib/python3.7/dist-packages (from lightgbm) (1.0.2)\n",
            "Requirement already satisfied: scipy in /usr/local/lib/python3.7/dist-packages (from lightgbm) (1.4.1)\n",
            "Requirement already satisfied: numpy in /usr/local/lib/python3.7/dist-packages (from lightgbm) (1.21.6)\n",
            "Requirement already satisfied: threadpoolctl>=2.0.0 in /usr/local/lib/python3.7/dist-packages (from scikit-learn->lightgbm) (3.1.0)\n",
            "Requirement already satisfied: joblib>=0.11 in /usr/local/lib/python3.7/dist-packages (from scikit-learn->lightgbm) (1.1.0)\n",
            "Looking in indexes: https://pypi.org/simple, https://us-python.pkg.dev/colab-wheels/public/simple/\n",
            "Requirement already satisfied: xgboost in /usr/local/lib/python3.7/dist-packages (1.6.1)\n",
            "Requirement already satisfied: numpy in /usr/local/lib/python3.7/dist-packages (from xgboost) (1.21.6)\n",
            "Requirement already satisfied: scipy in /usr/local/lib/python3.7/dist-packages (from xgboost) (1.4.1)\n"
          ]
        }
      ],
      "source": [
        "!pip install bayesian-optimization\n",
        "!pip install lightgbm\n",
        "!pip install xgboost --upgrade"
      ]
    },
    {
      "cell_type": "code",
      "execution_count": 26,
      "metadata": {
        "ExecuteTime": {
          "end_time": "2022-04-29T08:15:57.784278Z",
          "start_time": "2022-04-29T08:15:55.395995Z"
        },
        "id": "xxqyx6uH9tzK"
      },
      "outputs": [],
      "source": [
        "# Importamos paquetes basicos\n",
        "import pandas as pd \n",
        "import numpy as np\n",
        "import matplotlib.pyplot as plt\n",
        "import seaborn as sns\n",
        "import io\n",
        "# from tqdm.notebook import tqdm\n",
        "from tqdm.notebook import tqdm\n",
        "\n",
        "import sklearn\n",
        "from sklearn.preprocessing import LabelEncoder, StandardScaler\n",
        "from sklearn.ensemble import RandomForestClassifier, BaggingClassifier \n",
        "from sklearn.metrics import log_loss\n",
        "from sklearn.calibration import CalibratedClassifierCV\n",
        "from sklearn.model_selection import RepeatedStratifiedKFold, train_test_split\n",
        "from sklearn.linear_model import LogisticRegression\n",
        "from xgboost.sklearn import XGBClassifier\n",
        "from lightgbm.sklearn import LGBMClassifier\n",
        "\n",
        "from bayes_opt import BayesianOptimization\n",
        "\n",
        "# %matplotlib inline\n",
        "plt.style.use('ggplot')\n",
        "# Elimina la limitación en visualización del numero de columnas\n",
        "pd.set_option('display.max_columns', None) "
      ]
    },
    {
      "cell_type": "markdown",
      "metadata": {
        "id": "tdpl4KS09tzL"
      },
      "source": [
        "## Cargamos y Preprocesamos la Base de Datos"
      ]
    },
    {
      "cell_type": "code",
      "execution_count": 27,
      "metadata": {
        "id": "n41_oDjg9tzM",
        "outputId": "a120b321-554f-452a-e0d7-4613cbd9a597",
        "colab": {
          "base_uri": "https://localhost:8080/"
        }
      },
      "outputs": [
        {
          "output_type": "stream",
          "name": "stdout",
          "text": [
            "--2022-05-30 15:37:52--  https://github.com/IC1920/Datasets/raw/master/train.zip\n",
            "Resolving github.com (github.com)... 140.82.113.4\n",
            "Connecting to github.com (github.com)|140.82.113.4|:443... connected.\n",
            "HTTP request sent, awaiting response... 302 Found\n",
            "Location: https://raw.githubusercontent.com/IC1920/Datasets/master/train.zip [following]\n",
            "--2022-05-30 15:37:52--  https://raw.githubusercontent.com/IC1920/Datasets/master/train.zip\n",
            "Resolving raw.githubusercontent.com (raw.githubusercontent.com)... 185.199.108.133, 185.199.109.133, 185.199.110.133, ...\n",
            "Connecting to raw.githubusercontent.com (raw.githubusercontent.com)|185.199.108.133|:443... connected.\n",
            "HTTP request sent, awaiting response... 200 OK\n",
            "Length: 1655239 (1.6M) [application/zip]\n",
            "Saving to: ‘train.zip’\n",
            "\n",
            "train.zip           100%[===================>]   1.58M  --.-KB/s    in 0.06s   \n",
            "\n",
            "2022-05-30 15:37:52 (27.8 MB/s) - ‘train.zip’ saved [1655239/1655239]\n",
            "\n",
            "--2022-05-30 15:37:52--  https://github.com/IC1920/Datasets/raw/master/test.zip\n",
            "Resolving github.com (github.com)... 140.82.114.4\n",
            "Connecting to github.com (github.com)|140.82.114.4|:443... connected.\n",
            "HTTP request sent, awaiting response... 302 Found\n",
            "Location: https://raw.githubusercontent.com/IC1920/Datasets/master/test.zip [following]\n",
            "--2022-05-30 15:37:53--  https://raw.githubusercontent.com/IC1920/Datasets/master/test.zip\n",
            "Resolving raw.githubusercontent.com (raw.githubusercontent.com)... 185.199.108.133, 185.199.109.133, 185.199.110.133, ...\n",
            "Connecting to raw.githubusercontent.com (raw.githubusercontent.com)|185.199.108.133|:443... connected.\n",
            "HTTP request sent, awaiting response... 200 OK\n",
            "Length: 3932571 (3.8M) [application/zip]\n",
            "Saving to: ‘test.zip’\n",
            "\n",
            "test.zip            100%[===================>]   3.75M  --.-KB/s    in 0.07s   \n",
            "\n",
            "2022-05-30 15:37:53 (53.7 MB/s) - ‘test.zip’ saved [3932571/3932571]\n",
            "\n",
            "Archive:  train.zip\n",
            "  inflating: train.csv               \n",
            "Archive:  test.zip\n",
            "  inflating: test.csv                \n"
          ]
        }
      ],
      "source": [
        "!wget https://github.com/IC1920/Datasets/raw/master/train.zip -O train.zip\n",
        "!wget https://github.com/IC1920/Datasets/raw/master/test.zip -O test.zip\n",
        "!unzip -o train.zip\n",
        "!unzip -o test.zip"
      ]
    },
    {
      "cell_type": "code",
      "execution_count": 28,
      "metadata": {
        "ExecuteTime": {
          "end_time": "2022-04-29T08:16:47.719754Z",
          "start_time": "2022-04-29T08:16:46.841904Z"
        },
        "id": "sYUHmRfQ9tzN",
        "outputId": "8849c94e-5c22-42a7-8fa2-b144bf411a0f",
        "colab": {
          "base_uri": "https://localhost:8080/"
        }
      },
      "outputs": [
        {
          "output_type": "stream",
          "name": "stdout",
          "text": [
            "(61878, 95) (144368, 94)\n"
          ]
        }
      ],
      "source": [
        "# Leemos los archivos arff\n",
        "df_train = pd.read_csv('train.csv')\n",
        "df_test = pd.read_csv('test.csv')\n",
        "print(df_train.shape, df_test.shape)\n",
        "\n",
        "features = ['feat_'+str(i) for i in np.arange(1,94)]\n",
        "target = 'target'"
      ]
    },
    {
      "cell_type": "code",
      "execution_count": 29,
      "metadata": {
        "ExecuteTime": {
          "end_time": "2022-04-29T08:16:49.490976Z",
          "start_time": "2022-04-29T08:16:49.118797Z"
        },
        "id": "enOmwypd9tzO"
      },
      "outputs": [],
      "source": [
        "scaler = StandardScaler()\n",
        "X_train = df_train[features].values.copy()\n",
        "X_test = df_test[features].values.copy()\n",
        "scaler.fit(X_train)\n",
        "X_train_scaled = scaler.transform(X_train)\n",
        "X_test_scaled = scaler.transform(X_test)"
      ]
    },
    {
      "cell_type": "markdown",
      "metadata": {
        "id": "0ndA5LcF9tzP"
      },
      "source": [
        "Preparamos las bases de datos. Para poder hacer una validación local, extraemos un 20% de forma aleatoria de forma estratificada."
      ]
    },
    {
      "cell_type": "code",
      "execution_count": 30,
      "metadata": {
        "ExecuteTime": {
          "end_time": "2022-04-29T08:16:52.642352Z",
          "start_time": "2022-04-29T08:16:52.574985Z"
        },
        "id": "bM-LniR79tzQ",
        "outputId": "9b9a5e9a-3f5d-4dae-db82-7410657ff6b0",
        "colab": {
          "base_uri": "https://localhost:8080/"
        }
      },
      "outputs": [
        {
          "output_type": "stream",
          "name": "stdout",
          "text": [
            "Verificamos que la partición es estratificada\n",
            "[0.031 0.261 0.129 0.043 0.044 0.228 0.046 0.137 0.08 ]\n",
            "[0.031 0.261 0.129 0.043 0.044 0.228 0.046 0.137 0.08 ]\n"
          ]
        }
      ],
      "source": [
        "X = X_train_scaled\n",
        "y = df_train[target].values.reshape(-1)\n",
        "y = LabelEncoder().fit_transform(y)\n",
        "\n",
        "X_train, X_val, y_train, y_val = train_test_split(X, y, test_size=0.20, random_state=36, stratify=y)\n",
        "\n",
        "print(\"Verificamos que la partición es estratificada\")\n",
        "print(np.round(np.bincount(y_train)/len(y_train),3))\n",
        "print(np.round(np.bincount(y_val)/len(y_val),3))"
      ]
    },
    {
      "cell_type": "markdown",
      "metadata": {
        "id": "oLWu7Ws79tzQ"
      },
      "source": [
        "## Combinación Ponderada de Modelos"
      ]
    },
    {
      "cell_type": "markdown",
      "metadata": {
        "id": "U5sfVq4y9tzR"
      },
      "source": [
        "Vamos a intentar afinar usando una combinación ponderada de los tres modelos.\n",
        "\n",
        "Para poder combinar los modelos y aprovechar al máximo la base de datos, desarrollamos una función que entrena los modelos con validación cruzada estratificada y nos devuelve la predicción de validación, además de la predicción con la base de datos de testeo."
      ]
    },
    {
      "cell_type": "code",
      "execution_count": 31,
      "metadata": {
        "ExecuteTime": {
          "end_time": "2022-04-29T08:16:55.451937Z",
          "start_time": "2022-04-29T08:16:55.441941Z"
        },
        "id": "n1ThlKLT9tzR"
      },
      "outputs": [],
      "source": [
        "# Función que obtiene el LogLoss con repetición y para la base de datos de testeo\n",
        "def entrena_model_folds(model, num_folds=5, num_bags=1, calibra=True):\n",
        "    np.random.seed(2020)\n",
        "    X_tot = X.copy()\n",
        "    y_tot = y.copy()\n",
        "    X_test = X_test_scaled.copy()\n",
        "    \n",
        "    # Creamos arrays para las predicciones\n",
        "    preds_val = np.empty((len(X_tot), 9, num_bags))\n",
        "    preds_val[:] = np.nan\n",
        "    preds_test = np.empty((len(X_test), 9, num_bags*num_folds))\n",
        "    preds_test[:] = np.nan\n",
        "    # Entrena y extrae la predicciones con validación cruzada repetida\n",
        "    \n",
        "    folds = RepeatedStratifiedKFold(n_splits=num_folds, n_repeats=num_bags, random_state=2020)  \n",
        "    for niter, (train_index, val_index) in enumerate(folds.split(X_tot, y_tot)):\n",
        "        print('ITER=',niter)\n",
        "        nbag = niter//num_folds #Extrae el número de repetición (bag)\n",
        "        X_train, X_val = X_tot[train_index], X_tot[val_index]\n",
        "        y_train, y_val = y_tot[train_index], y_tot[val_index]\n",
        "        if calibra:\n",
        "            calibrated_clf = CalibratedClassifierCV(model, method='isotonic', cv=5)\n",
        "            calibrated_clf.fit(X_train, y_train)\n",
        "            preds_val[val_index,:,nbag] = calibrated_clf.predict_proba(X_val) \n",
        "            preds_test[:,:,niter] = calibrated_clf.predict_proba(X_test)\n",
        "        else:\n",
        "            model.fit(X_train, y_train)\n",
        "            preds_val[val_index,:,nbag] = model.predict_proba(X_val) \n",
        "            preds_test[:,:,niter] = model.predict_proba(X_test)\n",
        "        \n",
        "    # Promedia las predicciones\n",
        "    preds_val_mean = preds_val.mean(axis=2) \n",
        "    preds_test_mean = preds_test.mean(axis=2)\n",
        "\n",
        "    # Extrae las métricas\n",
        "    log_loss_val = log_loss(y_tot, preds_val_mean, eps=1e-15, normalize=True)\n",
        "    \n",
        "    return log_loss_val, y_tot, preds_val_mean, preds_test_mean"
      ]
    },
    {
      "cell_type": "markdown",
      "metadata": {
        "id": "jhF0bz6G9tzS"
      },
      "source": [
        "## Extraemos las predicciones con Validación Cruzada 5"
      ]
    },
    {
      "cell_type": "markdown",
      "metadata": {
        "id": "KSM3OEli9tzS"
      },
      "source": [
        "**ATENCION: El coste computacional del calculo de los modelos de este apartado es elevado. NO EJECUTAR EL CALCULO SI NO SE DISPONE DE UN EQUIPO LOCAL DE ALTAS PRESTACIONES.**\n",
        "\n",
        "Definimos los modelos con los parámetros encontrados en la etapa anterior."
      ]
    },
    {
      "cell_type": "code",
      "execution_count": 32,
      "metadata": {
        "id": "4hNuGU0-9tzS"
      },
      "outputs": [],
      "source": [
        "CREA_MODELOS = False\n",
        "\n",
        "if CREA_MODELOS:\n",
        "    rf_model = RandomForestClassifier(n_estimators=600,\n",
        "                                      max_features=9,\n",
        "                                      min_samples_split=2,\n",
        "                                      n_jobs=-1,class_weight='balanced')\n",
        "\n",
        "    logistic_model = LogisticRegression(C=2.0, max_iter=450, n_jobs=-1,class_weight=None,random_state=42)\n",
        "\n",
        "    xgb_model = XGBClassifier(learning_rate =0.1, n_estimators=650, max_depth=8, \n",
        "                              subsample=0.8, colsample_bytree=0.6, nthread=20,\n",
        "                              reg_alpha=0.001, reg_lambda=1.0,\n",
        "                              seed=42, objective='multi:softprob')"
      ]
    },
    {
      "cell_type": "code",
      "execution_count": 33,
      "metadata": {
        "id": "nw-ENMBV9tzS",
        "outputId": "3dcf2818-55ae-4e9e-8907-ca64de802bcf",
        "colab": {
          "base_uri": "https://localhost:8080/"
        }
      },
      "outputs": [
        {
          "output_type": "stream",
          "name": "stdout",
          "text": [
            "CPU times: user 5 µs, sys: 1e+03 ns, total: 6 µs\n",
            "Wall time: 11.4 µs\n"
          ]
        }
      ],
      "source": [
        "%%time\n",
        "if CREA_MODELOS:\n",
        "    loss_rf, y_rf, preds_val_rf, preds_test_rf  = entrena_model_folds(rf_model, calibra=True)\n",
        "    print('RF=',loss_rf)\n",
        "    loss_logit, y_logit, preds_val_logit, preds_test_logit = entrena_model_folds(logistic_model, calibra=False)\n",
        "    print('LOGIT=',loss_logit)\n",
        "    loss_xgb, y_xgb, preds_val_xgb, preds_test_xgb = entrena_model_folds(xgb_model, calibra=True)\n",
        "    print('XGB=',loss_xgb)"
      ]
    },
    {
      "cell_type": "markdown",
      "metadata": {
        "id": "dP9Fc66_9tzT"
      },
      "source": [
        "## Leemos las predicciones de los modelos"
      ]
    },
    {
      "cell_type": "code",
      "execution_count": 34,
      "metadata": {
        "id": "BAlW0EHW9tzT",
        "outputId": "70db04e9-46ff-423a-eeec-50e23595a7f0",
        "colab": {
          "base_uri": "https://localhost:8080/"
        }
      },
      "outputs": [
        {
          "output_type": "stream",
          "name": "stdout",
          "text": [
            "--2022-05-30 15:37:56--  https://github.com/IC1920/Datasets/raw/master/preds_rf_logit_xgb.zip\n",
            "Resolving github.com (github.com)... 140.82.114.4\n",
            "Connecting to github.com (github.com)|140.82.114.4|:443... connected.\n",
            "HTTP request sent, awaiting response... 302 Found\n",
            "Location: https://raw.githubusercontent.com/IC1920/Datasets/master/preds_rf_logit_xgb.zip [following]\n",
            "--2022-05-30 15:37:56--  https://raw.githubusercontent.com/IC1920/Datasets/master/preds_rf_logit_xgb.zip\n",
            "Resolving raw.githubusercontent.com (raw.githubusercontent.com)... 185.199.108.133, 185.199.109.133, 185.199.110.133, ...\n",
            "Connecting to raw.githubusercontent.com (raw.githubusercontent.com)|185.199.108.133|:443... connected.\n",
            "HTTP request sent, awaiting response... 200 OK\n",
            "Length: 13443045 (13M) [application/zip]\n",
            "Saving to: ‘preds_rf_logit_xgb.zip’\n",
            "\n",
            "preds_rf_logit_xgb. 100%[===================>]  12.82M  --.-KB/s    in 0.1s    \n",
            "\n",
            "2022-05-30 15:37:56 (121 MB/s) - ‘preds_rf_logit_xgb.zip’ saved [13443045/13443045]\n",
            "\n",
            "--2022-05-30 15:37:56--  https://github.com/IC1920/Datasets/raw/master/preds_rf_logit_xgb.z01\n",
            "Resolving github.com (github.com)... 140.82.112.4\n",
            "Connecting to github.com (github.com)|140.82.112.4|:443... connected.\n",
            "HTTP request sent, awaiting response... 302 Found\n",
            "Location: https://raw.githubusercontent.com/IC1920/Datasets/master/preds_rf_logit_xgb.z01 [following]\n",
            "--2022-05-30 15:37:57--  https://raw.githubusercontent.com/IC1920/Datasets/master/preds_rf_logit_xgb.z01\n",
            "Resolving raw.githubusercontent.com (raw.githubusercontent.com)... 185.199.108.133, 185.199.109.133, 185.199.110.133, ...\n",
            "Connecting to raw.githubusercontent.com (raw.githubusercontent.com)|185.199.108.133|:443... connected.\n",
            "HTTP request sent, awaiting response... 200 OK\n",
            "Length: 25165824 (24M) [application/octet-stream]\n",
            "Saving to: ‘preds_rf_logit_xgb.z01’\n",
            "\n",
            "preds_rf_logit_xgb. 100%[===================>]  24.00M  --.-KB/s    in 0.1s    \n",
            "\n",
            "2022-05-30 15:37:57 (164 MB/s) - ‘preds_rf_logit_xgb.z01’ saved [25165824/25165824]\n",
            "\n",
            "\n",
            "7-Zip [64] 16.02 : Copyright (c) 1999-2016 Igor Pavlov : 2016-05-21\n",
            "p7zip Version 16.02 (locale=en_US.UTF-8,Utf16=on,HugeFiles=on,64 bits,2 CPUs Intel(R) Xeon(R) CPU @ 2.20GHz (406F0),ASM,AES-NI)\n",
            "\n",
            "Scanning the drive for archives:\n",
            "  0M Scan\b\b\b\b\b\b\b\b\b         \b\b\b\b\b\b\b\b\b1 file, 13443045 bytes (13 MiB)\n",
            "\n",
            "Extracting archive: preds_rf_logit_xgb.zip\n",
            "--\n",
            "Path = preds_rf_logit_xgb.zip\n",
            "Type = zip\n",
            "Physical Size = 13443045\n",
            "Embedded Stub Size = 4\n",
            "Total Physical Size = 38608869\n",
            "Multivolume = +\n",
            "Volume Index = 1\n",
            "Volumes = 2\n",
            "\n",
            "  0%\b\b\b\b    \b\b\b\b 37% - preds_rf_logit_xgb.pickle\b\b\b\b\b\b\b\b\b\b\b\b\b\b\b\b\b\b\b\b\b\b\b\b\b\b\b\b\b\b\b\b                                \b\b\b\b\b\b\b\b\b\b\b\b\b\b\b\b\b\b\b\b\b\b\b\b\b\b\b\b\b\b\b\b 72% - preds_rf_logit_xgb.pickle\b\b\b\b\b\b\b\b\b\b\b\b\b\b\b\b\b\b\b\b\b\b\b\b\b\b\b\b\b\b\b\b                                \b\b\b\b\b\b\b\b\b\b\b\b\b\b\b\b\b\b\b\b\b\b\b\b\b\b\b\b\b\b\b\bEverything is Ok\n",
            "\n",
            "Size:       45045312\n",
            "Compressed: 38608869\n"
          ]
        }
      ],
      "source": [
        "!wget https://github.com/IC1920/Datasets/raw/master/preds_rf_logit_xgb.zip -O preds_rf_logit_xgb.zip\n",
        "!wget https://github.com/IC1920/Datasets/raw/master/preds_rf_logit_xgb.z01 -O preds_rf_logit_xgb.z01\n",
        "!7z x preds_rf_logit_xgb.zip -y"
      ]
    },
    {
      "cell_type": "code",
      "execution_count": 35,
      "metadata": {
        "ExecuteTime": {
          "end_time": "2022-04-29T08:17:08.892511Z",
          "start_time": "2022-04-29T08:17:08.136817Z"
        },
        "id": "2Nsfu1KZ9tzT"
      },
      "outputs": [],
      "source": [
        "import pickle\n",
        "if False: #Grabamos o leemos\n",
        "    file = open('preds_rf_logit_xgb.pickle','wb')\n",
        "    pickle.dump(preds_val_rf, file, protocol=4)\n",
        "    pickle.dump(preds_test_rf, file, protocol=4)\n",
        "    pickle.dump(preds_val_logit, file, protocol=4)\n",
        "    pickle.dump(preds_test_logit, file, protocol=4)\n",
        "    pickle.dump(preds_val_xgb, file, protocol=4)\n",
        "    pickle.dump(preds_test_xgb, file, protocol=4)\n",
        "    pickle.dump(y_xgb, file, protocol=4) # Los tres y son iguales\n",
        "    file.close()\n",
        "else:\n",
        "    file = open('preds_rf_logit_xgb.pickle','rb')\n",
        "    preds_val_rf = pickle.load(file)\n",
        "    preds_test_rf = pickle.load(file)\n",
        "    preds_val_logit = pickle.load(file)\n",
        "    preds_test_logit = pickle.load(file)\n",
        "    preds_val_xgb = pickle.load(file)\n",
        "    preds_test_xgb = pickle.load(file)\n",
        "    y_xgb = pickle.load(file)\n",
        "    file.close()"
      ]
    },
    {
      "cell_type": "markdown",
      "metadata": {
        "id": "I__7cq1s9tzU"
      },
      "source": [
        "Vamos a crear las *submissions* con la media de la predicción de los modelos obtenidos en cada uno de los 5Folds"
      ]
    },
    {
      "cell_type": "code",
      "execution_count": 36,
      "metadata": {
        "ExecuteTime": {
          "end_time": "2022-04-29T08:17:17.481417Z",
          "start_time": "2022-04-29T08:17:15.152067Z"
        },
        "id": "WQuVcKl19tzU",
        "outputId": "c3b97f39-2053-45f2-e82d-7dc651932a7e",
        "colab": {
          "base_uri": "https://localhost:8080/",
          "height": 206
        }
      },
      "outputs": [
        {
          "output_type": "execute_result",
          "data": {
            "text/plain": [
              "   id   Class_1   Class_2   Class_3   Class_4   Class_5   Class_6   Class_7  \\\n",
              "0   1  0.000770  0.130241  0.193129  0.664083  0.000022  0.002050  0.008825   \n",
              "1   2  0.005616  0.002344  0.000949  0.003024  0.000319  0.723761  0.002611   \n",
              "2   3  0.000145  0.000018  0.000018  0.000269  0.000016  0.998147  0.000222   \n",
              "3   4  0.000702  0.576385  0.365200  0.031083  0.000040  0.000244  0.001135   \n",
              "4   5  0.108842  0.000014  0.000016  0.000178  0.000021  0.005742  0.002357   \n",
              "\n",
              "    Class_8   Class_9  \n",
              "0  0.000532  0.000348  \n",
              "1  0.259850  0.001527  \n",
              "2  0.001121  0.000044  \n",
              "3  0.000815  0.024397  \n",
              "4  0.245595  0.637235  "
            ],
            "text/html": [
              "\n",
              "  <div id=\"df-e80f3836-f696-4d7f-bd47-eedfda14c05c\">\n",
              "    <div class=\"colab-df-container\">\n",
              "      <div>\n",
              "<style scoped>\n",
              "    .dataframe tbody tr th:only-of-type {\n",
              "        vertical-align: middle;\n",
              "    }\n",
              "\n",
              "    .dataframe tbody tr th {\n",
              "        vertical-align: top;\n",
              "    }\n",
              "\n",
              "    .dataframe thead th {\n",
              "        text-align: right;\n",
              "    }\n",
              "</style>\n",
              "<table border=\"1\" class=\"dataframe\">\n",
              "  <thead>\n",
              "    <tr style=\"text-align: right;\">\n",
              "      <th></th>\n",
              "      <th>id</th>\n",
              "      <th>Class_1</th>\n",
              "      <th>Class_2</th>\n",
              "      <th>Class_3</th>\n",
              "      <th>Class_4</th>\n",
              "      <th>Class_5</th>\n",
              "      <th>Class_6</th>\n",
              "      <th>Class_7</th>\n",
              "      <th>Class_8</th>\n",
              "      <th>Class_9</th>\n",
              "    </tr>\n",
              "  </thead>\n",
              "  <tbody>\n",
              "    <tr>\n",
              "      <th>0</th>\n",
              "      <td>1</td>\n",
              "      <td>0.000770</td>\n",
              "      <td>0.130241</td>\n",
              "      <td>0.193129</td>\n",
              "      <td>0.664083</td>\n",
              "      <td>0.000022</td>\n",
              "      <td>0.002050</td>\n",
              "      <td>0.008825</td>\n",
              "      <td>0.000532</td>\n",
              "      <td>0.000348</td>\n",
              "    </tr>\n",
              "    <tr>\n",
              "      <th>1</th>\n",
              "      <td>2</td>\n",
              "      <td>0.005616</td>\n",
              "      <td>0.002344</td>\n",
              "      <td>0.000949</td>\n",
              "      <td>0.003024</td>\n",
              "      <td>0.000319</td>\n",
              "      <td>0.723761</td>\n",
              "      <td>0.002611</td>\n",
              "      <td>0.259850</td>\n",
              "      <td>0.001527</td>\n",
              "    </tr>\n",
              "    <tr>\n",
              "      <th>2</th>\n",
              "      <td>3</td>\n",
              "      <td>0.000145</td>\n",
              "      <td>0.000018</td>\n",
              "      <td>0.000018</td>\n",
              "      <td>0.000269</td>\n",
              "      <td>0.000016</td>\n",
              "      <td>0.998147</td>\n",
              "      <td>0.000222</td>\n",
              "      <td>0.001121</td>\n",
              "      <td>0.000044</td>\n",
              "    </tr>\n",
              "    <tr>\n",
              "      <th>3</th>\n",
              "      <td>4</td>\n",
              "      <td>0.000702</td>\n",
              "      <td>0.576385</td>\n",
              "      <td>0.365200</td>\n",
              "      <td>0.031083</td>\n",
              "      <td>0.000040</td>\n",
              "      <td>0.000244</td>\n",
              "      <td>0.001135</td>\n",
              "      <td>0.000815</td>\n",
              "      <td>0.024397</td>\n",
              "    </tr>\n",
              "    <tr>\n",
              "      <th>4</th>\n",
              "      <td>5</td>\n",
              "      <td>0.108842</td>\n",
              "      <td>0.000014</td>\n",
              "      <td>0.000016</td>\n",
              "      <td>0.000178</td>\n",
              "      <td>0.000021</td>\n",
              "      <td>0.005742</td>\n",
              "      <td>0.002357</td>\n",
              "      <td>0.245595</td>\n",
              "      <td>0.637235</td>\n",
              "    </tr>\n",
              "  </tbody>\n",
              "</table>\n",
              "</div>\n",
              "      <button class=\"colab-df-convert\" onclick=\"convertToInteractive('df-e80f3836-f696-4d7f-bd47-eedfda14c05c')\"\n",
              "              title=\"Convert this dataframe to an interactive table.\"\n",
              "              style=\"display:none;\">\n",
              "        \n",
              "  <svg xmlns=\"http://www.w3.org/2000/svg\" height=\"24px\"viewBox=\"0 0 24 24\"\n",
              "       width=\"24px\">\n",
              "    <path d=\"M0 0h24v24H0V0z\" fill=\"none\"/>\n",
              "    <path d=\"M18.56 5.44l.94 2.06.94-2.06 2.06-.94-2.06-.94-.94-2.06-.94 2.06-2.06.94zm-11 1L8.5 8.5l.94-2.06 2.06-.94-2.06-.94L8.5 2.5l-.94 2.06-2.06.94zm10 10l.94 2.06.94-2.06 2.06-.94-2.06-.94-.94-2.06-.94 2.06-2.06.94z\"/><path d=\"M17.41 7.96l-1.37-1.37c-.4-.4-.92-.59-1.43-.59-.52 0-1.04.2-1.43.59L10.3 9.45l-7.72 7.72c-.78.78-.78 2.05 0 2.83L4 21.41c.39.39.9.59 1.41.59.51 0 1.02-.2 1.41-.59l7.78-7.78 2.81-2.81c.8-.78.8-2.07 0-2.86zM5.41 20L4 18.59l7.72-7.72 1.47 1.35L5.41 20z\"/>\n",
              "  </svg>\n",
              "      </button>\n",
              "      \n",
              "  <style>\n",
              "    .colab-df-container {\n",
              "      display:flex;\n",
              "      flex-wrap:wrap;\n",
              "      gap: 12px;\n",
              "    }\n",
              "\n",
              "    .colab-df-convert {\n",
              "      background-color: #E8F0FE;\n",
              "      border: none;\n",
              "      border-radius: 50%;\n",
              "      cursor: pointer;\n",
              "      display: none;\n",
              "      fill: #1967D2;\n",
              "      height: 32px;\n",
              "      padding: 0 0 0 0;\n",
              "      width: 32px;\n",
              "    }\n",
              "\n",
              "    .colab-df-convert:hover {\n",
              "      background-color: #E2EBFA;\n",
              "      box-shadow: 0px 1px 2px rgba(60, 64, 67, 0.3), 0px 1px 3px 1px rgba(60, 64, 67, 0.15);\n",
              "      fill: #174EA6;\n",
              "    }\n",
              "\n",
              "    [theme=dark] .colab-df-convert {\n",
              "      background-color: #3B4455;\n",
              "      fill: #D2E3FC;\n",
              "    }\n",
              "\n",
              "    [theme=dark] .colab-df-convert:hover {\n",
              "      background-color: #434B5C;\n",
              "      box-shadow: 0px 1px 3px 1px rgba(0, 0, 0, 0.15);\n",
              "      filter: drop-shadow(0px 1px 2px rgba(0, 0, 0, 0.3));\n",
              "      fill: #FFFFFF;\n",
              "    }\n",
              "  </style>\n",
              "\n",
              "      <script>\n",
              "        const buttonEl =\n",
              "          document.querySelector('#df-e80f3836-f696-4d7f-bd47-eedfda14c05c button.colab-df-convert');\n",
              "        buttonEl.style.display =\n",
              "          google.colab.kernel.accessAllowed ? 'block' : 'none';\n",
              "\n",
              "        async function convertToInteractive(key) {\n",
              "          const element = document.querySelector('#df-e80f3836-f696-4d7f-bd47-eedfda14c05c');\n",
              "          const dataTable =\n",
              "            await google.colab.kernel.invokeFunction('convertToInteractive',\n",
              "                                                     [key], {});\n",
              "          if (!dataTable) return;\n",
              "\n",
              "          const docLinkHtml = 'Like what you see? Visit the ' +\n",
              "            '<a target=\"_blank\" href=https://colab.research.google.com/notebooks/data_table.ipynb>data table notebook</a>'\n",
              "            + ' to learn more about interactive tables.';\n",
              "          element.innerHTML = '';\n",
              "          dataTable['output_type'] = 'display_data';\n",
              "          await google.colab.output.renderOutput(dataTable, element);\n",
              "          const docLink = document.createElement('div');\n",
              "          docLink.innerHTML = docLinkHtml;\n",
              "          element.appendChild(docLink);\n",
              "        }\n",
              "      </script>\n",
              "    </div>\n",
              "  </div>\n",
              "  "
            ]
          },
          "metadata": {},
          "execution_count": 36
        }
      ],
      "source": [
        "output = pd.DataFrame(preds_test_rf,columns=[\"Class_\"+str(i) for i in range(1,10)])\n",
        "output.insert(loc=0, column='id', value=df_test.id)\n",
        "output.to_csv('submission_rf_5cv.csv', index=False)\n",
        "pd.read_csv('submission_rf_5cv.csv').head()"
      ]
    },
    {
      "cell_type": "markdown",
      "metadata": {
        "id": "hSqBUEnA9tzV"
      },
      "source": [
        "Este modelo RF obtiene con 5CV un **Local=0.48133, Private_LB=0.47482 Public_LB=0.47200**"
      ]
    },
    {
      "cell_type": "code",
      "execution_count": 37,
      "metadata": {
        "ExecuteTime": {
          "end_time": "2022-04-29T08:17:29.410411Z",
          "start_time": "2022-04-29T08:17:26.998216Z"
        },
        "id": "App6KPI_9tzV",
        "outputId": "a8e6dab4-692b-4b70-e909-239a983b5030",
        "colab": {
          "base_uri": "https://localhost:8080/",
          "height": 206
        }
      },
      "outputs": [
        {
          "output_type": "execute_result",
          "data": {
            "text/plain": [
              "   id       Class_1       Class_2       Class_3       Class_4       Class_5  \\\n",
              "0   1  1.013086e-05  1.571883e-01  2.503112e-01  5.880452e-01  9.971093e-14   \n",
              "1   2  4.279658e-04  4.100173e-05  2.051091e-07  1.769082e-08  2.268213e-06   \n",
              "2   3  3.120890e-06  2.469223e-08  7.062547e-09  2.515388e-11  2.101699e-10   \n",
              "3   4  7.268450e-10  7.117819e-01  2.815075e-01  6.710282e-03  1.908572e-09   \n",
              "4   5  6.610212e-01  2.647432e-07  7.054207e-08  2.738912e-09  1.678788e-15   \n",
              "\n",
              "        Class_6       Class_7       Class_8       Class_9  \n",
              "0  8.684473e-06  4.436067e-03  3.202108e-07  1.859623e-08  \n",
              "1  6.715051e-01  2.213332e-04  3.264076e-01  1.394516e-03  \n",
              "2  9.998786e-01  5.060433e-05  6.682249e-05  8.082613e-07  \n",
              "3  1.191905e-08  9.950225e-08  3.263994e-09  2.120376e-07  \n",
              "4  4.869883e-03  1.209282e-03  3.923410e-02  2.936652e-01  "
            ],
            "text/html": [
              "\n",
              "  <div id=\"df-eb7ff88e-4faa-47fa-821c-e60331eb07ec\">\n",
              "    <div class=\"colab-df-container\">\n",
              "      <div>\n",
              "<style scoped>\n",
              "    .dataframe tbody tr th:only-of-type {\n",
              "        vertical-align: middle;\n",
              "    }\n",
              "\n",
              "    .dataframe tbody tr th {\n",
              "        vertical-align: top;\n",
              "    }\n",
              "\n",
              "    .dataframe thead th {\n",
              "        text-align: right;\n",
              "    }\n",
              "</style>\n",
              "<table border=\"1\" class=\"dataframe\">\n",
              "  <thead>\n",
              "    <tr style=\"text-align: right;\">\n",
              "      <th></th>\n",
              "      <th>id</th>\n",
              "      <th>Class_1</th>\n",
              "      <th>Class_2</th>\n",
              "      <th>Class_3</th>\n",
              "      <th>Class_4</th>\n",
              "      <th>Class_5</th>\n",
              "      <th>Class_6</th>\n",
              "      <th>Class_7</th>\n",
              "      <th>Class_8</th>\n",
              "      <th>Class_9</th>\n",
              "    </tr>\n",
              "  </thead>\n",
              "  <tbody>\n",
              "    <tr>\n",
              "      <th>0</th>\n",
              "      <td>1</td>\n",
              "      <td>1.013086e-05</td>\n",
              "      <td>1.571883e-01</td>\n",
              "      <td>2.503112e-01</td>\n",
              "      <td>5.880452e-01</td>\n",
              "      <td>9.971093e-14</td>\n",
              "      <td>8.684473e-06</td>\n",
              "      <td>4.436067e-03</td>\n",
              "      <td>3.202108e-07</td>\n",
              "      <td>1.859623e-08</td>\n",
              "    </tr>\n",
              "    <tr>\n",
              "      <th>1</th>\n",
              "      <td>2</td>\n",
              "      <td>4.279658e-04</td>\n",
              "      <td>4.100173e-05</td>\n",
              "      <td>2.051091e-07</td>\n",
              "      <td>1.769082e-08</td>\n",
              "      <td>2.268213e-06</td>\n",
              "      <td>6.715051e-01</td>\n",
              "      <td>2.213332e-04</td>\n",
              "      <td>3.264076e-01</td>\n",
              "      <td>1.394516e-03</td>\n",
              "    </tr>\n",
              "    <tr>\n",
              "      <th>2</th>\n",
              "      <td>3</td>\n",
              "      <td>3.120890e-06</td>\n",
              "      <td>2.469223e-08</td>\n",
              "      <td>7.062547e-09</td>\n",
              "      <td>2.515388e-11</td>\n",
              "      <td>2.101699e-10</td>\n",
              "      <td>9.998786e-01</td>\n",
              "      <td>5.060433e-05</td>\n",
              "      <td>6.682249e-05</td>\n",
              "      <td>8.082613e-07</td>\n",
              "    </tr>\n",
              "    <tr>\n",
              "      <th>3</th>\n",
              "      <td>4</td>\n",
              "      <td>7.268450e-10</td>\n",
              "      <td>7.117819e-01</td>\n",
              "      <td>2.815075e-01</td>\n",
              "      <td>6.710282e-03</td>\n",
              "      <td>1.908572e-09</td>\n",
              "      <td>1.191905e-08</td>\n",
              "      <td>9.950225e-08</td>\n",
              "      <td>3.263994e-09</td>\n",
              "      <td>2.120376e-07</td>\n",
              "    </tr>\n",
              "    <tr>\n",
              "      <th>4</th>\n",
              "      <td>5</td>\n",
              "      <td>6.610212e-01</td>\n",
              "      <td>2.647432e-07</td>\n",
              "      <td>7.054207e-08</td>\n",
              "      <td>2.738912e-09</td>\n",
              "      <td>1.678788e-15</td>\n",
              "      <td>4.869883e-03</td>\n",
              "      <td>1.209282e-03</td>\n",
              "      <td>3.923410e-02</td>\n",
              "      <td>2.936652e-01</td>\n",
              "    </tr>\n",
              "  </tbody>\n",
              "</table>\n",
              "</div>\n",
              "      <button class=\"colab-df-convert\" onclick=\"convertToInteractive('df-eb7ff88e-4faa-47fa-821c-e60331eb07ec')\"\n",
              "              title=\"Convert this dataframe to an interactive table.\"\n",
              "              style=\"display:none;\">\n",
              "        \n",
              "  <svg xmlns=\"http://www.w3.org/2000/svg\" height=\"24px\"viewBox=\"0 0 24 24\"\n",
              "       width=\"24px\">\n",
              "    <path d=\"M0 0h24v24H0V0z\" fill=\"none\"/>\n",
              "    <path d=\"M18.56 5.44l.94 2.06.94-2.06 2.06-.94-2.06-.94-.94-2.06-.94 2.06-2.06.94zm-11 1L8.5 8.5l.94-2.06 2.06-.94-2.06-.94L8.5 2.5l-.94 2.06-2.06.94zm10 10l.94 2.06.94-2.06 2.06-.94-2.06-.94-.94-2.06-.94 2.06-2.06.94z\"/><path d=\"M17.41 7.96l-1.37-1.37c-.4-.4-.92-.59-1.43-.59-.52 0-1.04.2-1.43.59L10.3 9.45l-7.72 7.72c-.78.78-.78 2.05 0 2.83L4 21.41c.39.39.9.59 1.41.59.51 0 1.02-.2 1.41-.59l7.78-7.78 2.81-2.81c.8-.78.8-2.07 0-2.86zM5.41 20L4 18.59l7.72-7.72 1.47 1.35L5.41 20z\"/>\n",
              "  </svg>\n",
              "      </button>\n",
              "      \n",
              "  <style>\n",
              "    .colab-df-container {\n",
              "      display:flex;\n",
              "      flex-wrap:wrap;\n",
              "      gap: 12px;\n",
              "    }\n",
              "\n",
              "    .colab-df-convert {\n",
              "      background-color: #E8F0FE;\n",
              "      border: none;\n",
              "      border-radius: 50%;\n",
              "      cursor: pointer;\n",
              "      display: none;\n",
              "      fill: #1967D2;\n",
              "      height: 32px;\n",
              "      padding: 0 0 0 0;\n",
              "      width: 32px;\n",
              "    }\n",
              "\n",
              "    .colab-df-convert:hover {\n",
              "      background-color: #E2EBFA;\n",
              "      box-shadow: 0px 1px 2px rgba(60, 64, 67, 0.3), 0px 1px 3px 1px rgba(60, 64, 67, 0.15);\n",
              "      fill: #174EA6;\n",
              "    }\n",
              "\n",
              "    [theme=dark] .colab-df-convert {\n",
              "      background-color: #3B4455;\n",
              "      fill: #D2E3FC;\n",
              "    }\n",
              "\n",
              "    [theme=dark] .colab-df-convert:hover {\n",
              "      background-color: #434B5C;\n",
              "      box-shadow: 0px 1px 3px 1px rgba(0, 0, 0, 0.15);\n",
              "      filter: drop-shadow(0px 1px 2px rgba(0, 0, 0, 0.3));\n",
              "      fill: #FFFFFF;\n",
              "    }\n",
              "  </style>\n",
              "\n",
              "      <script>\n",
              "        const buttonEl =\n",
              "          document.querySelector('#df-eb7ff88e-4faa-47fa-821c-e60331eb07ec button.colab-df-convert');\n",
              "        buttonEl.style.display =\n",
              "          google.colab.kernel.accessAllowed ? 'block' : 'none';\n",
              "\n",
              "        async function convertToInteractive(key) {\n",
              "          const element = document.querySelector('#df-eb7ff88e-4faa-47fa-821c-e60331eb07ec');\n",
              "          const dataTable =\n",
              "            await google.colab.kernel.invokeFunction('convertToInteractive',\n",
              "                                                     [key], {});\n",
              "          if (!dataTable) return;\n",
              "\n",
              "          const docLinkHtml = 'Like what you see? Visit the ' +\n",
              "            '<a target=\"_blank\" href=https://colab.research.google.com/notebooks/data_table.ipynb>data table notebook</a>'\n",
              "            + ' to learn more about interactive tables.';\n",
              "          element.innerHTML = '';\n",
              "          dataTable['output_type'] = 'display_data';\n",
              "          await google.colab.output.renderOutput(dataTable, element);\n",
              "          const docLink = document.createElement('div');\n",
              "          docLink.innerHTML = docLinkHtml;\n",
              "          element.appendChild(docLink);\n",
              "        }\n",
              "      </script>\n",
              "    </div>\n",
              "  </div>\n",
              "  "
            ]
          },
          "metadata": {},
          "execution_count": 37
        }
      ],
      "source": [
        "output = pd.DataFrame(preds_test_logit,columns=[\"Class_\"+str(i) for i in range(1,10)])\n",
        "output.insert(loc=0, column='id', value=df_test.id)\n",
        "output.to_csv('submission_logit_5cv.csv', index=False)\n",
        "pd.read_csv('submission_logit_5cv.csv').head()"
      ]
    },
    {
      "cell_type": "markdown",
      "metadata": {
        "id": "ILTTiidU9tzV"
      },
      "source": [
        "Este modelo LOGIT obtiene con 5CV un **Local=0.64006, Private_LB=0.63270, Public_LB=0.63214**."
      ]
    },
    {
      "cell_type": "code",
      "execution_count": 38,
      "metadata": {
        "ExecuteTime": {
          "end_time": "2022-04-29T08:17:54.337786Z",
          "start_time": "2022-04-29T08:17:52.215746Z"
        },
        "id": "yfa0pry69tzV",
        "outputId": "685a0f25-6185-46cd-80f7-92e2a38d2a6b",
        "colab": {
          "base_uri": "https://localhost:8080/",
          "height": 206
        }
      },
      "outputs": [
        {
          "output_type": "execute_result",
          "data": {
            "text/plain": [
              "   id   Class_1   Class_2   Class_3   Class_4   Class_5   Class_6   Class_7  \\\n",
              "0   1  0.000338  0.166959  0.177536  0.650979  0.000000  0.000104  0.003725   \n",
              "1   2  0.002120  0.007067  0.001531  0.002146  0.000257  0.435691  0.007227   \n",
              "2   3  0.000000  0.000000  0.000015  0.000016  0.000000  0.999746  0.000000   \n",
              "3   4  0.000197  0.655010  0.329998  0.008723  0.000000  0.000013  0.000294   \n",
              "4   5  0.206780  0.000237  0.000450  0.000142  0.000071  0.009465  0.002476   \n",
              "\n",
              "    Class_8   Class_9  \n",
              "0  0.000344  0.000015  \n",
              "1  0.542036  0.001926  \n",
              "2  0.000224  0.000000  \n",
              "3  0.000166  0.005599  \n",
              "4  0.074920  0.705457  "
            ],
            "text/html": [
              "\n",
              "  <div id=\"df-744a8cbe-6809-4efa-b77d-5f86c978233c\">\n",
              "    <div class=\"colab-df-container\">\n",
              "      <div>\n",
              "<style scoped>\n",
              "    .dataframe tbody tr th:only-of-type {\n",
              "        vertical-align: middle;\n",
              "    }\n",
              "\n",
              "    .dataframe tbody tr th {\n",
              "        vertical-align: top;\n",
              "    }\n",
              "\n",
              "    .dataframe thead th {\n",
              "        text-align: right;\n",
              "    }\n",
              "</style>\n",
              "<table border=\"1\" class=\"dataframe\">\n",
              "  <thead>\n",
              "    <tr style=\"text-align: right;\">\n",
              "      <th></th>\n",
              "      <th>id</th>\n",
              "      <th>Class_1</th>\n",
              "      <th>Class_2</th>\n",
              "      <th>Class_3</th>\n",
              "      <th>Class_4</th>\n",
              "      <th>Class_5</th>\n",
              "      <th>Class_6</th>\n",
              "      <th>Class_7</th>\n",
              "      <th>Class_8</th>\n",
              "      <th>Class_9</th>\n",
              "    </tr>\n",
              "  </thead>\n",
              "  <tbody>\n",
              "    <tr>\n",
              "      <th>0</th>\n",
              "      <td>1</td>\n",
              "      <td>0.000338</td>\n",
              "      <td>0.166959</td>\n",
              "      <td>0.177536</td>\n",
              "      <td>0.650979</td>\n",
              "      <td>0.000000</td>\n",
              "      <td>0.000104</td>\n",
              "      <td>0.003725</td>\n",
              "      <td>0.000344</td>\n",
              "      <td>0.000015</td>\n",
              "    </tr>\n",
              "    <tr>\n",
              "      <th>1</th>\n",
              "      <td>2</td>\n",
              "      <td>0.002120</td>\n",
              "      <td>0.007067</td>\n",
              "      <td>0.001531</td>\n",
              "      <td>0.002146</td>\n",
              "      <td>0.000257</td>\n",
              "      <td>0.435691</td>\n",
              "      <td>0.007227</td>\n",
              "      <td>0.542036</td>\n",
              "      <td>0.001926</td>\n",
              "    </tr>\n",
              "    <tr>\n",
              "      <th>2</th>\n",
              "      <td>3</td>\n",
              "      <td>0.000000</td>\n",
              "      <td>0.000000</td>\n",
              "      <td>0.000015</td>\n",
              "      <td>0.000016</td>\n",
              "      <td>0.000000</td>\n",
              "      <td>0.999746</td>\n",
              "      <td>0.000000</td>\n",
              "      <td>0.000224</td>\n",
              "      <td>0.000000</td>\n",
              "    </tr>\n",
              "    <tr>\n",
              "      <th>3</th>\n",
              "      <td>4</td>\n",
              "      <td>0.000197</td>\n",
              "      <td>0.655010</td>\n",
              "      <td>0.329998</td>\n",
              "      <td>0.008723</td>\n",
              "      <td>0.000000</td>\n",
              "      <td>0.000013</td>\n",
              "      <td>0.000294</td>\n",
              "      <td>0.000166</td>\n",
              "      <td>0.005599</td>\n",
              "    </tr>\n",
              "    <tr>\n",
              "      <th>4</th>\n",
              "      <td>5</td>\n",
              "      <td>0.206780</td>\n",
              "      <td>0.000237</td>\n",
              "      <td>0.000450</td>\n",
              "      <td>0.000142</td>\n",
              "      <td>0.000071</td>\n",
              "      <td>0.009465</td>\n",
              "      <td>0.002476</td>\n",
              "      <td>0.074920</td>\n",
              "      <td>0.705457</td>\n",
              "    </tr>\n",
              "  </tbody>\n",
              "</table>\n",
              "</div>\n",
              "      <button class=\"colab-df-convert\" onclick=\"convertToInteractive('df-744a8cbe-6809-4efa-b77d-5f86c978233c')\"\n",
              "              title=\"Convert this dataframe to an interactive table.\"\n",
              "              style=\"display:none;\">\n",
              "        \n",
              "  <svg xmlns=\"http://www.w3.org/2000/svg\" height=\"24px\"viewBox=\"0 0 24 24\"\n",
              "       width=\"24px\">\n",
              "    <path d=\"M0 0h24v24H0V0z\" fill=\"none\"/>\n",
              "    <path d=\"M18.56 5.44l.94 2.06.94-2.06 2.06-.94-2.06-.94-.94-2.06-.94 2.06-2.06.94zm-11 1L8.5 8.5l.94-2.06 2.06-.94-2.06-.94L8.5 2.5l-.94 2.06-2.06.94zm10 10l.94 2.06.94-2.06 2.06-.94-2.06-.94-.94-2.06-.94 2.06-2.06.94z\"/><path d=\"M17.41 7.96l-1.37-1.37c-.4-.4-.92-.59-1.43-.59-.52 0-1.04.2-1.43.59L10.3 9.45l-7.72 7.72c-.78.78-.78 2.05 0 2.83L4 21.41c.39.39.9.59 1.41.59.51 0 1.02-.2 1.41-.59l7.78-7.78 2.81-2.81c.8-.78.8-2.07 0-2.86zM5.41 20L4 18.59l7.72-7.72 1.47 1.35L5.41 20z\"/>\n",
              "  </svg>\n",
              "      </button>\n",
              "      \n",
              "  <style>\n",
              "    .colab-df-container {\n",
              "      display:flex;\n",
              "      flex-wrap:wrap;\n",
              "      gap: 12px;\n",
              "    }\n",
              "\n",
              "    .colab-df-convert {\n",
              "      background-color: #E8F0FE;\n",
              "      border: none;\n",
              "      border-radius: 50%;\n",
              "      cursor: pointer;\n",
              "      display: none;\n",
              "      fill: #1967D2;\n",
              "      height: 32px;\n",
              "      padding: 0 0 0 0;\n",
              "      width: 32px;\n",
              "    }\n",
              "\n",
              "    .colab-df-convert:hover {\n",
              "      background-color: #E2EBFA;\n",
              "      box-shadow: 0px 1px 2px rgba(60, 64, 67, 0.3), 0px 1px 3px 1px rgba(60, 64, 67, 0.15);\n",
              "      fill: #174EA6;\n",
              "    }\n",
              "\n",
              "    [theme=dark] .colab-df-convert {\n",
              "      background-color: #3B4455;\n",
              "      fill: #D2E3FC;\n",
              "    }\n",
              "\n",
              "    [theme=dark] .colab-df-convert:hover {\n",
              "      background-color: #434B5C;\n",
              "      box-shadow: 0px 1px 3px 1px rgba(0, 0, 0, 0.15);\n",
              "      filter: drop-shadow(0px 1px 2px rgba(0, 0, 0, 0.3));\n",
              "      fill: #FFFFFF;\n",
              "    }\n",
              "  </style>\n",
              "\n",
              "      <script>\n",
              "        const buttonEl =\n",
              "          document.querySelector('#df-744a8cbe-6809-4efa-b77d-5f86c978233c button.colab-df-convert');\n",
              "        buttonEl.style.display =\n",
              "          google.colab.kernel.accessAllowed ? 'block' : 'none';\n",
              "\n",
              "        async function convertToInteractive(key) {\n",
              "          const element = document.querySelector('#df-744a8cbe-6809-4efa-b77d-5f86c978233c');\n",
              "          const dataTable =\n",
              "            await google.colab.kernel.invokeFunction('convertToInteractive',\n",
              "                                                     [key], {});\n",
              "          if (!dataTable) return;\n",
              "\n",
              "          const docLinkHtml = 'Like what you see? Visit the ' +\n",
              "            '<a target=\"_blank\" href=https://colab.research.google.com/notebooks/data_table.ipynb>data table notebook</a>'\n",
              "            + ' to learn more about interactive tables.';\n",
              "          element.innerHTML = '';\n",
              "          dataTable['output_type'] = 'display_data';\n",
              "          await google.colab.output.renderOutput(dataTable, element);\n",
              "          const docLink = document.createElement('div');\n",
              "          docLink.innerHTML = docLinkHtml;\n",
              "          element.appendChild(docLink);\n",
              "        }\n",
              "      </script>\n",
              "    </div>\n",
              "  </div>\n",
              "  "
            ]
          },
          "metadata": {},
          "execution_count": 38
        }
      ],
      "source": [
        "output = pd.DataFrame(preds_test_xgb,columns=[\"Class_\"+str(i) for i in range(1,10)])\n",
        "output.insert(loc=0, column='id', value=df_test.id)\n",
        "output.to_csv('submission_xgb_5cv.csv', index=False)\n",
        "pd.read_csv('submission_xgb_5cv.csv').head()"
      ]
    },
    {
      "cell_type": "markdown",
      "metadata": {
        "id": "Ssdbdj-P9tzW"
      },
      "source": [
        "Este modelo XGB obtiene con 5CV un **Local=0.45116, Private_LB=0.43628, Public_LB=0.43618**. Un modelo muy bueno que **nos situaria en la posición 428 del Private Leaderboard de 3511 equipos (percentil 87.80)**. "
      ]
    },
    {
      "cell_type": "markdown",
      "metadata": {
        "id": "2aOe2PvS9tzW"
      },
      "source": [
        "## Buscamos los pesos que minimizan el error"
      ]
    },
    {
      "cell_type": "code",
      "execution_count": 39,
      "metadata": {
        "ExecuteTime": {
          "end_time": "2022-04-29T08:17:57.542105Z",
          "start_time": "2022-04-29T08:17:57.534108Z"
        },
        "id": "n3DYZL8v9tzW"
      },
      "outputs": [],
      "source": [
        "def combina_preds3(w):\n",
        "    w1 = w[0]\n",
        "    w2 = w[1]\n",
        "    w3= 3.0-w1-w2\n",
        "    preds_combi = (w1*preds_val_rf+w2*preds_val_logit+w3*preds_val_xgb)/3.0\n",
        "    return log_loss(y_xgb, preds_combi, eps=1e-15, normalize=True)    "
      ]
    },
    {
      "cell_type": "code",
      "execution_count": 40,
      "metadata": {
        "ExecuteTime": {
          "end_time": "2022-04-29T08:17:58.578951Z",
          "start_time": "2022-04-29T08:17:58.510562Z"
        },
        "id": "Zt08ZA_H9tzW",
        "outputId": "0bd29108-1956-461b-92ee-7aa7efbfd9c3",
        "colab": {
          "base_uri": "https://localhost:8080/"
        }
      },
      "outputs": [
        {
          "output_type": "execute_result",
          "data": {
            "text/plain": [
              "0.4457511028745261"
            ]
          },
          "metadata": {},
          "execution_count": 40
        }
      ],
      "source": [
        "combina_preds3([0.6,0.1])"
      ]
    },
    {
      "cell_type": "code",
      "execution_count": 41,
      "metadata": {
        "ExecuteTime": {
          "end_time": "2022-04-29T08:18:11.312857Z",
          "start_time": "2022-04-29T08:18:05.912032Z"
        },
        "id": "_1Vt9g8Z9tzW",
        "outputId": "3d1ecb53-5104-440a-c7d7-179011ee2748",
        "colab": {
          "base_uri": "https://localhost:8080/"
        }
      },
      "outputs": [
        {
          "output_type": "stream",
          "name": "stdout",
          "text": [
            "Optimization terminated successfully.\n",
            "         Current function value: 0.444678\n",
            "         Iterations: 67\n",
            "         Function evaluations: 139\n",
            " final_simplex: (array([[0.55249128, 0.00227782],\n",
            "       [0.55249129, 0.00227782],\n",
            "       [0.55249129, 0.00227782]]), array([0.44467763, 0.44467763, 0.44467763]))\n",
            "           fun: 0.4446776340060137\n",
            "       message: 'Optimization terminated successfully.'\n",
            "          nfev: 139\n",
            "           nit: 67\n",
            "        status: 0\n",
            "       success: True\n",
            "             x: array([0.55249128, 0.00227782])\n"
          ]
        }
      ],
      "source": [
        "from scipy.optimize import minimize\n",
        "res = minimize(combina_preds3, [0.6, 0.1], method='nelder-mead',options={'xatol': 1e-8, 'disp': True})\n",
        "print(res)"
      ]
    },
    {
      "cell_type": "markdown",
      "metadata": {
        "id": "MoGYiMMu9tzX"
      },
      "source": [
        "El peso del modelo LOGIT es muy pequeño. Vamos a probar solo con el RF y XGB."
      ]
    },
    {
      "cell_type": "code",
      "execution_count": 42,
      "metadata": {
        "ExecuteTime": {
          "end_time": "2022-04-29T08:18:15.305969Z",
          "start_time": "2022-04-29T08:18:15.296972Z"
        },
        "id": "OCNyNtuF9tzX"
      },
      "outputs": [],
      "source": [
        "def combina_preds2(w):\n",
        "    w1 = w[0]\n",
        "    w2= 2.0-w1\n",
        "    preds_combi = (w1*preds_val_rf+w2*preds_val_xgb)/2.0\n",
        "    return log_loss(y_xgb, preds_combi, eps=1e-15, normalize=True)    "
      ]
    },
    {
      "cell_type": "code",
      "execution_count": 43,
      "metadata": {
        "ExecuteTime": {
          "end_time": "2022-04-29T08:18:19.789448Z",
          "start_time": "2022-04-29T08:18:17.695347Z"
        },
        "id": "4tPQqJ9N9tzX",
        "outputId": "141183da-8bd0-4a53-92ba-4355f48223f7",
        "colab": {
          "base_uri": "https://localhost:8080/"
        }
      },
      "outputs": [
        {
          "output_type": "stream",
          "name": "stdout",
          "text": [
            "Optimization terminated successfully.\n",
            "         Current function value: 0.444957\n",
            "         Iterations: 28\n",
            "         Function evaluations: 59\n",
            " final_simplex: (array([[0.36925201],\n",
            "       [0.36925202]]), array([0.44495652, 0.44495652]))\n",
            "           fun: 0.4449565166066821\n",
            "       message: 'Optimization terminated successfully.'\n",
            "          nfev: 59\n",
            "           nit: 28\n",
            "        status: 0\n",
            "       success: True\n",
            "             x: array([0.36925201])\n"
          ]
        }
      ],
      "source": [
        "from scipy.optimize import minimize\n",
        "res = minimize(combina_preds2, [0.8], method='nelder-mead',options={'xatol': 1e-8, 'disp': True})\n",
        "print(res)"
      ]
    },
    {
      "cell_type": "markdown",
      "metadata": {
        "id": "syMD6nUD9tzX"
      },
      "source": [
        "Con tres el resultado es ligeramente mejor que con dos: 0.4446776340060137 vs 0.4449565166066821"
      ]
    },
    {
      "cell_type": "markdown",
      "metadata": {
        "id": "RZ5HcD5k9tzX"
      },
      "source": [
        "## Creamos la submission con la combinación de los tres modelos"
      ]
    },
    {
      "cell_type": "code",
      "execution_count": 44,
      "metadata": {
        "ExecuteTime": {
          "end_time": "2022-04-29T08:18:34.050709Z",
          "start_time": "2022-04-29T08:18:26.359750Z"
        },
        "id": "FgrSD5k59tzY",
        "outputId": "306be0ca-335e-40ae-dce9-84641570fe96",
        "colab": {
          "base_uri": "https://localhost:8080/",
          "height": 449
        }
      },
      "outputs": [
        {
          "output_type": "stream",
          "name": "stdout",
          "text": [
            "Optimization terminated successfully.\n",
            "         Current function value: 0.444678\n",
            "         Iterations: 67\n",
            "         Function evaluations: 139\n",
            " final_simplex: (array([[0.55249128, 0.00227782],\n",
            "       [0.55249129, 0.00227782],\n",
            "       [0.55249129, 0.00227782]]), array([0.44467763, 0.44467763, 0.44467763]))\n",
            "           fun: 0.4446776340060137\n",
            "       message: 'Optimization terminated successfully.'\n",
            "          nfev: 139\n",
            "           nit: 67\n",
            "        status: 0\n",
            "       success: True\n",
            "             x: array([0.55249128, 0.00227782])\n"
          ]
        },
        {
          "output_type": "execute_result",
          "data": {
            "text/plain": [
              "   id   Class_1   Class_2   Class_3   Class_4   Class_5   Class_6   Class_7  \\\n",
              "0   1  0.000417  0.160189  0.180463  0.653345  0.000004  0.000462  0.004665   \n",
              "1   2  0.002762  0.006192  0.001422  0.002306  0.000268  0.488922  0.006371   \n",
              "2   3  0.000027  0.000003  0.000015  0.000062  0.000003  0.999451  0.000041   \n",
              "3   4  0.000290  0.640573  0.336444  0.012840  0.000007  0.000055  0.000448   \n",
              "4   5  0.189088  0.000196  0.000370  0.000149  0.000062  0.008776  0.002453   \n",
              "\n",
              "    Class_8   Class_9  \n",
              "0  0.000379  0.000077  \n",
              "1  0.489903  0.001852  \n",
              "2  0.000389  0.000008  \n",
              "3  0.000286  0.009056  \n",
              "4  0.106325  0.692581  "
            ],
            "text/html": [
              "\n",
              "  <div id=\"df-a0f5cf00-5fd4-4bbc-bcb9-2e2e5ad9d07f\">\n",
              "    <div class=\"colab-df-container\">\n",
              "      <div>\n",
              "<style scoped>\n",
              "    .dataframe tbody tr th:only-of-type {\n",
              "        vertical-align: middle;\n",
              "    }\n",
              "\n",
              "    .dataframe tbody tr th {\n",
              "        vertical-align: top;\n",
              "    }\n",
              "\n",
              "    .dataframe thead th {\n",
              "        text-align: right;\n",
              "    }\n",
              "</style>\n",
              "<table border=\"1\" class=\"dataframe\">\n",
              "  <thead>\n",
              "    <tr style=\"text-align: right;\">\n",
              "      <th></th>\n",
              "      <th>id</th>\n",
              "      <th>Class_1</th>\n",
              "      <th>Class_2</th>\n",
              "      <th>Class_3</th>\n",
              "      <th>Class_4</th>\n",
              "      <th>Class_5</th>\n",
              "      <th>Class_6</th>\n",
              "      <th>Class_7</th>\n",
              "      <th>Class_8</th>\n",
              "      <th>Class_9</th>\n",
              "    </tr>\n",
              "  </thead>\n",
              "  <tbody>\n",
              "    <tr>\n",
              "      <th>0</th>\n",
              "      <td>1</td>\n",
              "      <td>0.000417</td>\n",
              "      <td>0.160189</td>\n",
              "      <td>0.180463</td>\n",
              "      <td>0.653345</td>\n",
              "      <td>0.000004</td>\n",
              "      <td>0.000462</td>\n",
              "      <td>0.004665</td>\n",
              "      <td>0.000379</td>\n",
              "      <td>0.000077</td>\n",
              "    </tr>\n",
              "    <tr>\n",
              "      <th>1</th>\n",
              "      <td>2</td>\n",
              "      <td>0.002762</td>\n",
              "      <td>0.006192</td>\n",
              "      <td>0.001422</td>\n",
              "      <td>0.002306</td>\n",
              "      <td>0.000268</td>\n",
              "      <td>0.488922</td>\n",
              "      <td>0.006371</td>\n",
              "      <td>0.489903</td>\n",
              "      <td>0.001852</td>\n",
              "    </tr>\n",
              "    <tr>\n",
              "      <th>2</th>\n",
              "      <td>3</td>\n",
              "      <td>0.000027</td>\n",
              "      <td>0.000003</td>\n",
              "      <td>0.000015</td>\n",
              "      <td>0.000062</td>\n",
              "      <td>0.000003</td>\n",
              "      <td>0.999451</td>\n",
              "      <td>0.000041</td>\n",
              "      <td>0.000389</td>\n",
              "      <td>0.000008</td>\n",
              "    </tr>\n",
              "    <tr>\n",
              "      <th>3</th>\n",
              "      <td>4</td>\n",
              "      <td>0.000290</td>\n",
              "      <td>0.640573</td>\n",
              "      <td>0.336444</td>\n",
              "      <td>0.012840</td>\n",
              "      <td>0.000007</td>\n",
              "      <td>0.000055</td>\n",
              "      <td>0.000448</td>\n",
              "      <td>0.000286</td>\n",
              "      <td>0.009056</td>\n",
              "    </tr>\n",
              "    <tr>\n",
              "      <th>4</th>\n",
              "      <td>5</td>\n",
              "      <td>0.189088</td>\n",
              "      <td>0.000196</td>\n",
              "      <td>0.000370</td>\n",
              "      <td>0.000149</td>\n",
              "      <td>0.000062</td>\n",
              "      <td>0.008776</td>\n",
              "      <td>0.002453</td>\n",
              "      <td>0.106325</td>\n",
              "      <td>0.692581</td>\n",
              "    </tr>\n",
              "  </tbody>\n",
              "</table>\n",
              "</div>\n",
              "      <button class=\"colab-df-convert\" onclick=\"convertToInteractive('df-a0f5cf00-5fd4-4bbc-bcb9-2e2e5ad9d07f')\"\n",
              "              title=\"Convert this dataframe to an interactive table.\"\n",
              "              style=\"display:none;\">\n",
              "        \n",
              "  <svg xmlns=\"http://www.w3.org/2000/svg\" height=\"24px\"viewBox=\"0 0 24 24\"\n",
              "       width=\"24px\">\n",
              "    <path d=\"M0 0h24v24H0V0z\" fill=\"none\"/>\n",
              "    <path d=\"M18.56 5.44l.94 2.06.94-2.06 2.06-.94-2.06-.94-.94-2.06-.94 2.06-2.06.94zm-11 1L8.5 8.5l.94-2.06 2.06-.94-2.06-.94L8.5 2.5l-.94 2.06-2.06.94zm10 10l.94 2.06.94-2.06 2.06-.94-2.06-.94-.94-2.06-.94 2.06-2.06.94z\"/><path d=\"M17.41 7.96l-1.37-1.37c-.4-.4-.92-.59-1.43-.59-.52 0-1.04.2-1.43.59L10.3 9.45l-7.72 7.72c-.78.78-.78 2.05 0 2.83L4 21.41c.39.39.9.59 1.41.59.51 0 1.02-.2 1.41-.59l7.78-7.78 2.81-2.81c.8-.78.8-2.07 0-2.86zM5.41 20L4 18.59l7.72-7.72 1.47 1.35L5.41 20z\"/>\n",
              "  </svg>\n",
              "      </button>\n",
              "      \n",
              "  <style>\n",
              "    .colab-df-container {\n",
              "      display:flex;\n",
              "      flex-wrap:wrap;\n",
              "      gap: 12px;\n",
              "    }\n",
              "\n",
              "    .colab-df-convert {\n",
              "      background-color: #E8F0FE;\n",
              "      border: none;\n",
              "      border-radius: 50%;\n",
              "      cursor: pointer;\n",
              "      display: none;\n",
              "      fill: #1967D2;\n",
              "      height: 32px;\n",
              "      padding: 0 0 0 0;\n",
              "      width: 32px;\n",
              "    }\n",
              "\n",
              "    .colab-df-convert:hover {\n",
              "      background-color: #E2EBFA;\n",
              "      box-shadow: 0px 1px 2px rgba(60, 64, 67, 0.3), 0px 1px 3px 1px rgba(60, 64, 67, 0.15);\n",
              "      fill: #174EA6;\n",
              "    }\n",
              "\n",
              "    [theme=dark] .colab-df-convert {\n",
              "      background-color: #3B4455;\n",
              "      fill: #D2E3FC;\n",
              "    }\n",
              "\n",
              "    [theme=dark] .colab-df-convert:hover {\n",
              "      background-color: #434B5C;\n",
              "      box-shadow: 0px 1px 3px 1px rgba(0, 0, 0, 0.15);\n",
              "      filter: drop-shadow(0px 1px 2px rgba(0, 0, 0, 0.3));\n",
              "      fill: #FFFFFF;\n",
              "    }\n",
              "  </style>\n",
              "\n",
              "      <script>\n",
              "        const buttonEl =\n",
              "          document.querySelector('#df-a0f5cf00-5fd4-4bbc-bcb9-2e2e5ad9d07f button.colab-df-convert');\n",
              "        buttonEl.style.display =\n",
              "          google.colab.kernel.accessAllowed ? 'block' : 'none';\n",
              "\n",
              "        async function convertToInteractive(key) {\n",
              "          const element = document.querySelector('#df-a0f5cf00-5fd4-4bbc-bcb9-2e2e5ad9d07f');\n",
              "          const dataTable =\n",
              "            await google.colab.kernel.invokeFunction('convertToInteractive',\n",
              "                                                     [key], {});\n",
              "          if (!dataTable) return;\n",
              "\n",
              "          const docLinkHtml = 'Like what you see? Visit the ' +\n",
              "            '<a target=\"_blank\" href=https://colab.research.google.com/notebooks/data_table.ipynb>data table notebook</a>'\n",
              "            + ' to learn more about interactive tables.';\n",
              "          element.innerHTML = '';\n",
              "          dataTable['output_type'] = 'display_data';\n",
              "          await google.colab.output.renderOutput(dataTable, element);\n",
              "          const docLink = document.createElement('div');\n",
              "          docLink.innerHTML = docLinkHtml;\n",
              "          element.appendChild(docLink);\n",
              "        }\n",
              "      </script>\n",
              "    </div>\n",
              "  </div>\n",
              "  "
            ]
          },
          "metadata": {},
          "execution_count": 44
        }
      ],
      "source": [
        "res = minimize(combina_preds3, [0.6, 0.1], method='nelder-mead',options={'xatol': 1e-8, 'disp': True})\n",
        "print(res)\n",
        "\n",
        "w1 = res.x[0]\n",
        "w2 = res.x[1]\n",
        "w3 = 3.0-w1-w2\n",
        "\n",
        "preds_combi_tst = (w1*preds_test_rf+w2*preds_test_logit+w3*preds_test_xgb)/3.0\n",
        "output = pd.DataFrame(preds_combi_tst,columns=[\"Class_\"+str(i) for i in range(1,10)])\n",
        "output.insert(loc=0, column='id', value=df_test.id)\n",
        "output.to_csv('submission_combi_5cv.csv', index=False)\n",
        "pd.read_csv('submission_combi_5cv.csv').head()"
      ]
    },
    {
      "cell_type": "markdown",
      "metadata": {
        "id": "90Qx1Un79tzY"
      },
      "source": [
        "La combinación de los tres modelos obtiene un **Local=0.44468, Private=0.43486, Public=0.43475** que nos situa en en la posición 407 de 3511 (percentil 88.40%) del *private leaderboard* . Este resultado es muy bueno considerando que SE HAN UTILIZADO UNICAMENTE LAS FEATURES ORIGINALES sin preprocesar y sin filtrar."
      ]
    },
    {
      "cell_type": "markdown",
      "metadata": {
        "id": "ecEJnn-O9tzY"
      },
      "source": [
        "### EJERCICIO  6"
      ]
    },
    {
      "cell_type": "markdown",
      "metadata": {
        "id": "lVguzzyd9tzY"
      },
      "source": [
        "**Añadir las predicciones del modelo LGB para crear un modelo Ensemble buscando los pesos óptimos para obtener la mejor combinación de los modelos (RF, LOGIT, XGB y LGB). NO es obligatorio usar los cuatro modelos pues se puede desestimar alguno de ellos si es necesario. El objetivo es conseguir un modelo Ensemble que minimice lo más posible el LogLoss.**\n",
        "\n",
        "**Crear la submission y presentar los Scores Finales Publicos y Privados. Incluir en este script una foto de la pantalla de Kaggle con los resultados de la submission y en que posición del PRIVATE LEADERBOARD quedaria.**"
      ]
    },
    {
      "cell_type": "code",
      "execution_count": 45,
      "metadata": {
        "id": "PYHK_t2Z9tzY"
      },
      "outputs": [],
      "source": [
        "modellgbm = LGBMClassifier(learning_rate =0.2, n_estimators=700, max_depth=7, \n",
        "                          subsample=0.9, colsample_bytree=0.7, nthread=4,\n",
        "                          reg_alpha=0.0001, reg_lambda=0.01,subsample_freq= 1, min_child_weight=0.5,\n",
        "                          seed=42, objective='multi:softprob')\n",
        "rf_model = RandomForestClassifier(n_estimators=600,max_features=9,min_samples_split=2,n_jobs=-1,class_weight='balanced')\n",
        "logistic_model = LogisticRegression(C=2.0, max_iter=450, n_jobs=-1,class_weight=None,random_state=42)\n",
        "xgb_model = XGBClassifier(learning_rate =0.1, n_estimators=650, max_depth=8, subsample=0.8, colsample_bytree=0.6, nthread=20,reg_alpha=0.001, reg_lambda=1.0,seed=42, objective='multi:softprob')"
      ]
    },
    {
      "cell_type": "code",
      "execution_count": null,
      "metadata": {
        "id": "M6p-8MhkGCRr"
      },
      "outputs": [],
      "source": [
        "CREA_MODELOS = False\n",
        "\n",
        "if CREA_MODELOS:\n",
        "    rf_model = RandomForestClassifier(n_estimators=600,\n",
        "                                      max_features=9,\n",
        "                                      min_samples_split=2,\n",
        "                                      n_jobs=-1,class_weight='balanced')\n",
        "\n",
        "    logistic_model = LogisticRegression(C=2.0, max_iter=450, n_jobs=-1,class_weight=None,random_state=42)\n",
        "\n",
        "    xgb_model = XGBClassifier(learning_rate =0.1, n_estimators=650, max_depth=8, \n",
        "                              subsample=0.8, colsample_bytree=0.6, nthread=20,\n",
        "                              reg_alpha=0.001, reg_lambda=1.0,\n",
        "                              seed=42, objective='multi:softprob')"
      ]
    },
    {
      "cell_type": "code",
      "execution_count": null,
      "metadata": {
        "outputId": "f6b222db-e55d-467e-d81b-14e81ae2bcec",
        "id": "HYLZfMqtGCRy"
      },
      "outputs": [
        {
          "name": "stdout",
          "output_type": "stream",
          "text": [
            "ITER= 0\n",
            "ITER= 1\n",
            "ITER= 2\n",
            "ITER= 3\n",
            "ITER= 4\n",
            "RF= 0.4813305167410231\n",
            "ITER= 0\n",
            "ITER= 1\n",
            "ITER= 2\n",
            "ITER= 3\n",
            "ITER= 4\n",
            "LOGIT= 0.6400686984999122\n",
            "ITER= 0\n",
            "ITER= 1\n",
            "ITER= 2\n",
            "ITER= 3\n",
            "ITER= 4\n",
            "XGB= 0.45115528144663847\n",
            "CPU times: user 12h 17min 5s, sys: 11min 49s, total: 12h 28min 54s\n",
            "Wall time: 41min 1s\n"
          ]
        }
      ],
      "source": [
        "%%time\n",
        "if CREA_MODELOS:\n",
        "    loss_rf, y_rf, preds_val_rf, preds_test_rf  = entrena_model_folds(rf_model, calibra=True)\n",
        "    print('RF=',loss_rf)\n",
        "    loss_logit, y_logit, preds_val_logit, preds_test_logit = entrena_model_folds(logistic_model, calibra=False)\n",
        "    print('LOGIT=',loss_logit)\n",
        "    loss_xgb, y_xgb, preds_val_xgb, preds_test_xgb = entrena_model_folds(xgb_model, calibra=True)\n",
        "    print('XGB=',loss_xgb)"
      ]
    },
    {
      "cell_type": "code",
      "source": [
        "loss_lgb, y_lgb, preds_val_lgb, preds_test_lgb = entrena_model_folds(modellgbm, calibra=True)\n",
        "print('LGB=',loss_lgb)"
      ],
      "metadata": {
        "colab": {
          "base_uri": "https://localhost:8080/"
        },
        "id": "bUOh5HZLniZH",
        "outputId": "d49b2ad5-6547-4228-c0b0-46c3cbdb5d99"
      },
      "execution_count": 46,
      "outputs": [
        {
          "output_type": "stream",
          "name": "stdout",
          "text": [
            "ITER= 0\n",
            "ITER= 1\n",
            "ITER= 2\n",
            "ITER= 3\n",
            "ITER= 4\n",
            "LGB= 0.4523077542165836\n"
          ]
        }
      ]
    },
    {
      "cell_type": "code",
      "execution_count": 47,
      "metadata": {
        "ExecuteTime": {
          "end_time": "2022-04-29T08:17:54.337786Z",
          "start_time": "2022-04-29T08:17:52.215746Z"
        },
        "outputId": "09caf66c-8a6e-4f01-f71d-21ee47408aa8",
        "colab": {
          "base_uri": "https://localhost:8080/",
          "height": 206
        },
        "id": "LRLJw2cw1Fhi"
      },
      "outputs": [
        {
          "output_type": "execute_result",
          "data": {
            "text/plain": [
              "   id   Class_1   Class_2   Class_3   Class_4   Class_5   Class_6   Class_7  \\\n",
              "0   1  0.000450  0.165142  0.147003  0.683806  0.000000  0.000061  0.003243   \n",
              "1   2  0.002138  0.011102  0.001227  0.001045  0.000296  0.455674  0.007667   \n",
              "2   3  0.000000  0.000000  0.000013  0.000058  0.000000  0.999406  0.000019   \n",
              "3   4  0.000113  0.699952  0.285283  0.008645  0.000011  0.000013  0.000245   \n",
              "4   5  0.311563  0.000667  0.001045  0.000408  0.000175  0.017559  0.008963   \n",
              "\n",
              "    Class_8   Class_9  \n",
              "0  0.000295  0.000000  \n",
              "1  0.519212  0.001637  \n",
              "2  0.000504  0.000000  \n",
              "3  0.000224  0.005514  \n",
              "4  0.107534  0.552085  "
            ],
            "text/html": [
              "\n",
              "  <div id=\"df-6f704c4e-b0b8-4e47-a742-2524986a4ab0\">\n",
              "    <div class=\"colab-df-container\">\n",
              "      <div>\n",
              "<style scoped>\n",
              "    .dataframe tbody tr th:only-of-type {\n",
              "        vertical-align: middle;\n",
              "    }\n",
              "\n",
              "    .dataframe tbody tr th {\n",
              "        vertical-align: top;\n",
              "    }\n",
              "\n",
              "    .dataframe thead th {\n",
              "        text-align: right;\n",
              "    }\n",
              "</style>\n",
              "<table border=\"1\" class=\"dataframe\">\n",
              "  <thead>\n",
              "    <tr style=\"text-align: right;\">\n",
              "      <th></th>\n",
              "      <th>id</th>\n",
              "      <th>Class_1</th>\n",
              "      <th>Class_2</th>\n",
              "      <th>Class_3</th>\n",
              "      <th>Class_4</th>\n",
              "      <th>Class_5</th>\n",
              "      <th>Class_6</th>\n",
              "      <th>Class_7</th>\n",
              "      <th>Class_8</th>\n",
              "      <th>Class_9</th>\n",
              "    </tr>\n",
              "  </thead>\n",
              "  <tbody>\n",
              "    <tr>\n",
              "      <th>0</th>\n",
              "      <td>1</td>\n",
              "      <td>0.000450</td>\n",
              "      <td>0.165142</td>\n",
              "      <td>0.147003</td>\n",
              "      <td>0.683806</td>\n",
              "      <td>0.000000</td>\n",
              "      <td>0.000061</td>\n",
              "      <td>0.003243</td>\n",
              "      <td>0.000295</td>\n",
              "      <td>0.000000</td>\n",
              "    </tr>\n",
              "    <tr>\n",
              "      <th>1</th>\n",
              "      <td>2</td>\n",
              "      <td>0.002138</td>\n",
              "      <td>0.011102</td>\n",
              "      <td>0.001227</td>\n",
              "      <td>0.001045</td>\n",
              "      <td>0.000296</td>\n",
              "      <td>0.455674</td>\n",
              "      <td>0.007667</td>\n",
              "      <td>0.519212</td>\n",
              "      <td>0.001637</td>\n",
              "    </tr>\n",
              "    <tr>\n",
              "      <th>2</th>\n",
              "      <td>3</td>\n",
              "      <td>0.000000</td>\n",
              "      <td>0.000000</td>\n",
              "      <td>0.000013</td>\n",
              "      <td>0.000058</td>\n",
              "      <td>0.000000</td>\n",
              "      <td>0.999406</td>\n",
              "      <td>0.000019</td>\n",
              "      <td>0.000504</td>\n",
              "      <td>0.000000</td>\n",
              "    </tr>\n",
              "    <tr>\n",
              "      <th>3</th>\n",
              "      <td>4</td>\n",
              "      <td>0.000113</td>\n",
              "      <td>0.699952</td>\n",
              "      <td>0.285283</td>\n",
              "      <td>0.008645</td>\n",
              "      <td>0.000011</td>\n",
              "      <td>0.000013</td>\n",
              "      <td>0.000245</td>\n",
              "      <td>0.000224</td>\n",
              "      <td>0.005514</td>\n",
              "    </tr>\n",
              "    <tr>\n",
              "      <th>4</th>\n",
              "      <td>5</td>\n",
              "      <td>0.311563</td>\n",
              "      <td>0.000667</td>\n",
              "      <td>0.001045</td>\n",
              "      <td>0.000408</td>\n",
              "      <td>0.000175</td>\n",
              "      <td>0.017559</td>\n",
              "      <td>0.008963</td>\n",
              "      <td>0.107534</td>\n",
              "      <td>0.552085</td>\n",
              "    </tr>\n",
              "  </tbody>\n",
              "</table>\n",
              "</div>\n",
              "      <button class=\"colab-df-convert\" onclick=\"convertToInteractive('df-6f704c4e-b0b8-4e47-a742-2524986a4ab0')\"\n",
              "              title=\"Convert this dataframe to an interactive table.\"\n",
              "              style=\"display:none;\">\n",
              "        \n",
              "  <svg xmlns=\"http://www.w3.org/2000/svg\" height=\"24px\"viewBox=\"0 0 24 24\"\n",
              "       width=\"24px\">\n",
              "    <path d=\"M0 0h24v24H0V0z\" fill=\"none\"/>\n",
              "    <path d=\"M18.56 5.44l.94 2.06.94-2.06 2.06-.94-2.06-.94-.94-2.06-.94 2.06-2.06.94zm-11 1L8.5 8.5l.94-2.06 2.06-.94-2.06-.94L8.5 2.5l-.94 2.06-2.06.94zm10 10l.94 2.06.94-2.06 2.06-.94-2.06-.94-.94-2.06-.94 2.06-2.06.94z\"/><path d=\"M17.41 7.96l-1.37-1.37c-.4-.4-.92-.59-1.43-.59-.52 0-1.04.2-1.43.59L10.3 9.45l-7.72 7.72c-.78.78-.78 2.05 0 2.83L4 21.41c.39.39.9.59 1.41.59.51 0 1.02-.2 1.41-.59l7.78-7.78 2.81-2.81c.8-.78.8-2.07 0-2.86zM5.41 20L4 18.59l7.72-7.72 1.47 1.35L5.41 20z\"/>\n",
              "  </svg>\n",
              "      </button>\n",
              "      \n",
              "  <style>\n",
              "    .colab-df-container {\n",
              "      display:flex;\n",
              "      flex-wrap:wrap;\n",
              "      gap: 12px;\n",
              "    }\n",
              "\n",
              "    .colab-df-convert {\n",
              "      background-color: #E8F0FE;\n",
              "      border: none;\n",
              "      border-radius: 50%;\n",
              "      cursor: pointer;\n",
              "      display: none;\n",
              "      fill: #1967D2;\n",
              "      height: 32px;\n",
              "      padding: 0 0 0 0;\n",
              "      width: 32px;\n",
              "    }\n",
              "\n",
              "    .colab-df-convert:hover {\n",
              "      background-color: #E2EBFA;\n",
              "      box-shadow: 0px 1px 2px rgba(60, 64, 67, 0.3), 0px 1px 3px 1px rgba(60, 64, 67, 0.15);\n",
              "      fill: #174EA6;\n",
              "    }\n",
              "\n",
              "    [theme=dark] .colab-df-convert {\n",
              "      background-color: #3B4455;\n",
              "      fill: #D2E3FC;\n",
              "    }\n",
              "\n",
              "    [theme=dark] .colab-df-convert:hover {\n",
              "      background-color: #434B5C;\n",
              "      box-shadow: 0px 1px 3px 1px rgba(0, 0, 0, 0.15);\n",
              "      filter: drop-shadow(0px 1px 2px rgba(0, 0, 0, 0.3));\n",
              "      fill: #FFFFFF;\n",
              "    }\n",
              "  </style>\n",
              "\n",
              "      <script>\n",
              "        const buttonEl =\n",
              "          document.querySelector('#df-6f704c4e-b0b8-4e47-a742-2524986a4ab0 button.colab-df-convert');\n",
              "        buttonEl.style.display =\n",
              "          google.colab.kernel.accessAllowed ? 'block' : 'none';\n",
              "\n",
              "        async function convertToInteractive(key) {\n",
              "          const element = document.querySelector('#df-6f704c4e-b0b8-4e47-a742-2524986a4ab0');\n",
              "          const dataTable =\n",
              "            await google.colab.kernel.invokeFunction('convertToInteractive',\n",
              "                                                     [key], {});\n",
              "          if (!dataTable) return;\n",
              "\n",
              "          const docLinkHtml = 'Like what you see? Visit the ' +\n",
              "            '<a target=\"_blank\" href=https://colab.research.google.com/notebooks/data_table.ipynb>data table notebook</a>'\n",
              "            + ' to learn more about interactive tables.';\n",
              "          element.innerHTML = '';\n",
              "          dataTable['output_type'] = 'display_data';\n",
              "          await google.colab.output.renderOutput(dataTable, element);\n",
              "          const docLink = document.createElement('div');\n",
              "          docLink.innerHTML = docLinkHtml;\n",
              "          element.appendChild(docLink);\n",
              "        }\n",
              "      </script>\n",
              "    </div>\n",
              "  </div>\n",
              "  "
            ]
          },
          "metadata": {},
          "execution_count": 47
        }
      ],
      "source": [
        "output = pd.DataFrame(preds_test_lgb,columns=[\"Class_\"+str(i) for i in range(1,10)])\n",
        "output.insert(loc=0, column='id', value=df_test.id)\n",
        "output.to_csv('submission_lgb_5cv.csv', index=False)\n",
        "pd.read_csv('submission_lgb_5cv.csv').head()"
      ]
    },
    {
      "cell_type": "code",
      "execution_count": 49,
      "metadata": {
        "ExecuteTime": {
          "end_time": "2022-04-29T08:17:57.542105Z",
          "start_time": "2022-04-29T08:17:57.534108Z"
        },
        "id": "Y6IxDKyl2XiI"
      },
      "outputs": [],
      "source": [
        "def combina_predsej6(w):\n",
        "    w1 = w[0]\n",
        "    w2 = w[1]\n",
        "    w3 = w[2]\n",
        "    w4= 4.0-w1-w2-w3\n",
        "    preds_combi = (w1*preds_val_rf+w2*preds_val_logit+w3*preds_val_xgb+w4*preds_val_lgb)/4.0\n",
        "    return log_loss(y_xgb, preds_combi, eps=1e-15, normalize=True)    "
      ]
    },
    {
      "cell_type": "code",
      "execution_count": 50,
      "metadata": {
        "ExecuteTime": {
          "end_time": "2022-04-29T08:17:58.578951Z",
          "start_time": "2022-04-29T08:17:58.510562Z"
        },
        "outputId": "cae4560d-9606-44df-e40d-28f837df08d0",
        "colab": {
          "base_uri": "https://localhost:8080/"
        },
        "id": "ce3k_mlC2XiK"
      },
      "outputs": [
        {
          "output_type": "execute_result",
          "data": {
            "text/plain": [
              "0.44763501319388854"
            ]
          },
          "metadata": {},
          "execution_count": 50
        }
      ],
      "source": [
        "combina_predsej6([0.4,0.1,0.2])"
      ]
    },
    {
      "cell_type": "code",
      "execution_count": 56,
      "metadata": {
        "ExecuteTime": {
          "end_time": "2022-04-29T08:18:11.312857Z",
          "start_time": "2022-04-29T08:18:05.912032Z"
        },
        "outputId": "04a2c0f9-fcf8-499e-8ff3-7f724db86cac",
        "colab": {
          "base_uri": "https://localhost:8080/"
        },
        "id": "NKKlkMtT2XiL"
      },
      "outputs": [
        {
          "output_type": "stream",
          "name": "stdout",
          "text": [
            "Optimization terminated successfully.\n",
            "         Current function value: 0.443467\n",
            "         Iterations: 140\n",
            "         Function evaluations: 269\n",
            " final_simplex: (array([[ 0.76139657, -0.06477597,  2.09651298],\n",
            "       [ 0.76139657, -0.06477597,  2.09651298],\n",
            "       [ 0.76139657, -0.06477597,  2.09651298],\n",
            "       [ 0.76139657, -0.06477597,  2.09651298]]), array([0.44346735, 0.44346735, 0.44346735, 0.44346735]))\n",
            "           fun: 0.44346735101107543\n",
            "       message: 'Optimization terminated successfully.'\n",
            "          nfev: 269\n",
            "           nit: 140\n",
            "        status: 0\n",
            "       success: True\n",
            "             x: array([ 0.76139657, -0.06477597,  2.09651298])\n"
          ]
        }
      ],
      "source": [
        "from scipy.optimize import minimize\n",
        "res1 = minimize(combina_predsej6, [0.4,0.1,0.2], method='nelder-mead',options={'xatol': 1e-8, 'disp': True})\n",
        "print(res1)"
      ]
    },
    {
      "cell_type": "markdown",
      "source": [
        "El peso del modelo logistico es muy pequeño, lo eliminamos"
      ],
      "metadata": {
        "id": "kUJCBuYm4Q40"
      }
    },
    {
      "cell_type": "code",
      "source": [
        "def combina_predsej6_2(w):\n",
        "    w1 = w[0]\n",
        "    w2 = w[1]\n",
        "    w3= 3.0-w1-w2\n",
        "    preds_combi = (w1*preds_val_rf+w2*preds_val_xgb+w3*preds_val_lgb)/3.0\n",
        "    return log_loss(y_xgb, preds_combi, eps=1e-15, normalize=True)    "
      ],
      "metadata": {
        "id": "iB5kWbkL4V4r"
      },
      "execution_count": 52,
      "outputs": []
    },
    {
      "cell_type": "code",
      "source": [
        "combina_predsej6_2([0.4,0.2])"
      ],
      "metadata": {
        "colab": {
          "base_uri": "https://localhost:8080/"
        },
        "id": "7pYoE1IK4Qn2",
        "outputId": "300d2356-2974-4dbf-9ec6-9a5e1a7944ed"
      },
      "execution_count": 53,
      "outputs": [
        {
          "output_type": "execute_result",
          "data": {
            "text/plain": [
              "0.44623437295448226"
            ]
          },
          "metadata": {},
          "execution_count": 53
        }
      ]
    },
    {
      "cell_type": "code",
      "source": [
        "from scipy.optimize import minimize\n",
        "res2 = minimize(combina_predsej6_2, [0.4,0.2], method='nelder-mead',options={'xatol': 1e-8, 'disp': True})\n",
        "print(res2)"
      ],
      "metadata": {
        "colab": {
          "base_uri": "https://localhost:8080/"
        },
        "id": "18dlPCS24pbU",
        "outputId": "f981cfde-d878-4671-f88d-720f2453c742"
      },
      "execution_count": 57,
      "outputs": [
        {
          "output_type": "stream",
          "name": "stdout",
          "text": [
            "Optimization terminated successfully.\n",
            "         Current function value: 0.443713\n",
            "         Iterations: 74\n",
            "         Function evaluations: 147\n",
            " final_simplex: (array([[0.53765585, 1.60589581],\n",
            "       [0.53765584, 1.6058958 ],\n",
            "       [0.53765584, 1.60589582]]), array([0.44371308, 0.44371308, 0.44371308]))\n",
            "           fun: 0.4437130847588739\n",
            "       message: 'Optimization terminated successfully.'\n",
            "          nfev: 147\n",
            "           nit: 74\n",
            "        status: 0\n",
            "       success: True\n",
            "             x: array([0.53765585, 1.60589581])\n"
          ]
        }
      ]
    },
    {
      "cell_type": "markdown",
      "source": [
        "Empeora, nos quedamos con los valores del modelo con los 4"
      ],
      "metadata": {
        "id": "mrubh2Vn41N4"
      }
    },
    {
      "cell_type": "code",
      "source": [
        "res = minimize(combina_predsej6, [0.4,0.1,0.2], method='nelder-mead',options={'xatol': 1e-8, 'disp': True})\n",
        "print(res)\n",
        "\n",
        "w1 = res.x[0]\n",
        "w2 = res.x[1]\n",
        "w3 = res.x[2]\n",
        "w4= 4.0-w1-w2-w3\n",
        "\n",
        "print(w1)\n",
        "print(w2)\n",
        "print(w3)\n",
        "\n",
        "\n",
        "preds_combi_tst_2 = (w1*preds_test_rf+w2*preds_test_logit+w3*preds_test_xgb+w4*preds_val_lgb)/4.0\n",
        "output = pd.DataFrame(preds_combi_tst_2,columns=[\"Class_\"+str(i) for i in range(1,10)])\n",
        "output.insert(loc=0, column='id', value=df_test.id)\n",
        "output.to_csv('submission_combi_5cv_ej6.csv', index=False)\n",
        "pd.read_csv('submission_combi_5cv_ej6.csv').head()"
      ],
      "metadata": {
        "colab": {
          "base_uri": "https://localhost:8080/",
          "height": 547
        },
        "id": "5Pg1ATTu5E-y",
        "outputId": "8c4e229b-1117-4241-f15d-61cbaff7426e"
      },
      "execution_count": 61,
      "outputs": [
        {
          "output_type": "stream",
          "name": "stdout",
          "text": [
            "Optimization terminated successfully.\n",
            "         Current function value: 0.443467\n",
            "         Iterations: 140\n",
            "         Function evaluations: 269\n",
            " final_simplex: (array([[ 0.76139657, -0.06477597,  2.09651298],\n",
            "       [ 0.76139657, -0.06477597,  2.09651298],\n",
            "       [ 0.76139657, -0.06477597,  2.09651298],\n",
            "       [ 0.76139657, -0.06477597,  2.09651298]]), array([0.44346735, 0.44346735, 0.44346735, 0.44346735]))\n",
            "           fun: 0.44346735101107543\n",
            "       message: 'Optimization terminated successfully.'\n",
            "          nfev: 269\n",
            "           nit: 140\n",
            "        status: 0\n",
            "       success: True\n",
            "             x: array([ 0.76139657, -0.06477597,  2.09651298])\n",
            "0.7613965736406751\n",
            "-0.06477596690165194\n",
            "2.096512982665669\n"
          ]
        },
        {
          "output_type": "error",
          "ename": "ValueError",
          "evalue": "ignored",
          "traceback": [
            "\u001b[0;31m---------------------------------------------------------------------------\u001b[0m",
            "\u001b[0;31mValueError\u001b[0m                                Traceback (most recent call last)",
            "\u001b[0;32m<ipython-input-61-4008929b6d41>\u001b[0m in \u001b[0;36m<module>\u001b[0;34m()\u001b[0m\n\u001b[1;32m     12\u001b[0m \u001b[0;34m\u001b[0m\u001b[0m\n\u001b[1;32m     13\u001b[0m \u001b[0;34m\u001b[0m\u001b[0m\n\u001b[0;32m---> 14\u001b[0;31m \u001b[0mpreds_combi_tst_2\u001b[0m \u001b[0;34m=\u001b[0m \u001b[0;34m(\u001b[0m\u001b[0mw1\u001b[0m\u001b[0;34m*\u001b[0m\u001b[0mpreds_test_rf\u001b[0m\u001b[0;34m+\u001b[0m\u001b[0mw2\u001b[0m\u001b[0;34m*\u001b[0m\u001b[0mpreds_test_logit\u001b[0m\u001b[0;34m+\u001b[0m\u001b[0mw3\u001b[0m\u001b[0;34m*\u001b[0m\u001b[0mpreds_test_xgb\u001b[0m\u001b[0;34m+\u001b[0m\u001b[0mw4\u001b[0m\u001b[0;34m*\u001b[0m\u001b[0mpreds_val_lgb\u001b[0m\u001b[0;34m)\u001b[0m\u001b[0;34m/\u001b[0m\u001b[0;36m4.0\u001b[0m\u001b[0;34m\u001b[0m\u001b[0;34m\u001b[0m\u001b[0m\n\u001b[0m\u001b[1;32m     15\u001b[0m \u001b[0moutput\u001b[0m \u001b[0;34m=\u001b[0m \u001b[0mpd\u001b[0m\u001b[0;34m.\u001b[0m\u001b[0mDataFrame\u001b[0m\u001b[0;34m(\u001b[0m\u001b[0mpreds_combi_tst_2\u001b[0m\u001b[0;34m,\u001b[0m\u001b[0mcolumns\u001b[0m\u001b[0;34m=\u001b[0m\u001b[0;34m[\u001b[0m\u001b[0;34m\"Class_\"\u001b[0m\u001b[0;34m+\u001b[0m\u001b[0mstr\u001b[0m\u001b[0;34m(\u001b[0m\u001b[0mi\u001b[0m\u001b[0;34m)\u001b[0m \u001b[0;32mfor\u001b[0m \u001b[0mi\u001b[0m \u001b[0;32min\u001b[0m \u001b[0mrange\u001b[0m\u001b[0;34m(\u001b[0m\u001b[0;36m1\u001b[0m\u001b[0;34m,\u001b[0m\u001b[0;36m10\u001b[0m\u001b[0;34m)\u001b[0m\u001b[0;34m]\u001b[0m\u001b[0;34m)\u001b[0m\u001b[0;34m\u001b[0m\u001b[0;34m\u001b[0m\u001b[0m\n\u001b[1;32m     16\u001b[0m \u001b[0moutput\u001b[0m\u001b[0;34m.\u001b[0m\u001b[0minsert\u001b[0m\u001b[0;34m(\u001b[0m\u001b[0mloc\u001b[0m\u001b[0;34m=\u001b[0m\u001b[0;36m0\u001b[0m\u001b[0;34m,\u001b[0m \u001b[0mcolumn\u001b[0m\u001b[0;34m=\u001b[0m\u001b[0;34m'id'\u001b[0m\u001b[0;34m,\u001b[0m \u001b[0mvalue\u001b[0m\u001b[0;34m=\u001b[0m\u001b[0mdf_test\u001b[0m\u001b[0;34m.\u001b[0m\u001b[0mid\u001b[0m\u001b[0;34m)\u001b[0m\u001b[0;34m\u001b[0m\u001b[0;34m\u001b[0m\u001b[0m\n",
            "\u001b[0;31mValueError\u001b[0m: operands could not be broadcast together with shapes (144368,9) (61878,9) "
          ]
        }
      ]
    },
    {
      "cell_type": "markdown",
      "metadata": {
        "id": "9BQsDIz_9tzZ"
      },
      "source": [
        "# ENTREGA"
      ]
    },
    {
      "cell_type": "markdown",
      "metadata": {
        "id": "g3gRHWrb9tzZ"
      },
      "source": [
        "**Todos los pasos realizados deberán ser explicados con detalle en un documento PDF. El nombre del archivo deberá incluir lo siguiente 'PROYECTO3_NombreDelAlumnoSinAcentos.PDF'. Ejemplo: PROYECTO3_PEPITO_PEREZ.PDF**\n",
        "\n",
        "Si usas Colab, recuerde guardar sus cambios en su repositorio utilizando la opción \"Save a copy in GitHub...\" del menú File."
      ]
    },
    {
      "cell_type": "code",
      "execution_count": null,
      "metadata": {
        "id": "OqBwAw2j9tzZ"
      },
      "outputs": [],
      "source": [
        ""
      ]
    }
  ],
  "metadata": {
    "kernelspec": {
      "display_name": "Python 3 (ipykernel)",
      "language": "python",
      "name": "python3"
    },
    "language_info": {
      "codemirror_mode": {
        "name": "ipython",
        "version": 3
      },
      "file_extension": ".py",
      "mimetype": "text/x-python",
      "name": "python",
      "nbconvert_exporter": "python",
      "pygments_lexer": "ipython3",
      "version": "3.9.7"
    },
    "toc": {
      "base_numbering": 1,
      "nav_menu": {},
      "number_sections": true,
      "sideBar": true,
      "skip_h1_title": false,
      "title_cell": "Table of Contents",
      "title_sidebar": "Contents",
      "toc_cell": false,
      "toc_position": {},
      "toc_section_display": true,
      "toc_window_display": false
    },
    "varInspector": {
      "cols": {
        "lenName": 16,
        "lenType": 16,
        "lenVar": 40
      },
      "kernels_config": {
        "python": {
          "delete_cmd_postfix": "",
          "delete_cmd_prefix": "del ",
          "library": "var_list.py",
          "varRefreshCmd": "print(var_dic_list())"
        },
        "r": {
          "delete_cmd_postfix": ") ",
          "delete_cmd_prefix": "rm(",
          "library": "var_list.r",
          "varRefreshCmd": "cat(var_dic_list()) "
        }
      },
      "types_to_exclude": [
        "module",
        "function",
        "builtin_function_or_method",
        "instance",
        "_Feature"
      ],
      "window_display": false
    },
    "colab": {
      "name": "Proyecto_3_4_Diseño_Avanzado_Otto_ENSEMBLE.ipynb",
      "provenance": [],
      "include_colab_link": true
    }
  },
  "nbformat": 4,
  "nbformat_minor": 0
}