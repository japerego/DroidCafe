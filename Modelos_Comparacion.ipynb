{
  "nbformat": 4,
  "nbformat_minor": 0,
  "metadata": {
    "colab": {
      "name": "Untitled0.ipynb",
      "provenance": [],
      "authorship_tag": "ABX9TyOYW8uG7SA0ajRNaQGmyRCh",
      "include_colab_link": true
    },
    "kernelspec": {
      "name": "python3",
      "display_name": "Python 3"
    },
    "language_info": {
      "name": "python"
    }
  },
  "cells": [
    {
      "cell_type": "markdown",
      "metadata": {
        "id": "view-in-github",
        "colab_type": "text"
      },
      "source": [
        "<a href=\"https://colab.research.google.com/github/japerego/DroidCafe/blob/master/Modelos_Comparacion.ipynb\" target=\"_parent\"><img src=\"https://colab.research.google.com/assets/colab-badge.svg\" alt=\"Open In Colab\"/></a>"
      ]
    },
    {
      "cell_type": "code",
      "execution_count": null,
      "metadata": {
        "id": "h_fH4Onh5MPL",
        "colab": {
          "base_uri": "https://localhost:8080/"
        },
        "outputId": "be26ac82-7bc5-4d13-8e7c-c6b934363a83"
      },
      "outputs": [
        {
          "output_type": "stream",
          "name": "stdout",
          "text": [
            "Mounted at /content/gdrive\n"
          ]
        }
      ],
      "source": [
        "from google.colab import drive\n",
        "drive.mount(\"/content/gdrive\", force_remount=True)"
      ]
    },
    {
      "cell_type": "code",
      "source": [
        "%cd /content/gdrive/MyDrive/Kaggle/IA"
      ],
      "metadata": {
        "id": "Y_QXjhn_5OdK",
        "colab": {
          "base_uri": "https://localhost:8080/"
        },
        "outputId": "a7bcf11f-69db-42d7-d482-3475a6bd9e17"
      },
      "execution_count": null,
      "outputs": [
        {
          "output_type": "stream",
          "name": "stdout",
          "text": [
            "/content/gdrive/MyDrive/Kaggle/IA\n"
          ]
        }
      ]
    },
    {
      "cell_type": "code",
      "source": [
        "!ls"
      ],
      "metadata": {
        "id": "kNJxOQw75QKf",
        "colab": {
          "base_uri": "https://localhost:8080/"
        },
        "outputId": "cf30bef1-bd29-47ea-d830-961521e54317"
      },
      "execution_count": null,
      "outputs": [
        {
          "output_type": "stream",
          "name": "stdout",
          "text": [
            "ia2122.zip  kaggle.json  sample.csv  test.csv  train.csv\n"
          ]
        }
      ]
    },
    {
      "cell_type": "code",
      "source": [
        "import numpy as np\n",
        "import pandas as pd"
      ],
      "metadata": {
        "id": "DY7SEZBU5RU3"
      },
      "execution_count": null,
      "outputs": []
    },
    {
      "cell_type": "code",
      "source": [
        "df= pd.read_csv('train.csv')"
      ],
      "metadata": {
        "id": "xLPDu52-5SmV"
      },
      "execution_count": null,
      "outputs": []
    },
    {
      "cell_type": "code",
      "source": [
        "X =  df.values[:,:-1]\n",
        "Y =  df.values[:,-1]"
      ],
      "metadata": {
        "id": "UVu4zUkAA8Ux"
      },
      "execution_count": 70,
      "outputs": []
    },
    {
      "cell_type": "markdown",
      "source": [
        "Split de Data"
      ],
      "metadata": {
        "id": "hVlawFvwA10T"
      }
    },
    {
      "cell_type": "code",
      "source": [
        "from sklearn.model_selection import train_test_split"
      ],
      "metadata": {
        "id": "aQ739NecBAaW"
      },
      "execution_count": null,
      "outputs": []
    },
    {
      "cell_type": "code",
      "source": [
        "(trainData, testData, trainLabels, testLabels) = train_test_split(X,Y,test_size=0.10, random_state=42)"
      ],
      "metadata": {
        "id": "cBClj988AyNM"
      },
      "execution_count": null,
      "outputs": []
    },
    {
      "cell_type": "markdown",
      "source": [
        "**KNN**"
      ],
      "metadata": {
        "id": "SEdgM8w5Ap8o"
      }
    },
    {
      "cell_type": "code",
      "source": [
        "from sklearn.neighbors import KNeighborsClassifier"
      ],
      "metadata": {
        "id": "UEHkw3VvArps"
      },
      "execution_count": null,
      "outputs": []
    },
    {
      "cell_type": "code",
      "source": [
        "modelKNN = KNeighborsClassifier(n_neighbors=5)"
      ],
      "metadata": {
        "id": "Vse3SiU4AtUM"
      },
      "execution_count": null,
      "outputs": []
    },
    {
      "cell_type": "code",
      "source": [
        "modelKNN.fit(trainData, trainLabels)"
      ],
      "metadata": {
        "id": "aV44kwYnAvbI",
        "colab": {
          "base_uri": "https://localhost:8080/"
        },
        "outputId": "6cc3c78c-f5c7-4dfa-c657-5538fd3784c9"
      },
      "execution_count": null,
      "outputs": [
        {
          "output_type": "execute_result",
          "data": {
            "text/plain": [
              "KNeighborsClassifier()"
            ]
          },
          "metadata": {},
          "execution_count": 12
        }
      ]
    },
    {
      "cell_type": "markdown",
      "source": [
        "**Árbol de decisión**"
      ],
      "metadata": {
        "id": "l47SANcqBGhX"
      }
    },
    {
      "cell_type": "code",
      "source": [
        "from sklearn.tree import DecisionTreeClassifier"
      ],
      "metadata": {
        "id": "ctFvF22yBKfA"
      },
      "execution_count": null,
      "outputs": []
    },
    {
      "cell_type": "code",
      "source": [
        "modelArbol = DecisionTreeClassifier(random_state=42)"
      ],
      "metadata": {
        "id": "XK_3qG_QBL0g"
      },
      "execution_count": null,
      "outputs": []
    },
    {
      "cell_type": "code",
      "source": [
        "modelArbol.fit(trainData, trainLabels)"
      ],
      "metadata": {
        "id": "euFniGJjBNoH",
        "colab": {
          "base_uri": "https://localhost:8080/"
        },
        "outputId": "6fc3b473-fd46-4ac4-e46b-74b5cf511867"
      },
      "execution_count": null,
      "outputs": [
        {
          "output_type": "execute_result",
          "data": {
            "text/plain": [
              "DecisionTreeClassifier(random_state=42)"
            ]
          },
          "metadata": {},
          "execution_count": 15
        }
      ]
    },
    {
      "cell_type": "markdown",
      "source": [
        "**Regresión logística**"
      ],
      "metadata": {
        "id": "IZypfB3uBQbl"
      }
    },
    {
      "cell_type": "code",
      "source": [
        "from sklearn.linear_model import LogisticRegression"
      ],
      "metadata": {
        "id": "JCPepwYuBP_F"
      },
      "execution_count": null,
      "outputs": []
    },
    {
      "cell_type": "code",
      "source": [
        "modelLR = LogisticRegression(random_state=42, max_iter=4000)"
      ],
      "metadata": {
        "id": "G58D4DmuBTNW"
      },
      "execution_count": null,
      "outputs": []
    },
    {
      "cell_type": "code",
      "source": [
        "modelLR.fit(trainData, trainLabels)"
      ],
      "metadata": {
        "id": "w7MFOD_uBU70",
        "colab": {
          "base_uri": "https://localhost:8080/"
        },
        "outputId": "c075a452-5e0f-49e5-92e2-39d02e39b968"
      },
      "execution_count": null,
      "outputs": [
        {
          "output_type": "execute_result",
          "data": {
            "text/plain": [
              "LogisticRegression(max_iter=4000, random_state=42)"
            ]
          },
          "metadata": {},
          "execution_count": 18
        }
      ]
    },
    {
      "cell_type": "markdown",
      "source": [
        "**SVMs**"
      ],
      "metadata": {
        "id": "2MyyOiYFBZAX"
      }
    },
    {
      "cell_type": "code",
      "source": [
        "from sklearn.svm import SVC"
      ],
      "metadata": {
        "id": "imP-l4_uBanH"
      },
      "execution_count": null,
      "outputs": []
    },
    {
      "cell_type": "code",
      "source": [
        "modelSVMLineal = SVC(kernel=\"linear\",random_state=42)"
      ],
      "metadata": {
        "id": "mUr7XGN-Bbw-"
      },
      "execution_count": null,
      "outputs": []
    },
    {
      "cell_type": "code",
      "source": [
        "#modelSVMLineal.fit(trainData, trainLabels)"
      ],
      "metadata": {
        "id": "ceQm7ZiO5LHi"
      },
      "execution_count": null,
      "outputs": []
    },
    {
      "cell_type": "markdown",
      "source": [
        "14 horas de ejecución, fallo"
      ],
      "metadata": {
        "id": "upcYu4_C4sdz"
      }
    },
    {
      "cell_type": "markdown",
      "source": [
        "**Redes neuronales**"
      ],
      "metadata": {
        "id": "_46CFoMbBeSW"
      }
    },
    {
      "cell_type": "markdown",
      "source": [
        "Perceptron"
      ],
      "metadata": {
        "id": "dDu-g-tuBiSl"
      }
    },
    {
      "cell_type": "code",
      "source": [
        "from sklearn.linear_model import Perceptron"
      ],
      "metadata": {
        "id": "xKE16u3pBfmo"
      },
      "execution_count": null,
      "outputs": []
    },
    {
      "cell_type": "code",
      "source": [
        "modelPerceptron = Perceptron(eta0=1.0,random_state=42)"
      ],
      "metadata": {
        "id": "7fdAyvs7Bs_o"
      },
      "execution_count": null,
      "outputs": []
    },
    {
      "cell_type": "code",
      "source": [
        "modelPerceptron.fit(trainData,trainLabels)"
      ],
      "metadata": {
        "colab": {
          "base_uri": "https://localhost:8080/"
        },
        "id": "fENLbfxy7u4g",
        "outputId": "1b8d1e80-5fae-4451-b96e-680321b3c4dc"
      },
      "execution_count": null,
      "outputs": [
        {
          "output_type": "execute_result",
          "data": {
            "text/plain": [
              "Perceptron(random_state=42)"
            ]
          },
          "metadata": {},
          "execution_count": 27
        }
      ]
    },
    {
      "cell_type": "markdown",
      "source": [
        "Multilayer Perceptron"
      ],
      "metadata": {
        "id": "yyzMJJDEBnHu"
      }
    },
    {
      "cell_type": "code",
      "source": [
        "from sklearn.neural_network import MLPClassifier"
      ],
      "metadata": {
        "id": "LSnTVSuwCHAX"
      },
      "execution_count": null,
      "outputs": []
    },
    {
      "cell_type": "code",
      "source": [
        "modelMultiLayerPerceptron = MLPClassifier(hidden_layer_sizes=(5,2),learning_rate_init=0.01,momentum=0.9,random_state=42)"
      ],
      "metadata": {
        "id": "wRXhe8P7CIk_"
      },
      "execution_count": null,
      "outputs": []
    },
    {
      "cell_type": "code",
      "source": [
        "modelMultiLayerPerceptron.fit(trainData,trainLabels)"
      ],
      "metadata": {
        "id": "89VHV23tCMHZ",
        "colab": {
          "base_uri": "https://localhost:8080/"
        },
        "outputId": "d0970e79-fead-4188-c241-2e37ac149452"
      },
      "execution_count": null,
      "outputs": [
        {
          "output_type": "execute_result",
          "data": {
            "text/plain": [
              "MLPClassifier(hidden_layer_sizes=(5, 2), learning_rate_init=0.01,\n",
              "              random_state=42)"
            ]
          },
          "metadata": {},
          "execution_count": 30
        }
      ]
    },
    {
      "cell_type": "markdown",
      "source": [
        "**Evaluar**"
      ],
      "metadata": {
        "id": "vDRwWQpmCOhG"
      }
    },
    {
      "cell_type": "code",
      "source": [
        "def evalua(clasificador,testData,testLabels):\n",
        "    values = clasificador.predict(testData);\n",
        "    same = (values == testLabels)\n",
        "    bien = sum([1 for i in same if i==True])\n",
        "    print (bien/len(same));"
      ],
      "metadata": {
        "id": "2ZaeEE2tCQW8"
      },
      "execution_count": null,
      "outputs": []
    },
    {
      "cell_type": "code",
      "source": [
        "print('modelKNN')\n",
        "evalua(modelKNN, testData, testLabels);\n",
        "print('modelArbol')\n",
        "evalua(modelArbol, testData, testLabels);\n",
        "print('modelLR')\n",
        "evalua(modelLR, testData, testLabels);\n",
        "# print('modelSVMLineal')\n",
        "# evalua(modelSVMLineal, testData, testLabels);\n",
        "print('modelPerceptron')\n",
        "evalua(modelPerceptron, testData, testLabels);\n",
        "print('modelMultiLayerPerceptron')\n",
        "evalua(modelMultiLayerPerceptron, testData, testLabels);"
      ],
      "metadata": {
        "id": "_M9xJcWvCSM1",
        "colab": {
          "base_uri": "https://localhost:8080/"
        },
        "outputId": "086129c5-d26c-4356-b2b7-b19cec4fb964"
      },
      "execution_count": null,
      "outputs": [
        {
          "output_type": "stream",
          "name": "stdout",
          "text": [
            "modelKNN\n",
            "0.5916666666666667\n",
            "modelArbol\n",
            "0.66\n",
            "modelLR\n",
            "0.2816666666666667\n",
            "modelPerceptron\n",
            "0.16583333333333333\n",
            "modelMultiLayerPerceptron\n",
            "0.2916666666666667\n"
          ]
        }
      ]
    },
    {
      "cell_type": "markdown",
      "source": [
        "Podemos observar que el modelo que mejor lo representa es el modelo de arbol, con un 66% por de aciertos"
      ],
      "metadata": {
        "id": "cnTm8rKT99iC"
      }
    },
    {
      "cell_type": "code",
      "source": [
        "from sklearn.linear_model import Ridge\n",
        "from sklearn.model_selection import RandomizedSearchCV, RepeatedKFold\n",
        "modelRidge = Ridge(alpha=1.0, random_state = 42)\n",
        "modelRidge.fit(trainData,trainLabels)"
      ],
      "metadata": {
        "colab": {
          "base_uri": "https://localhost:8080/"
        },
        "id": "2oVouPCO-_W3",
        "outputId": "8a693ee7-b352-45cc-e8f2-f8e3d5a01ef2"
      },
      "execution_count": null,
      "outputs": [
        {
          "output_type": "execute_result",
          "data": {
            "text/plain": [
              "Ridge(random_state=42)"
            ]
          },
          "metadata": {},
          "execution_count": 58
        }
      ]
    },
    {
      "cell_type": "code",
      "source": [
        "print('modelRidge')\n",
        "evalua(modelRidge, testData, testLabels);"
      ],
      "metadata": {
        "colab": {
          "base_uri": "https://localhost:8080/"
        },
        "id": "ewfGd0s2_tDF",
        "outputId": "eb85e907-fe57-413e-8000-a7cf3ecf6028"
      },
      "execution_count": null,
      "outputs": [
        {
          "output_type": "stream",
          "name": "stdout",
          "text": [
            "modelRidge\n",
            "0.0\n"
          ]
        }
      ]
    },
    {
      "cell_type": "markdown",
      "source": [
        "Random forest"
      ],
      "metadata": {
        "id": "j06QtLB0ALwz"
      }
    },
    {
      "cell_type": "code",
      "source": [
        "from sklearn.ensemble import RandomForestClassifier\n",
        "from sklearn.datasets import make_classification"
      ],
      "metadata": {
        "id": "qP8GlazOALdS"
      },
      "execution_count": 66,
      "outputs": []
    },
    {
      "cell_type": "code",
      "source": [
        "modelRandomForest = RandomForestClassifier(random_state=42,max_depth=18)\n",
        "modelRandomForest.fit(trainData,trainLabels)"
      ],
      "metadata": {
        "colab": {
          "base_uri": "https://localhost:8080/"
        },
        "id": "xTsloQU5Dt9A",
        "outputId": "ddc62d4c-0f77-4943-d85b-b5bf44cea605"
      },
      "execution_count": 101,
      "outputs": [
        {
          "output_type": "execute_result",
          "data": {
            "text/plain": [
              "RandomForestClassifier(max_depth=18, random_state=42)"
            ]
          },
          "metadata": {},
          "execution_count": 101
        }
      ]
    },
    {
      "cell_type": "code",
      "source": [
        "print('modelRandomForest')\n",
        "evalua(modelRandomForest, testData, testLabels);"
      ],
      "metadata": {
        "colab": {
          "base_uri": "https://localhost:8080/"
        },
        "id": "9L9iMAXEEYVT",
        "outputId": "c7adfea5-cbf9-46ce-ab72-dce43fff23d5"
      },
      "execution_count": 103,
      "outputs": [
        {
          "output_type": "stream",
          "name": "stdout",
          "text": [
            "modelRandomForest\n",
            "0.7508333333333334\n"
          ]
        }
      ]
    },
    {
      "cell_type": "code",
      "source": [
        "from sklearn.datasets import make_hastie_10_2\n",
        "from sklearn.ensemble import GradientBoostingClassifier\n",
        "\n",
        "modelGradientBoosting = GradientBoostingClassifier(n_estimators=400, learning_rate=1.0,max_depth=9, random_state=42).fit(trainData, trainLabels)\n",
        "evalua(modelGradientBoosting, testData, testLabels);"
      ],
      "metadata": {
        "colab": {
          "base_uri": "https://localhost:8080/"
        },
        "id": "CcwxVZ45Filk",
        "outputId": "b87bdb10-f491-44a8-8804-7b6de4e45c23"
      },
      "execution_count": 124,
      "outputs": [
        {
          "output_type": "stream",
          "name": "stdout",
          "text": [
            "0.7316666666666667\n"
          ]
        }
      ]
    },
    {
      "cell_type": "markdown",
      "source": [
        "0.7116666666666667\n",
        "n_estimators=100, learning_rate=1.0,max_depth=15, random_state=0"
      ],
      "metadata": {
        "id": "4xORhvsMGari"
      }
    },
    {
      "cell_type": "markdown",
      "source": [
        ""
      ],
      "metadata": {
        "id": "q3WCoSbkBqjF"
      }
    }
  ]
}