{
  "cells": [
    {
      "cell_type": "markdown",
      "metadata": {
        "id": "view-in-github",
        "colab_type": "text"
      },
      "source": [
        "<a href=\"https://colab.research.google.com/github/japerego/DroidCafe/blob/master/practica3_parte2.ipynb\" target=\"_parent\"><img src=\"https://colab.research.google.com/assets/colab-badge.svg\" alt=\"Open In Colab\"/></a>"
      ]
    },
    {
      "cell_type": "markdown",
      "metadata": {
        "id": "TXZ7ATvTnKYe"
      },
      "source": [
        "# Práctica 3 Parte II. Clustering con sklearn"
      ]
    },
    {
      "cell_type": "markdown",
      "metadata": {
        "id": "k0fhzncanKYj"
      },
      "source": [
        "Para la segunda parte obligatoria de esta práctica vamos a utilizar la librería [sklearn](http://scikit-learn.org/stable/) para trabajar con distintos algoritmos de clustering. La librería sklearn es una librería de Python que proporciona una gran cantidad de algoritmos de aprendizaje automático. \n",
        "\n",
        "Como en el notebook de la parte I debes ir leyendo las explicaciones, ejecutando el código que se te proporciona, y respondiendo a los ejercicios planteados. \n",
        "\n",
        "Recuerda que para que los cambios se vayan guardando en tu repositorio de GitHub tienes que utilizar la opción *Save a Copy in GitHub...* del menú *File*."
      ]
    },
    {
      "cell_type": "markdown",
      "metadata": {
        "id": "7yv07a6HnKYm"
      },
      "source": [
        "Para nuestras pruebas con la libreria sklearn usaremos el fichero iris.csv. Este dataset es uno de los más utilizados en aprendizaje automático. Se trata de\n",
        "una lista con 150 vectores de datos, cada uno de ellos con cuatro medidas numéricas sobre longitud y anchura de sépalo y pétalo de la flor de la\n",
        "planta iris. Cada vector tiene asignado una de las tres posibles clasificaciones:\n",
        "setosa, versiclor o virgínica. Puedes encontrar información sobre dicho dataset en  https://archive.ics.uci.edu/ml/datasets/Iris. \n",
        "\n",
        "Comenzamos descargando el dataset. "
      ]
    },
    {
      "cell_type": "code",
      "execution_count": 1,
      "metadata": {
        "colab": {
          "base_uri": "https://localhost:8080/"
        },
        "id": "j8ksi4w2oZ2C",
        "outputId": "44052093-74e0-429d-be42-cf2c188ab103"
      },
      "outputs": [
        {
          "output_type": "stream",
          "name": "stdout",
          "text": [
            "--2022-03-16 14:12:01--  https://raw.githubusercontent.com/IA1819/Datasets/master/iris.csv\n",
            "Resolving raw.githubusercontent.com (raw.githubusercontent.com)... 185.199.108.133, 185.199.109.133, 185.199.110.133, ...\n",
            "Connecting to raw.githubusercontent.com (raw.githubusercontent.com)|185.199.108.133|:443... connected.\n",
            "HTTP request sent, awaiting response... 200 OK\n",
            "Length: 4606 (4.5K) [text/plain]\n",
            "Saving to: ‘iris.csv’\n",
            "\n",
            "\riris.csv              0%[                    ]       0  --.-KB/s               \riris.csv            100%[===================>]   4.50K  --.-KB/s    in 0s      \n",
            "\n",
            "2022-03-16 14:12:01 (30.1 MB/s) - ‘iris.csv’ saved [4606/4606]\n",
            "\n"
          ]
        }
      ],
      "source": [
        "!wget https://raw.githubusercontent.com/IA1819/Datasets/master/iris.csv -O iris.csv"
      ]
    },
    {
      "cell_type": "markdown",
      "metadata": {
        "id": "Q862KluWnKYr"
      },
      "source": [
        "Para cargar este dataset vamos a utilizar la librería pandas."
      ]
    },
    {
      "cell_type": "code",
      "execution_count": 2,
      "metadata": {
        "id": "GDJ8lOFMnKYt"
      },
      "outputs": [],
      "source": [
        "import pandas as pd"
      ]
    },
    {
      "cell_type": "markdown",
      "metadata": {
        "collapsed": true,
        "id": "6m6pqTANnKY1"
      },
      "source": [
        "Utilizando el siguiente comando cargamos los datos a partir del fichero iris.csv y los almacenamos en la variable df. "
      ]
    },
    {
      "cell_type": "code",
      "execution_count": 3,
      "metadata": {
        "id": "WlC7V89YnKY3"
      },
      "outputs": [],
      "source": [
        "df = pd.read_csv('iris.csv')"
      ]
    },
    {
      "cell_type": "markdown",
      "metadata": {
        "id": "rdzxlYLDnKY-"
      },
      "source": [
        "***\n",
        "**Pregunta**\n",
        "Muestra las 8 primeras filas que se obtienen al evaluar df. Para ello escribe el comando a ejecutar en la siguiente celda (podemos utilizar la sintaxis de slices para obtener filas de un DataFrame)."
      ]
    },
    {
      "cell_type": "code",
      "execution_count": 4,
      "metadata": {
        "colab": {
          "base_uri": "https://localhost:8080/",
          "height": 300
        },
        "id": "tWJQZUBWnKZA",
        "outputId": "ecf237e6-b0a9-4429-f967-d665b6a2f843"
      },
      "outputs": [
        {
          "output_type": "execute_result",
          "data": {
            "text/plain": [
              "   sepal_length  sepal_width  petal_length  petal_width        class\n",
              "0           5.1          3.5           1.4          0.2  Iris-setosa\n",
              "1           4.9          3.0           1.4          0.2  Iris-setosa\n",
              "2           4.7          3.2           1.3          0.2  Iris-setosa\n",
              "3           4.6          3.1           1.5          0.2  Iris-setosa\n",
              "4           5.0          3.6           1.4          0.2  Iris-setosa\n",
              "5           5.4          3.9           1.7          0.4  Iris-setosa\n",
              "6           4.6          3.4           1.4          0.3  Iris-setosa\n",
              "7           5.0          3.4           1.5          0.2  Iris-setosa"
            ],
            "text/html": [
              "\n",
              "  <div id=\"df-144d87bd-fa05-4828-b301-8ea04879cba9\">\n",
              "    <div class=\"colab-df-container\">\n",
              "      <div>\n",
              "<style scoped>\n",
              "    .dataframe tbody tr th:only-of-type {\n",
              "        vertical-align: middle;\n",
              "    }\n",
              "\n",
              "    .dataframe tbody tr th {\n",
              "        vertical-align: top;\n",
              "    }\n",
              "\n",
              "    .dataframe thead th {\n",
              "        text-align: right;\n",
              "    }\n",
              "</style>\n",
              "<table border=\"1\" class=\"dataframe\">\n",
              "  <thead>\n",
              "    <tr style=\"text-align: right;\">\n",
              "      <th></th>\n",
              "      <th>sepal_length</th>\n",
              "      <th>sepal_width</th>\n",
              "      <th>petal_length</th>\n",
              "      <th>petal_width</th>\n",
              "      <th>class</th>\n",
              "    </tr>\n",
              "  </thead>\n",
              "  <tbody>\n",
              "    <tr>\n",
              "      <th>0</th>\n",
              "      <td>5.1</td>\n",
              "      <td>3.5</td>\n",
              "      <td>1.4</td>\n",
              "      <td>0.2</td>\n",
              "      <td>Iris-setosa</td>\n",
              "    </tr>\n",
              "    <tr>\n",
              "      <th>1</th>\n",
              "      <td>4.9</td>\n",
              "      <td>3.0</td>\n",
              "      <td>1.4</td>\n",
              "      <td>0.2</td>\n",
              "      <td>Iris-setosa</td>\n",
              "    </tr>\n",
              "    <tr>\n",
              "      <th>2</th>\n",
              "      <td>4.7</td>\n",
              "      <td>3.2</td>\n",
              "      <td>1.3</td>\n",
              "      <td>0.2</td>\n",
              "      <td>Iris-setosa</td>\n",
              "    </tr>\n",
              "    <tr>\n",
              "      <th>3</th>\n",
              "      <td>4.6</td>\n",
              "      <td>3.1</td>\n",
              "      <td>1.5</td>\n",
              "      <td>0.2</td>\n",
              "      <td>Iris-setosa</td>\n",
              "    </tr>\n",
              "    <tr>\n",
              "      <th>4</th>\n",
              "      <td>5.0</td>\n",
              "      <td>3.6</td>\n",
              "      <td>1.4</td>\n",
              "      <td>0.2</td>\n",
              "      <td>Iris-setosa</td>\n",
              "    </tr>\n",
              "    <tr>\n",
              "      <th>5</th>\n",
              "      <td>5.4</td>\n",
              "      <td>3.9</td>\n",
              "      <td>1.7</td>\n",
              "      <td>0.4</td>\n",
              "      <td>Iris-setosa</td>\n",
              "    </tr>\n",
              "    <tr>\n",
              "      <th>6</th>\n",
              "      <td>4.6</td>\n",
              "      <td>3.4</td>\n",
              "      <td>1.4</td>\n",
              "      <td>0.3</td>\n",
              "      <td>Iris-setosa</td>\n",
              "    </tr>\n",
              "    <tr>\n",
              "      <th>7</th>\n",
              "      <td>5.0</td>\n",
              "      <td>3.4</td>\n",
              "      <td>1.5</td>\n",
              "      <td>0.2</td>\n",
              "      <td>Iris-setosa</td>\n",
              "    </tr>\n",
              "  </tbody>\n",
              "</table>\n",
              "</div>\n",
              "      <button class=\"colab-df-convert\" onclick=\"convertToInteractive('df-144d87bd-fa05-4828-b301-8ea04879cba9')\"\n",
              "              title=\"Convert this dataframe to an interactive table.\"\n",
              "              style=\"display:none;\">\n",
              "        \n",
              "  <svg xmlns=\"http://www.w3.org/2000/svg\" height=\"24px\"viewBox=\"0 0 24 24\"\n",
              "       width=\"24px\">\n",
              "    <path d=\"M0 0h24v24H0V0z\" fill=\"none\"/>\n",
              "    <path d=\"M18.56 5.44l.94 2.06.94-2.06 2.06-.94-2.06-.94-.94-2.06-.94 2.06-2.06.94zm-11 1L8.5 8.5l.94-2.06 2.06-.94-2.06-.94L8.5 2.5l-.94 2.06-2.06.94zm10 10l.94 2.06.94-2.06 2.06-.94-2.06-.94-.94-2.06-.94 2.06-2.06.94z\"/><path d=\"M17.41 7.96l-1.37-1.37c-.4-.4-.92-.59-1.43-.59-.52 0-1.04.2-1.43.59L10.3 9.45l-7.72 7.72c-.78.78-.78 2.05 0 2.83L4 21.41c.39.39.9.59 1.41.59.51 0 1.02-.2 1.41-.59l7.78-7.78 2.81-2.81c.8-.78.8-2.07 0-2.86zM5.41 20L4 18.59l7.72-7.72 1.47 1.35L5.41 20z\"/>\n",
              "  </svg>\n",
              "      </button>\n",
              "      \n",
              "  <style>\n",
              "    .colab-df-container {\n",
              "      display:flex;\n",
              "      flex-wrap:wrap;\n",
              "      gap: 12px;\n",
              "    }\n",
              "\n",
              "    .colab-df-convert {\n",
              "      background-color: #E8F0FE;\n",
              "      border: none;\n",
              "      border-radius: 50%;\n",
              "      cursor: pointer;\n",
              "      display: none;\n",
              "      fill: #1967D2;\n",
              "      height: 32px;\n",
              "      padding: 0 0 0 0;\n",
              "      width: 32px;\n",
              "    }\n",
              "\n",
              "    .colab-df-convert:hover {\n",
              "      background-color: #E2EBFA;\n",
              "      box-shadow: 0px 1px 2px rgba(60, 64, 67, 0.3), 0px 1px 3px 1px rgba(60, 64, 67, 0.15);\n",
              "      fill: #174EA6;\n",
              "    }\n",
              "\n",
              "    [theme=dark] .colab-df-convert {\n",
              "      background-color: #3B4455;\n",
              "      fill: #D2E3FC;\n",
              "    }\n",
              "\n",
              "    [theme=dark] .colab-df-convert:hover {\n",
              "      background-color: #434B5C;\n",
              "      box-shadow: 0px 1px 3px 1px rgba(0, 0, 0, 0.15);\n",
              "      filter: drop-shadow(0px 1px 2px rgba(0, 0, 0, 0.3));\n",
              "      fill: #FFFFFF;\n",
              "    }\n",
              "  </style>\n",
              "\n",
              "      <script>\n",
              "        const buttonEl =\n",
              "          document.querySelector('#df-144d87bd-fa05-4828-b301-8ea04879cba9 button.colab-df-convert');\n",
              "        buttonEl.style.display =\n",
              "          google.colab.kernel.accessAllowed ? 'block' : 'none';\n",
              "\n",
              "        async function convertToInteractive(key) {\n",
              "          const element = document.querySelector('#df-144d87bd-fa05-4828-b301-8ea04879cba9');\n",
              "          const dataTable =\n",
              "            await google.colab.kernel.invokeFunction('convertToInteractive',\n",
              "                                                     [key], {});\n",
              "          if (!dataTable) return;\n",
              "\n",
              "          const docLinkHtml = 'Like what you see? Visit the ' +\n",
              "            '<a target=\"_blank\" href=https://colab.research.google.com/notebooks/data_table.ipynb>data table notebook</a>'\n",
              "            + ' to learn more about interactive tables.';\n",
              "          element.innerHTML = '';\n",
              "          dataTable['output_type'] = 'display_data';\n",
              "          await google.colab.output.renderOutput(dataTable, element);\n",
              "          const docLink = document.createElement('div');\n",
              "          docLink.innerHTML = docLinkHtml;\n",
              "          element.appendChild(docLink);\n",
              "        }\n",
              "      </script>\n",
              "    </div>\n",
              "  </div>\n",
              "  "
            ]
          },
          "metadata": {},
          "execution_count": 4
        }
      ],
      "source": [
        "df.head(8)"
      ]
    },
    {
      "cell_type": "markdown",
      "metadata": {
        "id": "2-D1n28lnKZG"
      },
      "source": [
        "***\n",
        "\n",
        "Para los algoritmos de clustering, la ultima columna de df no es necesaria ya que no vamos a utilizar la clase. Para eliminar esta columna usaremos el siguiente comando."
      ]
    },
    {
      "cell_type": "code",
      "execution_count": 5,
      "metadata": {
        "id": "QteGvFV3nKZI"
      },
      "outputs": [],
      "source": [
        "df_noclass = df.iloc[:,:-1]"
      ]
    },
    {
      "cell_type": "markdown",
      "metadata": {
        "id": "WsYeEv2anKZO"
      },
      "source": [
        "df es un DataFrame, pero nosotros estamos interesados en almacenar los valores del dataset como una lista de listas que es el formato esperado por la libreria sklearn. Para hacer esta conversion usamos el siguiente comando."
      ]
    },
    {
      "cell_type": "code",
      "execution_count": 6,
      "metadata": {
        "id": "9dJ535BFnKZS"
      },
      "outputs": [],
      "source": [
        "irisValues = df_noclass.values"
      ]
    },
    {
      "cell_type": "markdown",
      "metadata": {
        "id": "nq5fJqzinKZW"
      },
      "source": [
        "## K-means"
      ]
    },
    {
      "cell_type": "markdown",
      "metadata": {
        "id": "sp_yjhRHnKZZ"
      },
      "source": [
        "Veámos como utilizar el algoritmo de [K-means de la librería sklearn](https://scikit-learn.org/stable/modules/generated/sklearn.cluster.KMeans.html#sklearn.cluster.KMeans). Lo primero es cargar dicha funcionalidad. Todos los algoritmos de clustering disponibles en la librería sklearn se encuentran en el módulo [sklearn.cluster](https://scikit-learn.org/stable/modules/clustering.html). Además todos los algoritmos heredan de [BaseEstimator](https://scikit-learn.org/stable/modules/generated/sklearn.base.BaseEstimator.html), lo que nos permitirá intercambiar los algoritmos de manera sencilla."
      ]
    },
    {
      "cell_type": "code",
      "execution_count": 7,
      "metadata": {
        "id": "MXv98_2CnKZc"
      },
      "outputs": [],
      "source": [
        "from sklearn.cluster import KMeans"
      ]
    },
    {
      "cell_type": "markdown",
      "metadata": {
        "id": "agjHZFK9nKZk"
      },
      "source": [
        "A continuación creamos un estimador usando dicha funcionalidad e indicándole el número de clusters a utilizar. Daros cuenta de que en el siguiente comando no indicamos el dataset, sino que simplemente iniciamos el algoritmo K-means, esto construye un objeto de la clase KMeans. Veremos que esta manera es la habitual para los algoritmos de clustering, y esto nos permitirá cambiar de algoritmo de manera sencilla."
      ]
    },
    {
      "cell_type": "code",
      "execution_count": 8,
      "metadata": {
        "id": "kz_LeNuWnKZn"
      },
      "outputs": [],
      "source": [
        "estimatorKmeans = KMeans(n_clusters=3)"
      ]
    },
    {
      "cell_type": "markdown",
      "metadata": {
        "id": "_tEaGnlVnKZq"
      },
      "source": [
        "***\n",
        "**Pregunta**\n",
        "Busca en la documentación que otros parámetros se le puede pasar al constructor de la clase KMeans además del número de clusters. Responde en la siguiente celda, para ello haz doble click sobre la palabra Respuesta y edita la celda."
      ]
    },
    {
      "cell_type": "code",
      "source": [
        "??KMeans"
      ],
      "metadata": {
        "id": "Jplas_NCR_AS"
      },
      "execution_count": 9,
      "outputs": []
    },
    {
      "cell_type": "markdown",
      "source": [
        ""
      ],
      "metadata": {
        "id": "wOjmrUI2R8I4"
      }
    },
    {
      "cell_type": "markdown",
      "metadata": {
        "id": "5_ec49QdnKZr"
      },
      "source": [
        "**Respuesta**\n",
        "\n",
        "***\n",
        "\n",
        "n_clusters : int, default=8\n",
        "        The number of clusters to form as well as the number of\n",
        "        centroids to generate.\n",
        "        \n",
        "    init : {'k-means++', 'random'}, callable or array-like of shape \\\n",
        "            (n_clusters, n_features), default='k-means++'\n",
        "        Method for initialization:\n",
        "\n",
        "        'k-means++' : selects initial cluster centers for k-mean\n",
        "        clustering in a smart way to speed up convergence. See section\n",
        "        Notes in k_init for more details.\n",
        "\n",
        "        'random': choose `n_clusters` observations (rows) at random from data\n",
        "        for the initial centroids.\n",
        "\n",
        "        If an array is passed, it should be of shape (n_clusters, n_features)\n",
        "        and gives the initial centers.\n",
        "\n",
        "        If a callable is passed, it should take arguments X, n_clusters and a\n",
        "        random state and return an initialization.\n",
        "\n",
        "    n_init : int, default=10\n",
        "        Number of time the k-means algorithm will be run with different\n",
        "        centroid seeds. The final results will be the best output of\n",
        "        n_init consecutive runs in terms of inertia.\n",
        "\n",
        "    max_iter : int, default=300\n",
        "        Maximum number of iterations of the k-means algorithm for a\n",
        "        single run.\n",
        "\n",
        "    tol : float, default=1e-4\n",
        "        Relative tolerance with regards to Frobenius norm of the difference\n",
        "        in the cluster centers of two consecutive iterations to declare\n",
        "        convergence.\n",
        "\n",
        "    verbose : int, default=0\n",
        "        Verbosity mode.\n",
        "\n",
        "    random_state : int, RandomState instance or None, default=None\n",
        "        Determines random number generation for centroid initialization. Use\n",
        "        an int to make the randomness deterministic.\n",
        "        See :term:`Glossary <random_state>`.\n",
        "\n",
        "    copy_x : bool, default=True\n",
        "        When pre-computing distances it is more numerically accurate to center\n",
        "        the data first. If copy_x is True (default), then the original data is\n",
        "        not modified. If False, the original data is modified, and put back\n",
        "        before the function returns, but small numerical differences may be\n",
        "        introduced by subtracting and then adding the data mean. Note that if\n",
        "        the original data is not C-contiguous, a copy will be made even if\n",
        "        copy_x is False. If the original data is sparse, but not in CSR format,\n",
        "        a copy will be made even if copy_x is False.\n",
        "\n",
        "    algorithm : {\"auto\", \"full\", \"elkan\"}, default=\"auto\"\n",
        "        K-means algorithm to use. The classical EM-style algorithm is \"full\".\n",
        "        The \"elkan\" variation is more efficient on data with well-defined\n",
        "        clusters, by using the triangle inequality. However it's more memory\n",
        "        intensive due to the allocation of an extra array of shape\n",
        "        (n_samples, n_clusters).\n",
        "\n",
        "        For now \"auto\" (kept for backward compatibility) chooses \"elkan\" but it\n",
        "        might change in the future for a better heuristic.\n",
        "\n",
        "        .. versionchanged:: 0.18\n",
        "            Added Elkan algorithm\n"
      ]
    },
    {
      "cell_type": "markdown",
      "metadata": {
        "id": "3MTRhvyqnKZu"
      },
      "source": [
        "A continuación vamos a calcular los clusters. Para ello utilizamos el método fit de la clase KMeans."
      ]
    },
    {
      "cell_type": "code",
      "execution_count": 10,
      "metadata": {
        "colab": {
          "base_uri": "https://localhost:8080/"
        },
        "id": "lcCWyT3ZnKZw",
        "outputId": "8338d84c-34e1-4fe4-e23d-4d6a391db0b6"
      },
      "outputs": [
        {
          "output_type": "execute_result",
          "data": {
            "text/plain": [
              "KMeans(n_clusters=3)"
            ]
          },
          "metadata": {},
          "execution_count": 10
        }
      ],
      "source": [
        "estimatorKmeans.fit(irisValues)"
      ]
    },
    {
      "cell_type": "markdown",
      "metadata": {
        "id": "PQ0fI7oKnKZ0"
      },
      "source": [
        "Como se puede observar el comando anterior nos devuelve la instancia de la clase KMeans, para acceder a dicha información tenemos que usar el atributo labels_ de la clase KMeans."
      ]
    },
    {
      "cell_type": "code",
      "execution_count": 11,
      "metadata": {
        "colab": {
          "base_uri": "https://localhost:8080/"
        },
        "id": "u6mEcm_OnKZ3",
        "outputId": "0208f7ad-ff75-42ad-ae5a-d1fe6523fde9"
      },
      "outputs": [
        {
          "output_type": "execute_result",
          "data": {
            "text/plain": [
              "array([1, 1, 1, 1, 1, 1, 1, 1, 1, 1, 1, 1, 1, 1, 1, 1, 1, 1, 1, 1, 1, 1,\n",
              "       1, 1, 1, 1, 1, 1, 1, 1, 1, 1, 1, 1, 1, 1, 1, 1, 1, 1, 1, 1, 1, 1,\n",
              "       1, 1, 1, 1, 1, 1, 2, 2, 0, 2, 2, 2, 2, 2, 2, 2, 2, 2, 2, 2, 2, 2,\n",
              "       2, 2, 2, 2, 2, 2, 2, 2, 2, 2, 2, 0, 2, 2, 2, 2, 2, 2, 2, 2, 2, 2,\n",
              "       2, 2, 2, 2, 2, 2, 2, 2, 2, 2, 2, 2, 0, 2, 0, 0, 0, 0, 2, 0, 0, 0,\n",
              "       0, 0, 0, 2, 2, 0, 0, 0, 0, 2, 0, 2, 0, 2, 0, 0, 2, 2, 0, 0, 0, 0,\n",
              "       0, 2, 0, 0, 0, 0, 2, 0, 0, 0, 2, 0, 0, 0, 2, 0, 0, 2], dtype=int32)"
            ]
          },
          "metadata": {},
          "execution_count": 11
        }
      ],
      "source": [
        "estimatorKmeans.labels_"
      ]
    },
    {
      "cell_type": "markdown",
      "metadata": {
        "id": "LXpZmMsznKZ-"
      },
      "source": [
        "***\n",
        "**Pregunta**\n",
        "\n",
        "Ejecuta uno o varios comandos para averiguar a qué cluster se han asignado las instancias 5, 37 y 90 del dataset."
      ]
    },
    {
      "cell_type": "code",
      "execution_count": 12,
      "metadata": {
        "colab": {
          "base_uri": "https://localhost:8080/"
        },
        "id": "OAhsi6xxnKZ_",
        "outputId": "62881ae0-7ae1-4e83-93d7-d7309a43e8c9"
      },
      "outputs": [
        {
          "output_type": "execute_result",
          "data": {
            "text/plain": [
              "(1, 1, 2)"
            ]
          },
          "metadata": {},
          "execution_count": 12
        }
      ],
      "source": [
        "estimatorKmeans.labels_[5],estimatorKmeans.labels_[37],estimatorKmeans.labels_[90]"
      ]
    },
    {
      "cell_type": "markdown",
      "metadata": {
        "id": "ofkLOLEVnKaC"
      },
      "source": [
        "***"
      ]
    },
    {
      "cell_type": "markdown",
      "metadata": {
        "id": "eU39CuUNnKaG"
      },
      "source": [
        "Otro de los atributos útiles que nos proporciona la clase KMeans es inertia_ que nos devuelve el valor de la función de coste."
      ]
    },
    {
      "cell_type": "markdown",
      "metadata": {
        "id": "pWDag_U6nKaJ"
      },
      "source": [
        "***\n",
        "**Pregunta**\n",
        "\n",
        "¿Qué valor tiene la función de coste en nuestro caso?"
      ]
    },
    {
      "cell_type": "code",
      "execution_count": 13,
      "metadata": {
        "colab": {
          "base_uri": "https://localhost:8080/"
        },
        "id": "Xtdu5pOFnKaL",
        "outputId": "33d4c6d1-f62f-4d6e-c113-e8769427f1bd"
      },
      "outputs": [
        {
          "output_type": "execute_result",
          "data": {
            "text/plain": [
              "78.940841426146"
            ]
          },
          "metadata": {},
          "execution_count": 13
        }
      ],
      "source": [
        "estimatorKmeans.inertia_"
      ]
    },
    {
      "cell_type": "markdown",
      "metadata": {
        "id": "fxer4MpwnKaT"
      },
      "source": [
        "***"
      ]
    },
    {
      "cell_type": "markdown",
      "metadata": {
        "id": "wfirzOb-nKaT"
      },
      "source": [
        "El siguiente código permite generar una imagen con la función coste para distintos valores de k, de este modo podemos elegir el valor de k basándonos en el método del codo."
      ]
    },
    {
      "cell_type": "code",
      "execution_count": 14,
      "metadata": {
        "id": "JCQotb6enKaW"
      },
      "outputs": [],
      "source": [
        "import matplotlib.pyplot as plt\n",
        "%matplotlib inline  \n",
        "\n",
        "def drawElbow(maxClusters,data):\n",
        "    kmeans = [KMeans(n_clusters=k).fit(data) for k in range(1,maxClusters)]\n",
        "    costFunction = [estimator.inertia_ for estimator in kmeans]\n",
        "    plt.plot(costFunction)\n",
        "    plt.title(\"Cost function\")\n",
        "    plt.show()"
      ]
    },
    {
      "cell_type": "code",
      "execution_count": 15,
      "metadata": {
        "colab": {
          "base_uri": "https://localhost:8080/",
          "height": 281
        },
        "id": "dljjNz_-nKaa",
        "outputId": "b1666c0b-507c-4839-c927-0053beef4fca"
      },
      "outputs": [
        {
          "output_type": "display_data",
          "data": {
            "text/plain": [
              "<Figure size 432x288 with 1 Axes>"
            ],
            "image/png": "[encoded data removed]"
          },
          "metadata": {
            "needs_background": "light"
          }
        }
      ],
      "source": [
        "drawElbow(15,irisValues)"
      ]
    },
    {
      "cell_type": "markdown",
      "metadata": {
        "id": "4idgmeBQnKal"
      },
      "source": [
        "*** \n",
        "**Pregunta**\n",
        "\n",
        "Teniendo en cuenta el gráfico anterior. ¿Qué número de clústeres consideras adecuado para este dataset?\n",
        "\n",
        "**Respuesta**\n",
        "\n",
        "***\n",
        "Entre 2 y 4"
      ]
    },
    {
      "cell_type": "markdown",
      "metadata": {
        "id": "W1BTMelWnKar"
      },
      "source": [
        "La siguiente función toma tres argumentos: el resultado devuelto al llamar al atributo labels_ de un objeto KMeans, el dataset original (en nuestro caso df) y una clase (en nuestro ejemplo puede ser Iris-setosa, Iris-versicolor o Iris-virginica); y devuelva una lista con el número de instancias de esa clase para cada clúster. "
      ]
    },
    {
      "cell_type": "code",
      "execution_count": 16,
      "metadata": {
        "id": "SQ1dJeIBnKat"
      },
      "outputs": [],
      "source": [
        "import numpy as np\n",
        "\n",
        "def valida_iris(labels,dataset,clase):\n",
        "    values = dataset.values\n",
        "    res = np.zeros(3).astype(\"uint8\")\n",
        "    for i,instance in enumerate(values):\n",
        "        if(instance[4]==clase):\n",
        "            res[labels[i]]+=1\n",
        "    return res"
      ]
    },
    {
      "cell_type": "markdown",
      "metadata": {
        "id": "ThtfuMPnnKaz"
      },
      "source": [
        "*** \n",
        "**Pregunta**\n",
        "\n",
        "¿Qué resultados se obtienen para cada clase? A continuación se muestra el comando para la clase Iris-setosa. Proporciona en las celdas disponibles las llamadas a la función con las clases que quedan.\n"
      ]
    },
    {
      "cell_type": "code",
      "execution_count": 17,
      "metadata": {
        "colab": {
          "base_uri": "https://localhost:8080/"
        },
        "id": "TvsVRHIMnKa1",
        "outputId": "be4ac051-e5cd-4d54-de8f-ec5482b9c291"
      },
      "outputs": [
        {
          "output_type": "execute_result",
          "data": {
            "text/plain": [
              "array([ 0, 50,  0], dtype=uint8)"
            ]
          },
          "metadata": {},
          "execution_count": 17
        }
      ],
      "source": [
        "valida_iris(estimatorKmeans.labels_,df,'Iris-setosa')"
      ]
    },
    {
      "cell_type": "code",
      "execution_count": 18,
      "metadata": {
        "colab": {
          "base_uri": "https://localhost:8080/"
        },
        "id": "aZe_IfQ3nKa3",
        "outputId": "197e70c6-8a93-4628-e1e0-1c5510365138"
      },
      "outputs": [
        {
          "output_type": "execute_result",
          "data": {
            "text/plain": [
              "array([ 2,  0, 48], dtype=uint8)"
            ]
          },
          "metadata": {},
          "execution_count": 18
        }
      ],
      "source": [
        "valida_iris(estimatorKmeans.labels_,df,'Iris-versicolor')"
      ]
    },
    {
      "cell_type": "code",
      "execution_count": 19,
      "metadata": {
        "colab": {
          "base_uri": "https://localhost:8080/"
        },
        "id": "cb21UmLHnKbD",
        "outputId": "95121ac3-6e88-44e9-8c6f-008488530a10"
      },
      "outputs": [
        {
          "output_type": "execute_result",
          "data": {
            "text/plain": [
              "array([36,  0, 14], dtype=uint8)"
            ]
          },
          "metadata": {},
          "execution_count": 19
        }
      ],
      "source": [
        "valida_iris(estimatorKmeans.labels_,df,'Iris-virginica')"
      ]
    },
    {
      "cell_type": "markdown",
      "metadata": {
        "id": "MLjQDlhYnKbL"
      },
      "source": [
        "\n",
        "***"
      ]
    },
    {
      "cell_type": "markdown",
      "metadata": {
        "id": "YLUyUpRknKbN"
      },
      "source": [
        "## Mean shift"
      ]
    },
    {
      "cell_type": "markdown",
      "metadata": {
        "id": "1ZzYHVAUnKbN"
      },
      "source": [
        "Veámos ahora como utilizar el algoritmo de [Mean Shift](https://scikit-learn.org/stable/modules/generated/sklearn.cluster.MeanShift.html#sklearn.cluster.MeanShift). De nuevo, lo primero es cargar dicha funcionalidad."
      ]
    },
    {
      "cell_type": "code",
      "execution_count": 20,
      "metadata": {
        "id": "hL2HlKvWnKbO"
      },
      "outputs": [],
      "source": [
        "from sklearn.cluster import MeanShift"
      ]
    },
    {
      "cell_type": "markdown",
      "metadata": {
        "id": "cyS2n6FQnKbT"
      },
      "source": [
        "A continuación creamos un estimador usando dicha funcionalidad, y a continuación calculamos los clusters."
      ]
    },
    {
      "cell_type": "code",
      "execution_count": 21,
      "metadata": {
        "colab": {
          "base_uri": "https://localhost:8080/"
        },
        "id": "NMmFWGfDnKbT",
        "outputId": "2ce0ab93-124b-464c-8139-3b9609db5410"
      },
      "outputs": [
        {
          "output_type": "execute_result",
          "data": {
            "text/plain": [
              "MeanShift()"
            ]
          },
          "metadata": {},
          "execution_count": 21
        }
      ],
      "source": [
        "estimatorMeanShift = MeanShift()\n",
        "estimatorMeanShift.fit(irisValues)"
      ]
    },
    {
      "cell_type": "markdown",
      "metadata": {
        "id": "TgSSHY5wnKbW"
      },
      "source": [
        "Veremos que esto nos devuelve la instancia de la clase MeanShift, para acceder a dicha información tenemos que usar el atributo labels_."
      ]
    },
    {
      "cell_type": "code",
      "execution_count": 22,
      "metadata": {
        "colab": {
          "base_uri": "https://localhost:8080/"
        },
        "id": "7vsM68kZnKbW",
        "outputId": "98cb6f86-1169-4adb-ca75-8eeb45a1cf13"
      },
      "outputs": [
        {
          "output_type": "execute_result",
          "data": {
            "text/plain": [
              "array([1, 1, 1, 1, 1, 1, 1, 1, 1, 1, 1, 1, 1, 1, 1, 1, 1, 1, 1, 1, 1, 1,\n",
              "       1, 1, 1, 1, 1, 1, 1, 1, 1, 1, 1, 1, 1, 1, 1, 1, 1, 1, 1, 1, 1, 1,\n",
              "       1, 1, 1, 1, 1, 1, 0, 0, 0, 0, 0, 0, 0, 0, 0, 0, 0, 0, 0, 0, 0, 0,\n",
              "       0, 0, 0, 0, 0, 0, 0, 0, 0, 0, 0, 0, 0, 0, 0, 0, 0, 0, 0, 0, 0, 0,\n",
              "       0, 0, 0, 0, 0, 0, 0, 0, 0, 0, 1, 0, 0, 0, 0, 0, 0, 0, 0, 0, 0, 0,\n",
              "       0, 0, 0, 0, 0, 0, 0, 0, 0, 0, 0, 0, 0, 0, 0, 0, 0, 0, 0, 0, 0, 0,\n",
              "       0, 0, 0, 0, 0, 0, 0, 0, 0, 0, 0, 0, 0, 0, 0, 0, 0, 0])"
            ]
          },
          "metadata": {},
          "execution_count": 22
        }
      ],
      "source": [
        "estimatorMeanShift.labels_"
      ]
    },
    {
      "cell_type": "markdown",
      "metadata": {
        "id": "28xExrTEnKba"
      },
      "source": [
        "*** \n",
        "**Pregunta**\n",
        "\n",
        "¿Cuántos clusters sugiere el método de Mean Shift para el dataset de iris?\n",
        "\n",
        "**Respuesta**\n",
        "\n",
        "***"
      ]
    },
    {
      "cell_type": "markdown",
      "source": [
        "2"
      ],
      "metadata": {
        "id": "IuoVz6R2YssP"
      }
    },
    {
      "cell_type": "markdown",
      "metadata": {
        "id": "LojrzLhAnKbb"
      },
      "source": [
        "*** \n",
        "**Pregunta**\n",
        "\n",
        "Utilizando la función valida_iris, ¿qué resultados se obtienen para cada clase utilizando Mean Shift?"
      ]
    },
    {
      "cell_type": "code",
      "execution_count": 23,
      "metadata": {
        "colab": {
          "base_uri": "https://localhost:8080/"
        },
        "id": "duuaVJadnKbe",
        "outputId": "881f3cea-e711-4857-e045-4dc38b87a815"
      },
      "outputs": [
        {
          "output_type": "execute_result",
          "data": {
            "text/plain": [
              "array([ 0, 50,  0], dtype=uint8)"
            ]
          },
          "metadata": {},
          "execution_count": 23
        }
      ],
      "source": [
        "valida_iris(estimatorMeanShift.labels_,df,'Iris-setosa')"
      ]
    },
    {
      "cell_type": "code",
      "execution_count": 24,
      "metadata": {
        "colab": {
          "base_uri": "https://localhost:8080/"
        },
        "id": "TiEmbnuvnKbj",
        "outputId": "afc59140-1ffa-49ac-bc2a-d62eb4e2810d"
      },
      "outputs": [
        {
          "output_type": "execute_result",
          "data": {
            "text/plain": [
              "array([49,  1,  0], dtype=uint8)"
            ]
          },
          "metadata": {},
          "execution_count": 24
        }
      ],
      "source": [
        "valida_iris(estimatorMeanShift.labels_,df,'Iris-versicolor')"
      ]
    },
    {
      "cell_type": "code",
      "execution_count": 25,
      "metadata": {
        "colab": {
          "base_uri": "https://localhost:8080/"
        },
        "id": "dlZIiXhMnKbl",
        "outputId": "60e920ce-e387-40de-ae1f-16540b295fef"
      },
      "outputs": [
        {
          "output_type": "execute_result",
          "data": {
            "text/plain": [
              "array([50,  0,  0], dtype=uint8)"
            ]
          },
          "metadata": {},
          "execution_count": 25
        }
      ],
      "source": [
        "valida_iris(estimatorMeanShift.labels_,df,'Iris-virginica')"
      ]
    },
    {
      "cell_type": "markdown",
      "metadata": {
        "id": "Iyl3DHjdnKbn"
      },
      "source": [
        "***"
      ]
    },
    {
      "cell_type": "markdown",
      "metadata": {
        "id": "gv52RAV3nKbo"
      },
      "source": [
        "## DBSCAN "
      ]
    },
    {
      "cell_type": "markdown",
      "metadata": {
        "id": "nHLzgWhMnKbp"
      },
      "source": [
        "Repetimos lo mismo para el algoritmo de clustering [DBSCAN](https://scikit-learn.org/stable/modules/generated/sklearn.cluster.DBSCAN.html#sklearn.cluster.DBSCAN)."
      ]
    },
    {
      "cell_type": "markdown",
      "metadata": {
        "id": "RKBPe9nhnKbq"
      },
      "source": [
        "*** \n",
        "**Pregunta**\n",
        "\n",
        "¿Qué hace cada una de las siguientes instrucciones?"
      ]
    },
    {
      "cell_type": "code",
      "execution_count": 26,
      "metadata": {
        "colab": {
          "base_uri": "https://localhost:8080/"
        },
        "id": "TvcYA74pnKbr",
        "outputId": "ede659f0-09a4-41ac-bfb0-523f0c9be3a7"
      },
      "outputs": [
        {
          "output_type": "execute_result",
          "data": {
            "text/plain": [
              "array([ 0,  0,  0,  0,  0,  0,  0,  0,  0,  0,  0,  0,  0,  0,  0,  0,  0,\n",
              "        0,  0,  0,  0,  0,  0,  0,  0,  0,  0,  0,  0,  0,  0,  0,  0,  0,\n",
              "        0,  0,  0,  0,  0,  0,  0, -1,  0,  0,  0,  0,  0,  0,  0,  0,  1,\n",
              "        1,  1,  1,  1,  1,  1, -1,  1,  1, -1,  1,  1,  1,  1,  1,  1,  1,\n",
              "       -1,  1,  1,  1,  1,  1,  1,  1,  1,  1,  1,  1,  1,  1,  1,  1,  1,\n",
              "        1,  1, -1,  1,  1,  1,  1,  1, -1,  1,  1,  1,  1, -1,  1,  1,  1,\n",
              "        1,  1,  1, -1, -1,  1, -1, -1,  1,  1,  1,  1,  1,  1,  1, -1, -1,\n",
              "        1,  1,  1, -1,  1,  1,  1,  1,  1,  1,  1,  1, -1,  1,  1, -1, -1,\n",
              "        1,  1,  1,  1,  1,  1,  1,  1,  1,  1,  1,  1,  1,  1])"
            ]
          },
          "metadata": {},
          "execution_count": 26
        }
      ],
      "source": [
        "from sklearn.cluster import DBSCAN\n",
        "\n",
        "estimatorDBSCAN = DBSCAN()\n",
        "estimatorDBSCAN.fit(irisValues)\n",
        "estimatorDBSCAN.labels_"
      ]
    },
    {
      "cell_type": "markdown",
      "metadata": {
        "id": "fWIs7wIqnKbu"
      },
      "source": [
        "**Respuesta**\n",
        "***"
      ]
    },
    {
      "cell_type": "markdown",
      "source": [
        "\n",
        "\n",
        "```\n",
        "1 . creamos un estimador usando dicha funcionalidad\n",
        "2 . calculamos los clusters para los datos\n",
        "3 . mostramos las intancias\n",
        "```\n",
        "\n"
      ],
      "metadata": {
        "id": "JN9PUgvxY09a"
      }
    },
    {
      "cell_type": "markdown",
      "metadata": {
        "id": "Omk708vCnKbw"
      },
      "source": [
        "*** \n",
        "**Pregunta**\n",
        "\n",
        "Consulta la documentación de DBSCAN y responde a las siguientes preguntas. ¿Qué valores toma por defecto DBSCAN para los parámetros epsilon y min_samples? ¿Qué otros parámetros tiene este algoritmo de clustering en sklearn?\n",
        "\n",
        "**Respuesta**\n",
        "\n",
        "***"
      ]
    },
    {
      "cell_type": "markdown",
      "source": [
        " a) epsilon = 0.5 y min_samples = 5\n",
        " b) metric, metric_params, algorithm, leaf_size, p, n_jobs"
      ],
      "metadata": {
        "id": "dT3tT5G9EDIf"
      }
    },
    {
      "cell_type": "markdown",
      "metadata": {
        "id": "IwpGB-fZnKbx"
      },
      "source": [
        "*** \n",
        "**Pregunta**\n",
        "\n",
        "¿Cuántos clústeres sugiere el método de DBSCAN para el dataset de iris?\n",
        "\n",
        "**Respuesta**\n",
        "\n",
        "***"
      ]
    },
    {
      "cell_type": "markdown",
      "source": [
        "3"
      ],
      "metadata": {
        "id": "WhRCfEh5EZPU"
      }
    },
    {
      "cell_type": "markdown",
      "metadata": {
        "collapsed": true,
        "id": "uI1PejSWnKby"
      },
      "source": [
        "*** \n",
        "**Pregunta**\n",
        "\n",
        "Utilizando la función valida_iris, ¿qué resultados se obtienen para cada clase utilizando DBSCAN?\n"
      ]
    },
    {
      "cell_type": "code",
      "execution_count": 27,
      "metadata": {
        "id": "Nr10cYRKnKbz",
        "outputId": "4b2c6f4c-3332-4906-d5b8-9a169eaa47c6",
        "colab": {
          "base_uri": "https://localhost:8080/"
        }
      },
      "outputs": [
        {
          "output_type": "execute_result",
          "data": {
            "text/plain": [
              "array([ 0, 50,  0], dtype=uint8)"
            ]
          },
          "metadata": {},
          "execution_count": 27
        }
      ],
      "source": [
        "valida_iris(estimatorMeanShift.labels_,df,'Iris-setosa')"
      ]
    },
    {
      "cell_type": "code",
      "execution_count": 28,
      "metadata": {
        "id": "F0Xe1jnUnKb4",
        "outputId": "a032d5cd-5866-410f-991f-741de458e10f",
        "colab": {
          "base_uri": "https://localhost:8080/"
        }
      },
      "outputs": [
        {
          "output_type": "execute_result",
          "data": {
            "text/plain": [
              "array([49,  1,  0], dtype=uint8)"
            ]
          },
          "metadata": {},
          "execution_count": 28
        }
      ],
      "source": [
        "valida_iris(estimatorMeanShift.labels_,df,'Iris-versicolor')"
      ]
    },
    {
      "cell_type": "code",
      "execution_count": 29,
      "metadata": {
        "id": "a_d_-e8GnKb6",
        "outputId": "1bce51a4-830e-40ef-c0c6-b6e4f9c865a8",
        "colab": {
          "base_uri": "https://localhost:8080/"
        }
      },
      "outputs": [
        {
          "output_type": "execute_result",
          "data": {
            "text/plain": [
              "array([50,  0,  0], dtype=uint8)"
            ]
          },
          "metadata": {},
          "execution_count": 29
        }
      ],
      "source": [
        "valida_iris(estimatorMeanShift.labels_,df,'Iris-virginica')"
      ]
    },
    {
      "cell_type": "markdown",
      "metadata": {
        "id": "Zz6BIsnEnKb9"
      },
      "source": [
        "***"
      ]
    },
    {
      "cell_type": "markdown",
      "metadata": {
        "id": "n7-QgXZPnKb9"
      },
      "source": [
        "Guarda el fichero con la opción *Save a Copy in GitHub...* del menú *File*."
      ]
    }
  ],
  "metadata": {
    "colab": {
      "name": "practica3_parte2.ipynb",
      "provenance": [],
      "include_colab_link": true
    },
    "kernelspec": {
      "display_name": "Python 3",
      "language": "python",
      "name": "python3"
    },
    "language_info": {
      "codemirror_mode": {
        "name": "ipython",
        "version": 3
      },
      "file_extension": ".py",
      "mimetype": "text/x-python",
      "name": "python",
      "nbconvert_exporter": "python",
      "pygments_lexer": "ipython3",
      "version": "3.6.8"
    }
  },
  "nbformat": 4,
  "nbformat_minor": 0
}